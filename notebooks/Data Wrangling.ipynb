{
 "cells": [
  {
   "cell_type": "code",
   "execution_count": null,
   "id": "abf9d273",
   "metadata": {},
   "outputs": [],
   "source": [
    "import numpy as np\n",
    "import pandas as pd\n",
    "from pyathena import connect"
   ]
  },
  {
   "cell_type": "code",
   "execution_count": null,
   "id": "76baddc0",
   "metadata": {},
   "outputs": [],
   "source": [
    "conn = connect(\n",
    "    s3_staging_dir='s3://<user-defined>/tracking-the-sun', ##user defined staging directory\n",
    "    region_name='us-west-2',\n",
    "    work_group='<USER SPECIFIC WORKGROUP>'  ##specify workgroup if exists\n",
    ")\n",
    "\n",
    "df = pd.read_sql(\"SELECT * FROM oedi_tracking_the_sun_2019 limit 8;\", conn)"
   ]
  }
 ],
 "metadata": {
  "kernelspec": {
   "display_name": "Python 3 (ipykernel)",
   "language": "python",
   "name": "python3"
  },
  "language_info": {
   "codemirror_mode": {
    "name": "ipython",
    "version": 3
   },
   "file_extension": ".py",
   "mimetype": "text/x-python",
   "name": "python",
   "nbconvert_exporter": "python",
   "pygments_lexer": "ipython3",
   "version": "3.9.7"
  }
 },
 "nbformat": 4,
 "nbformat_minor": 5
}
