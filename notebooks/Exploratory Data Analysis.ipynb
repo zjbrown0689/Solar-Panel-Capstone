{
 "cells": [
  {
   "cell_type": "markdown",
   "id": "7a6b4e0e",
   "metadata": {},
   "source": [
    "# Getting the most solar power for your dollar\n",
    "## Exploratory Data Analysis\n",
    "### Zachary Brown\n",
    "\n",
    "Now that the raw data has been wrangled into a useful dataframe it is time to explore the data and identify correlations and trends that may be important for modeling. "
   ]
  },
  {
   "cell_type": "code",
   "execution_count": 1,
   "id": "a4e7ac4d",
   "metadata": {},
   "outputs": [],
   "source": [
    "import os\n",
    "import numpy as np\n",
    "import pandas as pd\n",
    "import matplotlib.pyplot as plt\n",
    "import seaborn as sns"
   ]
  },
  {
   "cell_type": "code",
   "execution_count": 2,
   "id": "3bfe0402",
   "metadata": {},
   "outputs": [
    {
     "name": "stdout",
     "output_type": "stream",
     "text": [
      "C:\\Users\\Zjbro\\OneDrive\\Documents\\GitHub\\Solar-Panel-Capstone\\notebooks\n",
      "C:\\Users\\Zjbro\\OneDrive\\Documents\\GitHub\\Solar-Panel-Capstone\\data\\interim\n"
     ]
    }
   ],
   "source": [
    "print(os.getcwd())\n",
    "os.chdir(r\"..\\data\\interim\")\n",
    "print(os.getcwd())"
   ]
  },
  {
   "cell_type": "code",
   "execution_count": 3,
   "id": "4d97641e",
   "metadata": {},
   "outputs": [
    {
     "data": {
      "text/plain": [
       "(208257, 57)"
      ]
     },
     "execution_count": 3,
     "metadata": {},
     "output_type": "execute_result"
    }
   ],
   "source": [
    "data = pd.read_csv('wrangled_data.csv', index_col=0, low_memory=False)\n",
    "data.shape"
   ]
  },
  {
   "cell_type": "code",
   "execution_count": 4,
   "id": "5cb67c37",
   "metadata": {},
   "outputs": [
    {
     "data": {
      "text/html": [
       "<div>\n",
       "<style scoped>\n",
       "    .dataframe tbody tr th:only-of-type {\n",
       "        vertical-align: middle;\n",
       "    }\n",
       "\n",
       "    .dataframe tbody tr th {\n",
       "        vertical-align: top;\n",
       "    }\n",
       "\n",
       "    .dataframe thead th {\n",
       "        text-align: right;\n",
       "    }\n",
       "</style>\n",
       "<table border=\"1\" class=\"dataframe\">\n",
       "  <thead>\n",
       "    <tr style=\"text-align: right;\">\n",
       "      <th></th>\n",
       "      <th>data_provider_1</th>\n",
       "      <th>system_id_1</th>\n",
       "      <th>installation_date</th>\n",
       "      <th>system_size_dc</th>\n",
       "      <th>total_installed_price</th>\n",
       "      <th>rebate_or_grant</th>\n",
       "      <th>customer_segment</th>\n",
       "      <th>expansion_system</th>\n",
       "      <th>multiple_phase_system</th>\n",
       "      <th>tracking</th>\n",
       "      <th>...</th>\n",
       "      <th>state_MA</th>\n",
       "      <th>state_MD</th>\n",
       "      <th>state_MN</th>\n",
       "      <th>state_NH</th>\n",
       "      <th>state_NM</th>\n",
       "      <th>state_NY</th>\n",
       "      <th>state_RI</th>\n",
       "      <th>state_TX</th>\n",
       "      <th>state_UT</th>\n",
       "      <th>state_WI</th>\n",
       "    </tr>\n",
       "  </thead>\n",
       "  <tbody>\n",
       "    <tr>\n",
       "      <th>108019</th>\n",
       "      <td>Arizona Public Service</td>\n",
       "      <td>107903</td>\n",
       "      <td>2020-06-17</td>\n",
       "      <td>5.760</td>\n",
       "      <td>17488.26</td>\n",
       "      <td>0.0</td>\n",
       "      <td>RES</td>\n",
       "      <td>0</td>\n",
       "      <td>0</td>\n",
       "      <td>-1</td>\n",
       "      <td>...</td>\n",
       "      <td>0</td>\n",
       "      <td>0</td>\n",
       "      <td>0</td>\n",
       "      <td>0</td>\n",
       "      <td>0</td>\n",
       "      <td>0</td>\n",
       "      <td>0</td>\n",
       "      <td>0</td>\n",
       "      <td>0</td>\n",
       "      <td>0</td>\n",
       "    </tr>\n",
       "    <tr>\n",
       "      <th>108020</th>\n",
       "      <td>Arizona Public Service</td>\n",
       "      <td>107904</td>\n",
       "      <td>2020-06-17</td>\n",
       "      <td>8.750</td>\n",
       "      <td>22631.00</td>\n",
       "      <td>0.0</td>\n",
       "      <td>RES</td>\n",
       "      <td>0</td>\n",
       "      <td>0</td>\n",
       "      <td>-1</td>\n",
       "      <td>...</td>\n",
       "      <td>0</td>\n",
       "      <td>0</td>\n",
       "      <td>0</td>\n",
       "      <td>0</td>\n",
       "      <td>0</td>\n",
       "      <td>0</td>\n",
       "      <td>0</td>\n",
       "      <td>0</td>\n",
       "      <td>0</td>\n",
       "      <td>0</td>\n",
       "    </tr>\n",
       "    <tr>\n",
       "      <th>108142</th>\n",
       "      <td>Arizona Public Service</td>\n",
       "      <td>108026</td>\n",
       "      <td>2020-06-19</td>\n",
       "      <td>4.725</td>\n",
       "      <td>18972.00</td>\n",
       "      <td>0.0</td>\n",
       "      <td>RES</td>\n",
       "      <td>0</td>\n",
       "      <td>0</td>\n",
       "      <td>-1</td>\n",
       "      <td>...</td>\n",
       "      <td>0</td>\n",
       "      <td>0</td>\n",
       "      <td>0</td>\n",
       "      <td>0</td>\n",
       "      <td>0</td>\n",
       "      <td>0</td>\n",
       "      <td>0</td>\n",
       "      <td>0</td>\n",
       "      <td>0</td>\n",
       "      <td>0</td>\n",
       "    </tr>\n",
       "    <tr>\n",
       "      <th>108175</th>\n",
       "      <td>Arizona Public Service</td>\n",
       "      <td>108059</td>\n",
       "      <td>2020-06-22</td>\n",
       "      <td>3.550</td>\n",
       "      <td>9900.00</td>\n",
       "      <td>0.0</td>\n",
       "      <td>RES</td>\n",
       "      <td>0</td>\n",
       "      <td>0</td>\n",
       "      <td>-1</td>\n",
       "      <td>...</td>\n",
       "      <td>0</td>\n",
       "      <td>0</td>\n",
       "      <td>0</td>\n",
       "      <td>0</td>\n",
       "      <td>0</td>\n",
       "      <td>0</td>\n",
       "      <td>0</td>\n",
       "      <td>0</td>\n",
       "      <td>0</td>\n",
       "      <td>0</td>\n",
       "    </tr>\n",
       "    <tr>\n",
       "      <th>108233</th>\n",
       "      <td>Arizona Public Service</td>\n",
       "      <td>108117</td>\n",
       "      <td>2020-06-23</td>\n",
       "      <td>5.850</td>\n",
       "      <td>20475.00</td>\n",
       "      <td>0.0</td>\n",
       "      <td>RES</td>\n",
       "      <td>0</td>\n",
       "      <td>0</td>\n",
       "      <td>-1</td>\n",
       "      <td>...</td>\n",
       "      <td>0</td>\n",
       "      <td>0</td>\n",
       "      <td>0</td>\n",
       "      <td>0</td>\n",
       "      <td>0</td>\n",
       "      <td>0</td>\n",
       "      <td>0</td>\n",
       "      <td>0</td>\n",
       "      <td>0</td>\n",
       "      <td>0</td>\n",
       "    </tr>\n",
       "  </tbody>\n",
       "</table>\n",
       "<p>5 rows × 57 columns</p>\n",
       "</div>"
      ],
      "text/plain": [
       "               data_provider_1 system_id_1 installation_date  system_size_dc  \\\n",
       "108019  Arizona Public Service      107903        2020-06-17           5.760   \n",
       "108020  Arizona Public Service      107904        2020-06-17           8.750   \n",
       "108142  Arizona Public Service      108026        2020-06-19           4.725   \n",
       "108175  Arizona Public Service      108059        2020-06-22           3.550   \n",
       "108233  Arizona Public Service      108117        2020-06-23           5.850   \n",
       "\n",
       "        total_installed_price  rebate_or_grant customer_segment  \\\n",
       "108019               17488.26              0.0              RES   \n",
       "108020               22631.00              0.0              RES   \n",
       "108142               18972.00              0.0              RES   \n",
       "108175                9900.00              0.0              RES   \n",
       "108233               20475.00              0.0              RES   \n",
       "\n",
       "        expansion_system  multiple_phase_system  tracking  ...  state_MA  \\\n",
       "108019                 0                      0        -1  ...         0   \n",
       "108020                 0                      0        -1  ...         0   \n",
       "108142                 0                      0        -1  ...         0   \n",
       "108175                 0                      0        -1  ...         0   \n",
       "108233                 0                      0        -1  ...         0   \n",
       "\n",
       "       state_MD state_MN state_NH  state_NM state_NY  state_RI  state_TX  \\\n",
       "108019        0        0        0         0        0         0         0   \n",
       "108020        0        0        0         0        0         0         0   \n",
       "108142        0        0        0         0        0         0         0   \n",
       "108175        0        0        0         0        0         0         0   \n",
       "108233        0        0        0         0        0         0         0   \n",
       "\n",
       "        state_UT state_WI  \n",
       "108019         0        0  \n",
       "108020         0        0  \n",
       "108142         0        0  \n",
       "108175         0        0  \n",
       "108233         0        0  \n",
       "\n",
       "[5 rows x 57 columns]"
      ]
     },
     "execution_count": 4,
     "metadata": {},
     "output_type": "execute_result"
    }
   ],
   "source": [
    "data.head()"
   ]
  },
  {
   "cell_type": "code",
   "execution_count": 5,
   "id": "4054f27b",
   "metadata": {},
   "outputs": [
    {
     "data": {
      "text/plain": [
       "Index(['data_provider_1', 'system_id_1', 'installation_date', 'system_size_dc',\n",
       "       'total_installed_price', 'rebate_or_grant', 'customer_segment',\n",
       "       'expansion_system', 'multiple_phase_system', 'tracking',\n",
       "       'ground_mounted', 'zip_code', 'city', 'utility_service_territory',\n",
       "       'third_party_owned', 'installer_name', 'self_installed', 'azimuth_1',\n",
       "       'tilt_1', 'module_manufacturer_1', 'module_model_1',\n",
       "       'module_quantity_1', 'additional_modules', 'technology_module_1',\n",
       "       'bipv_module_1', 'bifacial_module_1', 'nameplate_capacity_module_1',\n",
       "       'efficiency_module_1', 'inverter_manufacturer_1', 'inverter_model_1',\n",
       "       'inverter_quantity_1', 'additional_inverters', 'micro_inverter_1',\n",
       "       'solar_storage_hybrid_inverter_1', 'built_in_meter_inverter_1',\n",
       "       'dc_optimizer', 'inverter_loading_ratio', 'date_of_battery_install',\n",
       "       'year', 'month', 'price_per_kw', 'state_AZ', 'state_CA', 'state_CO',\n",
       "       'state_CT', 'state_DE', 'state_FL', 'state_MA', 'state_MD', 'state_MN',\n",
       "       'state_NH', 'state_NM', 'state_NY', 'state_RI', 'state_TX', 'state_UT',\n",
       "       'state_WI'],\n",
       "      dtype='object')"
      ]
     },
     "execution_count": 5,
     "metadata": {},
     "output_type": "execute_result"
    }
   ],
   "source": [
    "data.columns"
   ]
  },
  {
   "cell_type": "code",
   "execution_count": 6,
   "id": "1f157853",
   "metadata": {},
   "outputs": [],
   "source": [
    "def ecdf(column):\n",
    "    n = len(column)\n",
    "\n",
    "    # x-data for the ECDF: x\n",
    "    x = np.sort(column)\n",
    "\n",
    "    # y-data for the ECDF: y\n",
    "    y = np.arange(1, n+1) / n\n",
    "\n",
    "    return x, y"
   ]
  },
  {
   "cell_type": "code",
   "execution_count": 7,
   "id": "dcfe3ee5",
   "metadata": {},
   "outputs": [],
   "source": [
    "tx = data[data['state_TX'] == 1]\n",
    "not_tx = data[data['state_TX'] == 0]"
   ]
  },
  {
   "cell_type": "code",
   "execution_count": 13,
   "id": "58cc15e6",
   "metadata": {},
   "outputs": [
    {
     "data": {
      "image/png": "[encoded data removed]",
      "text/plain": [
       "<Figure size 432x288 with 1 Axes>"
      ]
     },
     "metadata": {
      "needs_background": "light"
     },
     "output_type": "display_data"
    }
   ],
   "source": [
    "tx_x, tx_y = ecdf(tx['price_per_kw'])\n",
    "us_x, us_y = ecdf(not_tx['price_per_kw'])\n",
    "\n",
    "plt.plot(tx_x, tx_y, color='r')\n",
    "plt.plot(us_x, us_y, color='b')\n",
    "plt.xlim(0,10000)\n",
    "plt.xlabel('Price per KW')\n",
    "plt.ylabel('ECDF')\n",
    "plt.legend(['Texas', 'Rest of US'], loc='lower right')\n",
    "plt.show()"
   ]
  },
  {
   "cell_type": "code",
   "execution_count": 27,
   "id": "8fcc4327",
   "metadata": {},
   "outputs": [
    {
     "data": {
      "image/png": "[encoded data removed]",
      "text/plain": [
       "<Figure size 432x288 with 1 Axes>"
      ]
     },
     "metadata": {
      "needs_background": "light"
     },
     "output_type": "display_data"
    }
   ],
   "source": [
    "sns.boxplot(x='month', y='price_per_kw', data=data)\n",
    "plt.ylim(500, 8000)\n",
    "plt.show()"
   ]
  },
  {
   "cell_type": "code",
   "execution_count": null,
   "id": "741781f9",
   "metadata": {},
   "outputs": [],
   "source": []
  },
  {
   "cell_type": "code",
   "execution_count": null,
   "id": "20407c8f",
   "metadata": {},
   "outputs": [],
   "source": []
  },
  {
   "cell_type": "code",
   "execution_count": null,
   "id": "4692ed20",
   "metadata": {},
   "outputs": [],
   "source": []
  },
  {
   "cell_type": "code",
   "execution_count": null,
   "id": "6a084fa0",
   "metadata": {},
   "outputs": [],
   "source": []
  },
  {
   "cell_type": "code",
   "execution_count": null,
   "id": "9fe86505",
   "metadata": {},
   "outputs": [],
   "source": []
  },
  {
   "cell_type": "code",
   "execution_count": null,
   "id": "df24bd3d",
   "metadata": {},
   "outputs": [],
   "source": []
  },
  {
   "cell_type": "code",
   "execution_count": null,
   "id": "895e9f7d",
   "metadata": {},
   "outputs": [],
   "source": []
  },
  {
   "cell_type": "code",
   "execution_count": null,
   "id": "793a47da",
   "metadata": {},
   "outputs": [],
   "source": []
  },
  {
   "cell_type": "code",
   "execution_count": null,
   "id": "a4bd70ae",
   "metadata": {},
   "outputs": [],
   "source": []
  }
 ],
 "metadata": {
  "kernelspec": {
   "display_name": "Python 3 (ipykernel)",
   "language": "python",
   "name": "python3"
  },
  "language_info": {
   "codemirror_mode": {
    "name": "ipython",
    "version": 3
   },
   "file_extension": ".py",
   "mimetype": "text/x-python",
   "name": "python",
   "nbconvert_exporter": "python",
   "pygments_lexer": "ipython3",
   "version": "3.9.7"
  }
 },
 "nbformat": 4,
 "nbformat_minor": 5
}
