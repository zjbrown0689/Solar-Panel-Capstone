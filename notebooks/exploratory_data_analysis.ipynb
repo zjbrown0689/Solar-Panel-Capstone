{
 "cells": [
  {
   "cell_type": "markdown",
   "id": "3eaa4129",
   "metadata": {},
   "source": [
    "# Getting the most solar power for your dollar\n",
    "## Exploratory Data Analysis\n",
    "### Zachary Brown\n",
    "\n",
    "Now that the raw data has been wrangled into a useful dataframe it is time to explore the data and identify correlations and trends that may be important for modeling. "
   ]
  },
  {
   "cell_type": "code",
   "execution_count": null,
   "id": "d03713ca",
   "metadata": {},
   "outputs": [],
   "source": [
    "import os\n",
    "import numpy as np\n",
    "import pandas as pd\n",
    "import matplotlib.pyplot as plt\n",
    "import seaborn as sns\n",
    "import scipy.stats\n",
    "import statsmodels.api as sm \n",
    "from statsmodels.graphics.api import abline_plot\n",
    "from sklearn.model_selection import train_test_split\n",
    "sns.set_theme('notebook')"
   ]
  },
  {
   "cell_type": "code",
   "execution_count": null,
   "id": "cfe71205",
   "metadata": {},
   "outputs": [],
   "source": [
    "print(os.getcwd())\n",
    "os.chdir(r\"..\\data\\interim\")\n",
    "print(os.getcwd())"
   ]
  },
  {
   "cell_type": "code",
   "execution_count": null,
   "id": "3322519a",
   "metadata": {},
   "outputs": [],
   "source": [
    "data = pd.read_csv('wrangled_data.csv', index_col=0, low_memory=False)\n",
    "data.shape"
   ]
  },
  {
   "cell_type": "code",
   "execution_count": null,
   "id": "94c46127",
   "metadata": {},
   "outputs": [],
   "source": [
    "data.head()"
   ]
  },
  {
   "cell_type": "code",
   "execution_count": null,
   "id": "297e88ea",
   "metadata": {},
   "outputs": [],
   "source": [
    "data.columns"
   ]
  },
  {
   "cell_type": "code",
   "execution_count": null,
   "id": "ab97425e",
   "metadata": {},
   "outputs": [],
   "source": [
    "col = data.columns.to_series().groupby(data.dtypes).groups\n",
    "print(col)"
   ]
  },
  {
   "cell_type": "code",
   "execution_count": null,
   "id": "01914ca1",
   "metadata": {},
   "outputs": [],
   "source": [
    "# Year was read in as a float, so I'm going to change that to integer\n",
    "\n",
    "data['year'] = data['year'].astype(int)"
   ]
  },
  {
   "cell_type": "markdown",
   "id": "943f3c0e",
   "metadata": {},
   "source": [
    "As a first step in this analysis I'm going to take a look at the distribution of the price per KW values for the entire dataset."
   ]
  },
  {
   "cell_type": "code",
   "execution_count": null,
   "id": "d72edd07",
   "metadata": {},
   "outputs": [],
   "source": [
    "sns.boxplot(x = data['price_per_kw'], showfliers = False)\n",
    "plt.title('Cost Efficiency Distribution')\n",
    "plt.xlabel('Price per KW')\n",
    "plt.show()"
   ]
  },
  {
   "cell_type": "code",
   "execution_count": null,
   "id": "b2142295",
   "metadata": {},
   "outputs": [],
   "source": [
    "data['price_per_kw'].describe()"
   ]
  },
  {
   "cell_type": "markdown",
   "id": "68c5d2cb",
   "metadata": {},
   "source": [
    "One useful tool to quickly identify a difference in distributions is the empirical cumulative distribution function (ECDF). I'd like to determine whether there are any clear differences in prices per KW in TX versus the rest of the US, so I will first create a function to quickly produce an EDCF for a given column. Then I'll create two new dataframes, one with just TX data, the other with all other states. Then I'll overlay the ECDFs of both to compare. "
   ]
  },
  {
   "cell_type": "code",
   "execution_count": null,
   "id": "c8016956",
   "metadata": {},
   "outputs": [],
   "source": [
    "def ecdf(column):\n",
    "    n = len(column)\n",
    "\n",
    "    # x-data for the ECDF: x\n",
    "    x = np.sort(column)\n",
    "\n",
    "    # y-data for the ECDF: y\n",
    "    y = np.arange(1, n+1) / n\n",
    "\n",
    "    return x, y"
   ]
  },
  {
   "cell_type": "code",
   "execution_count": null,
   "id": "6e1d85b2",
   "metadata": {},
   "outputs": [],
   "source": [
    "# Creating the two new dataframes\n",
    "tx = data[data['state_TX'] == 1]\n",
    "not_tx = data[data['state_TX'] == 0]"
   ]
  },
  {
   "cell_type": "code",
   "execution_count": null,
   "id": "27c17de6",
   "metadata": {},
   "outputs": [],
   "source": [
    "# Plotting the two ECDFs against one another\n",
    "\n",
    "tx_x, tx_y = ecdf(tx['price_per_kw'])\n",
    "us_x, us_y = ecdf(not_tx['price_per_kw'])\n",
    "\n",
    "plt.plot(tx_x, tx_y, color='r')\n",
    "plt.plot(us_x, us_y, color='b')\n",
    "plt.xlim(0,10000)\n",
    "plt.title('Cost Efficiency Distribution: Texas vs Rest of the US')\n",
    "plt.xlabel('Price per KW')\n",
    "plt.ylabel('ECDF')\n",
    "plt.legend(['Texas', 'Rest of US'], loc='lower right')\n",
    "plt.show()"
   ]
  },
  {
   "cell_type": "markdown",
   "id": "8c9c34c1",
   "metadata": {},
   "source": [
    "Very interesting! Although the rest of the US has some installations that are more cost efficient than those in Texas, the Texas installations as a whole tend to be more cost efficient than the rest of the country. It seems likely that this will factor into the model later on. Just to confirm whether these results are significantly different, I'll run a two-tailed t-test with the null hypothesis that the mean price per KW of Texas installations and the rest of the US are the same. Before performing the t-test I need to confirm that the data are normally distributed, so I'll perform Shapiro-Wilk tests for normality first. If those results are greater than 0.05 the data is assumed to be normal and I can proceed with the t-test."
   ]
  },
  {
   "cell_type": "code",
   "execution_count": null,
   "id": "d619762e",
   "metadata": {},
   "outputs": [],
   "source": [
    "scipy.stats.shapiro(tx['price_per_kw'])"
   ]
  },
  {
   "cell_type": "code",
   "execution_count": null,
   "id": "6082fdce",
   "metadata": {},
   "outputs": [],
   "source": [
    "scipy.stats.shapiro(not_tx['price_per_kw'])"
   ]
  },
  {
   "cell_type": "markdown",
   "id": "db89f4cc",
   "metadata": {},
   "source": [
    "Ok, both sets of data pass the Shapiro-Wilk test, so now I'll run the t-test."
   ]
  },
  {
   "cell_type": "code",
   "execution_count": null,
   "id": "8d2e59f9",
   "metadata": {},
   "outputs": [],
   "source": [
    "scipy.stats.ttest_ind(tx['price_per_kw'], not_tx['price_per_kw'])"
   ]
  },
  {
   "cell_type": "markdown",
   "id": "6aa21c63",
   "metadata": {},
   "source": [
    "Ok, our t-test confirms that there is a real difference in average cost efficiency between Texas and the rest of the US. I'll determine the Pearson correlation coefficient to quantify how linear the relationship is."
   ]
  },
  {
   "cell_type": "code",
   "execution_count": null,
   "id": "24327c26",
   "metadata": {},
   "outputs": [],
   "source": [
    "scipy.stats.pearsonr(data['state_TX'], data['price_per_kw'])"
   ]
  },
  {
   "cell_type": "markdown",
   "id": "6e6e8b6c",
   "metadata": {},
   "source": [
    "So there is a -0.018 correlation coefficient between whether the installation is in Texas and the installation cost efficiency. That's good to know!  I'll keep an eye out for that to show up in the model I generate later."
   ]
  },
  {
   "cell_type": "markdown",
   "id": "e14cfe86",
   "metadata": {},
   "source": [
    "It seems very possible that pricing may vary throughout the year given seasonal changes in weather. For example one might expect an increase in installations, and hence an increase in price, during the winter or spring so that the panels are ready in time for summer. I'll prepare a series of boxplots of the price per KW broken down by month to get a quick look at whether there is any month to month effect."
   ]
  },
  {
   "cell_type": "code",
   "execution_count": null,
   "id": "66b26a6a",
   "metadata": {},
   "outputs": [],
   "source": [
    "months = ['Jan', 'Feb', 'Mar', 'Apr', 'May', 'Jun', 'Jul', 'Aug', 'Sep', 'Oct', 'Nov', 'Dec']\n",
    "\n",
    "sns.boxplot(x='month', y='price_per_kw', data=data, palette='colorblind', showfliers=False)\n",
    "plt.title('Cost Efficiency by Installation Month')\n",
    "plt.xlabel('Month')\n",
    "plt.xticks(np.arange(12), months)\n",
    "plt.ylabel('Price per KW')\n",
    "plt.show()"
   ]
  },
  {
   "cell_type": "code",
   "execution_count": null,
   "id": "8c8f7fb0",
   "metadata": {},
   "outputs": [],
   "source": [
    "chi2_month = data[['month', 'price_per_kw']].copy()\n",
    "chi2_month = chi2_month[chi2_month['month'] >= 0]\n",
    "chi2_month = chi2_month[chi2_month['price_per_kw'] >= 0]\n",
    "scipy.stats.chi2_contingency(chi2_month)"
   ]
  },
  {
   "cell_type": "markdown",
   "id": "6e479268",
   "metadata": {},
   "source": [
    "Although there isn't a large obvious difference upon visual inspection of the box plots, the chi squared test suggests that there is a significant correlation between the installation month and price efficiency.\n",
    "\n",
    "Next I want to check for quick correlations in the categorical columns such as 'expansion_system', 'multiple_phase_system', etc. To do so I'll create a loop to automatically make box plots for each."
   ]
  },
  {
   "cell_type": "code",
   "execution_count": null,
   "id": "0fd942a7",
   "metadata": {},
   "outputs": [],
   "source": [
    "for col in data.columns:\n",
    "    if data.dtypes[col] == 'int64' and 'state' not in col and 2 not in data[col].unique():\n",
    "        sns.boxplot(x=col, y='price_per_kw', data=data, showfliers=False)\n",
    "        plt.title(''.join(['Imapact of ', col.title().replace('_', \" \"), ' on Cost Efficiency']))\n",
    "        plt.xlabel(col.title().replace('_', \" \"))\n",
    "        plt.ylabel('Price per KW')\n",
    "        plt.show()    "
   ]
  },
  {
   "cell_type": "markdown",
   "id": "fa4a56e3",
   "metadata": {},
   "source": [
    "While there aren't any plots that show an obvious dramatic difference between their yes (1) and no (0) values, 'self_installed' and 'additional_modules' appear to improve cost efficiency, while 'bipv_module_1', 'additional_inverters', and 'solar_storage_hybrid_inverter_1' all appear to reduce cost efficiency. These may prove important to model development.\n",
    "\n",
    "I'll go through each of those columns, remove the missing data, split the dataframes by the response to the property of interest, and then perform t-tests to identify whether the mean price per KW is different based on that property. If the t-test statistic is significant I'll then perform a Pearson correlation test to identify the correlation coefficient."
   ]
  },
  {
   "cell_type": "code",
   "execution_count": null,
   "id": "b39d70f9",
   "metadata": {},
   "outputs": [],
   "source": [
    "# self_installed\n",
    "si_non_null = data[data['self_installed'] != -1]\n",
    "si_yes = si_non_null[si_non_null['self_installed'] == 1]\n",
    "si_no = si_non_null[si_non_null['self_installed'] == 0]\n",
    "print(scipy.stats.ttest_ind(si_yes['price_per_kw'], si_no['price_per_kw']))"
   ]
  },
  {
   "cell_type": "code",
   "execution_count": null,
   "id": "f51d0174",
   "metadata": {},
   "outputs": [],
   "source": [
    "scipy.stats.pearsonr(data['self_installed'], data['price_per_kw'])"
   ]
  },
  {
   "cell_type": "code",
   "execution_count": null,
   "id": "db89cea5",
   "metadata": {},
   "outputs": [],
   "source": [
    "# additional_modules\n",
    "\n",
    "am_non_null = data[data['additional_modules'] != -1]\n",
    "am_yes = am_non_null[am_non_null['additional_modules'] == 1]\n",
    "am_no = am_non_null[am_non_null['additional_modules'] == 0]\n",
    "print(scipy.stats.ttest_ind(am_yes['price_per_kw'], am_no['price_per_kw']))"
   ]
  },
  {
   "cell_type": "code",
   "execution_count": null,
   "id": "af45fce9",
   "metadata": {},
   "outputs": [],
   "source": [
    "scipy.stats.pearsonr(data['additional_modules'], data['price_per_kw'])"
   ]
  },
  {
   "cell_type": "code",
   "execution_count": null,
   "id": "b6ac99f3",
   "metadata": {},
   "outputs": [],
   "source": [
    "# bipv_module_1 - BIPV stands for building integrated photovoltaic, where the solar panels are designed to blend in with \n",
    "# the rest of the building design.\n",
    "\n",
    "bm1_non_null = data[data['bipv_module_1'] != -1]\n",
    "bm1_yes = bm1_non_null[bm1_non_null['bipv_module_1'] == 1]\n",
    "bm1_no = bm1_non_null[bm1_non_null['bipv_module_1'] == 0]\n",
    "print(scipy.stats.ttest_ind(bm1_yes['price_per_kw'], bm1_no['price_per_kw']))"
   ]
  },
  {
   "cell_type": "code",
   "execution_count": null,
   "id": "f1fd9d78",
   "metadata": {},
   "outputs": [],
   "source": [
    "scipy.stats.pearsonr(data['bipv_module_1'], data['price_per_kw'])"
   ]
  },
  {
   "cell_type": "code",
   "execution_count": null,
   "id": "375e2194",
   "metadata": {},
   "outputs": [],
   "source": [
    "# additional_inverters\n",
    "\n",
    "ai_non_null = data[data['additional_inverters'] != -1]\n",
    "ai_yes = ai_non_null[ai_non_null['additional_inverters'] == 1]\n",
    "ai_no = ai_non_null[ai_non_null['additional_inverters'] == 0]\n",
    "print(scipy.stats.ttest_ind(ai_yes['price_per_kw'], ai_no['price_per_kw']))"
   ]
  },
  {
   "cell_type": "code",
   "execution_count": null,
   "id": "df9da736",
   "metadata": {},
   "outputs": [],
   "source": [
    "scipy.stats.pearsonr(data['additional_inverters'], data['price_per_kw'])"
   ]
  },
  {
   "cell_type": "code",
   "execution_count": null,
   "id": "6f406578",
   "metadata": {},
   "outputs": [],
   "source": [
    "# solar_storage_hybrid_inverter_1\n",
    "\n",
    "sshi1_non_null = data[data['solar_storage_hybrid_inverter_1'] != -1]\n",
    "sshi1_yes = sshi1_non_null[sshi1_non_null['solar_storage_hybrid_inverter_1'] == 1]\n",
    "sshi1_no = sshi1_non_null[sshi1_non_null['solar_storage_hybrid_inverter_1'] == 0]\n",
    "print(scipy.stats.ttest_ind(sshi1_yes['price_per_kw'], sshi1_no['price_per_kw']))"
   ]
  },
  {
   "cell_type": "code",
   "execution_count": null,
   "id": "79306f68",
   "metadata": {},
   "outputs": [],
   "source": [
    "scipy.stats.pearsonr(data['solar_storage_hybrid_inverter_1'], data['price_per_kw'])"
   ]
  },
  {
   "cell_type": "markdown",
   "id": "ab3a1181",
   "metadata": {},
   "source": [
    "Great, all of these properties do appear to significantly impact the cost efficiency of the installation as I predicted based on the boxplots. \n",
    "\n",
    "Now I want to look for any correlations between the continuous variables and price per KW to see if those play any role here. I'm going to limit the y-axis to the 99.95th percentile of the data to cut out potential outliers which may hide the shape of the bulk data."
   ]
  },
  {
   "cell_type": "code",
   "execution_count": null,
   "id": "cf727528",
   "metadata": {},
   "outputs": [],
   "source": [
    "for col in data.select_dtypes('float64').columns:\n",
    "    if col != 'price_per_kw':\n",
    "        sns.scatterplot(data=data, x=col, y='price_per_kw', alpha=0.1)\n",
    "        plt.title(''.join(['Imapact of ', col.title().replace('_', \" \"), ' on Cost Efficiency']))\n",
    "        plt.xlabel(col.title().replace('_', \" \"))\n",
    "        plt.ylabel('Price per KW')\n",
    "        plt.ylim(0, np.quantile(data['price_per_kw'], 0.9995))\n",
    "        plt.show()"
   ]
  },
  {
   "cell_type": "markdown",
   "id": "612921d8",
   "metadata": {},
   "source": [
    "These give an interesting quick look at the data. I want to dig into a few of them a little more. I'll start with efficiency_module_1 by removing missing values, creating an OLS regression of the data, and checking the R-squared value as well as the p-values for the parameters to determine whether the model is a good representation of the data. I'll then overlay the regression line over the data to visually assess the trend."
   ]
  },
  {
   "cell_type": "code",
   "execution_count": null,
   "id": "1e55ae0c",
   "metadata": {},
   "outputs": [],
   "source": [
    "# First I remove the missing data.\n",
    "em1_no_null = data[data['efficiency_module_1'] != -1]\n",
    "\n",
    "dep_em1 = em1_no_null[['price_per_kw']]\n",
    "ind_em1 = sm.add_constant(em1_no_null[['efficiency_module_1']])\n",
    "\n",
    "x_train, x_test, y_train, y_test = train_test_split(ind_em1, dep_em1, test_size=0.25)\n",
    "print(x_train.shape, x_test.shape, y_train.shape, y_test.shape)"
   ]
  },
  {
   "cell_type": "code",
   "execution_count": null,
   "id": "95303f24",
   "metadata": {},
   "outputs": [],
   "source": [
    "# Now I'll create the model and check the R-squared.\n",
    "em1_model = sm.OLS(y_train,x_train)\n",
    "em1_results = em1_model.fit()\n",
    "em1_results.summary()"
   ]
  },
  {
   "cell_type": "code",
   "execution_count": null,
   "id": "aaf68204",
   "metadata": {},
   "outputs": [],
   "source": [
    "# The R-squared is 0.000, which means the residuals are very large for this regression line. \n",
    "# Let's check the slope and intercept parameters to get an idea of their magnitudes.\n",
    "b, m = em1_results.params\n",
    "em1_results.params"
   ]
  },
  {
   "cell_type": "code",
   "execution_count": null,
   "id": "bb32f623",
   "metadata": {},
   "outputs": [],
   "source": [
    "# Now I want to see if the parameters have significant p-values.\n",
    "em1_results.pvalues"
   ]
  },
  {
   "cell_type": "code",
   "execution_count": null,
   "id": "3168e96a",
   "metadata": {},
   "outputs": [],
   "source": [
    "scipy.stats.pearsonr(data['efficiency_module_1'], data['price_per_kw'])"
   ]
  },
  {
   "cell_type": "code",
   "execution_count": null,
   "id": "099482b7",
   "metadata": {},
   "outputs": [],
   "source": [
    "# I'll make the arrays for the regression line.\n",
    "x=np.array([0, 0.23])\n",
    "y=(m*x)+b\n",
    "\n",
    "# And now plot the data with the regression line overlay.\n",
    "sns.scatterplot(data=em1_no_null, x='efficiency_module_1', y='price_per_kw', alpha = 0.1, color='blue')\n",
    "plt.plot(x, y, color='red')\n",
    "plt.title('Cost Efficiency Correlation with PV Module Efficiency')\n",
    "plt.ylim(0, np.quantile(em1_no_null['price_per_kw'], 0.9995))\n",
    "plt.xlabel('Efficiency of PV Module')\n",
    "plt.ylabel('Price per KW')\n",
    "plt.show"
   ]
  },
  {
   "cell_type": "markdown",
   "id": "9a8a3259",
   "metadata": {},
   "source": [
    "So analysis of efficiency_module_1 shows that there is a linear correlation that is significant, however, the residuals are still very large, giving me an R-squared value of 0.000. This means that while the correlation is significant, it is not a good fit for the cost efficiency metric on its own. I'll perform the same analysis on nameplate_capacity_module_1 and inverter_loading_ratio to check those variables as well."
   ]
  },
  {
   "cell_type": "code",
   "execution_count": null,
   "id": "57a71312",
   "metadata": {},
   "outputs": [],
   "source": [
    "# Nameplate capacity is the maximum output the system can generate\n",
    "ncm1_no_null = data[data['nameplate_capacity_module_1'] != -1]\n",
    "ncm1_no_null = ncm1_no_null.dropna(axis=0, subset=['nameplate_capacity_module_1', 'price_per_kw'])\n",
    "\n",
    "dep_ncm1 = ncm1_no_null[['price_per_kw']]\n",
    "ind_ncm1 = sm.add_constant(ncm1_no_null[['nameplate_capacity_module_1']])\n",
    "\n",
    "X_train, X_test, y_train, y_test = train_test_split(ind_ncm1, dep_ncm1, test_size=0.25)\n",
    "print(X_train.shape, X_test.shape, y_train.shape, y_test.shape)"
   ]
  },
  {
   "cell_type": "code",
   "execution_count": null,
   "id": "68dae33e",
   "metadata": {},
   "outputs": [],
   "source": [
    "ncm1_model = sm.OLS(y_train,X_train)\n",
    "ncm1_results = ncm1_model.fit()\n",
    "ncm1_results.summary()"
   ]
  },
  {
   "cell_type": "code",
   "execution_count": null,
   "id": "683c0f5e",
   "metadata": {},
   "outputs": [],
   "source": [
    "# Once again the R-squared is 0.000, which means the residuals are very large for this regression line. \n",
    "# Let's assign the slope and intercept parameters to variables so we can plot them later.\n",
    "b, m = ncm1_results.params\n",
    "ncm1_results.params"
   ]
  },
  {
   "cell_type": "code",
   "execution_count": null,
   "id": "ba9b720c",
   "metadata": {},
   "outputs": [],
   "source": [
    "# Now I want to see if the parameters have significant p-values.\n",
    "ncm1_results.pvalues"
   ]
  },
  {
   "cell_type": "code",
   "execution_count": null,
   "id": "e15c519d",
   "metadata": {},
   "outputs": [],
   "source": [
    "# I'll make the arrays for the regression line.\n",
    "x=np.array([0, 500])\n",
    "y=(m*x)+b\n",
    "\n",
    "# And now plot the data with the regression line overlay.\n",
    "sns.scatterplot(data=ncm1_no_null, x='nameplate_capacity_module_1', y='price_per_kw', alpha = 0.1, color='blue')\n",
    "plt.plot(x, y, color='red')\n",
    "plt.title('Cost Efficiency Correlation with Advertised Capacity')\n",
    "plt.ylim(0, np.quantile(ncm1_no_null['price_per_kw'], 0.9995))\n",
    "plt.xlabel('Advertised Photovoltaic Capacity')\n",
    "plt.ylabel('Price per KW')\n",
    "plt.show"
   ]
  },
  {
   "cell_type": "markdown",
   "id": "5be943b0",
   "metadata": {},
   "source": [
    "This regression line not only appears flat and has an R-squared of 0.000, but also has a p-value for the slope of 0.86, suggesting that nameplate_capacity_module_1 is not significantly correlated to the price_per_kw. The last continuous feature that looks worth checking is inverter_loading_ratio."
   ]
  },
  {
   "cell_type": "code",
   "execution_count": null,
   "id": "f27c9535",
   "metadata": {},
   "outputs": [],
   "source": [
    "ilr_no_null = data[data['inverter_loading_ratio'] != -1]\n",
    "ilr_no_null = ilr_no_null.dropna(axis=0, subset=['inverter_loading_ratio', 'price_per_kw'])\n",
    "\n",
    "dep_ilr = ilr_no_null[['price_per_kw']]\n",
    "ind_ilr = sm.add_constant(ilr_no_null[['inverter_loading_ratio']])\n",
    "\n",
    "X_train, X_test, y_train, y_test = train_test_split(ind_ilr, dep_ilr, test_size=0.25)\n",
    "print(X_train.shape, X_test.shape, y_train.shape, y_test.shape)"
   ]
  },
  {
   "cell_type": "code",
   "execution_count": null,
   "id": "872201a3",
   "metadata": {},
   "outputs": [],
   "source": [
    "ilr_model = sm.OLS(y_train,X_train)\n",
    "ilr_results = ilr_model.fit()\n",
    "ilr_results.summary()"
   ]
  },
  {
   "cell_type": "code",
   "execution_count": null,
   "id": "c88ecce1",
   "metadata": {},
   "outputs": [],
   "source": [
    "# Once again the R-squared is 0.000, which means the residuals are very large for this regression line. \n",
    "# Let's assign the slope and intercept parameters to variables so we can plot them later.\n",
    "b, m = ilr_results.params\n",
    "ilr_results.params"
   ]
  },
  {
   "cell_type": "code",
   "execution_count": null,
   "id": "b131f488",
   "metadata": {},
   "outputs": [],
   "source": [
    "# Now I want to see if the parameters have significant p-values.\n",
    "ilr_results.pvalues"
   ]
  },
  {
   "cell_type": "code",
   "execution_count": null,
   "id": "16696c38",
   "metadata": {},
   "outputs": [],
   "source": [
    "scipy.stats.pearsonr(data['inverter_loading_ratio'], data['price_per_kw'])"
   ]
  },
  {
   "cell_type": "code",
   "execution_count": null,
   "id": "a77a78c8",
   "metadata": {},
   "outputs": [],
   "source": [
    "# I'll make the arrays for the regression line.\n",
    "x=np.array([0.7, 1.6])\n",
    "y=(m*x)+b\n",
    "\n",
    "# And now plot the data with the regression line overlay.\n",
    "sns.scatterplot(data=ilr_no_null, x='inverter_loading_ratio', y='price_per_kw', alpha = 0.1, color='blue')\n",
    "plt.plot(x, y, color='red')\n",
    "plt.title('Cost Efficiency Correlation with Inverter Loading Ratio')\n",
    "plt.ylim(0, np.quantile(ilr_no_null['price_per_kw'], 0.9995))\n",
    "plt.xlabel('Inverter Loading Ratio')\n",
    "plt.ylabel('Price per KW')\n",
    "plt.show"
   ]
  },
  {
   "cell_type": "markdown",
   "id": "988fc9d3",
   "metadata": {},
   "source": [
    "Once again we have an R-squared of 0, so the inverter_loading_ratio doesn't predict the cost efficiency well on its own, however, the p-value for the slope of the regression line suggests that there is a significant correlation here that I may need to consider when building a model."
   ]
  },
  {
   "cell_type": "markdown",
   "id": "7992cba1",
   "metadata": {},
   "source": [
    "One of the last columns I haven't dealt with yet is the date of battery install variable. It's listed as an object type right now, so I'm going to have to check how it's formatted, change it to datetime, break it out to month and year, then check each for any meaningful correlations to cost efficiency."
   ]
  },
  {
   "cell_type": "code",
   "execution_count": null,
   "id": "8136e812",
   "metadata": {},
   "outputs": [],
   "source": [
    "dobi = data[~data['date_of_battery_install'].isnull()]\n",
    "print(dobi['date_of_battery_install'].head())"
   ]
  },
  {
   "cell_type": "code",
   "execution_count": null,
   "id": "8c8f7246",
   "metadata": {},
   "outputs": [],
   "source": [
    "dobi_c = dobi.copy()\n",
    "dobi_c['date_of_battery_install'] = pd.to_datetime(dobi_c['date_of_battery_install'])\n",
    "dobi_c['month_of_battery_install'] = dobi_c['date_of_battery_install'].dt.month\n",
    "dobi_c['year_of_battery_install'] = dobi_c['date_of_battery_install'].dt.year"
   ]
  },
  {
   "cell_type": "code",
   "execution_count": null,
   "id": "55a8cd7e",
   "metadata": {},
   "outputs": [],
   "source": [
    "sns.boxplot(x='month_of_battery_install', y='price_per_kw', data=dobi_c, palette='colorblind', showfliers=False)\n",
    "plt.title('Cost Efficiency by Month of Battery Installation')\n",
    "plt.xlabel('Battery Installation Month')\n",
    "plt.ylabel('Price per KW')\n",
    "plt.show()"
   ]
  },
  {
   "cell_type": "code",
   "execution_count": null,
   "id": "41adf1aa",
   "metadata": {},
   "outputs": [],
   "source": [
    "sns.boxplot(x='year_of_battery_install', y='price_per_kw', data=dobi_c, palette='colorblind', showfliers = False)\n",
    "plt.title('Cost Efficiency by Year of Battery Installation')\n",
    "plt.xlabel('Battery Installation Year')\n",
    "plt.ylabel('Price per KW')\n",
    "plt.show()"
   ]
  },
  {
   "cell_type": "markdown",
   "id": "d84e525a",
   "metadata": {},
   "source": [
    "Now these are really interesting. It looks like we have more cost efficiency variation when looking at battery installation month than solar panel installation month, and even more interestingly, there are large differences in cost efficiency when split by the year of a battery installation. \n",
    "\n",
    "I'll perform chi-squared contingency tests on both to confirm whether the categories of each variable (month and year of battery install) are independent or not."
   ]
  },
  {
   "cell_type": "code",
   "execution_count": null,
   "id": "570be136",
   "metadata": {},
   "outputs": [],
   "source": [
    "chi_month = dobi_c[['month_of_battery_install', 'price_per_kw']].copy()\n",
    "scipy.stats.chi2_contingency(chi_month)"
   ]
  },
  {
   "cell_type": "code",
   "execution_count": null,
   "id": "a68820e1",
   "metadata": {},
   "outputs": [],
   "source": [
    "chi_year = dobi_c[['year_of_battery_install', 'price_per_kw']].copy()\n",
    "scipy.stats.chi2_contingency(chi_year)"
   ]
  },
  {
   "cell_type": "markdown",
   "id": "50aeb121",
   "metadata": {},
   "source": [
    "In both cases we get very large chi-squared values and p-values of 0.0, meaning that the month and year of battery installation do have an impact on cost efficiency of the solar panel installation.\n",
    "\n",
    "I'll need to export the updated dataframe for modeling to make sure I capture those broken out date features in the model."
   ]
  },
  {
   "cell_type": "code",
   "execution_count": null,
   "id": "9c18ea36",
   "metadata": {},
   "outputs": [],
   "source": [
    "print(os.getcwd())\n",
    "os.chdir(r\"..\\processed\")\n",
    "print(os.getcwd())"
   ]
  },
  {
   "cell_type": "markdown",
   "id": "8c8e2782",
   "metadata": {},
   "source": [
    "### Conclusions\n",
    "As a final wrap-up of this analysis I'll summarize the findings below.\n",
    "\n",
    "The Pearson correlation coefficients for categorical features with statistically significant impact on cost efficiency are listed below:\n",
    "\n",
    "* state_TX - -0.018 \n",
    "* self_installed: -0.014 \n",
    "* additional_modules: 0.018 \n",
    "* bipv_module_1: 0.017 \n",
    "* additional_inverters: 0.020 \n",
    "* solar_storage_hybrid_inverter_1: 0.031 \n",
    "\n",
    "Although none of the continuous features had an R-squared above 0.000, two features both had significant p-values for their regression line slopes, suggesting that they do have some correlation with price_per_kw. They're listed below with their Pearson correlation coefficients:\n",
    "\n",
    "* efficiency_module_1: 0.013\n",
    "* inverter_loading_ratio: 0.005\n",
    "\n",
    "All of these correlation coefficients suggest that there are very slightly linear correlations between the listed features and the overall installation cost efficiency. In the case of state_TX and self_installed, being self installed or installed in Texas both reduce the cost per KW, whereas the other factors all increase the cost per KW.\n",
    "\n",
    "One final interesting finding was that the month of both battery and solar panel installation, as well as the year of battery installation, all have significant impact on the overall cost efficiency of the solar panel installation.\n",
    "\n",
    "These should help me know what to watch for as I develop a model to predict how to optimize cost efficiency in the next step of this capstone."
   ]
  },
  {
   "cell_type": "code",
   "execution_count": null,
   "id": "fcff4d9c",
   "metadata": {},
   "outputs": [],
   "source": [
    "data.to_csv('processed_data.csv')"
   ]
  },
  {
   "cell_type": "code",
   "execution_count": null,
   "id": "e3404851",
   "metadata": {},
   "outputs": [],
   "source": []
  }
 ],
 "metadata": {
  "kernelspec": {
   "display_name": "Python 3 (ipykernel)",
   "language": "python",
   "name": "python3"
  },
  "language_info": {
   "codemirror_mode": {
    "name": "ipython",
    "version": 3
   },
   "file_extension": ".py",
   "mimetype": "text/x-python",
   "name": "python",
   "nbconvert_exporter": "python",
   "pygments_lexer": "ipython3",
   "version": "3.9.15"
  }
 },
 "nbformat": 4,
 "nbformat_minor": 5
}
