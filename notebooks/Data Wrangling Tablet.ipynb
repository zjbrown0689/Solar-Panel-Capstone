{
 "cells": [
  {
   "cell_type": "code",
   "execution_count": null,
   "id": "24c69fa7",
   "metadata": {},
   "outputs": [],
   "source": [
    "# Import modules for data wrangling\n",
    "import numpy as np\n",
    "import matplotlib.pyplot as plt\n",
    "import pandas as pd\n",
    "import seaborn as sns\n",
    "from pandas_profiling import ProfileReport\n",
    "from datetime import datetime"
   ]
  },
  {
   "cell_type": "code",
   "execution_count": null,
   "id": "c452f3f2",
   "metadata": {},
   "outputs": [],
   "source": [
    "# Read in .csv data to be cleaned\n",
    "# Change global setting so that all columns will be displayed in dataframes and analyses\n",
    "data = pd.read_csv('..\\data\\external\\TTS_LBNL_public_file_07-Sep-2022_all.csv')\n",
    "pd.set_option('display.max_columns', None)\n",
    "data.head()"
   ]
  },
  {
   "cell_type": "code",
   "execution_count": null,
   "id": "a3fe4e9e",
   "metadata": {},
   "outputs": [],
   "source": [
    "data.shape"
   ]
  },
  {
   "cell_type": "code",
   "execution_count": null,
   "id": "884d3a4c",
   "metadata": {},
   "outputs": [],
   "source": [
    "data.columns"
   ]
  },
  {
   "cell_type": "code",
   "execution_count": null,
   "id": "5d2ad26f",
   "metadata": {},
   "outputs": [],
   "source": [
    "data.dtypes"
   ]
  },
  {
   "cell_type": "code",
   "execution_count": null,
   "id": "4a8059bb",
   "metadata": {},
   "outputs": [],
   "source": [
    "# I only want to analyze residential installations, so I need to check what the values in 'customer_segment' are that represent\n",
    "# residential vs commercial\n",
    "print(data['customer_segment'].unique())"
   ]
  },
  {
   "cell_type": "code",
   "execution_count": null,
   "id": "bd2f375e",
   "metadata": {},
   "outputs": [],
   "source": [
    "# Now I'll subset the data to just residential installations\n",
    "res_data = data[data['customer_segment'] == 'RES']\n",
    "res_data.shape"
   ]
  },
  {
   "cell_type": "code",
   "execution_count": null,
   "id": "b7441e8c",
   "metadata": {},
   "outputs": [],
   "source": [
    "# I'm only interested in the most recent year of data - 2021 - so I'll first check to make sure that there are enough \n",
    "# installations to still create a valid model if I pare the data down to only 2021\n",
    "newest_year = res_data['installation_date'].str[7:11] == '2021'\n",
    "res_data[newest_year].shape"
   ]
  },
  {
   "cell_type": "code",
   "execution_count": null,
   "id": "4835886b",
   "metadata": {},
   "outputs": [],
   "source": [
    "# Great! I still have >200,000 installations to analyze which should be plenty.\n",
    "# Let's now change the 'installation_date' column to datetime\n",
    "newest_res_data = res_data[newest_year].copy()\n",
    "newest_res_data.head()"
   ]
  },
  {
   "cell_type": "code",
   "execution_count": null,
   "id": "1615dd5b",
   "metadata": {},
   "outputs": [],
   "source": [
    "# Now I'll convert the 'installation_date' column to datetime\n",
    "newest_res_data['installation_date'] = pd.to_datetime(newest_res_data['installation_date'])\n",
    "newest_res_data.dtypes"
   ]
  },
  {
   "cell_type": "code",
   "execution_count": null,
   "id": "233c2001",
   "metadata": {},
   "outputs": [],
   "source": [
    "# Rather than have the model attempt to process each day of the year, it makes more sense to break the date into bins by \n",
    "# month\n",
    "newest_res_data['installation_month'] = newest_res_data['installation_date'].dt.month\n",
    "newest_res_data['installation_month'].value_counts()"
   ]
  },
  {
   "cell_type": "code",
   "execution_count": null,
   "id": "2b28ab24",
   "metadata": {},
   "outputs": [],
   "source": [
    "# Now I'll confirm that the monetary columns are correctly detected as floats\n",
    "newest_res_data[['total_installed_price', 'rebate_or_grant']].dtypes"
   ]
  },
  {
   "cell_type": "code",
   "execution_count": null,
   "id": "fc9fa79f",
   "metadata": {},
   "outputs": [],
   "source": [
    "# To perform some preliminary checks I'll take a look at the .describe() results for the pared down dataset\n",
    "newest_res_data.describe(include='all', datetime_is_numeric=True)"
   ]
  },
  {
   "cell_type": "code",
   "execution_count": null,
   "id": "beec2977",
   "metadata": {},
   "outputs": [],
   "source": [
    "# I will need to calculate the final price by subtracting 'rebate_or_grant' from 'total_installed_price', so any rows with no\n",
    "# data for 'total_installed_price' should be removed\n",
    "print(newest_res_data['total_installed_price'].isna().sum())"
   ]
  },
  {
   "cell_type": "code",
   "execution_count": null,
   "id": "98db9558",
   "metadata": {},
   "outputs": [],
   "source": [
    "print(np.sort(newest_res_data['total_installed_price'].unique()))"
   ]
  },
  {
   "cell_type": "code",
   "execution_count": null,
   "id": "bc7f072f",
   "metadata": {},
   "outputs": [],
   "source": [
    "# Now I'll plot a box plogt of 'total_installed_price' to look for outliers and to determine if there is \n",
    "# a threshold below which we can safely say the values are erroneous or placeholders\n",
    "plt.boxplot(newest_res_data['total_installed_price'])\n",
    "plt.show"
   ]
  },
  {
   "cell_type": "code",
   "execution_count": null,
   "id": "093a310a",
   "metadata": {},
   "outputs": [],
   "source": [
    "# There are a lot of potential outliers shown in this box plot, so let's take a look at a log-scaled histogram\n",
    "plt.hist(newest_res_data['total_installed_price'], bins=[-1,100,10000,20000,30000,40000,50000,100000,200000])\n",
    "plt.show()"
   ]
  },
  {
   "cell_type": "code",
   "execution_count": null,
   "id": "d5940349",
   "metadata": {},
   "outputs": [],
   "source": [
    "# The histogram above is concerning because it looks like there's more than 10,000 entries below $1,000 which is likely lower\n",
    "# than a real solar panel installation. Let's dig a little deeper, as -1 values are likely entered in place of missing data\n",
    "plt.hist(newest_res_data['total_installed_price'], bins=[-1, 0, 1, 10])\n",
    "plt.show()"
   ]
  },
  {
   "cell_type": "code",
   "execution_count": null,
   "id": "666617fb",
   "metadata": {},
   "outputs": [],
   "source": [
    "# Ok, so it turns out there were almost 25,000 entries of -1 that we didn't even see in the previous histogram. \n",
    "# Now I want to know if there are any obvious correlations that might explain the high number of missing entries\n",
    "# First I'll make a new dataframe with just rows that have -1 for 'total_installed_price'\n",
    "neg_price = newest_res_data[newest_res_data['total_installed_price'] == -1]\n",
    "# Now I'll check data provider to see if there's a specific culprit who is missing installation price\n",
    "print(neg_price['data_provider_1'].value_counts())"
   ]
  },
  {
   "cell_type": "code",
   "execution_count": null,
   "id": "80f1649f",
   "metadata": {},
   "outputs": [],
   "source": [
    "# There are definitely a few primary providers that are missing a lot of installation price information.\n",
    "# I want to see how this is divided by state next and identify if this is going to have a major impact on the number of results\n",
    "# we have from any specific states\n",
    "print(neg_price['state'].value_counts()/newest_res_data['state'].value_counts() * 100)"
   ]
  },
  {
   "cell_type": "code",
   "execution_count": null,
   "id": "bea703da",
   "metadata": {},
   "outputs": [],
   "source": [
    "# I can go ahead and create the final price column that will be my metric for the model\n",
    "newest_res_data['final_price'] = newest_res_data['total_installed_price'] - newest_res_data['rebate_or_grant']"
   ]
  },
  {
   "cell_type": "code",
   "execution_count": null,
   "id": "e3a5b615",
   "metadata": {},
   "outputs": [],
   "source": []
  },
  {
   "cell_type": "code",
   "execution_count": null,
   "id": "c040f201",
   "metadata": {},
   "outputs": [],
   "source": []
  },
  {
   "cell_type": "code",
   "execution_count": null,
   "id": "56223e51",
   "metadata": {},
   "outputs": [],
   "source": []
  },
  {
   "cell_type": "code",
   "execution_count": null,
   "id": "907bd045",
   "metadata": {},
   "outputs": [],
   "source": []
  },
  {
   "cell_type": "code",
   "execution_count": null,
   "id": "d542826d",
   "metadata": {},
   "outputs": [],
   "source": []
  },
  {
   "cell_type": "code",
   "execution_count": null,
   "id": "79c3cf21",
   "metadata": {},
   "outputs": [],
   "source": [
    "# res_data.profile_report()"
   ]
  }
 ],
 "metadata": {
  "kernelspec": {
   "display_name": "Python 3 (ipykernel)",
   "language": "python",
   "name": "python3"
  },
  "language_info": {
   "codemirror_mode": {
    "name": "ipython",
    "version": 3
   },
   "file_extension": ".py",
   "mimetype": "text/x-python",
   "name": "python",
   "nbconvert_exporter": "python",
   "pygments_lexer": "ipython3",
   "version": "3.9.7"
  }
 },
 "nbformat": 4,
 "nbformat_minor": 5
}
