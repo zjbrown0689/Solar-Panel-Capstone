{
 "cells": [
  {
   "cell_type": "markdown",
   "id": "ffae5429",
   "metadata": {},
   "source": [
    "# Getting the most solar power for your dollar\n",
    "## Data wrangling\n",
    "### Zachary Brown\n",
    "\n",
    "The goal of this project is to use the Tracking the Sun dataset from the Lawrence Berkeley National Laboratory to create a model that identifies what factors make residential solar panel installations in Austin, Texas as cost-efficient as possible. To do so the data will be loaded from Parquet files and in this notebook will be wrangled into the working dataframe for the rest of the project.\n",
    "\n",
    "I'll start off by importing the modules needed for importing and wrangling the data."
   ]
  },
  {
   "cell_type": "code",
   "execution_count": 8,
   "id": "f7a4b84a",
   "metadata": {},
   "outputs": [],
   "source": [
    "import os\n",
    "import wget\n",
    "import requests\n",
    "import pandas as pd\n",
    "import numpy as np\n",
    "from bs4 import BeautifulSoup\n",
    "import matplotlib.pyplot as plt\n",
    "from pandas_profiling import ProfileReport\n",
    "from datetime import datetime"
   ]
  },
  {
   "cell_type": "markdown",
   "id": "b8b35926",
   "metadata": {},
   "source": [
    "Next I need to download the Parquet datafiles into the external data directory within this repository, so I'll switch to the correct directory."
   ]
  },
  {
   "cell_type": "code",
   "execution_count": 5,
   "id": "09d3163f",
   "metadata": {},
   "outputs": [
    {
     "name": "stdout",
     "output_type": "stream",
     "text": [
      "C:\\Users\\Zachary Brown\\Documents\\GitHub\\Solar-Panel-Capstone\\notebooks\n",
      "C:\\Users\\Zachary Brown\\Documents\\GitHub\\Solar-Panel-Capstone\\data\\external\n"
     ]
    }
   ],
   "source": [
    "print(os.getcwd())\n",
    "os.chdir(r\"..\\data\\external\")\n",
    "data_dir = os.getcwd()\n",
    "print(os.getcwd())"
   ]
  },
  {
   "cell_type": "markdown",
   "id": "35e10a5b",
   "metadata": {},
   "source": [
    "The next step is to download the parquet files. The entire collection of data is hosted here: https://data.openei.org/s3_viewer?bucket=oedi-data-lake&prefix=tracking-the-sun%2F\n",
    "\n",
    "I only need 2021 data for this project as I want the most up to date model possible. Within 2021 the data is broken down by state. I need to download all 26 files, so I'll create a function to automatically download them all for me."
   ]
  },
  {
   "cell_type": "code",
   "execution_count": 9,
   "id": "c029dc58",
   "metadata": {},
   "outputs": [],
   "source": [
    "# Start by creating the function and creating empty url and file name lists\n",
    "\n",
    "def import_data(root_url):\n",
    "    urls = []\n",
    "    file_names = []\n",
    "    \n",
    "# Parse the 2021 data directory to get URLs for each state    \n",
    "\n",
    "    response = requests.get(root_url)\n",
    "    soup = BeautifulSoup(response.content, \"html.parser\")\n",
    "    \n",
    "    for a in soup.find_all('a', href=True):\n",
    "        if '/s3_viewer?bucket=oedi-data-lake&prefix=tracking-the-sun%2F' in a['href']:\n",
    "            urls.append('https://data.openei.org' + a['href'])\n",
    "    \n",
    "# Create a list of the file names for each state from each link in the urls list\n",
    "\n",
    "    for url in urls:\n",
    "        url_response = requests.get(url)\n",
    "        url_soup = BeautifulSoup(url_response.content, 'html.parser')\n",
    "        \n",
    "        for a in url_soup.find_all('a', href=True):\n",
    "            if '.parquet' in a['href']:\n",
    "                file_names.append(a['href'])\n",
    "            \n",
    "# Loop through each file and download to data directory\n",
    "\n",
    "    for url, file in zip(urls, file_names):\n",
    "        wget.download(file)"
   ]
  },
  {
   "cell_type": "markdown",
   "id": "4f6a97a3",
   "metadata": {},
   "source": [
    "Now that the function has been created to download all of the Parquet files locally we need to run it with the 2021 URL to download the state data files."
   ]
  },
  {
   "cell_type": "code",
   "execution_count": 10,
   "id": "48ddbf19",
   "metadata": {},
   "outputs": [],
   "source": [
    "import_data('https://data.openei.org/s3_viewer?bucket=oedi-data-lake&prefix=tracking-the-sun%2F2021%2F')"
   ]
  },
  {
   "cell_type": "markdown",
   "id": "aaabf9dc",
   "metadata": {},
   "source": [
    "Now the data files need to be loaded into a single Pandas dataframe to begin the wrangling process."
   ]
  },
  {
   "cell_type": "code",
   "execution_count": 30,
   "id": "cd3c8218",
   "metadata": {},
   "outputs": [
    {
     "data": {
      "text/html": [
       "<div>\n",
       "<style scoped>\n",
       "    .dataframe tbody tr th:only-of-type {\n",
       "        vertical-align: middle;\n",
       "    }\n",
       "\n",
       "    .dataframe tbody tr th {\n",
       "        vertical-align: top;\n",
       "    }\n",
       "\n",
       "    .dataframe thead th {\n",
       "        text-align: right;\n",
       "    }\n",
       "</style>\n",
       "<table border=\"1\" class=\"dataframe\">\n",
       "  <thead>\n",
       "    <tr style=\"text-align: right;\">\n",
       "      <th></th>\n",
       "      <th>data_provider_1</th>\n",
       "      <th>data_provider_2</th>\n",
       "      <th>system_id_1</th>\n",
       "      <th>system_id_2</th>\n",
       "      <th>installation_date</th>\n",
       "      <th>system_size_dc</th>\n",
       "      <th>total_installed_price</th>\n",
       "      <th>rebate_or_grant</th>\n",
       "      <th>customer_segment</th>\n",
       "      <th>expansion_system</th>\n",
       "      <th>...</th>\n",
       "      <th>output_capacity_inverter_1</th>\n",
       "      <th>output_capacity_inverter_2</th>\n",
       "      <th>output_capacity_inverter_3</th>\n",
       "      <th>dc_optimizer</th>\n",
       "      <th>inverter_loading_ratio</th>\n",
       "      <th>date_of_battery_install</th>\n",
       "      <th>battery_manufacturer</th>\n",
       "      <th>battery_model</th>\n",
       "      <th>battery_rated_capacity_kw</th>\n",
       "      <th>battery_rated_capacity_kwh</th>\n",
       "    </tr>\n",
       "  </thead>\n",
       "  <tbody>\n",
       "    <tr>\n",
       "      <th>0</th>\n",
       "      <td>Washington, D.C. Public Service Commission</td>\n",
       "      <td>-1</td>\n",
       "      <td>DC-2012700-SUN-I</td>\n",
       "      <td>-1</td>\n",
       "      <td>2020-11-30</td>\n",
       "      <td>6.80</td>\n",
       "      <td>-1.0</td>\n",
       "      <td>-1.0</td>\n",
       "      <td>-1</td>\n",
       "      <td>0</td>\n",
       "      <td>...</td>\n",
       "      <td>-1.0</td>\n",
       "      <td>-1.0</td>\n",
       "      <td>-1.0</td>\n",
       "      <td>-1</td>\n",
       "      <td>-1.0</td>\n",
       "      <td>NaT</td>\n",
       "      <td>-1</td>\n",
       "      <td>-1</td>\n",
       "      <td>-1.0</td>\n",
       "      <td>-1.0</td>\n",
       "    </tr>\n",
       "    <tr>\n",
       "      <th>1</th>\n",
       "      <td>Washington, D.C. Public Service Commission</td>\n",
       "      <td>-1</td>\n",
       "      <td>DC-2012701-SUN-I</td>\n",
       "      <td>-1</td>\n",
       "      <td>2020-12-07</td>\n",
       "      <td>7.04</td>\n",
       "      <td>-1.0</td>\n",
       "      <td>-1.0</td>\n",
       "      <td>-1</td>\n",
       "      <td>0</td>\n",
       "      <td>...</td>\n",
       "      <td>-1.0</td>\n",
       "      <td>-1.0</td>\n",
       "      <td>-1.0</td>\n",
       "      <td>-1</td>\n",
       "      <td>-1.0</td>\n",
       "      <td>NaT</td>\n",
       "      <td>-1</td>\n",
       "      <td>-1</td>\n",
       "      <td>-1.0</td>\n",
       "      <td>-1.0</td>\n",
       "    </tr>\n",
       "    <tr>\n",
       "      <th>2</th>\n",
       "      <td>Washington, D.C. Public Service Commission</td>\n",
       "      <td>-1</td>\n",
       "      <td>DC-2012702-SUN-I</td>\n",
       "      <td>-1</td>\n",
       "      <td>2020-12-07</td>\n",
       "      <td>7.68</td>\n",
       "      <td>-1.0</td>\n",
       "      <td>-1.0</td>\n",
       "      <td>-1</td>\n",
       "      <td>0</td>\n",
       "      <td>...</td>\n",
       "      <td>-1.0</td>\n",
       "      <td>-1.0</td>\n",
       "      <td>-1.0</td>\n",
       "      <td>-1</td>\n",
       "      <td>-1.0</td>\n",
       "      <td>NaT</td>\n",
       "      <td>-1</td>\n",
       "      <td>-1</td>\n",
       "      <td>-1.0</td>\n",
       "      <td>-1.0</td>\n",
       "    </tr>\n",
       "    <tr>\n",
       "      <th>3</th>\n",
       "      <td>Washington, D.C. Public Service Commission</td>\n",
       "      <td>-1</td>\n",
       "      <td>DC-2012703-SUN-I</td>\n",
       "      <td>-1</td>\n",
       "      <td>2020-12-06</td>\n",
       "      <td>5.12</td>\n",
       "      <td>-1.0</td>\n",
       "      <td>-1.0</td>\n",
       "      <td>-1</td>\n",
       "      <td>0</td>\n",
       "      <td>...</td>\n",
       "      <td>-1.0</td>\n",
       "      <td>-1.0</td>\n",
       "      <td>-1.0</td>\n",
       "      <td>-1</td>\n",
       "      <td>-1.0</td>\n",
       "      <td>NaT</td>\n",
       "      <td>-1</td>\n",
       "      <td>-1</td>\n",
       "      <td>-1.0</td>\n",
       "      <td>-1.0</td>\n",
       "    </tr>\n",
       "    <tr>\n",
       "      <th>4</th>\n",
       "      <td>Washington, D.C. Public Service Commission</td>\n",
       "      <td>-1</td>\n",
       "      <td>DC-2012704-SUN-I</td>\n",
       "      <td>-1</td>\n",
       "      <td>2020-12-07</td>\n",
       "      <td>5.76</td>\n",
       "      <td>-1.0</td>\n",
       "      <td>-1.0</td>\n",
       "      <td>-1</td>\n",
       "      <td>0</td>\n",
       "      <td>...</td>\n",
       "      <td>-1.0</td>\n",
       "      <td>-1.0</td>\n",
       "      <td>-1.0</td>\n",
       "      <td>-1</td>\n",
       "      <td>-1.0</td>\n",
       "      <td>NaT</td>\n",
       "      <td>-1</td>\n",
       "      <td>-1</td>\n",
       "      <td>-1.0</td>\n",
       "      <td>-1.0</td>\n",
       "    </tr>\n",
       "  </tbody>\n",
       "</table>\n",
       "<p>5 rows × 80 columns</p>\n",
       "</div>"
      ],
      "text/plain": [
       "                              data_provider_1 data_provider_2  \\\n",
       "0  Washington, D.C. Public Service Commission              -1   \n",
       "1  Washington, D.C. Public Service Commission              -1   \n",
       "2  Washington, D.C. Public Service Commission              -1   \n",
       "3  Washington, D.C. Public Service Commission              -1   \n",
       "4  Washington, D.C. Public Service Commission              -1   \n",
       "\n",
       "        system_id_1 system_id_2 installation_date  system_size_dc  \\\n",
       "0  DC-2012700-SUN-I          -1        2020-11-30            6.80   \n",
       "1  DC-2012701-SUN-I          -1        2020-12-07            7.04   \n",
       "2  DC-2012702-SUN-I          -1        2020-12-07            7.68   \n",
       "3  DC-2012703-SUN-I          -1        2020-12-06            5.12   \n",
       "4  DC-2012704-SUN-I          -1        2020-12-07            5.76   \n",
       "\n",
       "   total_installed_price  rebate_or_grant customer_segment  expansion_system  \\\n",
       "0                   -1.0             -1.0               -1                 0   \n",
       "1                   -1.0             -1.0               -1                 0   \n",
       "2                   -1.0             -1.0               -1                 0   \n",
       "3                   -1.0             -1.0               -1                 0   \n",
       "4                   -1.0             -1.0               -1                 0   \n",
       "\n",
       "   ...  output_capacity_inverter_1  output_capacity_inverter_2  \\\n",
       "0  ...                        -1.0                        -1.0   \n",
       "1  ...                        -1.0                        -1.0   \n",
       "2  ...                        -1.0                        -1.0   \n",
       "3  ...                        -1.0                        -1.0   \n",
       "4  ...                        -1.0                        -1.0   \n",
       "\n",
       "   output_capacity_inverter_3  dc_optimizer inverter_loading_ratio  \\\n",
       "0                        -1.0            -1                   -1.0   \n",
       "1                        -1.0            -1                   -1.0   \n",
       "2                        -1.0            -1                   -1.0   \n",
       "3                        -1.0            -1                   -1.0   \n",
       "4                        -1.0            -1                   -1.0   \n",
       "\n",
       "  date_of_battery_install battery_manufacturer  battery_model  \\\n",
       "0                     NaT                   -1             -1   \n",
       "1                     NaT                   -1             -1   \n",
       "2                     NaT                   -1             -1   \n",
       "3                     NaT                   -1             -1   \n",
       "4                     NaT                   -1             -1   \n",
       "\n",
       "  battery_rated_capacity_kw  battery_rated_capacity_kwh  \n",
       "0                      -1.0                        -1.0  \n",
       "1                      -1.0                        -1.0  \n",
       "2                      -1.0                        -1.0  \n",
       "3                      -1.0                        -1.0  \n",
       "4                      -1.0                        -1.0  \n",
       "\n",
       "[5 rows x 80 columns]"
      ]
     },
     "execution_count": 30,
     "metadata": {},
     "output_type": "execute_result"
    }
   ],
   "source": [
    "file_list = []\n",
    "\n",
    "# I'll start by adding each Parquet file to an empty list.\n",
    "for file in os.listdir(data_dir):\n",
    "    if file.endswith('.parquet'):\n",
    "        file_list.append(file)\n",
    "        \n",
    "# Now I'll iterate over the file_list and read each in to one dataframe, aggregating all of the data.\n",
    "tables = []\n",
    "\n",
    "for filename in file_list:\n",
    "    df = pd.read_parquet(filename)\n",
    "    tables.append(df)\n",
    "\n",
    "raw_data = pd.concat(tables, ignore_index=True)\n",
    "raw_data.head()"
   ]
  },
  {
   "cell_type": "markdown",
   "id": "70acdbd9",
   "metadata": {},
   "source": [
    "Ok, now that the dataframe has been assembled it's time to explore it."
   ]
  },
  {
   "cell_type": "code",
   "execution_count": 26,
   "id": "3fcdf897",
   "metadata": {},
   "outputs": [
    {
     "data": {
      "text/plain": [
       "(2041551, 80)"
      ]
     },
     "execution_count": 26,
     "metadata": {},
     "output_type": "execute_result"
    }
   ],
   "source": [
    "raw_data.shape"
   ]
  },
  {
   "cell_type": "code",
   "execution_count": 14,
   "id": "18d508aa",
   "metadata": {},
   "outputs": [
    {
     "data": {
      "text/plain": [
       "Index(['data_provider_1', 'data_provider_2', 'system_id_1', 'system_id_2',\n",
       "       'installation_date', 'system_size_dc', 'total_installed_price',\n",
       "       'rebate_or_grant', 'customer_segment', 'expansion_system',\n",
       "       'multiple_phase_system', 'new_construction', 'tracking',\n",
       "       'ground_mounted', 'zip_code', 'city', 'utility_service_territory',\n",
       "       'third_party_owned', 'installer_name', 'self_installed', 'azimuth_1',\n",
       "       'azimuth_2', 'azimuth_3', 'tilt_1', 'tilt_2', 'tilt_3',\n",
       "       'module_manufacturer_1', 'module_model_1', 'module_quantity_1',\n",
       "       'module_manufacturer_2', 'module_model_2', 'module_quantity_2',\n",
       "       'module_manufacturer_3', 'module_model_3', 'module_quantity_3',\n",
       "       'additional_modules', 'technology_module_1', 'technology_module_2',\n",
       "       'technology_module_3', 'bipv_module_1', 'bipv_module_2',\n",
       "       'bipv_module_3', 'bifacial_module_1', 'bifacial_module_2',\n",
       "       'bifacial_module_3', 'nameplate_capacity_module_1',\n",
       "       'nameplate_capacity_module_2', 'nameplate_capacity_module_3',\n",
       "       'efficiency_module_1', 'efficiency_module_2', 'efficiency_module_3',\n",
       "       'inverter_manufacturer_1', 'inverter_model_1', 'inverter_quantity_1',\n",
       "       'inverter_manufacturer_2', 'inverter_model_2', 'inverter_quantity_2',\n",
       "       'inverter_manufacturer_3', 'inverter_model_3', 'inverter_quantity_3',\n",
       "       'additional_inverters', 'micro_inverter_1', 'micro_inverter_2',\n",
       "       'micro_inverter_3', 'solar_storage_hybrid_inverter_1',\n",
       "       'solar_storage_hybrid_inverter_2', 'solar_storage_hybrid_inverter_3',\n",
       "       'built_in_meter_inverter_1', 'built_in_meter_inverter_2',\n",
       "       'built_in_meter_inverter_3', 'output_capacity_inverter_1',\n",
       "       'output_capacity_inverter_2', 'output_capacity_inverter_3',\n",
       "       'dc_optimizer', 'inverter_loading_ratio', 'date_of_battery_install',\n",
       "       'battery_manufacturer', 'battery_model', 'battery_rated_capacity_kw',\n",
       "       'battery_rated_capacity_kwh'],\n",
       "      dtype='object')"
      ]
     },
     "execution_count": 14,
     "metadata": {},
     "output_type": "execute_result"
    }
   ],
   "source": [
    "raw_data.columns"
   ]
  },
  {
   "cell_type": "code",
   "execution_count": 15,
   "id": "a6897a8d",
   "metadata": {},
   "outputs": [
    {
     "name": "stdout",
     "output_type": "stream",
     "text": [
      "{datetime64[ns]: ['installation_date', 'date_of_battery_install'], int32: ['expansion_system', 'multiple_phase_system', 'new_construction', 'tracking', 'ground_mounted', 'third_party_owned', 'self_installed', 'module_quantity_1', 'module_quantity_2', 'module_quantity_3', 'additional_modules', 'bipv_module_1', 'bipv_module_2', 'bipv_module_3', 'bifacial_module_1', 'bifacial_module_2', 'bifacial_module_3', 'nameplate_capacity_module_1', 'nameplate_capacity_module_2', 'nameplate_capacity_module_3', 'inverter_quantity_2', 'inverter_quantity_3', 'additional_inverters', 'micro_inverter_1', 'micro_inverter_2', 'micro_inverter_3', 'solar_storage_hybrid_inverter_1', 'solar_storage_hybrid_inverter_2', 'solar_storage_hybrid_inverter_3', 'built_in_meter_inverter_1', 'built_in_meter_inverter_2', 'built_in_meter_inverter_3', 'output_capacity_inverter_2', 'output_capacity_inverter_3', 'dc_optimizer'], float64: ['system_size_dc', 'total_installed_price', 'rebate_or_grant', 'azimuth_1', 'azimuth_2', 'azimuth_3', 'tilt_1', 'tilt_2', 'tilt_3', 'efficiency_module_1', 'efficiency_module_2', 'efficiency_module_3', 'inverter_quantity_1', 'output_capacity_inverter_1', 'inverter_loading_ratio', 'battery_rated_capacity_kw', 'battery_rated_capacity_kwh'], object: ['data_provider_1', 'data_provider_2', 'system_id_1', 'system_id_2', 'customer_segment', 'zip_code', 'city', 'utility_service_territory', 'installer_name', 'module_manufacturer_1', 'module_model_1', 'module_manufacturer_2', 'module_model_2', 'module_manufacturer_3', 'module_model_3', 'technology_module_1', 'technology_module_2', 'technology_module_3', 'inverter_manufacturer_1', 'inverter_model_1', 'inverter_manufacturer_2', 'inverter_model_2', 'inverter_manufacturer_3', 'inverter_model_3', 'battery_manufacturer', 'battery_model']}\n"
     ]
    }
   ],
   "source": [
    "col = raw_data.columns.to_series().groupby(df.dtypes).groups\n",
    "print(col)"
   ]
  },
  {
   "cell_type": "code",
   "execution_count": 28,
   "id": "40017188",
   "metadata": {},
   "outputs": [
    {
     "name": "stdout",
     "output_type": "stream",
     "text": [
      "True\n"
     ]
    }
   ],
   "source": [
    "long_zip = len(raw_data['zip_code']) > 5\n",
    "type(long_zip)\n",
    "print(long_zip)"
   ]
  },
  {
   "cell_type": "markdown",
   "id": "2824163c",
   "metadata": {},
   "source": [
    "Right now I'm missing a state column, and although zip code is object type, it includes 9 digit zip codes with hyphens which isn't a problem.\n",
    "\n",
    "Before I create a state column I'll pare down the data to only applicable rows. This means just residential installations from 2021 that are not missing 'total_installed_price' values"
   ]
  },
  {
   "cell_type": "code",
   "execution_count": 34,
   "id": "38639d01",
   "metadata": {},
   "outputs": [
    {
     "name": "stdout",
     "output_type": "stream",
     "text": [
      "['-1' 'RES' 'NON-PROFIT' 'SCHOOL' 'GOV' 'NON-RES' 'COM']\n"
     ]
    }
   ],
   "source": [
    "print(raw_data['customer_segment'].unique())"
   ]
  },
  {
   "cell_type": "code",
   "execution_count": 35,
   "id": "f3ada64d",
   "metadata": {},
   "outputs": [
    {
     "data": {
      "text/plain": [
       "(1948072, 80)"
      ]
     },
     "execution_count": 35,
     "metadata": {},
     "output_type": "execute_result"
    }
   ],
   "source": [
    "# Now I'll subset the data to just residential installations\n",
    "res_data = raw_data[raw_data['customer_segment'] == 'RES']\n",
    "res_data.shape"
   ]
  },
  {
   "cell_type": "code",
   "execution_count": 60,
   "id": "cca6493c",
   "metadata": {},
   "outputs": [
    {
     "data": {
      "text/plain": [
       "1971.0         1\n",
       "1985.0         3\n",
       "1986.0         6\n",
       "1988.0         5\n",
       "1989.0         5\n",
       "1990.0         6\n",
       "1991.0        10\n",
       "1992.0         8\n",
       "1993.0         4\n",
       "1994.0         7\n",
       "1995.0        10\n",
       "1996.0         8\n",
       "1997.0        12\n",
       "1998.0        32\n",
       "1999.0       170\n",
       "2000.0       175\n",
       "2001.0      1139\n",
       "2002.0      2181\n",
       "2003.0      2818\n",
       "2004.0      4956\n",
       "2005.0      5052\n",
       "2006.0      8309\n",
       "2007.0     12497\n",
       "2008.0     14394\n",
       "2009.0     26267\n",
       "2010.0     36691\n",
       "2011.0     47583\n",
       "2012.0     66465\n",
       "2013.0    103238\n",
       "2014.0    154819\n",
       "2015.0    245536\n",
       "2016.0    278337\n",
       "2017.0    218597\n",
       "2018.0    223471\n",
       "2019.0    240816\n",
       "2020.0    238227\n",
       "2021.0      2266\n",
       "2106.0         8\n",
       "Name: year, dtype: int64"
      ]
     },
     "execution_count": 60,
     "metadata": {},
     "output_type": "execute_result"
    }
   ],
   "source": [
    "res_copy = res_data.copy()\n",
    "res_copy['year'] = res_copy.installation_date.dt.year\n",
    "res_copy['year'].value_counts().sort_index()"
   ]
  },
  {
   "cell_type": "markdown",
   "id": "f6ae294c",
   "metadata": {},
   "source": [
    "Interestingly it looks like there's not actually very much 2021 data in the Parquet files, so I'll use 2020 and 2021 data together to build the model for this project. "
   ]
  },
  {
   "cell_type": "code",
   "execution_count": 67,
   "id": "1e5b239e",
   "metadata": {},
   "outputs": [
    {
     "data": {
      "text/plain": [
       "(240493, 81)"
      ]
     },
     "execution_count": 67,
     "metadata": {},
     "output_type": "execute_result"
    }
   ],
   "source": [
    "newest_data = res_copy[res_copy['installation_date'].dt.year.isin([2020, 2021])]\n",
    "newest_data.shape"
   ]
  },
  {
   "cell_type": "markdown",
   "id": "64412528",
   "metadata": {},
   "source": [
    "Next I want to check how many rows are missing 'total_installed_price' data and remove them since that price is key to calculating the final installed price, which is the key metric for the model. Missing values are indicated as -1 in this dataset."
   ]
  },
  {
   "cell_type": "code",
   "execution_count": 72,
   "id": "1c5dbfac",
   "metadata": {},
   "outputs": [
    {
     "data": {
      "text/plain": [
       "0.01             8\n",
       "0.10             1\n",
       "1.00          1937\n",
       "3.25             9\n",
       "3.30             6\n",
       "              ... \n",
       "3680000.00       1\n",
       "4789800.00       1\n",
       "7485834.00       1\n",
       "8255000.00       1\n",
       "9887777.00       1\n",
       "Name: total_installed_price, Length: 78724, dtype: int64"
      ]
     },
     "execution_count": 72,
     "metadata": {},
     "output_type": "execute_result"
    }
   ],
   "source": [
    "newest_data['total_installed_price'].value_counts().sort_index()"
   ]
  },
  {
   "cell_type": "code",
   "execution_count": 71,
   "id": "27ceb736",
   "metadata": {},
   "outputs": [
    {
     "data": {
      "text/plain": [
       "(208464, 81)"
      ]
     },
     "execution_count": 71,
     "metadata": {},
     "output_type": "execute_result"
    }
   ],
   "source": [
    "missing_sale = newest_data['total_installed_price'] == -1\n",
    "newest_data = newest_data[~missing_sale]\n",
    "newest_data.shape"
   ]
  },
  {
   "cell_type": "code",
   "execution_count": null,
   "id": "ba50d131",
   "metadata": {},
   "outputs": [],
   "source": []
  },
  {
   "cell_type": "code",
   "execution_count": null,
   "id": "d05eb0d9",
   "metadata": {},
   "outputs": [],
   "source": []
  },
  {
   "cell_type": "code",
   "execution_count": null,
   "id": "a308af47",
   "metadata": {},
   "outputs": [],
   "source": []
  },
  {
   "cell_type": "code",
   "execution_count": null,
   "id": "b2b58eee",
   "metadata": {},
   "outputs": [],
   "source": []
  },
  {
   "cell_type": "code",
   "execution_count": null,
   "id": "4fe41f7a",
   "metadata": {},
   "outputs": [],
   "source": []
  },
  {
   "cell_type": "code",
   "execution_count": null,
   "id": "ef3b8c3d",
   "metadata": {},
   "outputs": [],
   "source": []
  },
  {
   "cell_type": "code",
   "execution_count": null,
   "id": "704c7b51",
   "metadata": {},
   "outputs": [],
   "source": []
  },
  {
   "cell_type": "code",
   "execution_count": null,
   "id": "ea8b2d51",
   "metadata": {},
   "outputs": [],
   "source": []
  },
  {
   "cell_type": "code",
   "execution_count": null,
   "id": "24874544",
   "metadata": {},
   "outputs": [],
   "source": []
  },
  {
   "cell_type": "code",
   "execution_count": null,
   "id": "a737add7",
   "metadata": {},
   "outputs": [],
   "source": []
  },
  {
   "cell_type": "code",
   "execution_count": null,
   "id": "85131b97",
   "metadata": {},
   "outputs": [],
   "source": []
  }
 ],
 "metadata": {
  "kernelspec": {
   "display_name": "Python 3 (ipykernel)",
   "language": "python",
   "name": "python3"
  },
  "language_info": {
   "codemirror_mode": {
    "name": "ipython",
    "version": 3
   },
   "file_extension": ".py",
   "mimetype": "text/x-python",
   "name": "python",
   "nbconvert_exporter": "python",
   "pygments_lexer": "ipython3",
   "version": "3.9.7"
  }
 },
 "nbformat": 4,
 "nbformat_minor": 5
}
