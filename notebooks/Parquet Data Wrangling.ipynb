{
 "cells": [
  {
   "cell_type": "markdown",
   "id": "ffae5429",
   "metadata": {},
   "source": [
    "# Getting the most solar power for your dollar\n",
    "## Data wrangling\n",
    "### Zachary Brown\n",
    "\n",
    "The goal of this project is to use the Tracking the Sun dataset from the Lawrence Berkeley National Laboratory to create a model that identifies what factors make residential solar panel installations in Austin, Texas as cost-efficient as possible. To do so the data will be loaded from Parquet files and in this notebook will be wrangled into the working dataframe for the rest of the project.\n",
    "\n",
    "I'll start off by importing the modules needed for importing and wrangling the data."
   ]
  },
  {
   "cell_type": "code",
   "execution_count": 1,
   "id": "f7a4b84a",
   "metadata": {},
   "outputs": [],
   "source": [
    "import os\n",
    "import urllib.request\n",
    "import requests\n",
    "import pandas as pd\n",
    "import numpy as np\n",
    "from bs4 import BeautifulSoup\n",
    "import matplotlib.pyplot as plt\n",
    "from pandas_profiling import ProfileReport\n",
    "from datetime import datetime"
   ]
  },
  {
   "cell_type": "markdown",
   "id": "b8b35926",
   "metadata": {},
   "source": [
    "Next I need to download the Parquet datafiles into the external data directory within this repository, so I'll switch to the correct directory."
   ]
  },
  {
   "cell_type": "code",
   "execution_count": 2,
   "id": "09d3163f",
   "metadata": {},
   "outputs": [
    {
     "name": "stdout",
     "output_type": "stream",
     "text": [
      "C:\\Users\\Zachary Brown\\Documents\\GitHub\\Solar-Panel-Capstone\\notebooks\n",
      "C:\\Users\\Zachary Brown\\Documents\\GitHub\\Solar-Panel-Capstone\\data\\external\n"
     ]
    }
   ],
   "source": [
    "print(os.getcwd())\n",
    "os.chdir(r\"..\\data\\external\")\n",
    "data_dir = os.getcwd()\n",
    "print(os.getcwd())"
   ]
  },
  {
   "cell_type": "markdown",
   "id": "35e10a5b",
   "metadata": {},
   "source": [
    "The next step is to download the parquet files. The entire collection of data is hosted here: https://data.openei.org/s3_viewer?bucket=oedi-data-lake&prefix=tracking-the-sun%2F\n",
    "\n",
    "I only need 2021 data for this project as I want the most up to date model possible. Within 2021 the data is broken down by state. I need to download all 26 files, so I'll create a function to automatically download them all for me."
   ]
  },
  {
   "cell_type": "code",
   "execution_count": 3,
   "id": "c029dc58",
   "metadata": {},
   "outputs": [],
   "source": [
    "# Start by creating the function and creating empty url and file name lists\n",
    "\n",
    "def import_data(root_url):\n",
    "    urls = []\n",
    "    file_names = []\n",
    "    \n",
    "# Parse the 2021 data directory to get URLs for each state    \n",
    "\n",
    "    response = requests.get(root_url)\n",
    "    soup = BeautifulSoup(response.content, \"html.parser\")\n",
    "    \n",
    "    for a in soup.find_all('a', href=True):\n",
    "        if '/s3_viewer?bucket=oedi-data-lake&prefix=tracking-the-sun%2F' in a['href']:\n",
    "            urls.append('https://data.openei.org' + a['href'])\n",
    "    \n",
    "# Create a list of the file names for each state from each link in the urls list\n",
    "\n",
    "    for url in urls:\n",
    "        url_response = requests.get(url)\n",
    "        url_soup = BeautifulSoup(url_response.content, 'html.parser')\n",
    "        \n",
    "        for a in url_soup.find_all('a', href=True):\n",
    "            if '.parquet' in a['href']:\n",
    "                file_names.append(a['href'])\n",
    "            \n",
    "# Loop through each file and download to data directory\n",
    "\n",
    "    for url, file in zip(urls, file_names):\n",
    "        urllib.request.urlretrieve(file, url[97:99] + '.parquet')"
   ]
  },
  {
   "cell_type": "markdown",
   "id": "4f6a97a3",
   "metadata": {},
   "source": [
    "Now that the function has been created to download all of the Parquet files locally we need to run it with the 2021 URL to download the state data files."
   ]
  },
  {
   "cell_type": "code",
   "execution_count": 4,
   "id": "48ddbf19",
   "metadata": {},
   "outputs": [],
   "source": [
    "import_data('https://data.openei.org/s3_viewer?bucket=oedi-data-lake&prefix=tracking-the-sun%2F2021%2F')"
   ]
  },
  {
   "cell_type": "markdown",
   "id": "aaabf9dc",
   "metadata": {},
   "source": [
    "Now the data files need to be loaded into a single Pandas dataframe to begin the wrangling process."
   ]
  },
  {
   "cell_type": "code",
   "execution_count": 5,
   "id": "cd3c8218",
   "metadata": {},
   "outputs": [
    {
     "data": {
      "text/html": [
       "<div>\n",
       "<style scoped>\n",
       "    .dataframe tbody tr th:only-of-type {\n",
       "        vertical-align: middle;\n",
       "    }\n",
       "\n",
       "    .dataframe tbody tr th {\n",
       "        vertical-align: top;\n",
       "    }\n",
       "\n",
       "    .dataframe thead th {\n",
       "        text-align: right;\n",
       "    }\n",
       "</style>\n",
       "<table border=\"1\" class=\"dataframe\">\n",
       "  <thead>\n",
       "    <tr style=\"text-align: right;\">\n",
       "      <th></th>\n",
       "      <th>data_provider_1</th>\n",
       "      <th>data_provider_2</th>\n",
       "      <th>system_id_1</th>\n",
       "      <th>system_id_2</th>\n",
       "      <th>installation_date</th>\n",
       "      <th>system_size_dc</th>\n",
       "      <th>total_installed_price</th>\n",
       "      <th>rebate_or_grant</th>\n",
       "      <th>customer_segment</th>\n",
       "      <th>expansion_system</th>\n",
       "      <th>...</th>\n",
       "      <th>output_capacity_inverter_2</th>\n",
       "      <th>output_capacity_inverter_3</th>\n",
       "      <th>dc_optimizer</th>\n",
       "      <th>inverter_loading_ratio</th>\n",
       "      <th>date_of_battery_install</th>\n",
       "      <th>battery_manufacturer</th>\n",
       "      <th>battery_model</th>\n",
       "      <th>battery_rated_capacity_kw</th>\n",
       "      <th>battery_rated_capacity_kwh</th>\n",
       "      <th>state</th>\n",
       "    </tr>\n",
       "  </thead>\n",
       "  <tbody>\n",
       "    <tr>\n",
       "      <th>0</th>\n",
       "      <td>Arkansas State Energy Office</td>\n",
       "      <td>-1</td>\n",
       "      <td>-1</td>\n",
       "      <td>-1</td>\n",
       "      <td>2010-04-29</td>\n",
       "      <td>2.016</td>\n",
       "      <td>14558.0</td>\n",
       "      <td>0.0</td>\n",
       "      <td>RES</td>\n",
       "      <td>0</td>\n",
       "      <td>...</td>\n",
       "      <td>-1.0</td>\n",
       "      <td>-1.0</td>\n",
       "      <td>0</td>\n",
       "      <td>1.178947</td>\n",
       "      <td>NaT</td>\n",
       "      <td>-1</td>\n",
       "      <td>-1</td>\n",
       "      <td>-1.0</td>\n",
       "      <td>-1.0</td>\n",
       "      <td>AR</td>\n",
       "    </tr>\n",
       "    <tr>\n",
       "      <th>1</th>\n",
       "      <td>Arkansas State Energy Office</td>\n",
       "      <td>-1</td>\n",
       "      <td>-1</td>\n",
       "      <td>-1</td>\n",
       "      <td>2010-04-26</td>\n",
       "      <td>3.360</td>\n",
       "      <td>26096.0</td>\n",
       "      <td>0.0</td>\n",
       "      <td>RES</td>\n",
       "      <td>0</td>\n",
       "      <td>...</td>\n",
       "      <td>-1.0</td>\n",
       "      <td>-1.0</td>\n",
       "      <td>0</td>\n",
       "      <td>1.178947</td>\n",
       "      <td>NaT</td>\n",
       "      <td>-1</td>\n",
       "      <td>-1</td>\n",
       "      <td>-1.0</td>\n",
       "      <td>-1.0</td>\n",
       "      <td>AR</td>\n",
       "    </tr>\n",
       "    <tr>\n",
       "      <th>2</th>\n",
       "      <td>Arkansas State Energy Office</td>\n",
       "      <td>-1</td>\n",
       "      <td>-1</td>\n",
       "      <td>-1</td>\n",
       "      <td>2010-04-20</td>\n",
       "      <td>13.440</td>\n",
       "      <td>91139.0</td>\n",
       "      <td>0.0</td>\n",
       "      <td>RES</td>\n",
       "      <td>0</td>\n",
       "      <td>...</td>\n",
       "      <td>-1.0</td>\n",
       "      <td>-1.0</td>\n",
       "      <td>0</td>\n",
       "      <td>1.178947</td>\n",
       "      <td>NaT</td>\n",
       "      <td>-1</td>\n",
       "      <td>-1</td>\n",
       "      <td>-1.0</td>\n",
       "      <td>-1.0</td>\n",
       "      <td>AR</td>\n",
       "    </tr>\n",
       "    <tr>\n",
       "      <th>3</th>\n",
       "      <td>Arkansas State Energy Office</td>\n",
       "      <td>-1</td>\n",
       "      <td>-1</td>\n",
       "      <td>-1</td>\n",
       "      <td>2010-04-21</td>\n",
       "      <td>5.520</td>\n",
       "      <td>40043.0</td>\n",
       "      <td>0.0</td>\n",
       "      <td>RES</td>\n",
       "      <td>0</td>\n",
       "      <td>...</td>\n",
       "      <td>-1.0</td>\n",
       "      <td>-1.0</td>\n",
       "      <td>0</td>\n",
       "      <td>1.210526</td>\n",
       "      <td>NaT</td>\n",
       "      <td>-1</td>\n",
       "      <td>-1</td>\n",
       "      <td>-1.0</td>\n",
       "      <td>-1.0</td>\n",
       "      <td>AR</td>\n",
       "    </tr>\n",
       "    <tr>\n",
       "      <th>4</th>\n",
       "      <td>Arkansas State Energy Office</td>\n",
       "      <td>-1</td>\n",
       "      <td>-1</td>\n",
       "      <td>-1</td>\n",
       "      <td>2010-04-22</td>\n",
       "      <td>2.530</td>\n",
       "      <td>21497.0</td>\n",
       "      <td>0.0</td>\n",
       "      <td>RES</td>\n",
       "      <td>0</td>\n",
       "      <td>...</td>\n",
       "      <td>-1.0</td>\n",
       "      <td>-1.0</td>\n",
       "      <td>0</td>\n",
       "      <td>1.210526</td>\n",
       "      <td>NaT</td>\n",
       "      <td>-1</td>\n",
       "      <td>-1</td>\n",
       "      <td>-1.0</td>\n",
       "      <td>-1.0</td>\n",
       "      <td>AR</td>\n",
       "    </tr>\n",
       "  </tbody>\n",
       "</table>\n",
       "<p>5 rows × 81 columns</p>\n",
       "</div>"
      ],
      "text/plain": [
       "                data_provider_1 data_provider_2 system_id_1 system_id_2  \\\n",
       "0  Arkansas State Energy Office              -1          -1          -1   \n",
       "1  Arkansas State Energy Office              -1          -1          -1   \n",
       "2  Arkansas State Energy Office              -1          -1          -1   \n",
       "3  Arkansas State Energy Office              -1          -1          -1   \n",
       "4  Arkansas State Energy Office              -1          -1          -1   \n",
       "\n",
       "  installation_date  system_size_dc  total_installed_price  rebate_or_grant  \\\n",
       "0        2010-04-29           2.016                14558.0              0.0   \n",
       "1        2010-04-26           3.360                26096.0              0.0   \n",
       "2        2010-04-20          13.440                91139.0              0.0   \n",
       "3        2010-04-21           5.520                40043.0              0.0   \n",
       "4        2010-04-22           2.530                21497.0              0.0   \n",
       "\n",
       "  customer_segment  expansion_system  ...  output_capacity_inverter_2  \\\n",
       "0              RES                 0  ...                        -1.0   \n",
       "1              RES                 0  ...                        -1.0   \n",
       "2              RES                 0  ...                        -1.0   \n",
       "3              RES                 0  ...                        -1.0   \n",
       "4              RES                 0  ...                        -1.0   \n",
       "\n",
       "   output_capacity_inverter_3  dc_optimizer  inverter_loading_ratio  \\\n",
       "0                        -1.0             0                1.178947   \n",
       "1                        -1.0             0                1.178947   \n",
       "2                        -1.0             0                1.178947   \n",
       "3                        -1.0             0                1.210526   \n",
       "4                        -1.0             0                1.210526   \n",
       "\n",
       "  date_of_battery_install battery_manufacturer battery_model  \\\n",
       "0                     NaT                   -1            -1   \n",
       "1                     NaT                   -1            -1   \n",
       "2                     NaT                   -1            -1   \n",
       "3                     NaT                   -1            -1   \n",
       "4                     NaT                   -1            -1   \n",
       "\n",
       "   battery_rated_capacity_kw battery_rated_capacity_kwh  state  \n",
       "0                       -1.0                       -1.0     AR  \n",
       "1                       -1.0                       -1.0     AR  \n",
       "2                       -1.0                       -1.0     AR  \n",
       "3                       -1.0                       -1.0     AR  \n",
       "4                       -1.0                       -1.0     AR  \n",
       "\n",
       "[5 rows x 81 columns]"
      ]
     },
     "execution_count": 5,
     "metadata": {},
     "output_type": "execute_result"
    }
   ],
   "source": [
    "file_list = []\n",
    "\n",
    "# I'll start by adding each Parquet file to an empty list.\n",
    "for file in os.listdir(data_dir):\n",
    "    if file.endswith('.parquet'):\n",
    "        file_list.append(file)\n",
    "        \n",
    "# Now I'll iterate over the file_list and read each in to one dataframe, aggregating all of the data.\n",
    "tables = []\n",
    "\n",
    "for filename in file_list:\n",
    "    df = pd.read_parquet(filename)\n",
    "    df['state'] = filename[0:2]\n",
    "    tables.append(df)\n",
    "\n",
    "raw_data = pd.concat(tables, ignore_index=True)\n",
    "raw_data.head()"
   ]
  },
  {
   "cell_type": "markdown",
   "id": "70acdbd9",
   "metadata": {},
   "source": [
    "Ok, now that the dataframe has been assembled it's time to explore it."
   ]
  },
  {
   "cell_type": "code",
   "execution_count": 6,
   "id": "3fcdf897",
   "metadata": {},
   "outputs": [
    {
     "data": {
      "text/plain": [
       "(2041551, 81)"
      ]
     },
     "execution_count": 6,
     "metadata": {},
     "output_type": "execute_result"
    }
   ],
   "source": [
    "raw_data.shape"
   ]
  },
  {
   "cell_type": "code",
   "execution_count": 7,
   "id": "18d508aa",
   "metadata": {},
   "outputs": [
    {
     "data": {
      "text/plain": [
       "Index(['data_provider_1', 'data_provider_2', 'system_id_1', 'system_id_2',\n",
       "       'installation_date', 'system_size_dc', 'total_installed_price',\n",
       "       'rebate_or_grant', 'customer_segment', 'expansion_system',\n",
       "       'multiple_phase_system', 'new_construction', 'tracking',\n",
       "       'ground_mounted', 'zip_code', 'city', 'utility_service_territory',\n",
       "       'third_party_owned', 'installer_name', 'self_installed', 'azimuth_1',\n",
       "       'azimuth_2', 'azimuth_3', 'tilt_1', 'tilt_2', 'tilt_3',\n",
       "       'module_manufacturer_1', 'module_model_1', 'module_quantity_1',\n",
       "       'module_manufacturer_2', 'module_model_2', 'module_quantity_2',\n",
       "       'module_manufacturer_3', 'module_model_3', 'module_quantity_3',\n",
       "       'additional_modules', 'technology_module_1', 'technology_module_2',\n",
       "       'technology_module_3', 'bipv_module_1', 'bipv_module_2',\n",
       "       'bipv_module_3', 'bifacial_module_1', 'bifacial_module_2',\n",
       "       'bifacial_module_3', 'nameplate_capacity_module_1',\n",
       "       'nameplate_capacity_module_2', 'nameplate_capacity_module_3',\n",
       "       'efficiency_module_1', 'efficiency_module_2', 'efficiency_module_3',\n",
       "       'inverter_manufacturer_1', 'inverter_model_1', 'inverter_quantity_1',\n",
       "       'inverter_manufacturer_2', 'inverter_model_2', 'inverter_quantity_2',\n",
       "       'inverter_manufacturer_3', 'inverter_model_3', 'inverter_quantity_3',\n",
       "       'additional_inverters', 'micro_inverter_1', 'micro_inverter_2',\n",
       "       'micro_inverter_3', 'solar_storage_hybrid_inverter_1',\n",
       "       'solar_storage_hybrid_inverter_2', 'solar_storage_hybrid_inverter_3',\n",
       "       'built_in_meter_inverter_1', 'built_in_meter_inverter_2',\n",
       "       'built_in_meter_inverter_3', 'output_capacity_inverter_1',\n",
       "       'output_capacity_inverter_2', 'output_capacity_inverter_3',\n",
       "       'dc_optimizer', 'inverter_loading_ratio', 'date_of_battery_install',\n",
       "       'battery_manufacturer', 'battery_model', 'battery_rated_capacity_kw',\n",
       "       'battery_rated_capacity_kwh', 'state'],\n",
       "      dtype='object')"
      ]
     },
     "execution_count": 7,
     "metadata": {},
     "output_type": "execute_result"
    }
   ],
   "source": [
    "raw_data.columns"
   ]
  },
  {
   "cell_type": "code",
   "execution_count": 8,
   "id": "a6897a8d",
   "metadata": {},
   "outputs": [
    {
     "name": "stdout",
     "output_type": "stream",
     "text": [
      "{datetime64[ns]: ['installation_date', 'date_of_battery_install'], int32: ['expansion_system', 'multiple_phase_system', 'new_construction', 'tracking', 'ground_mounted', 'third_party_owned', 'self_installed', 'module_quantity_1', 'module_quantity_2', 'module_quantity_3', 'additional_modules', 'bipv_module_1', 'bipv_module_2', 'bipv_module_3', 'bifacial_module_1', 'bifacial_module_2', 'bifacial_module_3', 'nameplate_capacity_module_1', 'nameplate_capacity_module_2', 'nameplate_capacity_module_3', 'inverter_quantity_1', 'inverter_quantity_2', 'inverter_quantity_3', 'additional_inverters', 'micro_inverter_1', 'micro_inverter_2', 'micro_inverter_3', 'solar_storage_hybrid_inverter_1', 'solar_storage_hybrid_inverter_2', 'solar_storage_hybrid_inverter_3', 'built_in_meter_inverter_1', 'built_in_meter_inverter_2', 'built_in_meter_inverter_3', 'output_capacity_inverter_1', 'output_capacity_inverter_2', 'output_capacity_inverter_3', 'dc_optimizer'], float64: ['system_size_dc', 'total_installed_price', 'rebate_or_grant', 'azimuth_1', 'azimuth_2', 'azimuth_3', 'tilt_1', 'tilt_2', 'tilt_3', 'efficiency_module_1', 'efficiency_module_2', 'efficiency_module_3', 'inverter_loading_ratio', 'battery_rated_capacity_kw', 'battery_rated_capacity_kwh'], object: ['data_provider_1', 'data_provider_2', 'system_id_1', 'system_id_2', 'customer_segment', 'zip_code', 'city', 'utility_service_territory', 'installer_name', 'module_manufacturer_1', 'module_model_1', 'module_manufacturer_2', 'module_model_2', 'module_manufacturer_3', 'module_model_3', 'technology_module_1', 'technology_module_2', 'technology_module_3', 'inverter_manufacturer_1', 'inverter_model_1', 'inverter_manufacturer_2', 'inverter_model_2', 'inverter_manufacturer_3', 'inverter_model_3', 'battery_manufacturer', 'battery_model', 'state']}\n"
     ]
    }
   ],
   "source": [
    "col = raw_data.columns.to_series().groupby(df.dtypes).groups\n",
    "print(col)"
   ]
  },
  {
   "cell_type": "markdown",
   "id": "2824163c",
   "metadata": {},
   "source": [
    "Right now zip code is object type when it seems like it should be an integer. I'll check to see if any zip codes are longer than the expected 5 digits."
   ]
  },
  {
   "cell_type": "code",
   "execution_count": 9,
   "id": "40017188",
   "metadata": {},
   "outputs": [
    {
     "data": {
      "text/plain": [
       "118255    85040-2753\n",
       "118256    85119-3855\n",
       "118258    85204-3816\n",
       "118259    85209-1428\n",
       "118267    85143-5600\n",
       "Name: zip_code, dtype: object"
      ]
     },
     "execution_count": 9,
     "metadata": {},
     "output_type": "execute_result"
    }
   ],
   "source": [
    "long_zip = raw_data[raw_data['zip_code'].str.len() > 5]\n",
    "long_zip['zip_code'].head()"
   ]
  },
  {
   "cell_type": "markdown",
   "id": "ef964d31",
   "metadata": {},
   "source": [
    "Ok, so it's an object because it includes 9-digit zip codes. That's fine, I'll leave it unchanged for now. \n",
    "\n",
    "Before I create a state column I'll pare down the data to only applicable rows. This means just residential installations from 2021 that are not missing 'total_installed_price' values"
   ]
  },
  {
   "cell_type": "code",
   "execution_count": 10,
   "id": "38639d01",
   "metadata": {},
   "outputs": [
    {
     "name": "stdout",
     "output_type": "stream",
     "text": [
      "['RES' 'NON-PROFIT' 'COM' 'GOV' 'NON-RES' 'SCHOOL' '-1']\n"
     ]
    }
   ],
   "source": [
    "print(raw_data['customer_segment'].unique())"
   ]
  },
  {
   "cell_type": "code",
   "execution_count": 11,
   "id": "f3ada64d",
   "metadata": {},
   "outputs": [
    {
     "data": {
      "text/plain": [
       "(1948072, 81)"
      ]
     },
     "execution_count": 11,
     "metadata": {},
     "output_type": "execute_result"
    }
   ],
   "source": [
    "# Now I'll subset the data to just residential installations\n",
    "res_data = raw_data[raw_data['customer_segment'] == 'RES']\n",
    "res_data.shape"
   ]
  },
  {
   "cell_type": "code",
   "execution_count": 12,
   "id": "cca6493c",
   "metadata": {},
   "outputs": [
    {
     "data": {
      "text/plain": [
       "1971.0         1\n",
       "1985.0         3\n",
       "1986.0         6\n",
       "1988.0         5\n",
       "1989.0         5\n",
       "1990.0         6\n",
       "1991.0        10\n",
       "1992.0         8\n",
       "1993.0         4\n",
       "1994.0         7\n",
       "1995.0        10\n",
       "1996.0         8\n",
       "1997.0        12\n",
       "1998.0        32\n",
       "1999.0       170\n",
       "2000.0       175\n",
       "2001.0      1139\n",
       "2002.0      2181\n",
       "2003.0      2818\n",
       "2004.0      4956\n",
       "2005.0      5052\n",
       "2006.0      8309\n",
       "2007.0     12497\n",
       "2008.0     14394\n",
       "2009.0     26267\n",
       "2010.0     36691\n",
       "2011.0     47583\n",
       "2012.0     66465\n",
       "2013.0    103238\n",
       "2014.0    154819\n",
       "2015.0    245536\n",
       "2016.0    278337\n",
       "2017.0    218597\n",
       "2018.0    223471\n",
       "2019.0    240816\n",
       "2020.0    238227\n",
       "2021.0      2266\n",
       "2106.0         8\n",
       "Name: year, dtype: int64"
      ]
     },
     "execution_count": 12,
     "metadata": {},
     "output_type": "execute_result"
    }
   ],
   "source": [
    "res_copy = res_data.copy()\n",
    "res_copy['year'] = res_copy.installation_date.dt.year\n",
    "res_copy['year'].value_counts().sort_index()"
   ]
  },
  {
   "cell_type": "markdown",
   "id": "f6ae294c",
   "metadata": {},
   "source": [
    "Interestingly it looks like there's not actually very much 2021 data in the Parquet files, so I'll use 2020 and 2021 data together to build the model for this project. "
   ]
  },
  {
   "cell_type": "code",
   "execution_count": 13,
   "id": "1e5b239e",
   "metadata": {},
   "outputs": [
    {
     "data": {
      "text/plain": [
       "(240493, 82)"
      ]
     },
     "execution_count": 13,
     "metadata": {},
     "output_type": "execute_result"
    }
   ],
   "source": [
    "newest_data = res_copy.loc[res_copy['installation_date'].dt.year.isin([2020, 2021])]\n",
    "newest_data.shape"
   ]
  },
  {
   "cell_type": "markdown",
   "id": "5ebff9d2",
   "metadata": {},
   "source": [
    "Next, while I'm working with the dates, I'll break out the month into a separate column since that will probably be the most useful date grouping for modeling."
   ]
  },
  {
   "cell_type": "code",
   "execution_count": 14,
   "id": "a8a80704",
   "metadata": {},
   "outputs": [
    {
     "data": {
      "text/plain": [
       "1     23717\n",
       "2     20453\n",
       "3     21856\n",
       "4     17732\n",
       "5     14392\n",
       "6     16886\n",
       "7     21173\n",
       "8     18170\n",
       "9     19285\n",
       "10    21158\n",
       "11    19503\n",
       "12    26168\n",
       "Name: month, dtype: int64"
      ]
     },
     "execution_count": 14,
     "metadata": {},
     "output_type": "execute_result"
    }
   ],
   "source": [
    "date_data = newest_data.copy()\n",
    "date_data['month'] = date_data['installation_date'].dt.month\n",
    "date_data['month'].value_counts().sort_index()"
   ]
  },
  {
   "cell_type": "markdown",
   "id": "64412528",
   "metadata": {},
   "source": [
    "Next I want to check how many rows are missing 'total_installed_price' data and remove them since that price is key to calculating the final installed price, which is the key metric for the model. Missing values are indicated as -1 in this dataset."
   ]
  },
  {
   "cell_type": "code",
   "execution_count": 15,
   "id": "1c5dbfac",
   "metadata": {},
   "outputs": [
    {
     "data": {
      "text/plain": [
       "-1.00          32029\n",
       " 0.01              8\n",
       " 0.10              1\n",
       " 1.00           1937\n",
       " 3.25              9\n",
       "               ...  \n",
       " 3680000.00        1\n",
       " 4789800.00        1\n",
       " 7485834.00        1\n",
       " 8255000.00        1\n",
       " 9887777.00        1\n",
       "Name: total_installed_price, Length: 78725, dtype: int64"
      ]
     },
     "execution_count": 15,
     "metadata": {},
     "output_type": "execute_result"
    }
   ],
   "source": [
    "date_data['total_installed_price'].value_counts().sort_index()"
   ]
  },
  {
   "cell_type": "markdown",
   "id": "b055f80c",
   "metadata": {},
   "source": [
    "While I don't believe that any solar panel installations actually cost \\\\$0.01, \\\\$0.10, or \\\\$1.00, I don't know for sure why they're in there, so I'll check a plot to see if there's an obvious divide between erroneous values and realistic ones. Since price will most likely be linked to 'module_quantity_1' I'll create a scatterplot and look for low price points that appear to be outliers."
   ]
  },
  {
   "cell_type": "code",
   "execution_count": 16,
   "id": "ba50d131",
   "metadata": {},
   "outputs": [
    {
     "data": {
      "image/png": "[encoded data removed]",
      "text/plain": [
       "<Figure size 640x480 with 1 Axes>"
      ]
     },
     "metadata": {},
     "output_type": "display_data"
    }
   ],
   "source": [
    "plt.scatter(date_data['total_installed_price'],date_data['module_quantity_1'])\n",
    "plt.xlabel('total_installed_price')\n",
    "plt.ylabel('module_quantity_1')\n",
    "plt.xlim(-5, 10000)\n",
    "plt.ylim([-5,100])\n",
    "plt.show()"
   ]
  },
  {
   "cell_type": "markdown",
   "id": "59c45028",
   "metadata": {},
   "source": [
    "As crowded as this plot is, there is an obvious linear correlation in there, and there is also so much variation that there is no easy way to tell what can be considered an outlier at low price points. I'll just remove rows with missing (-1) values in 'total_installed_price' for now."
   ]
  },
  {
   "cell_type": "code",
   "execution_count": 17,
   "id": "27ceb736",
   "metadata": {},
   "outputs": [
    {
     "data": {
      "text/plain": [
       "(208464, 83)"
      ]
     },
     "execution_count": 17,
     "metadata": {},
     "output_type": "execute_result"
    }
   ],
   "source": [
    "missing_sale = date_data['total_installed_price'] == -1\n",
    "date_data = date_data[~missing_sale]\n",
    "date_data.shape"
   ]
  },
  {
   "cell_type": "markdown",
   "id": "3d7fa884",
   "metadata": {},
   "source": [
    "Next in the final price calculation I'll need to recode the missing values in 'rebate_or_grant' from -1 to 0 so they're not affecting the installation price."
   ]
  },
  {
   "cell_type": "code",
   "execution_count": 18,
   "id": "5537e279",
   "metadata": {},
   "outputs": [
    {
     "name": "stdout",
     "output_type": "stream",
     "text": [
      "-1.0\n",
      "0.0\n"
     ]
    }
   ],
   "source": [
    "print(date_data['rebate_or_grant'].min())\n",
    "date_data['rebate_or_grant'] = newest_data['rebate_or_grant'].replace(-1, 0)\n",
    "print(date_data['rebate_or_grant'].min())"
   ]
  },
  {
   "cell_type": "markdown",
   "id": "7cbf08a9",
   "metadata": {},
   "source": [
    "Finally, since I'll divide by 'system_size_dc' I'll need to make sure that it's not missing or 0, so I'll remove any rows with values less than or equal to 0."
   ]
  },
  {
   "cell_type": "code",
   "execution_count": 19,
   "id": "b19aa694",
   "metadata": {},
   "outputs": [
    {
     "data": {
      "text/plain": [
       "(208257, 83)"
      ]
     },
     "execution_count": 19,
     "metadata": {},
     "output_type": "execute_result"
    }
   ],
   "source": [
    "date_data = date_data[date_data['system_size_dc'] > 0]\n",
    "date_data.shape"
   ]
  },
  {
   "cell_type": "markdown",
   "id": "b64f44aa",
   "metadata": {},
   "source": [
    "Now I'll calculate the 'price_per_kW', which will be the field being modeled, by subtracting any rebates or grants from the total installed price and then dividing this final price by the 'system_size_dc' field."
   ]
  },
  {
   "cell_type": "code",
   "execution_count": 20,
   "id": "cabc2b4a",
   "metadata": {},
   "outputs": [
    {
     "data": {
      "text/html": [
       "<div>\n",
       "<style scoped>\n",
       "    .dataframe tbody tr th:only-of-type {\n",
       "        vertical-align: middle;\n",
       "    }\n",
       "\n",
       "    .dataframe tbody tr th {\n",
       "        vertical-align: top;\n",
       "    }\n",
       "\n",
       "    .dataframe thead th {\n",
       "        text-align: right;\n",
       "    }\n",
       "</style>\n",
       "<table border=\"1\" class=\"dataframe\">\n",
       "  <thead>\n",
       "    <tr style=\"text-align: right;\">\n",
       "      <th></th>\n",
       "      <th>total_installed_price</th>\n",
       "      <th>rebate_or_grant</th>\n",
       "      <th>system_size_dc</th>\n",
       "      <th>price_per_kw</th>\n",
       "    </tr>\n",
       "  </thead>\n",
       "  <tbody>\n",
       "    <tr>\n",
       "      <th>189868</th>\n",
       "      <td>28000.0</td>\n",
       "      <td>476.0</td>\n",
       "      <td>9.52</td>\n",
       "      <td>2891.176471</td>\n",
       "    </tr>\n",
       "    <tr>\n",
       "      <th>189874</th>\n",
       "      <td>55260.0</td>\n",
       "      <td>1020.0</td>\n",
       "      <td>20.40</td>\n",
       "      <td>2658.823529</td>\n",
       "    </tr>\n",
       "    <tr>\n",
       "      <th>189879</th>\n",
       "      <td>22440.0</td>\n",
       "      <td>408.0</td>\n",
       "      <td>8.16</td>\n",
       "      <td>2700.000000</td>\n",
       "    </tr>\n",
       "    <tr>\n",
       "      <th>189883</th>\n",
       "      <td>37394.0</td>\n",
       "      <td>449.5</td>\n",
       "      <td>9.00</td>\n",
       "      <td>4104.944444</td>\n",
       "    </tr>\n",
       "    <tr>\n",
       "      <th>189894</th>\n",
       "      <td>20738.5</td>\n",
       "      <td>351.5</td>\n",
       "      <td>7.03</td>\n",
       "      <td>2900.000000</td>\n",
       "    </tr>\n",
       "    <tr>\n",
       "      <th>...</th>\n",
       "      <td>...</td>\n",
       "      <td>...</td>\n",
       "      <td>...</td>\n",
       "      <td>...</td>\n",
       "    </tr>\n",
       "    <tr>\n",
       "      <th>2041546</th>\n",
       "      <td>34452.0</td>\n",
       "      <td>500.0</td>\n",
       "      <td>7.68</td>\n",
       "      <td>4420.833333</td>\n",
       "    </tr>\n",
       "    <tr>\n",
       "      <th>2041547</th>\n",
       "      <td>43152.0</td>\n",
       "      <td>500.0</td>\n",
       "      <td>9.92</td>\n",
       "      <td>4299.596774</td>\n",
       "    </tr>\n",
       "    <tr>\n",
       "      <th>2041548</th>\n",
       "      <td>25583.0</td>\n",
       "      <td>500.0</td>\n",
       "      <td>6.82</td>\n",
       "      <td>3677.859238</td>\n",
       "    </tr>\n",
       "    <tr>\n",
       "      <th>2041549</th>\n",
       "      <td>70909.0</td>\n",
       "      <td>1000.0</td>\n",
       "      <td>15.41</td>\n",
       "      <td>4536.599611</td>\n",
       "    </tr>\n",
       "    <tr>\n",
       "      <th>2041550</th>\n",
       "      <td>29232.0</td>\n",
       "      <td>500.0</td>\n",
       "      <td>6.72</td>\n",
       "      <td>4275.595238</td>\n",
       "    </tr>\n",
       "  </tbody>\n",
       "</table>\n",
       "<p>26668 rows × 4 columns</p>\n",
       "</div>"
      ],
      "text/plain": [
       "         total_installed_price  rebate_or_grant  system_size_dc  price_per_kw\n",
       "189868                 28000.0            476.0            9.52   2891.176471\n",
       "189874                 55260.0           1020.0           20.40   2658.823529\n",
       "189879                 22440.0            408.0            8.16   2700.000000\n",
       "189883                 37394.0            449.5            9.00   4104.944444\n",
       "189894                 20738.5            351.5            7.03   2900.000000\n",
       "...                        ...              ...             ...           ...\n",
       "2041546                34452.0            500.0            7.68   4420.833333\n",
       "2041547                43152.0            500.0            9.92   4299.596774\n",
       "2041548                25583.0            500.0            6.82   3677.859238\n",
       "2041549                70909.0           1000.0           15.41   4536.599611\n",
       "2041550                29232.0            500.0            6.72   4275.595238\n",
       "\n",
       "[26668 rows x 4 columns]"
      ]
     },
     "execution_count": 20,
     "metadata": {},
     "output_type": "execute_result"
    }
   ],
   "source": [
    "date_data['price_per_kw'] = (date_data['total_installed_price'] - date_data['rebate_or_grant']) / date_data['system_size_dc']\n",
    "date_data.loc[date_data['rebate_or_grant'] != 0.0][['total_installed_price', 'rebate_or_grant', 'system_size_dc', 'price_per_kw']]"
   ]
  },
  {
   "cell_type": "markdown",
   "id": "68b5deed",
   "metadata": {},
   "source": [
    "Now I want to check the proportion of each column that is missing data. I may be able to remove some columns if they are mostly missing values that will skew the model. I'll start with the object columns, then move to integer columns."
   ]
  },
  {
   "cell_type": "code",
   "execution_count": 21,
   "id": "a308af47",
   "metadata": {},
   "outputs": [
    {
     "name": "stdout",
     "output_type": "stream",
     "text": [
      "inverter_manufacturer_2            100.000000\n",
      "inverter_model_2                   100.000000\n",
      "inverter_manufacturer_3            100.000000\n",
      "inverter_model_3                   100.000000\n",
      "technology_module_3                 97.779666\n",
      "module_manufacturer_3               97.779186\n",
      "module_model_3                      97.779186\n",
      "system_id_2                         95.002329\n",
      "data_provider_2                     94.973038\n",
      "battery_model                       94.529356\n",
      "battery_manufacturer                94.286387\n",
      "technology_module_2                 93.720259\n",
      "module_model_2                      93.706334\n",
      "module_manufacturer_2               93.706334\n",
      "inverter_manufacturer_1             11.622178\n",
      "inverter_model_1                    11.621698\n",
      "technology_module_1                 10.606126\n",
      "module_manufacturer_1               10.605646\n",
      "module_model_1                      10.605646\n",
      "city                                 8.495273\n",
      "zip_code                             5.934494\n",
      "system_id_1                          3.869738\n",
      "utility_service_territory            2.913708\n",
      "installer_name                       2.110373\n",
      "micro_inverter_3                     0.000000\n",
      "inverter_quantity_3                  0.000000\n",
      "additional_inverters                 0.000000\n",
      "inverter_quantity_2                  0.000000\n",
      "micro_inverter_1                     0.000000\n",
      "micro_inverter_2                     0.000000\n",
      "inverter_quantity_1                  0.000000\n",
      "data_provider_1                      0.000000\n",
      "solar_storage_hybrid_inverter_1      0.000000\n",
      "efficiency_module_3                  0.000000\n",
      "month                                0.000000\n",
      "year                                 0.000000\n",
      "state                                0.000000\n",
      "battery_rated_capacity_kwh           0.000000\n",
      "battery_rated_capacity_kw            0.000000\n",
      "date_of_battery_install              0.000000\n",
      "inverter_loading_ratio               0.000000\n",
      "dc_optimizer                         0.000000\n",
      "output_capacity_inverter_3           0.000000\n",
      "output_capacity_inverter_2           0.000000\n",
      "output_capacity_inverter_1           0.000000\n",
      "built_in_meter_inverter_3            0.000000\n",
      "built_in_meter_inverter_2            0.000000\n",
      "built_in_meter_inverter_1            0.000000\n",
      "solar_storage_hybrid_inverter_3      0.000000\n",
      "solar_storage_hybrid_inverter_2      0.000000\n",
      "bifacial_module_1                    0.000000\n",
      "efficiency_module_2                  0.000000\n",
      "azimuth_3                            0.000000\n",
      "installation_date                    0.000000\n",
      "system_size_dc                       0.000000\n",
      "total_installed_price                0.000000\n",
      "rebate_or_grant                      0.000000\n",
      "customer_segment                     0.000000\n",
      "expansion_system                     0.000000\n",
      "multiple_phase_system                0.000000\n",
      "new_construction                     0.000000\n",
      "tracking                             0.000000\n",
      "ground_mounted                       0.000000\n",
      "third_party_owned                    0.000000\n",
      "self_installed                       0.000000\n",
      "azimuth_1                            0.000000\n",
      "azimuth_2                            0.000000\n",
      "tilt_1                               0.000000\n",
      "efficiency_module_1                  0.000000\n",
      "tilt_2                               0.000000\n",
      "tilt_3                               0.000000\n",
      "module_quantity_1                    0.000000\n",
      "module_quantity_2                    0.000000\n",
      "module_quantity_3                    0.000000\n",
      "additional_modules                   0.000000\n",
      "bipv_module_1                        0.000000\n",
      "bipv_module_2                        0.000000\n",
      "bipv_module_3                        0.000000\n",
      "bifacial_module_2                    0.000000\n",
      "bifacial_module_3                    0.000000\n",
      "nameplate_capacity_module_1          0.000000\n",
      "nameplate_capacity_module_2          0.000000\n",
      "nameplate_capacity_module_3          0.000000\n",
      "price_per_kw                         0.000000\n"
     ]
    }
   ],
   "source": [
    "object_missing = (date_data[date_data == '-1'].count() / date_data.count() * 100).sort_values(ascending=False).to_string()\n",
    "print(object_missing)"
   ]
  },
  {
   "cell_type": "code",
   "execution_count": 22,
   "id": "b2b58eee",
   "metadata": {},
   "outputs": [
    {
     "name": "stdout",
     "output_type": "stream",
     "text": [
      "output_capacity_inverter_3         99.968266\n",
      "inverter_quantity_3                99.952463\n",
      "solar_storage_hybrid_inverter_3    99.865551\n",
      "micro_inverter_3                   99.834339\n",
      "built_in_meter_inverter_3          99.834339\n",
      "output_capacity_inverter_2         99.833125\n",
      "inverter_quantity_2                98.866305\n",
      "solar_storage_hybrid_inverter_2    98.794278\n",
      "built_in_meter_inverter_2          98.742899\n",
      "micro_inverter_2                   98.742899\n",
      "azimuth_3                          98.072094\n",
      "tilt_3                             98.072094\n",
      "module_quantity_3                  97.877142\n",
      "efficiency_module_3                97.795512\n",
      "nameplate_capacity_module_3        97.782484\n",
      "bipv_module_3                      97.780627\n",
      "bifacial_module_3                  97.779666\n",
      "new_construction                   95.318765\n",
      "azimuth_2                          94.967756\n",
      "tilt_2                             94.967756\n",
      "battery_rated_capacity_kwh         94.051580\n",
      "module_quantity_2                  93.867673\n",
      "efficiency_module_2                93.802369\n",
      "battery_rated_capacity_kw          93.757713\n",
      "nameplate_capacity_module_2        93.731601\n",
      "bipv_module_2                      93.725061\n",
      "bifacial_module_2                  93.720259\n",
      "output_capacity_inverter_1         79.405609\n",
      "ground_mounted                     27.698949\n",
      "azimuth_1                          22.536097\n",
      "tilt_1                             22.512569\n",
      "tracking                           21.979573\n",
      "inverter_loading_ratio             21.270353\n",
      "additional_inverters               18.227479\n",
      "additional_modules                 18.227479\n",
      "solar_storage_hybrid_inverter_1    17.041444\n",
      "inverter_quantity_1                14.037051\n",
      "module_quantity_1                  14.007212\n",
      "efficiency_module_1                12.028887\n",
      "built_in_meter_inverter_1          11.630341\n",
      "micro_inverter_1                   11.630341\n",
      "bipv_module_1                      11.000351\n",
      "dc_optimizer                       10.992668\n",
      "nameplate_capacity_module_1        10.626690\n",
      "bifacial_module_1                  10.606126\n",
      "rebate_or_grant                     8.170194\n",
      "third_party_owned                   7.241053\n",
      "self_installed                      6.121283\n",
      "date_of_battery_install             0.000000\n",
      "battery_manufacturer                0.000000\n",
      "battery_model                       0.000000\n",
      "state                               0.000000\n",
      "year                                0.000000\n",
      "month                               0.000000\n",
      "inverter_model_3                    0.000000\n",
      "inverter_manufacturer_3             0.000000\n",
      "data_provider_1                     0.000000\n",
      "inverter_model_2                    0.000000\n",
      "installer_name                      0.000000\n",
      "system_id_1                         0.000000\n",
      "system_id_2                         0.000000\n",
      "installation_date                   0.000000\n",
      "system_size_dc                      0.000000\n",
      "total_installed_price               0.000000\n",
      "customer_segment                    0.000000\n",
      "expansion_system                    0.000000\n",
      "multiple_phase_system               0.000000\n",
      "zip_code                            0.000000\n",
      "city                                0.000000\n",
      "utility_service_territory           0.000000\n",
      "module_manufacturer_1               0.000000\n",
      "inverter_manufacturer_2             0.000000\n",
      "module_model_1                      0.000000\n",
      "module_manufacturer_2               0.000000\n",
      "module_model_2                      0.000000\n",
      "module_manufacturer_3               0.000000\n",
      "module_model_3                      0.000000\n",
      "technology_module_1                 0.000000\n",
      "technology_module_2                 0.000000\n",
      "technology_module_3                 0.000000\n",
      "data_provider_2                     0.000000\n",
      "inverter_manufacturer_1             0.000000\n",
      "inverter_model_1                    0.000000\n",
      "price_per_kw                        0.000000\n"
     ]
    }
   ],
   "source": [
    "int_missing = (date_data[newest_data == -1].count() / date_data.count() * 100).sort_values(ascending=False).to_string()\n",
    "print(int_missing)"
   ]
  },
  {
   "cell_type": "markdown",
   "id": "8e273ff7",
   "metadata": {},
   "source": [
    "There are four columns that are 100% missing data, so I'll remove them now and then look through a Pandas Profiling report to check the other mostly-missing columns for any correlation to the price that might be worth keeping them in."
   ]
  },
  {
   "cell_type": "code",
   "execution_count": 23,
   "id": "9715fb4b",
   "metadata": {},
   "outputs": [
    {
     "data": {
      "text/plain": [
       "(208257, 42)"
      ]
     },
     "execution_count": 23,
     "metadata": {},
     "output_type": "execute_result"
    }
   ],
   "source": [
    "empty_objs = (date_data[date_data == '-1'].count() / date_data.count() * 100) > 75\n",
    "red_data = date_data[date_data.columns[~empty_objs]]\n",
    "empty_ints = (red_data[red_data == -1].count() / red_data.count() * 100) > 75\n",
    "reduced_data = red_data[red_data.columns[~empty_ints]]\n",
    "reduced_data.shape"
   ]
  },
  {
   "cell_type": "code",
   "execution_count": 24,
   "id": "b09965db",
   "metadata": {},
   "outputs": [
    {
     "data": {
      "text/plain": [
       "Index(['data_provider_1', 'system_id_1', 'installation_date', 'system_size_dc',\n",
       "       'total_installed_price', 'rebate_or_grant', 'customer_segment',\n",
       "       'expansion_system', 'multiple_phase_system', 'tracking',\n",
       "       'ground_mounted', 'zip_code', 'city', 'utility_service_territory',\n",
       "       'third_party_owned', 'installer_name', 'self_installed', 'azimuth_1',\n",
       "       'tilt_1', 'module_manufacturer_1', 'module_model_1',\n",
       "       'module_quantity_1', 'additional_modules', 'technology_module_1',\n",
       "       'bipv_module_1', 'bifacial_module_1', 'nameplate_capacity_module_1',\n",
       "       'efficiency_module_1', 'inverter_manufacturer_1', 'inverter_model_1',\n",
       "       'inverter_quantity_1', 'additional_inverters', 'micro_inverter_1',\n",
       "       'solar_storage_hybrid_inverter_1', 'built_in_meter_inverter_1',\n",
       "       'dc_optimizer', 'inverter_loading_ratio', 'date_of_battery_install',\n",
       "       'state', 'year', 'month', 'price_per_kw'],\n",
       "      dtype='object')"
      ]
     },
     "execution_count": 24,
     "metadata": {},
     "output_type": "execute_result"
    }
   ],
   "source": [
    "reduced_data.columns"
   ]
  },
  {
   "cell_type": "markdown",
   "id": "ff7064f5",
   "metadata": {},
   "source": [
    "Since my goal is to model the factors that improve cost efficiency in Austin, TX specifically I want to create two dummy columns, one for whether the entry is in Austin, and one for whether the entry is in Texas. First I'll confirm that I have entries fulfilling both of those criteria."
   ]
  },
  {
   "cell_type": "code",
   "execution_count": 25,
   "id": "24874544",
   "metadata": {},
   "outputs": [
    {
     "data": {
      "text/plain": [
       "San Antonio        4476\n",
       "-1                 1098\n",
       "Laredo               10\n",
       "San Angelo            8\n",
       "Corpus Christi        5\n",
       "McAllen               4\n",
       "Abilene               4\n",
       "Marfa                 3\n",
       "Alpine                3\n",
       "Tuscola               2\n",
       "Port Aransas          2\n",
       "Mission               2\n",
       "Rockport              2\n",
       "Edinburg              2\n",
       "Corpus christi        2\n",
       "Bay City              1\n",
       "Roma                  1\n",
       "Rio Grande City       1\n",
       "Kingsville            1\n",
       "Jourdanton            1\n",
       "Pharr                 1\n",
       "Alamo                 1\n",
       "Merkel                1\n",
       "Fort Davis            1\n",
       "Christoval            1\n",
       "San Juan              1\n",
       "Weslaco               1\n",
       "Name: city, dtype: int64"
      ]
     },
     "execution_count": 25,
     "metadata": {},
     "output_type": "execute_result"
    }
   ],
   "source": [
    "reduced_data['city'].loc[reduced_data['state'] == 'TX'].value_counts()"
   ]
  },
  {
   "cell_type": "markdown",
   "id": "e3c8be20",
   "metadata": {},
   "source": [
    "Ok, unfortunately I don't have data for Austin TX and roughly 20% of the data doesn't have a city listed, so I'll generalize the project goal to just modeling the state of Texas instead. Now I'll make dummy columns for each state so the model can look for any differences between states."
   ]
  },
  {
   "cell_type": "code",
   "execution_count": 26,
   "id": "a737add7",
   "metadata": {},
   "outputs": [
    {
     "data": {
      "text/plain": [
       "(208257, 57)"
      ]
     },
     "execution_count": 26,
     "metadata": {},
     "output_type": "execute_result"
    }
   ],
   "source": [
    "state_data = reduced_data.copy()\n",
    "state_data = pd.get_dummies(data = state_data, columns = ['state'])\n",
    "state_data.shape"
   ]
  },
  {
   "cell_type": "code",
   "execution_count": 31,
   "id": "25362686",
   "metadata": {},
   "outputs": [
    {
     "data": {
      "text/plain": [
       "Index(['data_provider_1', 'system_id_1', 'installation_date', 'system_size_dc',\n",
       "       'total_installed_price', 'rebate_or_grant', 'customer_segment',\n",
       "       'expansion_system', 'multiple_phase_system', 'tracking',\n",
       "       'ground_mounted', 'zip_code', 'city', 'utility_service_territory',\n",
       "       'third_party_owned', 'installer_name', 'self_installed', 'azimuth_1',\n",
       "       'tilt_1', 'module_manufacturer_1', 'module_model_1',\n",
       "       'module_quantity_1', 'additional_modules', 'technology_module_1',\n",
       "       'bipv_module_1', 'bifacial_module_1', 'nameplate_capacity_module_1',\n",
       "       'efficiency_module_1', 'inverter_manufacturer_1', 'inverter_model_1',\n",
       "       'inverter_quantity_1', 'additional_inverters', 'micro_inverter_1',\n",
       "       'solar_storage_hybrid_inverter_1', 'built_in_meter_inverter_1',\n",
       "       'dc_optimizer', 'inverter_loading_ratio', 'date_of_battery_install',\n",
       "       'year', 'month', 'price_per_kw', 'state_AZ', 'state_CA', 'state_CO',\n",
       "       'state_CT', 'state_DE', 'state_FL', 'state_MA', 'state_MD', 'state_MN',\n",
       "       'state_NH', 'state_NM', 'state_NY', 'state_RI', 'state_TX', 'state_UT',\n",
       "       'state_WI'],\n",
       "      dtype='object')"
      ]
     },
     "execution_count": 31,
     "metadata": {},
     "output_type": "execute_result"
    }
   ],
   "source": [
    "state_data.columns"
   ]
  },
  {
   "cell_type": "markdown",
   "id": "e223582d",
   "metadata": {},
   "source": [
    "Finally, now that the initial wrangling is complete, I'll go ahead and export the wrangled data to the interim data folder. That file will be used for exploratory data analysis."
   ]
  },
  {
   "cell_type": "code",
   "execution_count": 28,
   "id": "85131b97",
   "metadata": {
    "scrolled": true
   },
   "outputs": [
    {
     "name": "stdout",
     "output_type": "stream",
     "text": [
      "C:\\Users\\Zachary Brown\\Documents\\GitHub\\Solar-Panel-Capstone\\data\\external\n",
      "C:\\Users\\Zachary Brown\\Documents\\GitHub\\Solar-Panel-Capstone\\data\\interim\n"
     ]
    }
   ],
   "source": [
    "print(os.getcwd())\n",
    "os.chdir(r\"..\\interim\")\n",
    "print(os.getcwd())"
   ]
  },
  {
   "cell_type": "code",
   "execution_count": 30,
   "id": "d77d6827",
   "metadata": {},
   "outputs": [],
   "source": [
    "state_data.to_csv('wrangled_data.csv')"
   ]
  },
  {
   "cell_type": "code",
   "execution_count": null,
   "id": "d06bc2d9",
   "metadata": {},
   "outputs": [],
   "source": []
  }
 ],
 "metadata": {
  "kernelspec": {
   "display_name": "Python 3 (ipykernel)",
   "language": "python",
   "name": "python3"
  },
  "language_info": {
   "codemirror_mode": {
    "name": "ipython",
    "version": 3
   },
   "file_extension": ".py",
   "mimetype": "text/x-python",
   "name": "python",
   "nbconvert_exporter": "python",
   "pygments_lexer": "ipython3",
   "version": "3.9.13"
  }
 },
 "nbformat": 4,
 "nbformat_minor": 5
}
