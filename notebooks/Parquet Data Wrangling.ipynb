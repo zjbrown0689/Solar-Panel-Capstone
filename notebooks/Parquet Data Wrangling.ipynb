{
 "cells": [
  {
   "cell_type": "markdown",
   "id": "ffae5429",
   "metadata": {},
   "source": [
    "# Getting the most solar power for your dollar\n",
    "## Data wrangling\n",
    "### Zachary Brown\n",
    "\n",
    "The goal of this project is to use the Tracking the Sun dataset from the Lawrence Berkeley National Laboratory to create a model that identifies what factors make residential solar panel installations in Austin, Texas as cost-efficient as possible. To do so the data will be loaded from Parquet files and in this notebook will be wrangled into the working dataframe for the rest of the project.\n",
    "\n",
    "I'll start off by importing the modules needed for importing and wrangling the data."
   ]
  },
  {
   "cell_type": "code",
   "execution_count": 1,
   "id": "f7a4b84a",
   "metadata": {},
   "outputs": [],
   "source": [
    "import os\n",
    "import urllib.request\n",
    "import requests\n",
    "import pandas as pd\n",
    "import numpy as np\n",
    "from bs4 import BeautifulSoup\n",
    "import matplotlib.pyplot as plt\n",
    "from pandas_profiling import ProfileReport\n",
    "from datetime import datetime"
   ]
  },
  {
   "cell_type": "markdown",
   "id": "b8b35926",
   "metadata": {},
   "source": [
    "Next I need to download the Parquet datafiles into the external data directory within this repository, so I'll switch to the correct directory."
   ]
  },
  {
   "cell_type": "code",
   "execution_count": 2,
   "id": "09d3163f",
   "metadata": {},
   "outputs": [
    {
     "name": "stdout",
     "output_type": "stream",
     "text": [
      "C:\\Users\\Zachary Brown\\Documents\\GitHub\\Solar-Panel-Capstone\\notebooks\n",
      "C:\\Users\\Zachary Brown\\Documents\\GitHub\\Solar-Panel-Capstone\\data\\external\n"
     ]
    }
   ],
   "source": [
    "print(os.getcwd())\n",
    "os.chdir(r\"..\\data\\external\")\n",
    "data_dir = os.getcwd()\n",
    "print(os.getcwd())"
   ]
  },
  {
   "cell_type": "markdown",
   "id": "35e10a5b",
   "metadata": {},
   "source": [
    "The next step is to download the parquet files. The entire collection of data is hosted here: https://data.openei.org/s3_viewer?bucket=oedi-data-lake&prefix=tracking-the-sun%2F\n",
    "\n",
    "I only need 2021 data for this project as I want the most up to date model possible. Within 2021 the data is broken down by state. I need to download all 26 files, so I'll create a function to automatically download them all for me."
   ]
  },
  {
   "cell_type": "code",
   "execution_count": 5,
   "id": "c029dc58",
   "metadata": {},
   "outputs": [],
   "source": [
    "# Start by creating the function and creating empty url and file name lists\n",
    "\n",
    "def import_data(root_url):\n",
    "    urls = []\n",
    "    file_names = []\n",
    "    \n",
    "# Parse the 2021 data directory to get URLs for each state    \n",
    "\n",
    "    response = requests.get(root_url)\n",
    "    soup = BeautifulSoup(response.content, \"html.parser\")\n",
    "    \n",
    "    for a in soup.find_all('a', href=True):\n",
    "        if '/s3_viewer?bucket=oedi-data-lake&prefix=tracking-the-sun%2F' in a['href']:\n",
    "            urls.append('https://data.openei.org' + a['href'])\n",
    "    \n",
    "# Create a list of the file names for each state from each link in the urls list\n",
    "\n",
    "    for url in urls:\n",
    "        url_response = requests.get(url)\n",
    "        url_soup = BeautifulSoup(url_response.content, 'html.parser')\n",
    "        \n",
    "        for a in url_soup.find_all('a', href=True):\n",
    "            if '.parquet' in a['href']:\n",
    "                file_names.append(a['href'])\n",
    "            \n",
    "# Loop through each file and download to data directory\n",
    "\n",
    "    for url, file in zip(urls, file_names):\n",
    "        urllib.request.urlretrieve(file, url[97:99] + '.parquet')"
   ]
  },
  {
   "cell_type": "markdown",
   "id": "4f6a97a3",
   "metadata": {},
   "source": [
    "Now that the function has been created to download all of the Parquet files locally we need to run it with the 2021 URL to download the state data files."
   ]
  },
  {
   "cell_type": "code",
   "execution_count": 6,
   "id": "48ddbf19",
   "metadata": {},
   "outputs": [],
   "source": [
    "import_data('https://data.openei.org/s3_viewer?bucket=oedi-data-lake&prefix=tracking-the-sun%2F2021%2F')"
   ]
  },
  {
   "cell_type": "markdown",
   "id": "aaabf9dc",
   "metadata": {},
   "source": [
    "Now the data files need to be loaded into a single Pandas dataframe to begin the wrangling process."
   ]
  },
  {
   "cell_type": "code",
   "execution_count": 7,
   "id": "cd3c8218",
   "metadata": {},
   "outputs": [
    {
     "data": {
      "text/html": [
       "<div>\n",
       "<style scoped>\n",
       "    .dataframe tbody tr th:only-of-type {\n",
       "        vertical-align: middle;\n",
       "    }\n",
       "\n",
       "    .dataframe tbody tr th {\n",
       "        vertical-align: top;\n",
       "    }\n",
       "\n",
       "    .dataframe thead th {\n",
       "        text-align: right;\n",
       "    }\n",
       "</style>\n",
       "<table border=\"1\" class=\"dataframe\">\n",
       "  <thead>\n",
       "    <tr style=\"text-align: right;\">\n",
       "      <th></th>\n",
       "      <th>data_provider_1</th>\n",
       "      <th>data_provider_2</th>\n",
       "      <th>system_id_1</th>\n",
       "      <th>system_id_2</th>\n",
       "      <th>installation_date</th>\n",
       "      <th>system_size_dc</th>\n",
       "      <th>total_installed_price</th>\n",
       "      <th>rebate_or_grant</th>\n",
       "      <th>customer_segment</th>\n",
       "      <th>expansion_system</th>\n",
       "      <th>...</th>\n",
       "      <th>output_capacity_inverter_2</th>\n",
       "      <th>output_capacity_inverter_3</th>\n",
       "      <th>dc_optimizer</th>\n",
       "      <th>inverter_loading_ratio</th>\n",
       "      <th>date_of_battery_install</th>\n",
       "      <th>battery_manufacturer</th>\n",
       "      <th>battery_model</th>\n",
       "      <th>battery_rated_capacity_kw</th>\n",
       "      <th>battery_rated_capacity_kwh</th>\n",
       "      <th>state</th>\n",
       "    </tr>\n",
       "  </thead>\n",
       "  <tbody>\n",
       "    <tr>\n",
       "      <th>0</th>\n",
       "      <td>Arkansas State Energy Office</td>\n",
       "      <td>-1</td>\n",
       "      <td>-1</td>\n",
       "      <td>-1</td>\n",
       "      <td>2010-04-29</td>\n",
       "      <td>2.016</td>\n",
       "      <td>14558.0</td>\n",
       "      <td>0.0</td>\n",
       "      <td>RES</td>\n",
       "      <td>0</td>\n",
       "      <td>...</td>\n",
       "      <td>-1.0</td>\n",
       "      <td>-1.0</td>\n",
       "      <td>0</td>\n",
       "      <td>1.178947</td>\n",
       "      <td>NaT</td>\n",
       "      <td>-1</td>\n",
       "      <td>-1</td>\n",
       "      <td>-1.0</td>\n",
       "      <td>-1.0</td>\n",
       "      <td>AR</td>\n",
       "    </tr>\n",
       "    <tr>\n",
       "      <th>1</th>\n",
       "      <td>Arkansas State Energy Office</td>\n",
       "      <td>-1</td>\n",
       "      <td>-1</td>\n",
       "      <td>-1</td>\n",
       "      <td>2010-04-26</td>\n",
       "      <td>3.360</td>\n",
       "      <td>26096.0</td>\n",
       "      <td>0.0</td>\n",
       "      <td>RES</td>\n",
       "      <td>0</td>\n",
       "      <td>...</td>\n",
       "      <td>-1.0</td>\n",
       "      <td>-1.0</td>\n",
       "      <td>0</td>\n",
       "      <td>1.178947</td>\n",
       "      <td>NaT</td>\n",
       "      <td>-1</td>\n",
       "      <td>-1</td>\n",
       "      <td>-1.0</td>\n",
       "      <td>-1.0</td>\n",
       "      <td>AR</td>\n",
       "    </tr>\n",
       "    <tr>\n",
       "      <th>2</th>\n",
       "      <td>Arkansas State Energy Office</td>\n",
       "      <td>-1</td>\n",
       "      <td>-1</td>\n",
       "      <td>-1</td>\n",
       "      <td>2010-04-20</td>\n",
       "      <td>13.440</td>\n",
       "      <td>91139.0</td>\n",
       "      <td>0.0</td>\n",
       "      <td>RES</td>\n",
       "      <td>0</td>\n",
       "      <td>...</td>\n",
       "      <td>-1.0</td>\n",
       "      <td>-1.0</td>\n",
       "      <td>0</td>\n",
       "      <td>1.178947</td>\n",
       "      <td>NaT</td>\n",
       "      <td>-1</td>\n",
       "      <td>-1</td>\n",
       "      <td>-1.0</td>\n",
       "      <td>-1.0</td>\n",
       "      <td>AR</td>\n",
       "    </tr>\n",
       "    <tr>\n",
       "      <th>3</th>\n",
       "      <td>Arkansas State Energy Office</td>\n",
       "      <td>-1</td>\n",
       "      <td>-1</td>\n",
       "      <td>-1</td>\n",
       "      <td>2010-04-21</td>\n",
       "      <td>5.520</td>\n",
       "      <td>40043.0</td>\n",
       "      <td>0.0</td>\n",
       "      <td>RES</td>\n",
       "      <td>0</td>\n",
       "      <td>...</td>\n",
       "      <td>-1.0</td>\n",
       "      <td>-1.0</td>\n",
       "      <td>0</td>\n",
       "      <td>1.210526</td>\n",
       "      <td>NaT</td>\n",
       "      <td>-1</td>\n",
       "      <td>-1</td>\n",
       "      <td>-1.0</td>\n",
       "      <td>-1.0</td>\n",
       "      <td>AR</td>\n",
       "    </tr>\n",
       "    <tr>\n",
       "      <th>4</th>\n",
       "      <td>Arkansas State Energy Office</td>\n",
       "      <td>-1</td>\n",
       "      <td>-1</td>\n",
       "      <td>-1</td>\n",
       "      <td>2010-04-22</td>\n",
       "      <td>2.530</td>\n",
       "      <td>21497.0</td>\n",
       "      <td>0.0</td>\n",
       "      <td>RES</td>\n",
       "      <td>0</td>\n",
       "      <td>...</td>\n",
       "      <td>-1.0</td>\n",
       "      <td>-1.0</td>\n",
       "      <td>0</td>\n",
       "      <td>1.210526</td>\n",
       "      <td>NaT</td>\n",
       "      <td>-1</td>\n",
       "      <td>-1</td>\n",
       "      <td>-1.0</td>\n",
       "      <td>-1.0</td>\n",
       "      <td>AR</td>\n",
       "    </tr>\n",
       "  </tbody>\n",
       "</table>\n",
       "<p>5 rows × 81 columns</p>\n",
       "</div>"
      ],
      "text/plain": [
       "                data_provider_1 data_provider_2 system_id_1 system_id_2  \\\n",
       "0  Arkansas State Energy Office              -1          -1          -1   \n",
       "1  Arkansas State Energy Office              -1          -1          -1   \n",
       "2  Arkansas State Energy Office              -1          -1          -1   \n",
       "3  Arkansas State Energy Office              -1          -1          -1   \n",
       "4  Arkansas State Energy Office              -1          -1          -1   \n",
       "\n",
       "  installation_date  system_size_dc  total_installed_price  rebate_or_grant  \\\n",
       "0        2010-04-29           2.016                14558.0              0.0   \n",
       "1        2010-04-26           3.360                26096.0              0.0   \n",
       "2        2010-04-20          13.440                91139.0              0.0   \n",
       "3        2010-04-21           5.520                40043.0              0.0   \n",
       "4        2010-04-22           2.530                21497.0              0.0   \n",
       "\n",
       "  customer_segment  expansion_system  ...  output_capacity_inverter_2  \\\n",
       "0              RES                 0  ...                        -1.0   \n",
       "1              RES                 0  ...                        -1.0   \n",
       "2              RES                 0  ...                        -1.0   \n",
       "3              RES                 0  ...                        -1.0   \n",
       "4              RES                 0  ...                        -1.0   \n",
       "\n",
       "   output_capacity_inverter_3  dc_optimizer  inverter_loading_ratio  \\\n",
       "0                        -1.0             0                1.178947   \n",
       "1                        -1.0             0                1.178947   \n",
       "2                        -1.0             0                1.178947   \n",
       "3                        -1.0             0                1.210526   \n",
       "4                        -1.0             0                1.210526   \n",
       "\n",
       "  date_of_battery_install battery_manufacturer battery_model  \\\n",
       "0                     NaT                   -1            -1   \n",
       "1                     NaT                   -1            -1   \n",
       "2                     NaT                   -1            -1   \n",
       "3                     NaT                   -1            -1   \n",
       "4                     NaT                   -1            -1   \n",
       "\n",
       "   battery_rated_capacity_kw battery_rated_capacity_kwh  state  \n",
       "0                       -1.0                       -1.0     AR  \n",
       "1                       -1.0                       -1.0     AR  \n",
       "2                       -1.0                       -1.0     AR  \n",
       "3                       -1.0                       -1.0     AR  \n",
       "4                       -1.0                       -1.0     AR  \n",
       "\n",
       "[5 rows x 81 columns]"
      ]
     },
     "execution_count": 7,
     "metadata": {},
     "output_type": "execute_result"
    }
   ],
   "source": [
    "file_list = []\n",
    "\n",
    "# I'll start by adding each Parquet file to an empty list.\n",
    "for file in os.listdir(data_dir):\n",
    "    if file.endswith('.parquet'):\n",
    "        file_list.append(file)\n",
    "        \n",
    "# Now I'll iterate over the file_list and read each in to one dataframe, aggregating all of the data.\n",
    "tables = []\n",
    "\n",
    "for filename in file_list:\n",
    "    df = pd.read_parquet(filename)\n",
    "    df['state'] = filename[0:2]\n",
    "    tables.append(df)\n",
    "\n",
    "raw_data = pd.concat(tables, ignore_index=True)\n",
    "raw_data.head()"
   ]
  },
  {
   "cell_type": "markdown",
   "id": "70acdbd9",
   "metadata": {},
   "source": [
    "Ok, now that the dataframe has been assembled it's time to explore it."
   ]
  },
  {
   "cell_type": "code",
   "execution_count": 8,
   "id": "3fcdf897",
   "metadata": {},
   "outputs": [
    {
     "data": {
      "text/plain": [
       "(2041551, 81)"
      ]
     },
     "execution_count": 8,
     "metadata": {},
     "output_type": "execute_result"
    }
   ],
   "source": [
    "raw_data.shape"
   ]
  },
  {
   "cell_type": "code",
   "execution_count": 9,
   "id": "18d508aa",
   "metadata": {},
   "outputs": [
    {
     "data": {
      "text/plain": [
       "Index(['data_provider_1', 'data_provider_2', 'system_id_1', 'system_id_2',\n",
       "       'installation_date', 'system_size_dc', 'total_installed_price',\n",
       "       'rebate_or_grant', 'customer_segment', 'expansion_system',\n",
       "       'multiple_phase_system', 'new_construction', 'tracking',\n",
       "       'ground_mounted', 'zip_code', 'city', 'utility_service_territory',\n",
       "       'third_party_owned', 'installer_name', 'self_installed', 'azimuth_1',\n",
       "       'azimuth_2', 'azimuth_3', 'tilt_1', 'tilt_2', 'tilt_3',\n",
       "       'module_manufacturer_1', 'module_model_1', 'module_quantity_1',\n",
       "       'module_manufacturer_2', 'module_model_2', 'module_quantity_2',\n",
       "       'module_manufacturer_3', 'module_model_3', 'module_quantity_3',\n",
       "       'additional_modules', 'technology_module_1', 'technology_module_2',\n",
       "       'technology_module_3', 'bipv_module_1', 'bipv_module_2',\n",
       "       'bipv_module_3', 'bifacial_module_1', 'bifacial_module_2',\n",
       "       'bifacial_module_3', 'nameplate_capacity_module_1',\n",
       "       'nameplate_capacity_module_2', 'nameplate_capacity_module_3',\n",
       "       'efficiency_module_1', 'efficiency_module_2', 'efficiency_module_3',\n",
       "       'inverter_manufacturer_1', 'inverter_model_1', 'inverter_quantity_1',\n",
       "       'inverter_manufacturer_2', 'inverter_model_2', 'inverter_quantity_2',\n",
       "       'inverter_manufacturer_3', 'inverter_model_3', 'inverter_quantity_3',\n",
       "       'additional_inverters', 'micro_inverter_1', 'micro_inverter_2',\n",
       "       'micro_inverter_3', 'solar_storage_hybrid_inverter_1',\n",
       "       'solar_storage_hybrid_inverter_2', 'solar_storage_hybrid_inverter_3',\n",
       "       'built_in_meter_inverter_1', 'built_in_meter_inverter_2',\n",
       "       'built_in_meter_inverter_3', 'output_capacity_inverter_1',\n",
       "       'output_capacity_inverter_2', 'output_capacity_inverter_3',\n",
       "       'dc_optimizer', 'inverter_loading_ratio', 'date_of_battery_install',\n",
       "       'battery_manufacturer', 'battery_model', 'battery_rated_capacity_kw',\n",
       "       'battery_rated_capacity_kwh', 'state'],\n",
       "      dtype='object')"
      ]
     },
     "execution_count": 9,
     "metadata": {},
     "output_type": "execute_result"
    }
   ],
   "source": [
    "raw_data.columns"
   ]
  },
  {
   "cell_type": "code",
   "execution_count": 10,
   "id": "a6897a8d",
   "metadata": {},
   "outputs": [
    {
     "name": "stdout",
     "output_type": "stream",
     "text": [
      "{datetime64[ns]: ['installation_date', 'date_of_battery_install'], int32: ['expansion_system', 'multiple_phase_system', 'new_construction', 'tracking', 'ground_mounted', 'third_party_owned', 'self_installed', 'module_quantity_1', 'module_quantity_2', 'module_quantity_3', 'additional_modules', 'bipv_module_1', 'bipv_module_2', 'bipv_module_3', 'bifacial_module_1', 'bifacial_module_2', 'bifacial_module_3', 'nameplate_capacity_module_1', 'nameplate_capacity_module_2', 'nameplate_capacity_module_3', 'inverter_quantity_1', 'inverter_quantity_2', 'inverter_quantity_3', 'additional_inverters', 'micro_inverter_1', 'micro_inverter_2', 'micro_inverter_3', 'solar_storage_hybrid_inverter_1', 'solar_storage_hybrid_inverter_2', 'solar_storage_hybrid_inverter_3', 'built_in_meter_inverter_1', 'built_in_meter_inverter_2', 'built_in_meter_inverter_3', 'output_capacity_inverter_1', 'output_capacity_inverter_2', 'output_capacity_inverter_3', 'dc_optimizer'], float64: ['system_size_dc', 'total_installed_price', 'rebate_or_grant', 'azimuth_1', 'azimuth_2', 'azimuth_3', 'tilt_1', 'tilt_2', 'tilt_3', 'efficiency_module_1', 'efficiency_module_2', 'efficiency_module_3', 'inverter_loading_ratio', 'battery_rated_capacity_kw', 'battery_rated_capacity_kwh'], object: ['data_provider_1', 'data_provider_2', 'system_id_1', 'system_id_2', 'customer_segment', 'zip_code', 'city', 'utility_service_territory', 'installer_name', 'module_manufacturer_1', 'module_model_1', 'module_manufacturer_2', 'module_model_2', 'module_manufacturer_3', 'module_model_3', 'technology_module_1', 'technology_module_2', 'technology_module_3', 'inverter_manufacturer_1', 'inverter_model_1', 'inverter_manufacturer_2', 'inverter_model_2', 'inverter_manufacturer_3', 'inverter_model_3', 'battery_manufacturer', 'battery_model', 'state']}\n"
     ]
    }
   ],
   "source": [
    "col = raw_data.columns.to_series().groupby(df.dtypes).groups\n",
    "print(col)"
   ]
  },
  {
   "cell_type": "markdown",
   "id": "2824163c",
   "metadata": {},
   "source": [
    "Right now I'm missing a state column, and zip code is object type when it seems like it should be an integer.\n",
    "\n",
    "First I'll check to see if any zip codes are longer than the expected 5 digits."
   ]
  },
  {
   "cell_type": "code",
   "execution_count": 11,
   "id": "40017188",
   "metadata": {},
   "outputs": [
    {
     "data": {
      "text/plain": [
       "118255    85040-2753\n",
       "118256    85119-3855\n",
       "118258    85204-3816\n",
       "118259    85209-1428\n",
       "118267    85143-5600\n",
       "Name: zip_code, dtype: object"
      ]
     },
     "execution_count": 11,
     "metadata": {},
     "output_type": "execute_result"
    }
   ],
   "source": [
    "long_zip = raw_data[raw_data['zip_code'].str.len() > 5]\n",
    "long_zip['zip_code'].head()"
   ]
  },
  {
   "cell_type": "markdown",
   "id": "ef964d31",
   "metadata": {},
   "source": [
    "Ok, so it's an object because it includes 9-digit zip codes. That's fine, I'll leave it unchanged for now. \n",
    "\n",
    "Before I create a state column I'll pare down the data to only applicable rows. This means just residential installations from 2021 that are not missing 'total_installed_price' values"
   ]
  },
  {
   "cell_type": "code",
   "execution_count": 12,
   "id": "38639d01",
   "metadata": {},
   "outputs": [
    {
     "name": "stdout",
     "output_type": "stream",
     "text": [
      "['RES' 'NON-PROFIT' 'COM' 'GOV' 'NON-RES' 'SCHOOL' '-1']\n"
     ]
    }
   ],
   "source": [
    "print(raw_data['customer_segment'].unique())"
   ]
  },
  {
   "cell_type": "code",
   "execution_count": 13,
   "id": "f3ada64d",
   "metadata": {},
   "outputs": [
    {
     "data": {
      "text/plain": [
       "(1948072, 81)"
      ]
     },
     "execution_count": 13,
     "metadata": {},
     "output_type": "execute_result"
    }
   ],
   "source": [
    "# Now I'll subset the data to just residential installations\n",
    "res_data = raw_data[raw_data['customer_segment'] == 'RES']\n",
    "res_data.shape"
   ]
  },
  {
   "cell_type": "code",
   "execution_count": 14,
   "id": "cca6493c",
   "metadata": {},
   "outputs": [
    {
     "data": {
      "text/plain": [
       "1971.0         1\n",
       "1985.0         3\n",
       "1986.0         6\n",
       "1988.0         5\n",
       "1989.0         5\n",
       "1990.0         6\n",
       "1991.0        10\n",
       "1992.0         8\n",
       "1993.0         4\n",
       "1994.0         7\n",
       "1995.0        10\n",
       "1996.0         8\n",
       "1997.0        12\n",
       "1998.0        32\n",
       "1999.0       170\n",
       "2000.0       175\n",
       "2001.0      1139\n",
       "2002.0      2181\n",
       "2003.0      2818\n",
       "2004.0      4956\n",
       "2005.0      5052\n",
       "2006.0      8309\n",
       "2007.0     12497\n",
       "2008.0     14394\n",
       "2009.0     26267\n",
       "2010.0     36691\n",
       "2011.0     47583\n",
       "2012.0     66465\n",
       "2013.0    103238\n",
       "2014.0    154819\n",
       "2015.0    245536\n",
       "2016.0    278337\n",
       "2017.0    218597\n",
       "2018.0    223471\n",
       "2019.0    240816\n",
       "2020.0    238227\n",
       "2021.0      2266\n",
       "2106.0         8\n",
       "Name: year, dtype: int64"
      ]
     },
     "execution_count": 14,
     "metadata": {},
     "output_type": "execute_result"
    }
   ],
   "source": [
    "res_copy = res_data.copy()\n",
    "res_copy['year'] = res_copy.installation_date.dt.year\n",
    "res_copy['year'].value_counts().sort_index()"
   ]
  },
  {
   "cell_type": "markdown",
   "id": "f6ae294c",
   "metadata": {},
   "source": [
    "Interestingly it looks like there's not actually very much 2021 data in the Parquet files, so I'll use 2020 and 2021 data together to build the model for this project. "
   ]
  },
  {
   "cell_type": "code",
   "execution_count": 15,
   "id": "1e5b239e",
   "metadata": {},
   "outputs": [
    {
     "data": {
      "text/plain": [
       "(240493, 82)"
      ]
     },
     "execution_count": 15,
     "metadata": {},
     "output_type": "execute_result"
    }
   ],
   "source": [
    "newest_data = res_copy[res_copy['installation_date'].dt.year.isin([2020, 2021])]\n",
    "newest_data.shape"
   ]
  },
  {
   "cell_type": "markdown",
   "id": "64412528",
   "metadata": {},
   "source": [
    "Next I want to check how many rows are missing 'total_installed_price' data and remove them since that price is key to calculating the final installed price, which is the key metric for the model. Missing values are indicated as -1 in this dataset."
   ]
  },
  {
   "cell_type": "code",
   "execution_count": 16,
   "id": "1c5dbfac",
   "metadata": {},
   "outputs": [
    {
     "data": {
      "text/plain": [
       "-1.00          32029\n",
       " 0.01              8\n",
       " 0.10              1\n",
       " 1.00           1937\n",
       " 3.25              9\n",
       "               ...  \n",
       " 3680000.00        1\n",
       " 4789800.00        1\n",
       " 7485834.00        1\n",
       " 8255000.00        1\n",
       " 9887777.00        1\n",
       "Name: total_installed_price, Length: 78725, dtype: int64"
      ]
     },
     "execution_count": 16,
     "metadata": {},
     "output_type": "execute_result"
    }
   ],
   "source": [
    "newest_data['total_installed_price'].value_counts().sort_index()"
   ]
  },
  {
   "cell_type": "markdown",
   "id": "b055f80c",
   "metadata": {},
   "source": [
    "While I don't believe that any solar panel installations actually cost \\\\$0.01, \\\\$0.10, or \\\\$1.00, I don't know for sure why they're in there, so I'll check a plot to see if there's an obvious divide between erroneous values and realistic ones. Since price will most likely be linked to 'module_quantity_1' I'll create a scatterplot and look for low price points that appear to be outliers."
   ]
  },
  {
   "cell_type": "code",
   "execution_count": 17,
   "id": "ba50d131",
   "metadata": {},
   "outputs": [
    {
     "data": {
      "image/png": "[encoded data removed]",
      "text/plain": [
       "<Figure size 640x480 with 1 Axes>"
      ]
     },
     "metadata": {},
     "output_type": "display_data"
    }
   ],
   "source": [
    "plt.scatter(newest_data['total_installed_price'],newest_data['module_quantity_1'])\n",
    "plt.xlim(-5, 10000)\n",
    "plt.ylim([-5,100])\n",
    "plt.show()"
   ]
  },
  {
   "cell_type": "markdown",
   "id": "59c45028",
   "metadata": {},
   "source": [
    "As crowded as this plot is, there is an obvious linear correlation in there, and there is also so much variation that there is no easy way to tell what can be considered an outlier at low price points. I'll just remove rows with missing (-1) values in 'total_installed_price' for now."
   ]
  },
  {
   "cell_type": "code",
   "execution_count": 18,
   "id": "27ceb736",
   "metadata": {},
   "outputs": [
    {
     "data": {
      "text/plain": [
       "(208464, 82)"
      ]
     },
     "execution_count": 18,
     "metadata": {},
     "output_type": "execute_result"
    }
   ],
   "source": [
    "missing_sale = newest_data['total_installed_price'] == -1\n",
    "newest_data = newest_data[~missing_sale]\n",
    "newest_data.shape"
   ]
  },
  {
   "cell_type": "markdown",
   "id": "3d7fa884",
   "metadata": {},
   "source": [
    "Now to complete the final price calculation I'll need to recode the missing values in 'rebate_or_grant' from -1 to 0 so they're not affecting the installation price."
   ]
  },
  {
   "cell_type": "code",
   "execution_count": 19,
   "id": "5537e279",
   "metadata": {},
   "outputs": [
    {
     "name": "stdout",
     "output_type": "stream",
     "text": [
      "-1.0\n",
      "0.0\n"
     ]
    }
   ],
   "source": [
    "print(newest_data['rebate_or_grant'].min())\n",
    "newest_data['rebate_or_grant'] = newest_data['rebate_or_grant'].replace(-1, 0)\n",
    "print(newest_data['rebate_or_grant'].min())"
   ]
  },
  {
   "cell_type": "markdown",
   "id": "b64f44aa",
   "metadata": {},
   "source": [
    "Now I'll calculate the 'final_installed_price', which will be the field being modeled, by subtracting any rebates or grants from the total installed price."
   ]
  },
  {
   "cell_type": "code",
   "execution_count": 20,
   "id": "cabc2b4a",
   "metadata": {},
   "outputs": [
    {
     "data": {
      "text/html": [
       "<div>\n",
       "<style scoped>\n",
       "    .dataframe tbody tr th:only-of-type {\n",
       "        vertical-align: middle;\n",
       "    }\n",
       "\n",
       "    .dataframe tbody tr th {\n",
       "        vertical-align: top;\n",
       "    }\n",
       "\n",
       "    .dataframe thead th {\n",
       "        text-align: right;\n",
       "    }\n",
       "</style>\n",
       "<table border=\"1\" class=\"dataframe\">\n",
       "  <thead>\n",
       "    <tr style=\"text-align: right;\">\n",
       "      <th></th>\n",
       "      <th>total_installed_price</th>\n",
       "      <th>rebate_or_grant</th>\n",
       "      <th>final_installed_price</th>\n",
       "    </tr>\n",
       "  </thead>\n",
       "  <tbody>\n",
       "    <tr>\n",
       "      <th>1432399</th>\n",
       "      <td>29089.90</td>\n",
       "      <td>0.0</td>\n",
       "      <td>29089.90</td>\n",
       "    </tr>\n",
       "    <tr>\n",
       "      <th>1432400</th>\n",
       "      <td>14.82</td>\n",
       "      <td>0.0</td>\n",
       "      <td>14.82</td>\n",
       "    </tr>\n",
       "    <tr>\n",
       "      <th>1432401</th>\n",
       "      <td>10688.00</td>\n",
       "      <td>0.0</td>\n",
       "      <td>10688.00</td>\n",
       "    </tr>\n",
       "    <tr>\n",
       "      <th>1432403</th>\n",
       "      <td>59869.18</td>\n",
       "      <td>0.0</td>\n",
       "      <td>59869.18</td>\n",
       "    </tr>\n",
       "    <tr>\n",
       "      <th>1432404</th>\n",
       "      <td>22596.68</td>\n",
       "      <td>0.0</td>\n",
       "      <td>22596.68</td>\n",
       "    </tr>\n",
       "  </tbody>\n",
       "</table>\n",
       "</div>"
      ],
      "text/plain": [
       "         total_installed_price  rebate_or_grant  final_installed_price\n",
       "1432399               29089.90              0.0               29089.90\n",
       "1432400                  14.82              0.0                  14.82\n",
       "1432401               10688.00              0.0               10688.00\n",
       "1432403               59869.18              0.0               59869.18\n",
       "1432404               22596.68              0.0               22596.68"
      ]
     },
     "execution_count": 20,
     "metadata": {},
     "output_type": "execute_result"
    }
   ],
   "source": [
    "newest_data['final_installed_price'] = newest_data['total_installed_price'] - newest_data['rebate_or_grant']\n",
    "newest_data.iloc[159900:159905][['total_installed_price', 'rebate_or_grant', 'final_installed_price']]"
   ]
  },
  {
   "cell_type": "markdown",
   "id": "68b5deed",
   "metadata": {},
   "source": [
    "Now I want to check the proportion of each column that is missing data. I may be able to remove some columns if they are mostly missing values that will skew the model. I'll start with the object columns, then move to integer columns."
   ]
  },
  {
   "cell_type": "code",
   "execution_count": 21,
   "id": "a308af47",
   "metadata": {},
   "outputs": [
    {
     "name": "stdout",
     "output_type": "stream",
     "text": [
      "inverter_manufacturer_2            100.000000\n",
      "inverter_model_2                   100.000000\n",
      "inverter_manufacturer_3            100.000000\n",
      "inverter_model_3                   100.000000\n",
      "technology_module_3                 97.781871\n",
      "module_manufacturer_3               97.781392\n",
      "module_model_3                      97.781392\n",
      "system_id_2                         95.007291\n",
      "data_provider_2                     94.978030\n",
      "battery_model                       94.514640\n",
      "battery_manufacturer                94.271433\n",
      "technology_module_2                 93.726495\n",
      "module_manufacturer_2               93.712583\n",
      "module_model_2                      93.712583\n",
      "inverter_manufacturer_1             11.681633\n",
      "inverter_model_1                    11.681154\n",
      "technology_module_1                 10.684339\n",
      "module_manufacturer_1               10.683859\n",
      "module_model_1                      10.683859\n",
      "city                                 8.493553\n",
      "zip_code                             5.932439\n",
      "system_id_1                          3.866375\n",
      "utility_service_territory            2.974614\n",
      "installer_name                       2.171598\n",
      "inverter_quantity_3                  0.000000\n",
      "inverter_quantity_2                  0.000000\n",
      "inverter_quantity_1                  0.000000\n",
      "additional_inverters                 0.000000\n",
      "micro_inverter_1                     0.000000\n",
      "micro_inverter_2                     0.000000\n",
      "data_provider_1                      0.000000\n",
      "micro_inverter_3                     0.000000\n",
      "solar_storage_hybrid_inverter_1      0.000000\n",
      "year                                 0.000000\n",
      "state                                0.000000\n",
      "battery_rated_capacity_kwh           0.000000\n",
      "battery_rated_capacity_kw            0.000000\n",
      "date_of_battery_install              0.000000\n",
      "inverter_loading_ratio               0.000000\n",
      "dc_optimizer                         0.000000\n",
      "output_capacity_inverter_3           0.000000\n",
      "output_capacity_inverter_2           0.000000\n",
      "output_capacity_inverter_1           0.000000\n",
      "built_in_meter_inverter_3            0.000000\n",
      "built_in_meter_inverter_2            0.000000\n",
      "built_in_meter_inverter_1            0.000000\n",
      "solar_storage_hybrid_inverter_3      0.000000\n",
      "efficiency_module_3                  0.000000\n",
      "solar_storage_hybrid_inverter_2      0.000000\n",
      "bipv_module_3                        0.000000\n",
      "efficiency_module_2                  0.000000\n",
      "azimuth_3                            0.000000\n",
      "installation_date                    0.000000\n",
      "system_size_dc                       0.000000\n",
      "total_installed_price                0.000000\n",
      "rebate_or_grant                      0.000000\n",
      "customer_segment                     0.000000\n",
      "expansion_system                     0.000000\n",
      "multiple_phase_system                0.000000\n",
      "new_construction                     0.000000\n",
      "tracking                             0.000000\n",
      "ground_mounted                       0.000000\n",
      "third_party_owned                    0.000000\n",
      "self_installed                       0.000000\n",
      "azimuth_1                            0.000000\n",
      "azimuth_2                            0.000000\n",
      "tilt_1                               0.000000\n",
      "efficiency_module_1                  0.000000\n",
      "tilt_2                               0.000000\n",
      "tilt_3                               0.000000\n",
      "module_quantity_1                    0.000000\n",
      "module_quantity_2                    0.000000\n",
      "module_quantity_3                    0.000000\n",
      "additional_modules                   0.000000\n",
      "bipv_module_1                        0.000000\n",
      "bipv_module_2                        0.000000\n",
      "bifacial_module_1                    0.000000\n",
      "bifacial_module_2                    0.000000\n",
      "bifacial_module_3                    0.000000\n",
      "nameplate_capacity_module_1          0.000000\n",
      "nameplate_capacity_module_2          0.000000\n",
      "nameplate_capacity_module_3          0.000000\n",
      "final_installed_price                0.000000\n"
     ]
    }
   ],
   "source": [
    "object_missing = (newest_data[newest_data == '-1'].count() / newest_data.count() * 100).sort_values(ascending=False).to_string()\n",
    "print(object_missing)"
   ]
  },
  {
   "cell_type": "code",
   "execution_count": 22,
   "id": "b2b58eee",
   "metadata": {},
   "outputs": [
    {
     "name": "stdout",
     "output_type": "stream",
     "text": [
      "output_capacity_inverter_3         99.968298\n",
      "inverter_quantity_3                99.952510\n",
      "solar_storage_hybrid_inverter_3    99.865684\n",
      "micro_inverter_3                   99.834504\n",
      "built_in_meter_inverter_3          99.834504\n",
      "output_capacity_inverter_2         99.833291\n",
      "inverter_quantity_2                98.866951\n",
      "solar_storage_hybrid_inverter_2    98.795475\n",
      "built_in_meter_inverter_2          98.743668\n",
      "micro_inverter_2                   98.743668\n",
      "tilt_3                             98.074008\n",
      "azimuth_3                          98.074008\n",
      "module_quantity_3                  97.879250\n",
      "efficiency_module_3                97.797701\n",
      "nameplate_capacity_module_3        97.784686\n",
      "bipv_module_3                      97.782831\n",
      "bifacial_module_3                  97.781871\n",
      "new_construction                   95.320535\n",
      "azimuth_2                          94.972753\n",
      "tilt_2                             94.972753\n",
      "battery_rated_capacity_kwh         94.037340\n",
      "module_quantity_2                  93.873762\n",
      "efficiency_module_2                93.808523\n",
      "battery_rated_capacity_kw          93.743764\n",
      "nameplate_capacity_module_2        93.737826\n",
      "bipv_module_2                      93.731292\n",
      "bifacial_module_2                  93.726495\n",
      "output_capacity_inverter_1         79.489240\n",
      "ground_mounted                     27.770742\n",
      "azimuth_1                          22.613017\n",
      "tilt_1                             22.589512\n",
      "tracking                           22.057046\n",
      "inverter_loading_ratio             21.348530\n",
      "additional_modules                 18.290448\n",
      "additional_inverters               18.290448\n",
      "solar_storage_hybrid_inverter_1    17.101754\n",
      "inverter_quantity_1                14.093628\n",
      "module_quantity_1                  14.082048\n",
      "efficiency_module_1                12.105687\n",
      "micro_inverter_1                   11.689788\n",
      "built_in_meter_inverter_1          11.689788\n",
      "bipv_module_1                      11.078172\n",
      "dc_optimizer                       11.052268\n",
      "nameplate_capacity_module_1        10.705034\n",
      "bifacial_module_1                  10.684339\n",
      "third_party_owned                   7.297663\n",
      "self_installed                      6.181883\n",
      "system_size_dc                      0.099298\n",
      "battery_model                       0.000000\n",
      "battery_manufacturer                0.000000\n",
      "date_of_battery_install             0.000000\n",
      "state                               0.000000\n",
      "year                                0.000000\n",
      "inverter_model_3                    0.000000\n",
      "inverter_manufacturer_3             0.000000\n",
      "data_provider_1                     0.000000\n",
      "inverter_model_2                    0.000000\n",
      "installer_name                      0.000000\n",
      "system_id_1                         0.000000\n",
      "system_id_2                         0.000000\n",
      "installation_date                   0.000000\n",
      "total_installed_price               0.000000\n",
      "rebate_or_grant                     0.000000\n",
      "customer_segment                    0.000000\n",
      "expansion_system                    0.000000\n",
      "multiple_phase_system               0.000000\n",
      "zip_code                            0.000000\n",
      "city                                0.000000\n",
      "utility_service_territory           0.000000\n",
      "module_manufacturer_1               0.000000\n",
      "inverter_manufacturer_2             0.000000\n",
      "module_model_1                      0.000000\n",
      "module_manufacturer_2               0.000000\n",
      "module_model_2                      0.000000\n",
      "module_manufacturer_3               0.000000\n",
      "module_model_3                      0.000000\n",
      "technology_module_1                 0.000000\n",
      "technology_module_2                 0.000000\n",
      "technology_module_3                 0.000000\n",
      "data_provider_2                     0.000000\n",
      "inverter_manufacturer_1             0.000000\n",
      "inverter_model_1                    0.000000\n",
      "final_installed_price               0.000000\n"
     ]
    }
   ],
   "source": [
    "int_missing = (newest_data[newest_data == -1].count() / newest_data.count() * 100).sort_values(ascending=False).to_string()\n",
    "print(int_missing)"
   ]
  },
  {
   "cell_type": "markdown",
   "id": "8e273ff7",
   "metadata": {},
   "source": [
    "There are four columns that are 100% missing data, so I'll remove them now and then look through a Pandas Profiling report to check the other mostly-missing columns for any correlation to the price that might be worth keeping them in."
   ]
  },
  {
   "cell_type": "code",
   "execution_count": 29,
   "id": "9715fb4b",
   "metadata": {},
   "outputs": [
    {
     "data": {
      "text/plain": [
       "(208464, 55)"
      ]
     },
     "execution_count": 29,
     "metadata": {},
     "output_type": "execute_result"
    }
   ],
   "source": [
    "empty_objs = (newest_data[newest_data == '-1'].count() / newest_data.count() * 100) > 75\n",
    "empty_ints = (newest_data[newest_data == -1].count() / newest_data.count() * 100) > 75\n",
    "reduced_data = newest_data[newest_data.columns[~empty_objs]]\n",
    "reduced_data = newest_data[newest_data.columns[~empty_ints]]\n",
    "reduced_data.shape"
   ]
  },
  {
   "cell_type": "code",
   "execution_count": null,
   "id": "ef3b8c3d",
   "metadata": {},
   "outputs": [],
   "source": []
  },
  {
   "cell_type": "code",
   "execution_count": null,
   "id": "ea8b2d51",
   "metadata": {},
   "outputs": [],
   "source": []
  },
  {
   "cell_type": "code",
   "execution_count": null,
   "id": "24874544",
   "metadata": {},
   "outputs": [],
   "source": []
  },
  {
   "cell_type": "code",
   "execution_count": null,
   "id": "a737add7",
   "metadata": {},
   "outputs": [],
   "source": []
  },
  {
   "cell_type": "code",
   "execution_count": null,
   "id": "85131b97",
   "metadata": {},
   "outputs": [],
   "source": []
  }
 ],
 "metadata": {
  "kernelspec": {
   "display_name": "Python 3 (ipykernel)",
   "language": "python",
   "name": "python3"
  },
  "language_info": {
   "codemirror_mode": {
    "name": "ipython",
    "version": 3
   },
   "file_extension": ".py",
   "mimetype": "text/x-python",
   "name": "python",
   "nbconvert_exporter": "python",
   "pygments_lexer": "ipython3",
   "version": "3.9.13"
  }
 },
 "nbformat": 4,
 "nbformat_minor": 5
}
