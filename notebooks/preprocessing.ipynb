{
 "cells": [
  {
   "cell_type": "markdown",
   "id": "beb035ae",
   "metadata": {},
   "source": [
    "# Getting the most solar power for your dollar\n",
    "## Preprocessing and feature engineering\n",
    "### Zachary Brown\n",
    "\n",
    "The data has been cleaned and preliminary analysis has identified some trends we should expect to see the eventual model pick up on. Now I'm going to preprocess the data so that any models I work with can use the data appropriately. This will include imputing missing data, feature engineering, scaling, and splitting the data into testing and training datasets.\n",
    "\n",
    "I'll start by loading the necessary packages and reading in the data from the exploratory data analysis portion of the project."
   ]
  },
  {
   "cell_type": "code",
   "execution_count": 1,
   "id": "fe7e8cfd",
   "metadata": {},
   "outputs": [],
   "source": [
    "import os\n",
    "import numpy as np\n",
    "import pandas as pd\n",
    "import matplotlib.pyplot as plt\n",
    "import seaborn as sns\n",
    "sns.set_theme('notebook')\n",
    "import scipy.stats\n",
    "from sklearn.model_selection import train_test_split"
   ]
  },
  {
   "cell_type": "code",
   "execution_count": 2,
   "id": "1e62ee15",
   "metadata": {},
   "outputs": [
    {
     "name": "stdout",
     "output_type": "stream",
     "text": [
      "C:\\Users\\Zachary Brown\\Documents\\GitHub\\Solar-Panel-Capstone\\notebooks\n",
      "C:\\Users\\Zachary Brown\\Documents\\GitHub\\Solar-Panel-Capstone\\data\\processed\n"
     ]
    }
   ],
   "source": [
    "print(os.getcwd())\n",
    "os.chdir(r\"..\\data\\processed\")\n",
    "print(os.getcwd())"
   ]
  },
  {
   "cell_type": "code",
   "execution_count": 3,
   "id": "4aa21dce",
   "metadata": {},
   "outputs": [
    {
     "data": {
      "text/plain": [
       "(208257, 57)"
      ]
     },
     "execution_count": 3,
     "metadata": {},
     "output_type": "execute_result"
    }
   ],
   "source": [
    "data = pd.read_csv('processed_data.csv', index_col=0, na_values = [-1, '-1'], low_memory=False)\n",
    "data.shape"
   ]
  },
  {
   "cell_type": "code",
   "execution_count": 4,
   "id": "703f66c9",
   "metadata": {},
   "outputs": [
    {
     "data": {
      "text/plain": [
       "{int64: ['expansion_system', 'multiple_phase_system', 'year', 'month', 'state_AZ', 'state_CA', 'state_CO', 'state_CT', 'state_DE', 'state_FL', 'state_MA', 'state_MD', 'state_MN', 'state_NH', 'state_NM', 'state_NY', 'state_RI', 'state_TX', 'state_UT', 'state_WI'], float64: ['system_size_dc', 'total_installed_price', 'rebate_or_grant', 'tracking', 'ground_mounted', 'third_party_owned', 'self_installed', 'azimuth_1', 'tilt_1', 'module_quantity_1', 'additional_modules', 'bipv_module_1', 'bifacial_module_1', 'nameplate_capacity_module_1', 'efficiency_module_1', 'inverter_quantity_1', 'additional_inverters', 'micro_inverter_1', 'solar_storage_hybrid_inverter_1', 'built_in_meter_inverter_1', 'dc_optimizer', 'inverter_loading_ratio', 'price_per_kw'], object: ['data_provider_1', 'system_id_1', 'installation_date', 'customer_segment', 'zip_code', 'city', 'utility_service_territory', 'installer_name', 'module_manufacturer_1', 'module_model_1', 'technology_module_1', 'inverter_manufacturer_1', 'inverter_model_1', 'date_of_battery_install']}"
      ]
     },
     "execution_count": 4,
     "metadata": {},
     "output_type": "execute_result"
    }
   ],
   "source": [
    "data.columns.groupby(data.dtypes)"
   ]
  },
  {
   "cell_type": "markdown",
   "id": "a2e39b4e",
   "metadata": {},
   "source": [
    "I'm going to first remove city since the goal of my project is just to analyze cost efficiency at the state level. Zip code may give some interesting insights on a more granular level, but I don't see additional value in keeping city."
   ]
  },
  {
   "cell_type": "code",
   "execution_count": 5,
   "id": "2c83e519",
   "metadata": {},
   "outputs": [],
   "source": [
    "data=data.drop(columns=['city'])"
   ]
  },
  {
   "cell_type": "markdown",
   "id": "04983731",
   "metadata": {},
   "source": [
    "I'm going to check how many zip codes are in the dataset, convert them from 9 digit to 5, and then check to see how many times the top five unique zip codes are present in the dataset."
   ]
  },
  {
   "cell_type": "code",
   "execution_count": 6,
   "id": "d81d0f7d",
   "metadata": {},
   "outputs": [
    {
     "data": {
      "text/plain": [
       "7602"
      ]
     },
     "execution_count": 6,
     "metadata": {},
     "output_type": "execute_result"
    }
   ],
   "source": [
    "data['zip_code'].nunique()"
   ]
  },
  {
   "cell_type": "code",
   "execution_count": 7,
   "id": "cd8d41f5",
   "metadata": {},
   "outputs": [],
   "source": [
    "data['zip_code'] = data['zip_code'].str[0:5]"
   ]
  },
  {
   "cell_type": "code",
   "execution_count": 8,
   "id": "72d15bb0",
   "metadata": {},
   "outputs": [
    {
     "name": "stdout",
     "output_type": "stream",
     "text": [
      "4113\n"
     ]
    },
    {
     "data": {
      "text/plain": [
       "92584    1141\n",
       "92058    1128\n",
       "92336    1047\n",
       "93727     982\n",
       "95762     908\n",
       "Name: zip_code, dtype: int64"
      ]
     },
     "execution_count": 8,
     "metadata": {},
     "output_type": "execute_result"
    }
   ],
   "source": [
    "print(data['zip_code'].nunique())\n",
    "data['zip_code'].value_counts().head()"
   ]
  },
  {
   "cell_type": "markdown",
   "id": "920597df",
   "metadata": {},
   "source": [
    "So it looks like removing the last four digits from the zip code reduced some of the variance, but even so none of the zip codes are used very much relative to the 200,000 entries the dataset has. I'll check how many zip codes have more than 500 entries and then decide on a threshold for which should get dummy columns."
   ]
  },
  {
   "cell_type": "code",
   "execution_count": 9,
   "id": "0c8d09df",
   "metadata": {},
   "outputs": [
    {
     "name": "stdout",
     "output_type": "stream",
     "text": [
      "43\n"
     ]
    }
   ],
   "source": [
    "print((data['zip_code'].value_counts() > 500).sum())"
   ]
  },
  {
   "cell_type": "markdown",
   "id": "a1a3de4b",
   "metadata": {},
   "source": [
    "Right now I have 57 features in my data. A general rule of thumb is to keep the number of features limited to the square root of the number of entries in the data. For this dataset that means I should stick to 456 or fewer features. With that said, I have plenty of room to add 43 dummy columns for specific zip codes and then one other for any zip codes or missing data not included in those 43. Lastly I'll drop the original zip_code column since it will now be redundant."
   ]
  },
  {
   "cell_type": "code",
   "execution_count": 10,
   "id": "ff3ffd46",
   "metadata": {},
   "outputs": [
    {
     "data": {
      "text/plain": [
       "(208257, 100)"
      ]
     },
     "execution_count": 10,
     "metadata": {},
     "output_type": "execute_result"
    }
   ],
   "source": [
    "data['zip_other'] = 0\n",
    "small_zips = []\n",
    "\n",
    "for zipcode in data['zip_code'].unique():\n",
    "    if data['zip_code'].value_counts(dropna=False)[zipcode] > 500:\n",
    "        data[f'zip_{zipcode}'] = (data['zip_code'] == zipcode)*1\n",
    "    else:\n",
    "        small_zips.append(zipcode)\n",
    "        \n",
    "data.loc[data['zip_code'].isin(small_zips), 'zip_other'] = 1 \n",
    "data = data.drop(columns=['zip_code'])\n",
    "data.shape"
   ]
  },
  {
   "cell_type": "code",
   "execution_count": 11,
   "id": "0afc7986",
   "metadata": {},
   "outputs": [
    {
     "data": {
      "text/html": [
       "<div>\n",
       "<style scoped>\n",
       "    .dataframe tbody tr th:only-of-type {\n",
       "        vertical-align: middle;\n",
       "    }\n",
       "\n",
       "    .dataframe tbody tr th {\n",
       "        vertical-align: top;\n",
       "    }\n",
       "\n",
       "    .dataframe thead th {\n",
       "        text-align: right;\n",
       "    }\n",
       "</style>\n",
       "<table border=\"1\" class=\"dataframe\">\n",
       "  <thead>\n",
       "    <tr style=\"text-align: right;\">\n",
       "      <th></th>\n",
       "      <th>data_provider_1</th>\n",
       "      <th>system_id_1</th>\n",
       "      <th>installation_date</th>\n",
       "      <th>system_size_dc</th>\n",
       "      <th>total_installed_price</th>\n",
       "      <th>rebate_or_grant</th>\n",
       "      <th>customer_segment</th>\n",
       "      <th>expansion_system</th>\n",
       "      <th>multiple_phase_system</th>\n",
       "      <th>tracking</th>\n",
       "      <th>...</th>\n",
       "      <th>zip_92130</th>\n",
       "      <th>zip_92064</th>\n",
       "      <th>zip_92127</th>\n",
       "      <th>zip_92078</th>\n",
       "      <th>zip_91913</th>\n",
       "      <th>zip_92129</th>\n",
       "      <th>zip_94513</th>\n",
       "      <th>zip_92883</th>\n",
       "      <th>zip_92618</th>\n",
       "      <th>zip_92058</th>\n",
       "    </tr>\n",
       "  </thead>\n",
       "  <tbody>\n",
       "    <tr>\n",
       "      <th>108019</th>\n",
       "      <td>Arizona Public Service</td>\n",
       "      <td>107903</td>\n",
       "      <td>2020-06-17</td>\n",
       "      <td>5.760</td>\n",
       "      <td>17488.26</td>\n",
       "      <td>0.0</td>\n",
       "      <td>RES</td>\n",
       "      <td>0</td>\n",
       "      <td>0</td>\n",
       "      <td>NaN</td>\n",
       "      <td>...</td>\n",
       "      <td>0</td>\n",
       "      <td>0</td>\n",
       "      <td>0</td>\n",
       "      <td>0</td>\n",
       "      <td>0</td>\n",
       "      <td>0</td>\n",
       "      <td>0</td>\n",
       "      <td>0</td>\n",
       "      <td>0</td>\n",
       "      <td>0</td>\n",
       "    </tr>\n",
       "    <tr>\n",
       "      <th>108020</th>\n",
       "      <td>Arizona Public Service</td>\n",
       "      <td>107904</td>\n",
       "      <td>2020-06-17</td>\n",
       "      <td>8.750</td>\n",
       "      <td>22631.00</td>\n",
       "      <td>0.0</td>\n",
       "      <td>RES</td>\n",
       "      <td>0</td>\n",
       "      <td>0</td>\n",
       "      <td>NaN</td>\n",
       "      <td>...</td>\n",
       "      <td>0</td>\n",
       "      <td>0</td>\n",
       "      <td>0</td>\n",
       "      <td>0</td>\n",
       "      <td>0</td>\n",
       "      <td>0</td>\n",
       "      <td>0</td>\n",
       "      <td>0</td>\n",
       "      <td>0</td>\n",
       "      <td>0</td>\n",
       "    </tr>\n",
       "    <tr>\n",
       "      <th>108142</th>\n",
       "      <td>Arizona Public Service</td>\n",
       "      <td>108026</td>\n",
       "      <td>2020-06-19</td>\n",
       "      <td>4.725</td>\n",
       "      <td>18972.00</td>\n",
       "      <td>0.0</td>\n",
       "      <td>RES</td>\n",
       "      <td>0</td>\n",
       "      <td>0</td>\n",
       "      <td>NaN</td>\n",
       "      <td>...</td>\n",
       "      <td>0</td>\n",
       "      <td>0</td>\n",
       "      <td>0</td>\n",
       "      <td>0</td>\n",
       "      <td>0</td>\n",
       "      <td>0</td>\n",
       "      <td>0</td>\n",
       "      <td>0</td>\n",
       "      <td>0</td>\n",
       "      <td>0</td>\n",
       "    </tr>\n",
       "    <tr>\n",
       "      <th>108175</th>\n",
       "      <td>Arizona Public Service</td>\n",
       "      <td>108059</td>\n",
       "      <td>2020-06-22</td>\n",
       "      <td>3.550</td>\n",
       "      <td>9900.00</td>\n",
       "      <td>0.0</td>\n",
       "      <td>RES</td>\n",
       "      <td>0</td>\n",
       "      <td>0</td>\n",
       "      <td>NaN</td>\n",
       "      <td>...</td>\n",
       "      <td>0</td>\n",
       "      <td>0</td>\n",
       "      <td>0</td>\n",
       "      <td>0</td>\n",
       "      <td>0</td>\n",
       "      <td>0</td>\n",
       "      <td>0</td>\n",
       "      <td>0</td>\n",
       "      <td>0</td>\n",
       "      <td>0</td>\n",
       "    </tr>\n",
       "    <tr>\n",
       "      <th>108233</th>\n",
       "      <td>Arizona Public Service</td>\n",
       "      <td>108117</td>\n",
       "      <td>2020-06-23</td>\n",
       "      <td>5.850</td>\n",
       "      <td>20475.00</td>\n",
       "      <td>0.0</td>\n",
       "      <td>RES</td>\n",
       "      <td>0</td>\n",
       "      <td>0</td>\n",
       "      <td>NaN</td>\n",
       "      <td>...</td>\n",
       "      <td>0</td>\n",
       "      <td>0</td>\n",
       "      <td>0</td>\n",
       "      <td>0</td>\n",
       "      <td>0</td>\n",
       "      <td>0</td>\n",
       "      <td>0</td>\n",
       "      <td>0</td>\n",
       "      <td>0</td>\n",
       "      <td>0</td>\n",
       "    </tr>\n",
       "  </tbody>\n",
       "</table>\n",
       "<p>5 rows × 100 columns</p>\n",
       "</div>"
      ],
      "text/plain": [
       "               data_provider_1 system_id_1 installation_date  system_size_dc  \\\n",
       "108019  Arizona Public Service      107903        2020-06-17           5.760   \n",
       "108020  Arizona Public Service      107904        2020-06-17           8.750   \n",
       "108142  Arizona Public Service      108026        2020-06-19           4.725   \n",
       "108175  Arizona Public Service      108059        2020-06-22           3.550   \n",
       "108233  Arizona Public Service      108117        2020-06-23           5.850   \n",
       "\n",
       "        total_installed_price  rebate_or_grant customer_segment  \\\n",
       "108019               17488.26              0.0              RES   \n",
       "108020               22631.00              0.0              RES   \n",
       "108142               18972.00              0.0              RES   \n",
       "108175                9900.00              0.0              RES   \n",
       "108233               20475.00              0.0              RES   \n",
       "\n",
       "        expansion_system  multiple_phase_system  tracking  ...  zip_92130  \\\n",
       "108019                 0                      0       NaN  ...          0   \n",
       "108020                 0                      0       NaN  ...          0   \n",
       "108142                 0                      0       NaN  ...          0   \n",
       "108175                 0                      0       NaN  ...          0   \n",
       "108233                 0                      0       NaN  ...          0   \n",
       "\n",
       "       zip_92064  zip_92127 zip_92078  zip_91913  zip_92129  zip_94513  \\\n",
       "108019         0          0         0          0          0          0   \n",
       "108020         0          0         0          0          0          0   \n",
       "108142         0          0         0          0          0          0   \n",
       "108175         0          0         0          0          0          0   \n",
       "108233         0          0         0          0          0          0   \n",
       "\n",
       "       zip_92883 zip_92618  zip_92058  \n",
       "108019         0         0          0  \n",
       "108020         0         0          0  \n",
       "108142         0         0          0  \n",
       "108175         0         0          0  \n",
       "108233         0         0          0  \n",
       "\n",
       "[5 rows x 100 columns]"
      ]
     },
     "execution_count": 11,
     "metadata": {},
     "output_type": "execute_result"
    }
   ],
   "source": [
    "data.head()"
   ]
  },
  {
   "cell_type": "markdown",
   "id": "8327fb6a",
   "metadata": {},
   "source": [
    "I want to check each column for the percentage of values that are missing, and remove any features with more than 30% missing values"
   ]
  },
  {
   "cell_type": "code",
   "execution_count": 12,
   "id": "a6d2ef25",
   "metadata": {},
   "outputs": [
    {
     "data": {
      "text/plain": [
       "date_of_battery_install    93.650634\n",
       "ground_mounted             27.698949\n",
       "azimuth_1                  22.536097\n",
       "tilt_1                     22.512569\n",
       "tracking                   21.979573\n",
       "                             ...    \n",
       "state_RI                    0.000000\n",
       "state_NM                    0.000000\n",
       "state_NH                    0.000000\n",
       "state_MN                    0.000000\n",
       "zip_92058                   0.000000\n",
       "Length: 100, dtype: float64"
      ]
     },
     "execution_count": 12,
     "metadata": {},
     "output_type": "execute_result"
    }
   ],
   "source": [
    "percent_missing = data.isnull().sum()/len(data)*100\n",
    "percent_missing.sort_values(ascending=False)"
   ]
  },
  {
   "cell_type": "markdown",
   "id": "44fde421",
   "metadata": {},
   "source": [
    "The only feature that needs to be removed due to null values is 'date_of_battery_install'. "
   ]
  },
  {
   "cell_type": "code",
   "execution_count": 13,
   "id": "860d0ec4",
   "metadata": {},
   "outputs": [],
   "source": [
    "data=data.drop(columns=['date_of_battery_install'])"
   ]
  },
  {
   "cell_type": "markdown",
   "id": "43abc67a",
   "metadata": {},
   "source": [
    "Next I want to browse the object columns and count how many unique values each has. If a feature has too many or only one unique value they won't help identify any trends."
   ]
  },
  {
   "cell_type": "code",
   "execution_count": 14,
   "id": "0b464e59",
   "metadata": {},
   "outputs": [
    {
     "name": "stdout",
     "output_type": "stream",
     "text": [
      "data_provider_1  :  22\n",
      "system_id_1  :  200022\n",
      "installation_date  :  530\n",
      "customer_segment  :  1\n",
      "utility_service_territory  :  71\n",
      "installer_name  :  2640\n",
      "module_manufacturer_1  :  156\n",
      "module_model_1  :  2459\n",
      "technology_module_1  :  6\n",
      "inverter_manufacturer_1  :  63\n",
      "inverter_model_1  :  628\n"
     ]
    }
   ],
   "source": [
    "for col in data.columns:\n",
    "    if data[col].dtypes == 'object':\n",
    "        print(col, ' : ', data[col].nunique())"
   ]
  },
  {
   "cell_type": "markdown",
   "id": "79dfe0d3",
   "metadata": {},
   "source": [
    "Based on these results it should be safe to remove system_id_1, as that has a unique value for almost every entry. I'll also drop customer_segment since earlier in the project I limited the dataset to only residential installations. "
   ]
  },
  {
   "cell_type": "code",
   "execution_count": 15,
   "id": "5d73acbd",
   "metadata": {},
   "outputs": [],
   "source": [
    "data = data.drop(columns=['system_id_1', 'customer_segment'])"
   ]
  },
  {
   "cell_type": "markdown",
   "id": "1d207fb7",
   "metadata": {},
   "source": [
    "Great! Now I need to encode these categorical features as I did with the states earlier. To do so I'll check the number of entries for each unique value for any feature with more than 30 unique values (anything below 30 I'll just dummy encode like I did with states). If certain values appear in more than 10% of the entries then I'll check to see if they correlate with price per KW when compared against all other values for that feature."
   ]
  },
  {
   "cell_type": "code",
   "execution_count": 16,
   "id": "df935cbe",
   "metadata": {},
   "outputs": [
    {
     "data": {
      "text/plain": [
       "(208257, 123)"
      ]
     },
     "execution_count": 16,
     "metadata": {},
     "output_type": "execute_result"
    }
   ],
   "source": [
    "data = pd.get_dummies(data, columns=['technology_module_1', 'data_provider_1'])\n",
    "data.shape"
   ]
  },
  {
   "cell_type": "code",
   "execution_count": 17,
   "id": "3df4cb96",
   "metadata": {},
   "outputs": [
    {
     "name": "stdout",
     "output_type": "stream",
     "text": [
      "installation_date :\n",
      " Series([], Name: installation_date, dtype: float64) \n",
      "\n",
      "utility_service_territory :\n",
      " Pacific Gas and Electric      0.335612\n",
      "Southern California Edison    0.234652\n",
      "San Diego Gas and Electric    0.133875\n",
      "Name: utility_service_territory, dtype: float64 \n",
      "\n",
      "installer_name :\n",
      " Series([], Name: installer_name, dtype: float64) \n",
      "\n",
      "module_manufacturer_1 :\n",
      " Hanwha Q CELLS    0.247698\n",
      "SunPower          0.142499\n",
      "LG Electronics    0.113074\n",
      "Name: module_manufacturer_1, dtype: float64 \n",
      "\n",
      "module_model_1 :\n",
      " Series([], Name: module_model_1, dtype: float64) \n",
      "\n",
      "inverter_manufacturer_1 :\n",
      " SolarEdge Technologies    0.460987\n",
      "Enphase Energy            0.283978\n",
      "SunPower                  0.118618\n",
      "Name: inverter_manufacturer_1, dtype: float64 \n",
      "\n",
      "inverter_model_1 :\n",
      " IQ7-60-2-US [240V]    0.129174\n",
      "SE3800H-US [240V]     0.121405\n",
      "SE7600H-US [240V]     0.104008\n",
      "Name: inverter_model_1, dtype: float64 \n",
      "\n"
     ]
    }
   ],
   "source": [
    "cols = ['installation_date', 'utility_service_territory', 'installer_name', 'module_manufacturer_1',\\\n",
    "        'module_model_1', 'inverter_manufacturer_1', 'inverter_model_1']\n",
    "for col in cols:\n",
    "    print(col, ':\\n', data[col].value_counts(normalize=True).loc[lambda x : x>0.1], '\\n')"
   ]
  },
  {
   "cell_type": "markdown",
   "id": "52315f0b",
   "metadata": {},
   "source": [
    "Based on these distributions I'm going to drop installation_date and installer_name since none of their values account for 10% or more of the entries in the dataset. For the values that do account for at least 10% of the data I'll perform t-tests comparing the price_per_kw for entries with that value vs the rest of the entries. If the p-value of the t-test is less than 0.01 then I'll create a dummy column for it. This includes treating missing data as its own value, since there could be a correlation there as well."
   ]
  },
  {
   "cell_type": "code",
   "execution_count": 18,
   "id": "d16c14aa",
   "metadata": {},
   "outputs": [],
   "source": [
    "data = data.drop(columns=['installation_date', 'installer_name'])"
   ]
  },
  {
   "cell_type": "code",
   "execution_count": 19,
   "id": "a449083c",
   "metadata": {},
   "outputs": [
    {
     "name": "stdout",
     "output_type": "stream",
     "text": [
      "Ttest_indResult(statistic=11.85801565604619, pvalue=2.0031706292799543e-32)\n"
     ]
    }
   ],
   "source": [
    "# Utility service territory: Pacific Gas and Electric\n",
    "pge = data[data['utility_service_territory'] == 'Pacific Gas and Electric']\n",
    "not_pge = data[data['utility_service_territory'] != 'Pacific Gas and Electric']\n",
    "print(scipy.stats.ttest_ind(pge['price_per_kw'], not_pge['price_per_kw']))"
   ]
  },
  {
   "cell_type": "code",
   "execution_count": 20,
   "id": "25d3a145",
   "metadata": {},
   "outputs": [],
   "source": [
    "data['territory_pacific_gas_and_electric'] = (data['utility_service_territory'] == 'Pacific Gas and Electric')*1"
   ]
  },
  {
   "cell_type": "code",
   "execution_count": 21,
   "id": "ab49b8c2",
   "metadata": {},
   "outputs": [
    {
     "name": "stdout",
     "output_type": "stream",
     "text": [
      "Ttest_indResult(statistic=-2.2723086588535213, pvalue=0.02306888894162181)\n"
     ]
    }
   ],
   "source": [
    "# Utility service territory: Southern California Edison\n",
    "sce = data[data['utility_service_territory'] == 'Southern California Edison']\n",
    "not_sce = data[data['utility_service_territory'] != 'Southern California Edison']\n",
    "print(scipy.stats.ttest_ind(sce['price_per_kw'], not_sce['price_per_kw']))"
   ]
  },
  {
   "cell_type": "code",
   "execution_count": 22,
   "id": "171c8bdd",
   "metadata": {},
   "outputs": [
    {
     "name": "stdout",
     "output_type": "stream",
     "text": [
      "Ttest_indResult(statistic=5.735900280612528, pvalue=9.712940594647251e-09)\n"
     ]
    }
   ],
   "source": [
    "# Utility service territory: San Diego Gas and Electric\n",
    "sdge = data[data['utility_service_territory'] == 'San Diego Gas and Electric']\n",
    "not_sdge = data[data['utility_service_territory'] != 'San Diego Gas and Electric']\n",
    "print(scipy.stats.ttest_ind(sdge['price_per_kw'], not_sdge['price_per_kw']))"
   ]
  },
  {
   "cell_type": "markdown",
   "id": "5ca46576",
   "metadata": {},
   "source": [
    "At this point I'm going to make a copy of the dataframe as a bookmark preceding any data imputation or data loss. My next step will impute missing data as an 'other' category, and after initial modeling I may want to jump back to before this step to rework how I handle those missing data."
   ]
  },
  {
   "cell_type": "code",
   "execution_count": 23,
   "id": "9fb25da6",
   "metadata": {},
   "outputs": [],
   "source": [
    "no_imputation = data.copy()\n",
    "no_imputation.to_csv('pre-imputation preprocessing data.csv')"
   ]
  },
  {
   "cell_type": "code",
   "execution_count": 24,
   "id": "39571dd3",
   "metadata": {},
   "outputs": [],
   "source": [
    "data['territory_san_diego_gas_and_electric'] = (data['utility_service_territory'] == 'San Diego Gas and Electric')*1\n",
    "data['utility_service_territory_other'] = (~data['utility_service_territory'].isin(['Pacific Gas and Electric',\\\n",
    "                                                                                     'San Diego Gas and Electric']))*1\n",
    "data=data.drop(columns=['utility_service_territory'])"
   ]
  },
  {
   "cell_type": "code",
   "execution_count": 25,
   "id": "23c5049f",
   "metadata": {},
   "outputs": [
    {
     "name": "stdout",
     "output_type": "stream",
     "text": [
      "Ttest_indResult(statistic=-8.214259356889922, pvalue=2.1468194935052494e-16)\n"
     ]
    }
   ],
   "source": [
    "# Module manufacturer 1: Hanwha Q CELLS\n",
    "hqc = data[data['module_manufacturer_1'] == 'Hanwha Q CELLS']\n",
    "not_hqc = data[data['module_manufacturer_1'] != 'Hanwha Q CELLS']\n",
    "print(scipy.stats.ttest_ind(hqc['price_per_kw'], not_hqc['price_per_kw']))"
   ]
  },
  {
   "cell_type": "code",
   "execution_count": 26,
   "id": "e285a076",
   "metadata": {},
   "outputs": [],
   "source": [
    "data['hanwha_q_cells'] = (data['module_manufacturer_1'] == 'Hanwha Q CELLS')*1"
   ]
  },
  {
   "cell_type": "code",
   "execution_count": 27,
   "id": "87f0f5f0",
   "metadata": {},
   "outputs": [
    {
     "name": "stdout",
     "output_type": "stream",
     "text": [
      "Ttest_indResult(statistic=8.007335978228957, pvalue=1.1781773887289662e-15)\n"
     ]
    }
   ],
   "source": [
    "# Module manufacturer 1: SunPower\n",
    "sp = data[data['module_manufacturer_1'] == 'SunPower']\n",
    "not_sp = data[data['module_manufacturer_1'] != 'SunPower']\n",
    "print(scipy.stats.ttest_ind(sp['price_per_kw'], not_sp['price_per_kw']))"
   ]
  },
  {
   "cell_type": "code",
   "execution_count": 28,
   "id": "6cec63ca",
   "metadata": {},
   "outputs": [],
   "source": [
    "data['sunpower'] = (data['module_manufacturer_1'] == 'SunPower')*1"
   ]
  },
  {
   "cell_type": "code",
   "execution_count": 29,
   "id": "d50480b3",
   "metadata": {},
   "outputs": [
    {
     "name": "stdout",
     "output_type": "stream",
     "text": [
      "Ttest_indResult(statistic=-6.506949323277298, pvalue=7.686520594864674e-11)\n"
     ]
    }
   ],
   "source": [
    "# Module manufacturer 1: Missing\n",
    "missing = data[data['module_manufacturer_1'].isna()]\n",
    "not_missing = data[~data['module_manufacturer_1'].isna()]\n",
    "print(scipy.stats.ttest_ind(missing['price_per_kw'], not_missing['price_per_kw']))"
   ]
  },
  {
   "cell_type": "code",
   "execution_count": 30,
   "id": "12adcd5e",
   "metadata": {},
   "outputs": [],
   "source": [
    "data['module_manufacturer_1_missing'] = (data['module_manufacturer_1'].isna())*1"
   ]
  },
  {
   "cell_type": "code",
   "execution_count": 31,
   "id": "3f6c5740",
   "metadata": {},
   "outputs": [
    {
     "name": "stdout",
     "output_type": "stream",
     "text": [
      "Ttest_indResult(statistic=-5.823115696649686, pvalue=5.784496402514569e-09)\n"
     ]
    }
   ],
   "source": [
    "# Module manufacturer 1: LG Electronics\n",
    "lg = data[data['module_manufacturer_1'] == 'LG Electronics']\n",
    "not_lg = data[data['module_manufacturer_1'] != 'LG Electronics']\n",
    "print(scipy.stats.ttest_ind(lg['price_per_kw'], not_lg['price_per_kw']))"
   ]
  },
  {
   "cell_type": "code",
   "execution_count": 32,
   "id": "db608c24",
   "metadata": {},
   "outputs": [],
   "source": [
    "data['lg_electronics'] = (data['module_manufacturer_1'] == 'LG Electronics')*1\n",
    "data['module_manufacturer_1_other'] = (~data['module_manufacturer_1'].isin(['Hanwha Q CELLS',\\\n",
    "                                                                                     'SunPower', 'LG Electronics', np.NaN]))*1\n",
    "data=data.drop(columns=['module_manufacturer_1'])"
   ]
  },
  {
   "cell_type": "code",
   "execution_count": 33,
   "id": "da894e91",
   "metadata": {},
   "outputs": [
    {
     "name": "stdout",
     "output_type": "stream",
     "text": [
      "Ttest_indResult(statistic=-6.506949323277298, pvalue=7.686520594864674e-11)\n"
     ]
    }
   ],
   "source": [
    "# Module model 1: missing values\n",
    "missing = data[data['module_model_1'].isna()]\n",
    "not_missing = data[~data['module_model_1'].isna()]\n",
    "print(scipy.stats.ttest_ind(missing['price_per_kw'], not_missing['price_per_kw']))"
   ]
  },
  {
   "cell_type": "code",
   "execution_count": 34,
   "id": "124daca0",
   "metadata": {},
   "outputs": [],
   "source": [
    "data['module_model_1_missing'] = (data['module_model_1'].isna())*1\n",
    "data['module_model_1_not_missing'] = (~data['module_model_1'].isna())*1\n",
    "data = data.drop(columns=['module_model_1'])"
   ]
  },
  {
   "cell_type": "code",
   "execution_count": 35,
   "id": "9fb50385",
   "metadata": {},
   "outputs": [
    {
     "name": "stdout",
     "output_type": "stream",
     "text": [
      "Ttest_indResult(statistic=10.969445074840884, pvalue=5.455545867730912e-28)\n"
     ]
    }
   ],
   "source": [
    "# Inverter manufacturer 1: SolarEdge Technologies\n",
    "se = data[data['inverter_manufacturer_1'] == 'SolarEdge Technologies']\n",
    "not_se = data[data['inverter_manufacturer_1'] != 'SolarEdge Technologies']\n",
    "print(scipy.stats.ttest_ind(se['price_per_kw'], not_se['price_per_kw']))"
   ]
  },
  {
   "cell_type": "code",
   "execution_count": 36,
   "id": "823434eb",
   "metadata": {},
   "outputs": [],
   "source": [
    "data['solaredge_technologies'] = (data['inverter_manufacturer_1'] == 'SolarEdge Technologies')*1"
   ]
  },
  {
   "cell_type": "code",
   "execution_count": 37,
   "id": "ea6b546b",
   "metadata": {},
   "outputs": [
    {
     "name": "stdout",
     "output_type": "stream",
     "text": [
      "Ttest_indResult(statistic=-10.706508488203717, pvalue=9.640694231025681e-27)\n"
     ]
    }
   ],
   "source": [
    "# Inverter manufacturer 1: Enphase Energy\n",
    "ee = data[data['inverter_manufacturer_1'] == 'Enphase Energy']\n",
    "not_ee = data[data['inverter_manufacturer_1'] != 'Enphase Energy']\n",
    "print(scipy.stats.ttest_ind(ee['price_per_kw'], not_ee['price_per_kw']))"
   ]
  },
  {
   "cell_type": "code",
   "execution_count": 38,
   "id": "ef8ff105",
   "metadata": {},
   "outputs": [],
   "source": [
    "data['enphase_energy'] = (data['inverter_manufacturer_1'] == 'Enphase Energy')*1"
   ]
  },
  {
   "cell_type": "code",
   "execution_count": 39,
   "id": "59c8767b",
   "metadata": {},
   "outputs": [
    {
     "name": "stdout",
     "output_type": "stream",
     "text": [
      "Ttest_indResult(statistic=-7.509683112556665, pvalue=5.950533690678373e-14)\n"
     ]
    }
   ],
   "source": [
    "# Inverter manufacturer 1: Missing\n",
    "missing = data[data['inverter_manufacturer_1'].isna()]\n",
    "not_missing = data[~data['inverter_manufacturer_1'].isna()]\n",
    "print(scipy.stats.ttest_ind(missing['price_per_kw'], not_missing['price_per_kw']))"
   ]
  },
  {
   "cell_type": "code",
   "execution_count": 40,
   "id": "eb2eac50",
   "metadata": {},
   "outputs": [],
   "source": [
    "data['inverter_manufacturer_1_missing'] = (data['inverter_manufacturer_1'].isna())*1"
   ]
  },
  {
   "cell_type": "code",
   "execution_count": 41,
   "id": "1968a4d7",
   "metadata": {},
   "outputs": [
    {
     "name": "stdout",
     "output_type": "stream",
     "text": [
      "Ttest_indResult(statistic=10.464135123265264, pvalue=1.2808671552350103e-25)\n"
     ]
    }
   ],
   "source": [
    "# Inverter manufacturer 1: SunPower\n",
    "sp = data[data['inverter_manufacturer_1'] == 'SunPower']\n",
    "not_sp = data[data['inverter_manufacturer_1'] != 'SunPower']\n",
    "print(scipy.stats.ttest_ind(sp['price_per_kw'], not_sp['price_per_kw']))"
   ]
  },
  {
   "cell_type": "code",
   "execution_count": 42,
   "id": "688b07a4",
   "metadata": {},
   "outputs": [],
   "source": [
    "data['sunpower'] = (data['inverter_manufacturer_1'] == 'SunPower')*1\n",
    "data['inverter_manufacturer_1_other'] = (~data['inverter_manufacturer_1'].isin(['SolarEdge Technologies',\\\n",
    "                                                                                     'Enphase Energy', 'SunPower', np.nan]))*1\n",
    "data=data.drop(columns=['inverter_manufacturer_1'])"
   ]
  },
  {
   "cell_type": "code",
   "execution_count": 43,
   "id": "c8a2210b",
   "metadata": {},
   "outputs": [
    {
     "name": "stdout",
     "output_type": "stream",
     "text": [
      "Ttest_indResult(statistic=-7.508676624240208, pvalue=5.996442552978743e-14)\n"
     ]
    }
   ],
   "source": [
    "# Inverter model 1: Missing\n",
    "missing = data[data['inverter_model_1'].isna()]\n",
    "not_missing = data[~data['inverter_model_1'].isna()]\n",
    "print(scipy.stats.ttest_ind(missing['price_per_kw'], not_missing['price_per_kw']))"
   ]
  },
  {
   "cell_type": "code",
   "execution_count": 44,
   "id": "2335b11d",
   "metadata": {},
   "outputs": [],
   "source": [
    "data['inverter_model_1_missing'] = (data['inverter_model_1'].isna())*1"
   ]
  },
  {
   "cell_type": "code",
   "execution_count": 45,
   "id": "926a434e",
   "metadata": {},
   "outputs": [
    {
     "name": "stdout",
     "output_type": "stream",
     "text": [
      "Ttest_indResult(statistic=-3.284366816056643, pvalue=0.0010222865170599258)\n"
     ]
    }
   ],
   "source": [
    "# Inverter model 1: IQ7-60-2-US [240V]\n",
    "iq7 = data[data['inverter_model_1'] == 'IQ7-60-2-US [240V]']\n",
    "not_iq7 = data[data['inverter_model_1'] != 'IQ7-60-2-US [240V]']\n",
    "print(scipy.stats.ttest_ind(iq7['price_per_kw'], not_iq7['price_per_kw']))"
   ]
  },
  {
   "cell_type": "code",
   "execution_count": 46,
   "id": "a798118b",
   "metadata": {},
   "outputs": [],
   "source": [
    "data['iq7'] = (data['inverter_model_1'] == 'IQ7-60-2-US [240V]')*1"
   ]
  },
  {
   "cell_type": "code",
   "execution_count": 47,
   "id": "b7db4e90",
   "metadata": {},
   "outputs": [
    {
     "name": "stdout",
     "output_type": "stream",
     "text": [
      "Ttest_indResult(statistic=14.67378142946512, pvalue=1.0038492311428803e-48)\n"
     ]
    }
   ],
   "source": [
    "# Inverter model 1: SE3800H-US [240V]\n",
    "se3 = data[data['inverter_model_1'] == 'SE3800H-US [240V]']\n",
    "not_se3 = data[data['inverter_model_1'] != 'SE3800H-US [240V]']\n",
    "print(scipy.stats.ttest_ind(se3['price_per_kw'], not_se3['price_per_kw']))"
   ]
  },
  {
   "cell_type": "code",
   "execution_count": 48,
   "id": "7b2a2609",
   "metadata": {},
   "outputs": [],
   "source": [
    "data['se3'] = (data['inverter_model_1'] == 'SE3800H-US [240V]')*1\n",
    "data['inverter_model_1_other'] = (~data['inverter_model_1'].isin(['IQ7-60-2-US [240V]',\\\n",
    "                                                                                     'SE3800H-US [240V]', np.nan]))*1\n",
    "data=data.drop(columns=['inverter_model_1'])"
   ]
  },
  {
   "cell_type": "code",
   "execution_count": 49,
   "id": "e6f0ce15",
   "metadata": {},
   "outputs": [
    {
     "name": "stdout",
     "output_type": "stream",
     "text": [
      "{uint8: ['technology_module_1_CIGS', 'technology_module_1_CdTe', 'technology_module_1_Mono', 'technology_module_1_Multi-c-Si', 'technology_module_1_Poly', 'technology_module_1_Thin Film', 'data_provider_1_Arizona Public Service', 'data_provider_1_Austin Energy', 'data_provider_1_CPS Energy', 'data_provider_1_California Public Utilities Commission', 'data_provider_1_Connecticut Green Bank', 'data_provider_1_Delaware Department of Natural Resources and Environmental Control', 'data_provider_1_Frontier Associates', 'data_provider_1_Gainesville Regional Utilities', 'data_provider_1_Los Angeles Department of Water & Power', 'data_provider_1_MA DOER', 'data_provider_1_Maryland Energy Administration', 'data_provider_1_Mohave Electric Cooperative', 'data_provider_1_New Hampshire Public Utilities Commission', 'data_provider_1_New York State Energy Research and Development Authority', 'data_provider_1_Orlando Utilities Commission', 'data_provider_1_Rhode Island Commerce Corporation', 'data_provider_1_Salt River Project', 'data_provider_1_Tucson Electric Power', 'data_provider_1_UniSource Energy Services', 'data_provider_1_Utah Office of Energy Development', 'data_provider_1_Wisconsin Focus on Energy', 'data_provider_1_Xcel Energy'], int32: ['zip_nan', 'zip_93306', 'zip_95337', 'zip_95765', 'zip_93311', 'zip_93619', 'zip_95762', 'zip_93314', 'zip_93727', 'zip_93312', 'zip_95648', 'zip_93611', 'zip_95376', 'zip_94533', 'zip_95687', 'zip_93722', 'zip_93313', 'zip_95961', 'zip_94568', 'zip_92336', 'zip_93230', 'zip_92596', 'zip_92562', 'zip_92563', 'zip_92584', 'zip_92880', 'zip_93291', 'zip_93536', 'zip_92592', 'zip_92223', 'zip_92114', 'zip_91977', 'zip_92028', 'zip_92071', 'zip_92130', 'zip_92064', 'zip_92127', 'zip_92078', 'zip_91913', 'zip_92129', 'zip_94513', 'zip_92883', 'zip_92618', 'zip_92058', 'territory_pacific_gas_and_electric', 'territory_san_diego_gas_and_electric', 'utility_service_territory_other', 'hanwha_q_cells', 'sunpower', 'module_manufacturer_1_missing', 'lg_electronics', 'module_manufacturer_1_other', 'module_model_1_missing', 'module_model_1_not_missing', 'solaredge_technologies', 'enphase_energy', 'inverter_manufacturer_1_missing', 'inverter_manufacturer_1_other', 'inverter_model_1_missing', 'iq7', 'se3', 'inverter_model_1_other'], int64: ['expansion_system', 'multiple_phase_system', 'year', 'month', 'state_AZ', 'state_CA', 'state_CO', 'state_CT', 'state_DE', 'state_FL', 'state_MA', 'state_MD', 'state_MN', 'state_NH', 'state_NM', 'state_NY', 'state_RI', 'state_TX', 'state_UT', 'state_WI', 'zip_other'], float64: ['system_size_dc', 'total_installed_price', 'rebate_or_grant', 'tracking', 'ground_mounted', 'third_party_owned', 'self_installed', 'azimuth_1', 'tilt_1', 'module_quantity_1', 'additional_modules', 'bipv_module_1', 'bifacial_module_1', 'nameplate_capacity_module_1', 'efficiency_module_1', 'inverter_quantity_1', 'additional_inverters', 'micro_inverter_1', 'solar_storage_hybrid_inverter_1', 'built_in_meter_inverter_1', 'dc_optimizer', 'inverter_loading_ratio', 'price_per_kw']}\n",
      "(208257, 134)\n"
     ]
    }
   ],
   "source": [
    "print(data.columns.groupby(data.dtypes))\n",
    "\n",
    "print(data.shape)"
   ]
  },
  {
   "cell_type": "markdown",
   "id": "f2be7858",
   "metadata": {},
   "source": [
    "Great! All of the non-numeric features have been converted into dummy features or dropped. \n",
    "\n",
    "It's important to note that for utility service territory I've imputed the missing values as 'other'. This may need to be adjusted later on as I work through modeling.\n",
    "\n",
    "Now the rest of the data imputation and scaling needs to be performed on the training dataset, then applied to the test dataset, so now that all of the desired features have been created I'll split the data into test and train sets. "
   ]
  },
  {
   "cell_type": "code",
   "execution_count": 50,
   "id": "da0dcb22",
   "metadata": {},
   "outputs": [],
   "source": [
    "X_train, X_test, y_train, y_test = train_test_split(data.drop(columns='price_per_kw'), data['price_per_kw'], test_size=0.25)"
   ]
  },
  {
   "cell_type": "code",
   "execution_count": 51,
   "id": "6259dce0",
   "metadata": {},
   "outputs": [
    {
     "name": "stdout",
     "output_type": "stream",
     "text": [
      "(156192, 133) (52065, 133) (156192,) (52065,)\n"
     ]
    }
   ],
   "source": [
    "print(X_train.shape, X_test.shape, y_train.shape, y_test.shape)"
   ]
  },
  {
   "cell_type": "markdown",
   "id": "3edd44db",
   "metadata": {},
   "source": [
    "Now I need to check the numeric columns to see if they have -1 for missing data, then decide how best to replace those for the modeling."
   ]
  },
  {
   "cell_type": "code",
   "execution_count": 52,
   "id": "351b64e9",
   "metadata": {},
   "outputs": [
    {
     "name": "stdout",
     "output_type": "stream",
     "text": [
      "tracking  :  34335\n",
      "ground_mounted  :  43311\n",
      "third_party_owned  :  11272\n",
      "self_installed  :  9494\n",
      "azimuth_1  :  35206\n",
      "tilt_1  :  35170\n",
      "module_quantity_1  :  21764\n",
      "additional_modules  :  28421\n",
      "bipv_module_1  :  17052\n",
      "bifacial_module_1  :  16458\n",
      "nameplate_capacity_module_1  :  16769\n",
      "efficiency_module_1  :  18668\n",
      "inverter_quantity_1  :  21810\n",
      "additional_inverters  :  28421\n",
      "micro_inverter_1  :  18055\n",
      "solar_storage_hybrid_inverter_1  :  26522\n",
      "built_in_meter_inverter_1  :  18055\n",
      "dc_optimizer  :  17066\n",
      "inverter_loading_ratio  :  33120\n"
     ]
    }
   ],
   "source": [
    "for col in X_train.columns:\n",
    "    if X_train[col].isna().sum() != 0:\n",
    "        print(col, ' : ', (X_train[col].isna().sum()))"
   ]
  },
  {
   "cell_type": "markdown",
   "id": "9f37b5fa",
   "metadata": {},
   "source": [
    "First I'll work through categorical numerical columns that only have 0/1 categories to check the distributions and determine how best to impute the missing values."
   ]
  },
  {
   "cell_type": "code",
   "execution_count": 53,
   "id": "8b899883",
   "metadata": {},
   "outputs": [
    {
     "data": {
      "text/html": [
       "<div>\n",
       "<style scoped>\n",
       "    .dataframe tbody tr th:only-of-type {\n",
       "        vertical-align: middle;\n",
       "    }\n",
       "\n",
       "    .dataframe tbody tr th {\n",
       "        vertical-align: top;\n",
       "    }\n",
       "\n",
       "    .dataframe thead th {\n",
       "        text-align: right;\n",
       "    }\n",
       "</style>\n",
       "<table border=\"1\" class=\"dataframe\">\n",
       "  <thead>\n",
       "    <tr style=\"text-align: right;\">\n",
       "      <th></th>\n",
       "      <th>self_installed</th>\n",
       "      <th>tracking</th>\n",
       "      <th>ground_mounted</th>\n",
       "      <th>third_party_owned</th>\n",
       "      <th>bipv_module_1</th>\n",
       "      <th>bifacial_module_1</th>\n",
       "      <th>additional_inverters</th>\n",
       "      <th>additional_modules</th>\n",
       "      <th>dc_optimizer</th>\n",
       "      <th>micro_inverter_1</th>\n",
       "      <th>built_in_meter_inverter_1</th>\n",
       "      <th>solar_storage_hybrid_inverter_1</th>\n",
       "    </tr>\n",
       "  </thead>\n",
       "  <tbody>\n",
       "    <tr>\n",
       "      <th>0.0</th>\n",
       "      <td>0.982686</td>\n",
       "      <td>0.995921</td>\n",
       "      <td>0.980953</td>\n",
       "      <td>0.651304</td>\n",
       "      <td>0.997506</td>\n",
       "      <td>0.998404</td>\n",
       "      <td>0.999937</td>\n",
       "      <td>0.990624</td>\n",
       "      <td>0.531719</td>\n",
       "      <td>0.529778</td>\n",
       "      <td>0.538552</td>\n",
       "      <td>0.967063</td>\n",
       "    </tr>\n",
       "    <tr>\n",
       "      <th>1.0</th>\n",
       "      <td>0.017314</td>\n",
       "      <td>0.004079</td>\n",
       "      <td>0.019047</td>\n",
       "      <td>0.348696</td>\n",
       "      <td>0.002494</td>\n",
       "      <td>0.001596</td>\n",
       "      <td>0.000063</td>\n",
       "      <td>0.009376</td>\n",
       "      <td>0.468281</td>\n",
       "      <td>0.470222</td>\n",
       "      <td>0.461448</td>\n",
       "      <td>0.032937</td>\n",
       "    </tr>\n",
       "  </tbody>\n",
       "</table>\n",
       "</div>"
      ],
      "text/plain": [
       "     self_installed  tracking  ground_mounted  third_party_owned  \\\n",
       "0.0        0.982686  0.995921        0.980953           0.651304   \n",
       "1.0        0.017314  0.004079        0.019047           0.348696   \n",
       "\n",
       "     bipv_module_1  bifacial_module_1  additional_inverters  \\\n",
       "0.0       0.997506           0.998404              0.999937   \n",
       "1.0       0.002494           0.001596              0.000063   \n",
       "\n",
       "     additional_modules  dc_optimizer  micro_inverter_1  \\\n",
       "0.0            0.990624      0.531719          0.529778   \n",
       "1.0            0.009376      0.468281          0.470222   \n",
       "\n",
       "     built_in_meter_inverter_1  solar_storage_hybrid_inverter_1  \n",
       "0.0                   0.538552                         0.967063  \n",
       "1.0                   0.461448                         0.032937  "
      ]
     },
     "execution_count": 53,
     "metadata": {},
     "output_type": "execute_result"
    }
   ],
   "source": [
    "cols = ['self_installed', 'tracking', 'ground_mounted', 'third_party_owned', 'bipv_module_1', 'bifacial_module_1',\\\n",
    "      'additional_inverters', 'additional_modules', 'dc_optimizer', 'micro_inverter_1', 'built_in_meter_inverter_1',\\\n",
    "      'solar_storage_hybrid_inverter_1']\n",
    "X_train[cols].apply(func = pd.Series.value_counts, args=('normalize', True))"
   ]
  },
  {
   "cell_type": "markdown",
   "id": "c1c0411b",
   "metadata": {},
   "source": [
    "Many of these columns are heavily skewed, so I'll impute the missing values using the mode and assign the missing values to the more heavily favored response. When I begin modeling I'll compare the model using the imputed results vs removing the columns completely to determine whether I need to reasses how to impute these missing values"
   ]
  },
  {
   "cell_type": "code",
   "execution_count": 54,
   "id": "3899af45",
   "metadata": {},
   "outputs": [],
   "source": [
    "X_train[cols] = X_train[cols].fillna(0)\n",
    "X_test[cols] = X_test[cols].fillna(0)"
   ]
  },
  {
   "cell_type": "markdown",
   "id": "531e0102",
   "metadata": {},
   "source": [
    "Now that the categorical numerical features have been taken care of I'll recheck what continuous numerical variables are left to clean up."
   ]
  },
  {
   "cell_type": "code",
   "execution_count": 55,
   "id": "bfe2af03",
   "metadata": {},
   "outputs": [
    {
     "name": "stdout",
     "output_type": "stream",
     "text": [
      "azimuth_1  :  23.0 % missing\n",
      "tilt_1  :  23.0 % missing\n",
      "module_quantity_1  :  14.000000000000002 % missing\n",
      "nameplate_capacity_module_1  :  11.0 % missing\n",
      "efficiency_module_1  :  12.0 % missing\n",
      "inverter_quantity_1  :  14.000000000000002 % missing\n",
      "inverter_loading_ratio  :  21.0 % missing\n"
     ]
    }
   ],
   "source": [
    "cols=[]\n",
    "for col in X_train.columns:\n",
    "    if X_train[col].isna().sum() != 0:\n",
    "        cols.append(col)\n",
    "        print(col, ' : ', (round(X_train[col].isna().sum()/len(X_train[col]), 2) * 100), '% missing')"
   ]
  },
  {
   "cell_type": "code",
   "execution_count": 56,
   "id": "b115fce2",
   "metadata": {},
   "outputs": [
    {
     "data": {
      "image/png": "[encoded data removed]",
      "text/plain": [
       "<Figure size 640x480 with 1 Axes>"
      ]
     },
     "metadata": {},
     "output_type": "display_data"
    },
    {
     "data": {
      "image/png": "[encoded data removed]",
      "text/plain": [
       "<Figure size 640x480 with 1 Axes>"
      ]
     },
     "metadata": {},
     "output_type": "display_data"
    },
    {
     "data": {
      "image/png": "[encoded data removed]",
      "text/plain": [
       "<Figure size 640x480 with 1 Axes>"
      ]
     },
     "metadata": {},
     "output_type": "display_data"
    },
    {
     "data": {
      "image/png": "[encoded data removed]",
      "text/plain": [
       "<Figure size 640x480 with 1 Axes>"
      ]
     },
     "metadata": {},
     "output_type": "display_data"
    },
    {
     "data": {
      "image/png": "[encoded data removed]",
      "text/plain": [
       "<Figure size 640x480 with 1 Axes>"
      ]
     },
     "metadata": {},
     "output_type": "display_data"
    },
    {
     "data": {
      "image/png": "[encoded data removed]",
      "text/plain": [
       "<Figure size 640x480 with 1 Axes>"
      ]
     },
     "metadata": {},
     "output_type": "display_data"
    },
    {
     "data": {
      "image/png": "[encoded data removed]",
      "text/plain": [
       "<Figure size 640x480 with 1 Axes>"
      ]
     },
     "metadata": {},
     "output_type": "display_data"
    }
   ],
   "source": [
    "for col in X_train[cols]:\n",
    "    bins=int(round(np.sqrt(len(data[col].unique()))))\n",
    "    sns.histplot(data=X_train[col], bins=bins)\n",
    "    plt.title(col)\n",
    "    plt.ylabel('Installations')\n",
    "    plt.xlabel(col)\n",
    "    plt.show()"
   ]
  },
  {
   "cell_type": "code",
   "execution_count": 57,
   "id": "fa7c18bc",
   "metadata": {},
   "outputs": [
    {
     "data": {
      "text/plain": [
       "180.0    30453\n",
       "270.0     8648\n",
       "90.0      3276\n",
       "179.0     1914\n",
       "181.0     1831\n",
       "Name: azimuth_1, dtype: int64"
      ]
     },
     "execution_count": 57,
     "metadata": {},
     "output_type": "execute_result"
    }
   ],
   "source": [
    "X_train['azimuth_1'].value_counts().head()"
   ]
  },
  {
   "cell_type": "markdown",
   "id": "c0d8103e",
   "metadata": {},
   "source": [
    "Right now my goal is to get a quick first look at some models so that I can determine which features are important and then refine the imputation of any missing data for those features if needed. To that end, I'm going to impute these missing values as the mode for azimuth_1 since it's an angle and there is an obvious preference for one specific angle, and the median for the rest."
   ]
  },
  {
   "cell_type": "code",
   "execution_count": 58,
   "id": "954c3af6",
   "metadata": {},
   "outputs": [
    {
     "name": "stderr",
     "output_type": "stream",
     "text": [
      "C:\\Users\\Zachary Brown\\anaconda3\\lib\\site-packages\\sklearn\\impute\\_base.py:49: FutureWarning: Unlike other reduction functions (e.g. `skew`, `kurtosis`), the default behavior of `mode` typically preserves the axis it acts along. In SciPy 1.11.0, this behavior will change: the default value of `keepdims` will become False, the `axis` over which the statistic is taken will be eliminated, and the value None will no longer be accepted. Set `keepdims` to True or False to avoid this warning.\n",
      "  mode = stats.mode(array)\n",
      "C:\\Users\\Zachary Brown\\anaconda3\\lib\\site-packages\\sklearn\\impute\\_base.py:49: FutureWarning: Unlike other reduction functions (e.g. `skew`, `kurtosis`), the default behavior of `mode` typically preserves the axis it acts along. In SciPy 1.11.0, this behavior will change: the default value of `keepdims` will become False, the `axis` over which the statistic is taken will be eliminated, and the value None will no longer be accepted. Set `keepdims` to True or False to avoid this warning.\n",
      "  mode = stats.mode(array)\n"
     ]
    }
   ],
   "source": [
    "from sklearn.impute import SimpleImputer\n",
    "\n",
    "mode_imputer = SimpleImputer(strategy='most_frequent')\n",
    "\n",
    "X_train['azimuth_1'] = mode_imputer.fit_transform(X_train['azimuth_1'].values.reshape(-1,1))\n",
    "X_test['azimuth_1'] = mode_imputer.fit_transform(X_test['azimuth_1'].values.reshape(-1,1))\n",
    "\n",
    "\n",
    "cols.remove('azimuth_1')\n",
    "\n",
    "median_imputer = SimpleImputer(strategy='median')\n",
    "\n",
    "for col in X_train[cols]:\n",
    "    X_train[col] = median_imputer.fit_transform(X_train[col].values.reshape(-1,1))\n",
    "    \n",
    "for col in X_test[cols]:\n",
    "    X_test[col] = median_imputer.fit_transform(X_test[col].values.reshape(-1,1))"
   ]
  },
  {
   "cell_type": "markdown",
   "id": "78e403e2",
   "metadata": {},
   "source": [
    "Now I'll do one last check of the entire dataframe to confirm that there are no more null values or -1s present, then we should be ready to start modeling."
   ]
  },
  {
   "cell_type": "code",
   "execution_count": 59,
   "id": "fa492ff7",
   "metadata": {},
   "outputs": [
    {
     "name": "stdout",
     "output_type": "stream",
     "text": [
      "0\n",
      "0\n"
     ]
    }
   ],
   "source": [
    "# Total null values in dataframe\n",
    "print(X_train.isna().sum().sum())\n",
    "print(X_test.isna().sum().sum())"
   ]
  },
  {
   "cell_type": "code",
   "execution_count": 60,
   "id": "c4212cbb",
   "metadata": {},
   "outputs": [
    {
     "name": "stdout",
     "output_type": "stream",
     "text": [
      "0\n",
      "0\n"
     ]
    }
   ],
   "source": [
    "# Total -1 values in dataframe\n",
    "print((X_train.values == -1).sum())\n",
    "print((X_test.values == -1).sum())"
   ]
  },
  {
   "cell_type": "markdown",
   "id": "9fcab8c5",
   "metadata": {},
   "source": [
    "Great! Our data looks good to go. I'll export all four portions of data separately for the modeling portion of the project and they can each be read in separately to that notebook."
   ]
  },
  {
   "cell_type": "code",
   "execution_count": 61,
   "id": "ce9b09ef",
   "metadata": {},
   "outputs": [],
   "source": [
    "X_train.to_csv('X_train.csv')\n",
    "X_test.to_csv('X_test.csv')\n",
    "y_train.to_csv('y_train.csv')\n",
    "y_test.to_csv('y_test.csv')"
   ]
  },
  {
   "cell_type": "code",
   "execution_count": null,
   "id": "646c4e18",
   "metadata": {},
   "outputs": [],
   "source": []
  }
 ],
 "metadata": {
  "kernelspec": {
   "display_name": "Python 3 (ipykernel)",
   "language": "python",
   "name": "python3"
  },
  "language_info": {
   "codemirror_mode": {
    "name": "ipython",
    "version": 3
   },
   "file_extension": ".py",
   "mimetype": "text/x-python",
   "name": "python",
   "nbconvert_exporter": "python",
   "pygments_lexer": "ipython3",
   "version": "3.9.15"
  }
 },
 "nbformat": 4,
 "nbformat_minor": 5
}
