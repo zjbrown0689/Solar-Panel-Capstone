{
 "cells": [
  {
   "cell_type": "markdown",
   "id": "beb035ae",
   "metadata": {},
   "source": [
    "# Getting the most solar power for your dollar\n",
    "## Exploratory Data Analysis\n",
    "### Zachary Brown\n",
    "\n",
    "The data has been cleaned and preliminary analysis has identified some trends we should expect to see the eventual model pick up on. Now I'm going to preprocess the data so that any models I work with can use the data appropriately. This will include imputing missing data, feature engineering, scaling, and splitting the data into testing and training datasets.\n",
    "\n",
    "I'll start by loading the necessary packages and reading in the data from the exploratory data analysis portion of the project."
   ]
  },
  {
   "cell_type": "code",
   "execution_count": 1,
   "id": "fe7e8cfd",
   "metadata": {},
   "outputs": [],
   "source": [
    "import os\n",
    "import numpy as np\n",
    "import pandas as pd\n",
    "import matplotlib.pyplot as plt\n",
    "import seaborn as sns\n",
    "sns.set_theme('notebook')\n",
    "import scipy.stats\n",
    "from sklearn.model_selection import train_test_split"
   ]
  },
  {
   "cell_type": "code",
   "execution_count": 2,
   "id": "1e62ee15",
   "metadata": {},
   "outputs": [
    {
     "name": "stdout",
     "output_type": "stream",
     "text": [
      "C:\\Users\\Zjbro\\OneDrive\\Documents\\GitHub\\Solar-Panel-Capstone\\notebooks\n",
      "C:\\Users\\Zjbro\\OneDrive\\Documents\\GitHub\\Solar-Panel-Capstone\\data\\processed\n"
     ]
    }
   ],
   "source": [
    "print(os.getcwd())\n",
    "os.chdir(r\"..\\data\\processed\")\n",
    "print(os.getcwd())"
   ]
  },
  {
   "cell_type": "code",
   "execution_count": 3,
   "id": "4aa21dce",
   "metadata": {},
   "outputs": [
    {
     "data": {
      "text/plain": [
       "(208257, 57)"
      ]
     },
     "execution_count": 3,
     "metadata": {},
     "output_type": "execute_result"
    }
   ],
   "source": [
    "data = pd.read_csv('processed_data.csv', index_col=0, low_memory=False)\n",
    "data.shape"
   ]
  },
  {
   "cell_type": "code",
   "execution_count": 4,
   "id": "703f66c9",
   "metadata": {},
   "outputs": [
    {
     "data": {
      "text/plain": [
       "{int64: ['expansion_system', 'multiple_phase_system', 'tracking', 'ground_mounted', 'third_party_owned', 'self_installed', 'module_quantity_1', 'additional_modules', 'bipv_module_1', 'bifacial_module_1', 'additional_inverters', 'micro_inverter_1', 'solar_storage_hybrid_inverter_1', 'built_in_meter_inverter_1', 'dc_optimizer', 'year', 'month', 'state_AZ', 'state_CA', 'state_CO', 'state_CT', 'state_DE', 'state_FL', 'state_MA', 'state_MD', 'state_MN', 'state_NH', 'state_NM', 'state_NY', 'state_RI', 'state_TX', 'state_UT', 'state_WI'], float64: ['system_size_dc', 'total_installed_price', 'rebate_or_grant', 'azimuth_1', 'tilt_1', 'nameplate_capacity_module_1', 'efficiency_module_1', 'inverter_quantity_1', 'inverter_loading_ratio', 'price_per_kw'], object: ['data_provider_1', 'system_id_1', 'installation_date', 'customer_segment', 'zip_code', 'city', 'utility_service_territory', 'installer_name', 'module_manufacturer_1', 'module_model_1', 'technology_module_1', 'inverter_manufacturer_1', 'inverter_model_1', 'date_of_battery_install']}"
      ]
     },
     "execution_count": 4,
     "metadata": {},
     "output_type": "execute_result"
    }
   ],
   "source": [
    "data.columns.groupby(data.dtypes)"
   ]
  },
  {
   "cell_type": "markdown",
   "id": "bcf1b436",
   "metadata": {},
   "source": [
    "Since I only broke out month and year of the battery installation for the non-null dataframe in the last notebook, I'll create those columns in this dataframe so we can work with that data. I'll then have to impute the missing values."
   ]
  },
  {
   "cell_type": "code",
   "execution_count": 5,
   "id": "5de1ff03",
   "metadata": {},
   "outputs": [],
   "source": [
    "data['date_of_battery_install'] = pd.to_datetime(data['date_of_battery_install'])"
   ]
  },
  {
   "cell_type": "markdown",
   "id": "f4180785",
   "metadata": {},
   "source": [
    "Although I removed columns with high percentages of missing data, I only checked for -1, not nulls. I'm going to recheck this column before going any further to make sure I have enough data to work with this feature."
   ]
  },
  {
   "cell_type": "code",
   "execution_count": 6,
   "id": "86525669",
   "metadata": {},
   "outputs": [
    {
     "name": "stdout",
     "output_type": "stream",
     "text": [
      "93.65063359214815 % of values in battery installation date are null\n"
     ]
    }
   ],
   "source": [
    "data['date_of_battery_install'].isnull().sum()\n",
    "print((data['date_of_battery_install'].isnull().sum()/len(data['date_of_battery_install']))*100,\\\n",
    "      '% of values in battery installation date are null')"
   ]
  },
  {
   "cell_type": "markdown",
   "id": "8327fb6a",
   "metadata": {},
   "source": [
    "Ok, unfortunately this column is over 90% missing, so it won't be much help in my modeling. I'll recheck the rest of the features to make sure there are no others I've missed."
   ]
  },
  {
   "cell_type": "code",
   "execution_count": 7,
   "id": "a6d2ef25",
   "metadata": {},
   "outputs": [
    {
     "data": {
      "text/plain": [
       "date_of_battery_install            93.650634\n",
       "nameplate_capacity_module_1         0.193511\n",
       "inverter_quantity_1                 0.000480\n",
       "state_CA                            0.000000\n",
       "additional_inverters                0.000000\n",
       "micro_inverter_1                    0.000000\n",
       "solar_storage_hybrid_inverter_1     0.000000\n",
       "built_in_meter_inverter_1           0.000000\n",
       "dc_optimizer                        0.000000\n",
       "inverter_loading_ratio              0.000000\n",
       "year                                0.000000\n",
       "month                               0.000000\n",
       "price_per_kw                        0.000000\n",
       "state_AZ                            0.000000\n",
       "data_provider_1                     0.000000\n",
       "inverter_model_1                    0.000000\n",
       "state_CT                            0.000000\n",
       "state_DE                            0.000000\n",
       "state_FL                            0.000000\n",
       "state_MA                            0.000000\n",
       "state_MD                            0.000000\n",
       "state_MN                            0.000000\n",
       "state_NH                            0.000000\n",
       "state_NM                            0.000000\n",
       "state_NY                            0.000000\n",
       "state_RI                            0.000000\n",
       "state_TX                            0.000000\n",
       "state_UT                            0.000000\n",
       "state_CO                            0.000000\n",
       "inverter_manufacturer_1             0.000000\n",
       "system_id_1                         0.000000\n",
       "utility_service_territory           0.000000\n",
       "installation_date                   0.000000\n",
       "system_size_dc                      0.000000\n",
       "total_installed_price               0.000000\n",
       "rebate_or_grant                     0.000000\n",
       "customer_segment                    0.000000\n",
       "expansion_system                    0.000000\n",
       "multiple_phase_system               0.000000\n",
       "tracking                            0.000000\n",
       "ground_mounted                      0.000000\n",
       "zip_code                            0.000000\n",
       "city                                0.000000\n",
       "third_party_owned                   0.000000\n",
       "efficiency_module_1                 0.000000\n",
       "installer_name                      0.000000\n",
       "self_installed                      0.000000\n",
       "azimuth_1                           0.000000\n",
       "tilt_1                              0.000000\n",
       "module_manufacturer_1               0.000000\n",
       "module_model_1                      0.000000\n",
       "module_quantity_1                   0.000000\n",
       "additional_modules                  0.000000\n",
       "technology_module_1                 0.000000\n",
       "bipv_module_1                       0.000000\n",
       "bifacial_module_1                   0.000000\n",
       "state_WI                            0.000000\n",
       "dtype: float64"
      ]
     },
     "execution_count": 7,
     "metadata": {},
     "output_type": "execute_result"
    }
   ],
   "source": [
    "percent_missing = data.isnull().sum()/len(data)*100\n",
    "percent_missing.sort_values(ascending=False)"
   ]
  },
  {
   "cell_type": "markdown",
   "id": "44fde421",
   "metadata": {},
   "source": [
    "Alright, so that's the only one that needs to be removed due to null values. Since I'm only delving into the state level, not any smaller, I'm going to remove the city and zip code columns as well. The rest I'll just need to adjust for modeling."
   ]
  },
  {
   "cell_type": "code",
   "execution_count": 8,
   "id": "860d0ec4",
   "metadata": {},
   "outputs": [],
   "source": [
    "data=data.drop(columns=['date_of_battery_install', 'zip_code', 'city'])"
   ]
  },
  {
   "cell_type": "markdown",
   "id": "43abc67a",
   "metadata": {},
   "source": [
    "Next I want to browse the object columns and count how many unique values each has. If a feature has too many unique values they won't help identify any trends."
   ]
  },
  {
   "cell_type": "code",
   "execution_count": 9,
   "id": "0b464e59",
   "metadata": {},
   "outputs": [
    {
     "name": "stdout",
     "output_type": "stream",
     "text": [
      "data_provider_1  :  22\n",
      "system_id_1  :  200023\n",
      "installation_date  :  530\n",
      "customer_segment  :  1\n",
      "utility_service_territory  :  72\n",
      "installer_name  :  2641\n",
      "module_manufacturer_1  :  157\n",
      "module_model_1  :  2460\n",
      "technology_module_1  :  7\n",
      "inverter_manufacturer_1  :  64\n",
      "inverter_model_1  :  629\n"
     ]
    }
   ],
   "source": [
    "for col in data.columns:\n",
    "    if data[col].dtypes == 'object':\n",
    "        print(col, ' : ', data[col].nunique())"
   ]
  },
  {
   "cell_type": "markdown",
   "id": "79dfe0d3",
   "metadata": {},
   "source": [
    "Based on these results it should be safe to remove system_id_1, as that has a unique value for almost every entry. I'll also drop customer_segment since earlier in the project I limited the dataset to only residential installations. "
   ]
  },
  {
   "cell_type": "code",
   "execution_count": 10,
   "id": "5d73acbd",
   "metadata": {},
   "outputs": [],
   "source": [
    "data = data.drop(columns=['system_id_1', 'customer_segment'])"
   ]
  },
  {
   "cell_type": "markdown",
   "id": "1d207fb7",
   "metadata": {},
   "source": [
    "Great! Now I need to encode these categorical features as I did with the states earlier. To do so I'll check the number of entries for each unique value for any feature with more than 30 unique values (anything below 30 I'll just dummy encode like I did with states). If certain values appear in more than 10% of the entries then I'll check to see if they correlate with price per KW when compared against all other values for that feature."
   ]
  },
  {
   "cell_type": "code",
   "execution_count": 11,
   "id": "df935cbe",
   "metadata": {},
   "outputs": [
    {
     "data": {
      "text/plain": [
       "(208257, 79)"
      ]
     },
     "execution_count": 11,
     "metadata": {},
     "output_type": "execute_result"
    }
   ],
   "source": [
    "data = pd.get_dummies(data, columns=['technology_module_1', 'data_provider_1'])\n",
    "data.shape"
   ]
  },
  {
   "cell_type": "code",
   "execution_count": 12,
   "id": "3df4cb96",
   "metadata": {},
   "outputs": [
    {
     "name": "stdout",
     "output_type": "stream",
     "text": [
      "installation_date :\n",
      " Series([], Name: installation_date, dtype: float64) \n",
      "\n",
      "utility_service_territory :\n",
      " Pacific Gas and Electric      0.325833\n",
      "Southern California Edison    0.227815\n",
      "San Diego Gas and Electric    0.129974\n",
      "Name: utility_service_territory, dtype: float64 \n",
      "\n",
      "installer_name :\n",
      " Series([], Name: installer_name, dtype: float64) \n",
      "\n",
      "module_manufacturer_1 :\n",
      " Hanwha Q CELLS    0.221428\n",
      "SunPower          0.127386\n",
      "-1                0.106056\n",
      "LG Electronics    0.101082\n",
      "Name: module_manufacturer_1, dtype: float64 \n",
      "\n",
      "module_model_1 :\n",
      " -1    0.106056\n",
      "Name: module_model_1, dtype: float64 \n",
      "\n",
      "inverter_manufacturer_1 :\n",
      " SolarEdge Technologies    0.407410\n",
      "Enphase Energy            0.250974\n",
      "-1                        0.116222\n",
      "SunPower                  0.104832\n",
      "Name: inverter_manufacturer_1, dtype: float64 \n",
      "\n",
      "inverter_model_1 :\n",
      " -1                    0.116217\n",
      "IQ7-60-2-US [240V]    0.114162\n",
      "SE3800H-US [240V]     0.107295\n",
      "Name: inverter_model_1, dtype: float64 \n",
      "\n"
     ]
    }
   ],
   "source": [
    "cols = ['installation_date', 'utility_service_territory', 'installer_name', 'module_manufacturer_1',\\\n",
    "        'module_model_1', 'inverter_manufacturer_1', 'inverter_model_1']\n",
    "for col in cols:\n",
    "    print(col, ':\\n', data[col].value_counts(normalize=True).loc[lambda x : x>0.1], '\\n')"
   ]
  },
  {
   "cell_type": "markdown",
   "id": "52315f0b",
   "metadata": {},
   "source": [
    "Based on these distributions I'm going to drop installation_date and installer_name since none of their values account for 10% or more of the entries in the dataset. For the values that do account for at least 10% of the data I'll perform t-tests comparing the price_per_kw for entries with that value vs the rest of the entries. If the p-value of the t-test is less than 0.01 then I'll create a dummy column for it. This includes treating missing data as its own value, since there could be a correlation there as well."
   ]
  },
  {
   "cell_type": "code",
   "execution_count": 13,
   "id": "d16c14aa",
   "metadata": {},
   "outputs": [],
   "source": [
    "data = data.drop(columns=['installation_date', 'installer_name'])"
   ]
  },
  {
   "cell_type": "code",
   "execution_count": 14,
   "id": "a449083c",
   "metadata": {},
   "outputs": [
    {
     "name": "stdout",
     "output_type": "stream",
     "text": [
      "Ttest_indResult(statistic=11.85801565604619, pvalue=2.0031706292799543e-32)\n"
     ]
    }
   ],
   "source": [
    "# Utility service territory: Pacific Gas and Electric\n",
    "pge = data[data['utility_service_territory'] == 'Pacific Gas and Electric']\n",
    "not_pge = data[data['utility_service_territory'] != 'Pacific Gas and Electric']\n",
    "print(scipy.stats.ttest_ind(pge['price_per_kw'], not_pge['price_per_kw']))"
   ]
  },
  {
   "cell_type": "code",
   "execution_count": 15,
   "id": "25d3a145",
   "metadata": {},
   "outputs": [],
   "source": [
    "data['territory_pacific_gas_and_electric'] = (data['utility_service_territory'] == 'Pacific Gas and Electric')*1"
   ]
  },
  {
   "cell_type": "code",
   "execution_count": 16,
   "id": "ab49b8c2",
   "metadata": {},
   "outputs": [
    {
     "name": "stdout",
     "output_type": "stream",
     "text": [
      "Ttest_indResult(statistic=-2.2723086588535213, pvalue=0.02306888894162181)\n"
     ]
    }
   ],
   "source": [
    "# Utility service territory: Southern California Edison\n",
    "sce = data[data['utility_service_territory'] == 'Southern California Edison']\n",
    "not_sce = data[data['utility_service_territory'] != 'Southern California Edison']\n",
    "print(scipy.stats.ttest_ind(sce['price_per_kw'], not_sce['price_per_kw']))"
   ]
  },
  {
   "cell_type": "code",
   "execution_count": 17,
   "id": "171c8bdd",
   "metadata": {},
   "outputs": [
    {
     "name": "stdout",
     "output_type": "stream",
     "text": [
      "Ttest_indResult(statistic=5.735900280612528, pvalue=9.712940594647251e-09)\n"
     ]
    }
   ],
   "source": [
    "# Utility service territory: San Diego Gas and Electric\n",
    "sdge = data[data['utility_service_territory'] == 'San Diego Gas and Electric']\n",
    "not_sdge = data[data['utility_service_territory'] != 'San Diego Gas and Electric']\n",
    "print(scipy.stats.ttest_ind(sdge['price_per_kw'], not_sdge['price_per_kw']))"
   ]
  },
  {
   "cell_type": "markdown",
   "id": "5ca46576",
   "metadata": {},
   "source": [
    "At this point I'm going to make a copy of the dataframe as a bookmark preceding any data imputation or data loss. My next step will impute missing data as an 'other' category, and after initial modeling I may want to jump back to before this step to rework how I handle those missing data."
   ]
  },
  {
   "cell_type": "code",
   "execution_count": 18,
   "id": "9fb25da6",
   "metadata": {},
   "outputs": [],
   "source": [
    "no_imputation = data.copy()\n",
    "no_imputation.to_csv('pre-imputation preprocessing data.csv')"
   ]
  },
  {
   "cell_type": "code",
   "execution_count": 19,
   "id": "39571dd3",
   "metadata": {},
   "outputs": [],
   "source": [
    "data['territory_san_diego_gas_and_electric'] = (data['utility_service_territory'] == 'San Diego Gas and Electric')*1\n",
    "data['utility_service_territory_other'] = (~data['utility_service_territory'].isin(['Pacific Gas and Electric',\\\n",
    "                                                                                     'San Diego Gas and Electric']))*1\n",
    "data=data.drop(columns=['utility_service_territory'])"
   ]
  },
  {
   "cell_type": "code",
   "execution_count": 20,
   "id": "23c5049f",
   "metadata": {},
   "outputs": [
    {
     "name": "stdout",
     "output_type": "stream",
     "text": [
      "Ttest_indResult(statistic=-8.214259356889922, pvalue=2.1468194935052494e-16)\n"
     ]
    }
   ],
   "source": [
    "# Module manufacturer 1: Hanwha Q CELLS\n",
    "hqc = data[data['module_manufacturer_1'] == 'Hanwha Q CELLS']\n",
    "not_hqc = data[data['module_manufacturer_1'] != 'Hanwha Q CELLS']\n",
    "print(scipy.stats.ttest_ind(hqc['price_per_kw'], not_hqc['price_per_kw']))"
   ]
  },
  {
   "cell_type": "code",
   "execution_count": 21,
   "id": "e285a076",
   "metadata": {},
   "outputs": [],
   "source": [
    "data['hanwha_q_cells'] = (data['module_manufacturer_1'] == 'Hanwha Q CELLS')*1"
   ]
  },
  {
   "cell_type": "code",
   "execution_count": 22,
   "id": "87f0f5f0",
   "metadata": {},
   "outputs": [
    {
     "name": "stdout",
     "output_type": "stream",
     "text": [
      "Ttest_indResult(statistic=8.007335978228957, pvalue=1.1781773887289662e-15)\n"
     ]
    }
   ],
   "source": [
    "# Module manufacturer 1: SunPower\n",
    "sp = data[data['module_manufacturer_1'] == 'SunPower']\n",
    "not_sp = data[data['module_manufacturer_1'] != 'SunPower']\n",
    "print(scipy.stats.ttest_ind(sp['price_per_kw'], not_sp['price_per_kw']))"
   ]
  },
  {
   "cell_type": "code",
   "execution_count": 23,
   "id": "6cec63ca",
   "metadata": {},
   "outputs": [],
   "source": [
    "data['sunpower'] = (data['module_manufacturer_1'] == 'SunPower')*1"
   ]
  },
  {
   "cell_type": "code",
   "execution_count": 24,
   "id": "d50480b3",
   "metadata": {},
   "outputs": [
    {
     "name": "stdout",
     "output_type": "stream",
     "text": [
      "Ttest_indResult(statistic=-6.506949323277298, pvalue=7.686520594864674e-11)\n"
     ]
    }
   ],
   "source": [
    "# Module manufacturer 1: Missing\n",
    "missing = data[data['module_manufacturer_1'] == '-1']\n",
    "not_missing = data[data['module_manufacturer_1'] != '-1']\n",
    "print(scipy.stats.ttest_ind(missing['price_per_kw'], not_missing['price_per_kw']))"
   ]
  },
  {
   "cell_type": "code",
   "execution_count": 25,
   "id": "12adcd5e",
   "metadata": {},
   "outputs": [],
   "source": [
    "data['module_manufacturer_1_missing'] = (data['module_manufacturer_1'] == '-1')*1"
   ]
  },
  {
   "cell_type": "code",
   "execution_count": 26,
   "id": "3f6c5740",
   "metadata": {},
   "outputs": [
    {
     "name": "stdout",
     "output_type": "stream",
     "text": [
      "Ttest_indResult(statistic=-5.823115696649686, pvalue=5.784496402514569e-09)\n"
     ]
    }
   ],
   "source": [
    "# Module manufacturer 1: LG Electronics\n",
    "lg = data[data['module_manufacturer_1'] == 'LG Electronics']\n",
    "not_lg = data[data['module_manufacturer_1'] != 'LG Electronics']\n",
    "print(scipy.stats.ttest_ind(lg['price_per_kw'], not_lg['price_per_kw']))"
   ]
  },
  {
   "cell_type": "code",
   "execution_count": 27,
   "id": "db608c24",
   "metadata": {},
   "outputs": [],
   "source": [
    "data['lg_electronics'] = (data['module_manufacturer_1'] == 'LG Electronics')*1\n",
    "data['module_manufacturer_1_other'] = (~data['module_manufacturer_1'].isin(['Hanwha Q CELLS',\\\n",
    "                                                                                     'SunPower', 'LG Electronics', '-1']))*1\n",
    "data=data.drop(columns=['module_manufacturer_1'])"
   ]
  },
  {
   "cell_type": "code",
   "execution_count": 28,
   "id": "da894e91",
   "metadata": {},
   "outputs": [
    {
     "name": "stdout",
     "output_type": "stream",
     "text": [
      "Ttest_indResult(statistic=-6.506949323277298, pvalue=7.686520594864674e-11)\n"
     ]
    }
   ],
   "source": [
    "# Module model 1: missing values\n",
    "missing = data[data['module_model_1'] == '-1']\n",
    "not_missing = data[data['module_model_1'] != '-1']\n",
    "print(scipy.stats.ttest_ind(missing['price_per_kw'], not_missing['price_per_kw']))"
   ]
  },
  {
   "cell_type": "code",
   "execution_count": 29,
   "id": "124daca0",
   "metadata": {},
   "outputs": [],
   "source": [
    "data['module_model_1_missing'] = (data['module_model_1'] == '-1')*1\n",
    "data['module_model_1_not_missing'] = (data['module_model_1'] != '-1')*1\n",
    "data = data.drop(columns=['module_model_1'])"
   ]
  },
  {
   "cell_type": "code",
   "execution_count": 30,
   "id": "9fb50385",
   "metadata": {},
   "outputs": [
    {
     "name": "stdout",
     "output_type": "stream",
     "text": [
      "Ttest_indResult(statistic=10.969445074840884, pvalue=5.455545867730912e-28)\n"
     ]
    }
   ],
   "source": [
    "# Inverter manufacturer 1: SolarEdge Technologies\n",
    "se = data[data['inverter_manufacturer_1'] == 'SolarEdge Technologies']\n",
    "not_se = data[data['inverter_manufacturer_1'] != 'SolarEdge Technologies']\n",
    "print(scipy.stats.ttest_ind(se['price_per_kw'], not_se['price_per_kw']))"
   ]
  },
  {
   "cell_type": "code",
   "execution_count": 31,
   "id": "823434eb",
   "metadata": {},
   "outputs": [],
   "source": [
    "data['solaredge_technologies'] = (data['inverter_manufacturer_1'] == 'SolarEdge Technologies')*1"
   ]
  },
  {
   "cell_type": "code",
   "execution_count": 32,
   "id": "ea6b546b",
   "metadata": {},
   "outputs": [
    {
     "name": "stdout",
     "output_type": "stream",
     "text": [
      "Ttest_indResult(statistic=-10.706508488203717, pvalue=9.640694231025681e-27)\n"
     ]
    }
   ],
   "source": [
    "# Inverter manufacturer 1: Enphase Energy\n",
    "ee = data[data['inverter_manufacturer_1'] == 'Enphase Energy']\n",
    "not_ee = data[data['inverter_manufacturer_1'] != 'Enphase Energy']\n",
    "print(scipy.stats.ttest_ind(ee['price_per_kw'], not_ee['price_per_kw']))"
   ]
  },
  {
   "cell_type": "code",
   "execution_count": 33,
   "id": "ef8ff105",
   "metadata": {},
   "outputs": [],
   "source": [
    "data['enphase_energy'] = (data['inverter_manufacturer_1'] == 'Enphase Energy')*1"
   ]
  },
  {
   "cell_type": "code",
   "execution_count": 34,
   "id": "59c8767b",
   "metadata": {},
   "outputs": [
    {
     "name": "stdout",
     "output_type": "stream",
     "text": [
      "Ttest_indResult(statistic=-7.509683112556665, pvalue=5.950533690678373e-14)\n"
     ]
    }
   ],
   "source": [
    "# Inverter manufacturer 1: Missing\n",
    "missing = data[data['inverter_manufacturer_1'] == '-1']\n",
    "not_missing = data[data['inverter_manufacturer_1'] != '-1']\n",
    "print(scipy.stats.ttest_ind(missing['price_per_kw'], not_missing['price_per_kw']))"
   ]
  },
  {
   "cell_type": "code",
   "execution_count": 35,
   "id": "eb2eac50",
   "metadata": {},
   "outputs": [],
   "source": [
    "data['inverter_manufacturer_1_missing'] = (data['inverter_manufacturer_1'] == '-1')*1"
   ]
  },
  {
   "cell_type": "code",
   "execution_count": 36,
   "id": "1968a4d7",
   "metadata": {},
   "outputs": [
    {
     "name": "stdout",
     "output_type": "stream",
     "text": [
      "Ttest_indResult(statistic=10.464135123265264, pvalue=1.2808671552350103e-25)\n"
     ]
    }
   ],
   "source": [
    "# Inverter manufacturer 1: SunPower\n",
    "sp = data[data['inverter_manufacturer_1'] == 'SunPower']\n",
    "not_sp = data[data['inverter_manufacturer_1'] != 'SunPower']\n",
    "print(scipy.stats.ttest_ind(sp['price_per_kw'], not_sp['price_per_kw']))"
   ]
  },
  {
   "cell_type": "code",
   "execution_count": 37,
   "id": "688b07a4",
   "metadata": {},
   "outputs": [],
   "source": [
    "data['sunpower'] = (data['inverter_manufacturer_1'] == 'SunPower')*1\n",
    "data['inverter_manufacturer_1_other'] = (~data['inverter_manufacturer_1'].isin(['SolarEdge Technologies',\\\n",
    "                                                                                     'Enphase Energy', 'SunPower', '-1']))*1\n",
    "data=data.drop(columns=['inverter_manufacturer_1'])"
   ]
  },
  {
   "cell_type": "code",
   "execution_count": 38,
   "id": "c8a2210b",
   "metadata": {},
   "outputs": [
    {
     "name": "stdout",
     "output_type": "stream",
     "text": [
      "Ttest_indResult(statistic=-7.508676624240208, pvalue=5.996442552978743e-14)\n"
     ]
    }
   ],
   "source": [
    "# Inverter model 1: Missing\n",
    "missing = data[data['inverter_model_1'] == '-1']\n",
    "not_missing = data[data['inverter_model_1'] != '-1']\n",
    "print(scipy.stats.ttest_ind(missing['price_per_kw'], not_missing['price_per_kw']))"
   ]
  },
  {
   "cell_type": "code",
   "execution_count": 39,
   "id": "2335b11d",
   "metadata": {},
   "outputs": [],
   "source": [
    "data['inverter_model_1_missing'] = (data['inverter_model_1'] == '-1')*1"
   ]
  },
  {
   "cell_type": "code",
   "execution_count": 40,
   "id": "926a434e",
   "metadata": {},
   "outputs": [
    {
     "name": "stdout",
     "output_type": "stream",
     "text": [
      "Ttest_indResult(statistic=-3.284366816056643, pvalue=0.0010222865170599258)\n"
     ]
    }
   ],
   "source": [
    "# Inverter model 1: IQ7-60-2-US [240V]\n",
    "iq7 = data[data['inverter_model_1'] == 'IQ7-60-2-US [240V]']\n",
    "not_iq7 = data[data['inverter_model_1'] != 'IQ7-60-2-US [240V]']\n",
    "print(scipy.stats.ttest_ind(iq7['price_per_kw'], not_iq7['price_per_kw']))"
   ]
  },
  {
   "cell_type": "code",
   "execution_count": 41,
   "id": "a798118b",
   "metadata": {},
   "outputs": [],
   "source": [
    "data['iq7'] = (data['inverter_model_1'] == 'IQ7-60-2-US [240V]')*1"
   ]
  },
  {
   "cell_type": "code",
   "execution_count": 42,
   "id": "b7db4e90",
   "metadata": {},
   "outputs": [
    {
     "name": "stdout",
     "output_type": "stream",
     "text": [
      "Ttest_indResult(statistic=14.67378142946512, pvalue=1.0038492311428803e-48)\n"
     ]
    }
   ],
   "source": [
    "# Inverter model 1: SE3800H-US [240V]\n",
    "se3 = data[data['inverter_model_1'] == 'SE3800H-US [240V]']\n",
    "not_se3 = data[data['inverter_model_1'] != 'SE3800H-US [240V]']\n",
    "print(scipy.stats.ttest_ind(se3['price_per_kw'], not_se3['price_per_kw']))"
   ]
  },
  {
   "cell_type": "code",
   "execution_count": 43,
   "id": "7b2a2609",
   "metadata": {},
   "outputs": [],
   "source": [
    "data['se3'] = (data['inverter_model_1'] == 'SE3800H-US [240V]')*1\n",
    "data['inverter_model_1_other'] = (~data['inverter_model_1'].isin(['IQ7-60-2-US [240V]',\\\n",
    "                                                                                     'SE3800H-US [240V]', '-1']))*1\n",
    "data=data.drop(columns=['inverter_model_1'])"
   ]
  },
  {
   "cell_type": "code",
   "execution_count": 44,
   "id": "e6f0ce15",
   "metadata": {},
   "outputs": [
    {
     "name": "stdout",
     "output_type": "stream",
     "text": [
      "{uint8: ['technology_module_1_-1', 'technology_module_1_CIGS', 'technology_module_1_CdTe', 'technology_module_1_Mono', 'technology_module_1_Multi-c-Si', 'technology_module_1_Poly', 'technology_module_1_Thin Film', 'data_provider_1_Arizona Public Service', 'data_provider_1_Austin Energy', 'data_provider_1_CPS Energy', 'data_provider_1_California Public Utilities Commission', 'data_provider_1_Connecticut Green Bank', 'data_provider_1_Delaware Department of Natural Resources and Environmental Control', 'data_provider_1_Frontier Associates', 'data_provider_1_Gainesville Regional Utilities', 'data_provider_1_Los Angeles Department of Water & Power', 'data_provider_1_MA DOER', 'data_provider_1_Maryland Energy Administration', 'data_provider_1_Mohave Electric Cooperative', 'data_provider_1_New Hampshire Public Utilities Commission', 'data_provider_1_New York State Energy Research and Development Authority', 'data_provider_1_Orlando Utilities Commission', 'data_provider_1_Rhode Island Commerce Corporation', 'data_provider_1_Salt River Project', 'data_provider_1_Tucson Electric Power', 'data_provider_1_UniSource Energy Services', 'data_provider_1_Utah Office of Energy Development', 'data_provider_1_Wisconsin Focus on Energy', 'data_provider_1_Xcel Energy'], int32: ['territory_pacific_gas_and_electric', 'territory_san_diego_gas_and_electric', 'utility_service_territory_other', 'hanwha_q_cells', 'sunpower', 'module_manufacturer_1_missing', 'lg_electronics', 'module_manufacturer_1_other', 'module_model_1_missing', 'module_model_1_not_missing', 'solaredge_technologies', 'enphase_energy', 'inverter_manufacturer_1_missing', 'inverter_manufacturer_1_other', 'inverter_model_1_missing', 'iq7', 'se3', 'inverter_model_1_other'], int64: ['expansion_system', 'multiple_phase_system', 'tracking', 'ground_mounted', 'third_party_owned', 'self_installed', 'module_quantity_1', 'additional_modules', 'bipv_module_1', 'bifacial_module_1', 'additional_inverters', 'micro_inverter_1', 'solar_storage_hybrid_inverter_1', 'built_in_meter_inverter_1', 'dc_optimizer', 'year', 'month', 'state_AZ', 'state_CA', 'state_CO', 'state_CT', 'state_DE', 'state_FL', 'state_MA', 'state_MD', 'state_MN', 'state_NH', 'state_NM', 'state_NY', 'state_RI', 'state_TX', 'state_UT', 'state_WI'], float64: ['system_size_dc', 'total_installed_price', 'rebate_or_grant', 'azimuth_1', 'tilt_1', 'nameplate_capacity_module_1', 'efficiency_module_1', 'inverter_quantity_1', 'inverter_loading_ratio', 'price_per_kw']}\n",
      "(208257, 90)\n"
     ]
    }
   ],
   "source": [
    "print(data.columns.groupby(data.dtypes))\n",
    "\n",
    "print(data.shape)"
   ]
  },
  {
   "cell_type": "markdown",
   "id": "f2be7858",
   "metadata": {},
   "source": [
    "Great! All of the non-numeric features have been converted into dummy features or dropped. \n",
    "\n",
    "It's important to note that for utility service territory I've imputed the missing values as 'other'. This may need to be adjusted later on as I work through modeling.\n",
    "\n",
    "Now the rest of the data imputation and scaling needs to be performed on the training dataset, then applied to the test dataset, so now that all of the desired features have been created I'll split the data into test and train sets. The last thing I'll do before that is replace any remaining NaNs with -1 so that I only have one indicator for missing data."
   ]
  },
  {
   "cell_type": "code",
   "execution_count": 45,
   "id": "8e66e25c",
   "metadata": {},
   "outputs": [],
   "source": [
    "data = data.fillna(-1)"
   ]
  },
  {
   "cell_type": "code",
   "execution_count": 46,
   "id": "da0dcb22",
   "metadata": {},
   "outputs": [],
   "source": [
    "X_train, X_test, y_train, y_test = train_test_split(data, data['price_per_kw'], test_size=0.25)"
   ]
  },
  {
   "cell_type": "code",
   "execution_count": 47,
   "id": "6259dce0",
   "metadata": {},
   "outputs": [
    {
     "name": "stdout",
     "output_type": "stream",
     "text": [
      "(156192, 90) (52065, 90) (156192,) (52065,)\n"
     ]
    }
   ],
   "source": [
    "print(X_train.shape, X_test.shape, y_train.shape, y_test.shape)"
   ]
  },
  {
   "cell_type": "markdown",
   "id": "3edd44db",
   "metadata": {},
   "source": [
    "Now I need to check the numeric columns to see if they have -1 for missing data, then decide how best to replace those for the modeling."
   ]
  },
  {
   "cell_type": "code",
   "execution_count": 48,
   "id": "351b64e9",
   "metadata": {},
   "outputs": [
    {
     "name": "stdout",
     "output_type": "stream",
     "text": [
      "tracking  :  34348\n",
      "ground_mounted  :  43289\n",
      "third_party_owned  :  11262\n",
      "self_installed  :  9611\n",
      "azimuth_1  :  35236\n",
      "tilt_1  :  35192\n",
      "module_quantity_1  :  21884\n",
      "additional_modules  :  28467\n",
      "bipv_module_1  :  17170\n",
      "bifacial_module_1  :  16566\n",
      "nameplate_capacity_module_1  :  16875\n",
      "efficiency_module_1  :  18762\n",
      "inverter_quantity_1  :  21931\n",
      "additional_inverters  :  28467\n",
      "micro_inverter_1  :  18170\n",
      "solar_storage_hybrid_inverter_1  :  26676\n",
      "built_in_meter_inverter_1  :  18170\n",
      "dc_optimizer  :  17189\n",
      "inverter_loading_ratio  :  33179\n"
     ]
    }
   ],
   "source": [
    "for col in X_train.columns:\n",
    "    if (X_train[col] == -1).sum() != 0:\n",
    "        print(col, ' : ', (X_train[col] == -1).sum())"
   ]
  },
  {
   "cell_type": "markdown",
   "id": "9f37b5fa",
   "metadata": {},
   "source": [
    "First I'll work through categorical numerical columns to check the distributions and determine how best to impute the missing values."
   ]
  },
  {
   "cell_type": "code",
   "execution_count": 49,
   "id": "8b899883",
   "metadata": {},
   "outputs": [
    {
     "data": {
      "text/html": [
       "<div>\n",
       "<style scoped>\n",
       "    .dataframe tbody tr th:only-of-type {\n",
       "        vertical-align: middle;\n",
       "    }\n",
       "\n",
       "    .dataframe tbody tr th {\n",
       "        vertical-align: top;\n",
       "    }\n",
       "\n",
       "    .dataframe thead th {\n",
       "        text-align: right;\n",
       "    }\n",
       "</style>\n",
       "<table border=\"1\" class=\"dataframe\">\n",
       "  <thead>\n",
       "    <tr style=\"text-align: right;\">\n",
       "      <th></th>\n",
       "      <th>self_installed</th>\n",
       "      <th>tracking</th>\n",
       "      <th>ground_mounted</th>\n",
       "      <th>third_party_owned</th>\n",
       "      <th>bipv_module_1</th>\n",
       "      <th>bifacial_module_1</th>\n",
       "      <th>additional_inverters</th>\n",
       "      <th>additional_modules</th>\n",
       "      <th>dc_optimizer</th>\n",
       "      <th>micro_inverter_1</th>\n",
       "      <th>built_in_meter_inverter_1</th>\n",
       "      <th>solar_storage_hybrid_inverter_1</th>\n",
       "    </tr>\n",
       "  </thead>\n",
       "  <tbody>\n",
       "    <tr>\n",
       "      <th>-1</th>\n",
       "      <td>0.061533</td>\n",
       "      <td>0.219909</td>\n",
       "      <td>0.277152</td>\n",
       "      <td>0.072104</td>\n",
       "      <td>0.109929</td>\n",
       "      <td>0.106062</td>\n",
       "      <td>0.182256</td>\n",
       "      <td>0.182256</td>\n",
       "      <td>0.110050</td>\n",
       "      <td>0.116331</td>\n",
       "      <td>0.116331</td>\n",
       "      <td>0.170790</td>\n",
       "    </tr>\n",
       "    <tr>\n",
       "      <th>0</th>\n",
       "      <td>0.922506</td>\n",
       "      <td>0.777095</td>\n",
       "      <td>0.709339</td>\n",
       "      <td>0.603744</td>\n",
       "      <td>0.887926</td>\n",
       "      <td>0.892498</td>\n",
       "      <td>0.817680</td>\n",
       "      <td>0.809907</td>\n",
       "      <td>0.471791</td>\n",
       "      <td>0.469570</td>\n",
       "      <td>0.474743</td>\n",
       "      <td>0.801872</td>\n",
       "    </tr>\n",
       "    <tr>\n",
       "      <th>1</th>\n",
       "      <td>0.015961</td>\n",
       "      <td>0.002996</td>\n",
       "      <td>0.013509</td>\n",
       "      <td>0.324152</td>\n",
       "      <td>0.002145</td>\n",
       "      <td>0.001441</td>\n",
       "      <td>0.000064</td>\n",
       "      <td>0.007837</td>\n",
       "      <td>0.418158</td>\n",
       "      <td>0.414099</td>\n",
       "      <td>0.408926</td>\n",
       "      <td>0.027338</td>\n",
       "    </tr>\n",
       "  </tbody>\n",
       "</table>\n",
       "</div>"
      ],
      "text/plain": [
       "    self_installed  tracking  ground_mounted  third_party_owned  \\\n",
       "-1        0.061533  0.219909        0.277152           0.072104   \n",
       " 0        0.922506  0.777095        0.709339           0.603744   \n",
       " 1        0.015961  0.002996        0.013509           0.324152   \n",
       "\n",
       "    bipv_module_1  bifacial_module_1  additional_inverters  \\\n",
       "-1       0.109929           0.106062              0.182256   \n",
       " 0       0.887926           0.892498              0.817680   \n",
       " 1       0.002145           0.001441              0.000064   \n",
       "\n",
       "    additional_modules  dc_optimizer  micro_inverter_1  \\\n",
       "-1            0.182256      0.110050          0.116331   \n",
       " 0            0.809907      0.471791          0.469570   \n",
       " 1            0.007837      0.418158          0.414099   \n",
       "\n",
       "    built_in_meter_inverter_1  solar_storage_hybrid_inverter_1  \n",
       "-1                   0.116331                         0.170790  \n",
       " 0                   0.474743                         0.801872  \n",
       " 1                   0.408926                         0.027338  "
      ]
     },
     "execution_count": 49,
     "metadata": {},
     "output_type": "execute_result"
    }
   ],
   "source": [
    "cols = ['self_installed', 'tracking', 'ground_mounted', 'third_party_owned', 'bipv_module_1', 'bifacial_module_1',\\\n",
    "      'additional_inverters', 'additional_modules', 'dc_optimizer', 'micro_inverter_1', 'built_in_meter_inverter_1',\\\n",
    "      'solar_storage_hybrid_inverter_1']\n",
    "X_train[cols].apply(func = pd.Series.value_counts, args=('normalize', True))"
   ]
  },
  {
   "cell_type": "markdown",
   "id": "c1c0411b",
   "metadata": {},
   "source": [
    "Many of these columns are heavily skewed, so I'll impute the missing values using the mode and assign the missing values to the more heavily favored response. When I begin modeling I'll compare the model using the imputed results vs removing the columns completely to determine whether I need to reasses how to impute these missing values"
   ]
  },
  {
   "cell_type": "code",
   "execution_count": 50,
   "id": "3899af45",
   "metadata": {},
   "outputs": [],
   "source": [
    "X_train[cols] = X_train[cols].replace({-1:0})\n",
    "X_test[cols] = X_test[cols].replace({-1:0})"
   ]
  },
  {
   "cell_type": "markdown",
   "id": "531e0102",
   "metadata": {},
   "source": [
    "Now that the categorical numerical features have been taken care of I'll recheck what continuous numerical variables are left to clean up."
   ]
  },
  {
   "cell_type": "code",
   "execution_count": 51,
   "id": "bfe2af03",
   "metadata": {},
   "outputs": [
    {
     "name": "stdout",
     "output_type": "stream",
     "text": [
      "azimuth_1  :  23.0 % missing\n",
      "tilt_1  :  23.0 % missing\n",
      "module_quantity_1  :  14.000000000000002 % missing\n",
      "nameplate_capacity_module_1  :  11.0 % missing\n",
      "efficiency_module_1  :  12.0 % missing\n",
      "inverter_quantity_1  :  14.000000000000002 % missing\n",
      "inverter_loading_ratio  :  21.0 % missing\n"
     ]
    }
   ],
   "source": [
    "cols=[]\n",
    "for col in X_train.columns:\n",
    "    if (X_train[col] == -1).sum() != 0:\n",
    "        cols.append(col)\n",
    "        print(col, ' : ', (round(X_train[col].value_counts(normalize = True).loc[-1], 2) * 100), '% missing')"
   ]
  },
  {
   "cell_type": "code",
   "execution_count": 52,
   "id": "b115fce2",
   "metadata": {},
   "outputs": [
    {
     "data": {
      "image/png": "[encoded data removed]",
      "text/plain": [
       "<Figure size 640x480 with 1 Axes>"
      ]
     },
     "metadata": {},
     "output_type": "display_data"
    },
    {
     "data": {
      "image/png": "[encoded data removed]",
      "text/plain": [
       "<Figure size 640x480 with 1 Axes>"
      ]
     },
     "metadata": {},
     "output_type": "display_data"
    },
    {
     "data": {
      "image/png": "[encoded data removed]",
      "text/plain": [
       "<Figure size 640x480 with 1 Axes>"
      ]
     },
     "metadata": {},
     "output_type": "display_data"
    },
    {
     "data": {
      "image/png": "[encoded data removed]",
      "text/plain": [
       "<Figure size 640x480 with 1 Axes>"
      ]
     },
     "metadata": {},
     "output_type": "display_data"
    },
    {
     "data": {
      "image/png": "[encoded data removed]",
      "text/plain": [
       "<Figure size 640x480 with 1 Axes>"
      ]
     },
     "metadata": {},
     "output_type": "display_data"
    },
    {
     "data": {
      "image/png": "[encoded data removed]",
      "text/plain": [
       "<Figure size 640x480 with 1 Axes>"
      ]
     },
     "metadata": {},
     "output_type": "display_data"
    },
    {
     "data": {
      "image/png": "[encoded data removed]",
      "text/plain": [
       "<Figure size 640x480 with 1 Axes>"
      ]
     },
     "metadata": {},
     "output_type": "display_data"
    }
   ],
   "source": [
    "for col in X_train[cols]:\n",
    "    bins=int(round(np.sqrt(len(data[col].unique()))))\n",
    "    sns.histplot(data=X_train[col], bins=bins)\n",
    "    plt.title(col)\n",
    "    plt.ylabel('Installations')\n",
    "    plt.xlabel(col)\n",
    "    plt.show()"
   ]
  },
  {
   "cell_type": "code",
   "execution_count": 53,
   "id": "fa7c18bc",
   "metadata": {},
   "outputs": [
    {
     "data": {
      "text/plain": [
       "-1.0      35236\n",
       " 180.0    30377\n",
       " 270.0     8664\n",
       " 90.0      3349\n",
       " 179.0     1866\n",
       "Name: azimuth_1, dtype: int64"
      ]
     },
     "execution_count": 53,
     "metadata": {},
     "output_type": "execute_result"
    }
   ],
   "source": [
    "X_train['azimuth_1'].value_counts().head()"
   ]
  },
  {
   "cell_type": "markdown",
   "id": "c0d8103e",
   "metadata": {},
   "source": [
    "Right now my goal is to get a quick first look at some models so that I can determine which features are important and then refine the imputation of any missing data for those features if needed. To that end, I'm going to impute these missing values as the mode for azimuth_1 since it's an angle and there is an obvious preference for one specific angle, and the median for the rest."
   ]
  },
  {
   "cell_type": "code",
   "execution_count": 54,
   "id": "954c3af6",
   "metadata": {},
   "outputs": [
    {
     "name": "stderr",
     "output_type": "stream",
     "text": [
      "C:\\Users\\Zjbro\\anaconda3\\lib\\site-packages\\sklearn\\impute\\_base.py:49: FutureWarning: Unlike other reduction functions (e.g. `skew`, `kurtosis`), the default behavior of `mode` typically preserves the axis it acts along. In SciPy 1.11.0, this behavior will change: the default value of `keepdims` will become False, the `axis` over which the statistic is taken will be eliminated, and the value None will no longer be accepted. Set `keepdims` to True or False to avoid this warning.\n",
      "  mode = stats.mode(array)\n",
      "C:\\Users\\Zjbro\\anaconda3\\lib\\site-packages\\sklearn\\impute\\_base.py:49: FutureWarning: Unlike other reduction functions (e.g. `skew`, `kurtosis`), the default behavior of `mode` typically preserves the axis it acts along. In SciPy 1.11.0, this behavior will change: the default value of `keepdims` will become False, the `axis` over which the statistic is taken will be eliminated, and the value None will no longer be accepted. Set `keepdims` to True or False to avoid this warning.\n",
      "  mode = stats.mode(array)\n"
     ]
    }
   ],
   "source": [
    "from sklearn.impute import SimpleImputer\n",
    "\n",
    "mode_imputer = SimpleImputer(strategy='most_frequent', missing_values=-1)\n",
    "\n",
    "X_train['azimuth_1'] = mode_imputer.fit_transform(X_train['azimuth_1'].values.reshape(-1,1))\n",
    "X_test['azimuth_1'] = mode_imputer.fit_transform(X_test['azimuth_1'].values.reshape(-1,1))\n",
    "\n",
    "\n",
    "cols.remove('azimuth_1')\n",
    "\n",
    "median_imputer = SimpleImputer(strategy='median', missing_values=-1)\n",
    "\n",
    "for col in X_train[cols]:\n",
    "    X_train[col] = median_imputer.fit_transform(X_train[col].values.reshape(-1,1))\n",
    "    \n",
    "for col in X_test[cols]:\n",
    "    X_test[col] = median_imputer.fit_transform(X_test[col].values.reshape(-1,1))"
   ]
  },
  {
   "cell_type": "markdown",
   "id": "78e403e2",
   "metadata": {},
   "source": [
    "Now I'll do one last check of the entire dataframe to confirm that there are no more null values or -1s present, then we should be ready to start modeling."
   ]
  },
  {
   "cell_type": "code",
   "execution_count": 55,
   "id": "fa492ff7",
   "metadata": {},
   "outputs": [
    {
     "name": "stdout",
     "output_type": "stream",
     "text": [
      "0\n",
      "0\n"
     ]
    }
   ],
   "source": [
    "# Total null values in dataframe\n",
    "print(X_train.isna().sum().sum())\n",
    "print(X_test.isna().sum().sum())"
   ]
  },
  {
   "cell_type": "code",
   "execution_count": 56,
   "id": "c4212cbb",
   "metadata": {},
   "outputs": [
    {
     "name": "stdout",
     "output_type": "stream",
     "text": [
      "0\n",
      "0\n"
     ]
    }
   ],
   "source": [
    "# Total -1 values in dataframe\n",
    "print((X_train.values == -1).sum())\n",
    "print((X_test.values == -1).sum())"
   ]
  },
  {
   "cell_type": "markdown",
   "id": "9fcab8c5",
   "metadata": {},
   "source": [
    "Great! Our data looks good to go. I'll export all four portions of data separately for the modeling portion of the project and they can each be read in separately to that notebook."
   ]
  },
  {
   "cell_type": "code",
   "execution_count": 57,
   "id": "ce9b09ef",
   "metadata": {},
   "outputs": [],
   "source": [
    "X_train.to_csv('X_train.csv')\n",
    "X_test.to_csv('X_test.csv')\n",
    "y_train.to_csv('y_train.csv')\n",
    "y_test.to_csv('y_test.csv')"
   ]
  },
  {
   "cell_type": "code",
   "execution_count": null,
   "id": "646c4e18",
   "metadata": {},
   "outputs": [],
   "source": []
  }
 ],
 "metadata": {
  "kernelspec": {
   "display_name": "Python 3 (ipykernel)",
   "language": "python",
   "name": "python3"
  },
  "language_info": {
   "codemirror_mode": {
    "name": "ipython",
    "version": 3
   },
   "file_extension": ".py",
   "mimetype": "text/x-python",
   "name": "python",
   "nbconvert_exporter": "python",
   "pygments_lexer": "ipython3",
   "version": "3.9.15"
  }
 },
 "nbformat": 4,
 "nbformat_minor": 5
}
