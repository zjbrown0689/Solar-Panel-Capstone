{
 "cells": [
  {
   "cell_type": "markdown",
   "id": "651ae3c4",
   "metadata": {},
   "source": [
    "# Getting the most solar power for your dollar\n",
    "## Preprocessing and feature engineering\n",
    "### Zachary Brown\n",
    "\n",
    "The data has been cleaned and preliminary analysis has identified some trends we should expect to see the eventual model pick up on. Now I'm going to preprocess the data so that any models I work with can use the data appropriately. This will include imputing missing data, feature engineering, scaling, and splitting the data into testing and training datasets.\n",
    "\n",
    "I'll start by loading the necessary packages and reading in the data from the exploratory data analysis portion of the project."
   ]
  },
  {
   "cell_type": "code",
   "execution_count": 1,
   "id": "211712a5",
   "metadata": {},
   "outputs": [],
   "source": [
    "import os\n",
    "import numpy as np\n",
    "import pandas as pd\n",
    "import matplotlib.pyplot as plt\n",
    "import seaborn as sns\n",
    "sns.set_theme('notebook')\n",
    "import scipy.stats\n",
    "from sklearn.model_selection import train_test_split\n",
    "from sklearn.feature_selection import SelectKBest, f_regression"
   ]
  },
  {
   "cell_type": "code",
   "execution_count": 2,
   "id": "da6ddcd0",
   "metadata": {},
   "outputs": [
    {
     "name": "stdout",
     "output_type": "stream",
     "text": [
      "C:\\Users\\Zachary Brown\\Documents\\GitHub\\Solar-Panel-Capstone\\notebooks\n",
      "C:\\Users\\Zachary Brown\\Documents\\GitHub\\Solar-Panel-Capstone\\data\\processed\n"
     ]
    }
   ],
   "source": [
    "print(os.getcwd())\n",
    "os.chdir(r\"..\\data\\processed\")\n",
    "print(os.getcwd())"
   ]
  },
  {
   "cell_type": "code",
   "execution_count": 3,
   "id": "a6dd8367",
   "metadata": {},
   "outputs": [
    {
     "data": {
      "text/plain": [
       "(208257, 57)"
      ]
     },
     "execution_count": 3,
     "metadata": {},
     "output_type": "execute_result"
    }
   ],
   "source": [
    "data = pd.read_csv('processed_data.csv', index_col=0, na_values = [-1, '-1'], low_memory=False)\n",
    "data.shape"
   ]
  },
  {
   "cell_type": "code",
   "execution_count": 4,
   "id": "d70e27ab",
   "metadata": {},
   "outputs": [
    {
     "data": {
      "text/plain": [
       "{int64: ['expansion_system', 'multiple_phase_system', 'year', 'month', 'state_AZ', 'state_CA', 'state_CO', 'state_CT', 'state_DE', 'state_FL', 'state_MA', 'state_MD', 'state_MN', 'state_NH', 'state_NM', 'state_NY', 'state_RI', 'state_TX', 'state_UT', 'state_WI'], float64: ['system_size_dc', 'total_installed_price', 'rebate_or_grant', 'tracking', 'ground_mounted', 'third_party_owned', 'self_installed', 'azimuth_1', 'tilt_1', 'module_quantity_1', 'additional_modules', 'bipv_module_1', 'bifacial_module_1', 'nameplate_capacity_module_1', 'efficiency_module_1', 'inverter_quantity_1', 'additional_inverters', 'micro_inverter_1', 'solar_storage_hybrid_inverter_1', 'built_in_meter_inverter_1', 'dc_optimizer', 'inverter_loading_ratio', 'price_per_kw'], object: ['data_provider_1', 'system_id_1', 'installation_date', 'customer_segment', 'zip_code', 'city', 'utility_service_territory', 'installer_name', 'module_manufacturer_1', 'module_model_1', 'technology_module_1', 'inverter_manufacturer_1', 'inverter_model_1', 'date_of_battery_install']}"
      ]
     },
     "execution_count": 4,
     "metadata": {},
     "output_type": "execute_result"
    }
   ],
   "source": [
    "data.columns.groupby(data.dtypes)"
   ]
  },
  {
   "cell_type": "markdown",
   "id": "fcb99dcc",
   "metadata": {},
   "source": [
    "I'm going to first remove total installed price because it's not something that's really in the user's control. They may be able to shop around for a few quotes, but in reality the goal of the project is to determine what other levers can be pulled to reduce that price as much as possible. I'll also remove city since the goal of my project is just to analyze cost efficiency at the state level. Zip code may give some interesting insights on a more granular level, but I don't see additional value in keeping city."
   ]
  },
  {
   "cell_type": "code",
   "execution_count": 5,
   "id": "71b13146",
   "metadata": {},
   "outputs": [],
   "source": [
    "data=data.drop(columns=['total_installed_price', 'city'])"
   ]
  },
  {
   "cell_type": "markdown",
   "id": "98220e6b",
   "metadata": {},
   "source": [
    "I want to check each column for the percentage of values that are missing, and remove any features with more than 30% missing values"
   ]
  },
  {
   "cell_type": "code",
   "execution_count": 6,
   "id": "fa6ff5ad",
   "metadata": {},
   "outputs": [
    {
     "data": {
      "text/plain": [
       "date_of_battery_install            93.650634\n",
       "ground_mounted                     27.698949\n",
       "azimuth_1                          22.536097\n",
       "tilt_1                             22.512569\n",
       "tracking                           21.979573\n",
       "inverter_loading_ratio             21.270353\n",
       "additional_modules                 18.227479\n",
       "additional_inverters               18.227479\n",
       "solar_storage_hybrid_inverter_1    17.041444\n",
       "inverter_quantity_1                14.037463\n",
       "module_quantity_1                  14.007212\n",
       "efficiency_module_1                12.028887\n",
       "built_in_meter_inverter_1          11.630341\n",
       "micro_inverter_1                   11.630341\n",
       "inverter_manufacturer_1            11.622178\n",
       "inverter_model_1                   11.621698\n",
       "bipv_module_1                      11.000351\n",
       "dc_optimizer                       10.992668\n",
       "nameplate_capacity_module_1        10.799637\n",
       "technology_module_1                10.606126\n",
       "bifacial_module_1                  10.606126\n",
       "module_model_1                     10.605646\n",
       "module_manufacturer_1              10.605646\n",
       "third_party_owned                   7.241053\n",
       "self_installed                      6.121283\n",
       "zip_code                            5.934494\n",
       "system_id_1                         3.869738\n",
       "utility_service_territory           2.913708\n",
       "installer_name                      2.110373\n",
       "state_CT                            0.000000\n",
       "state_NH                            0.000000\n",
       "state_NM                            0.000000\n",
       "state_NY                            0.000000\n",
       "state_RI                            0.000000\n",
       "state_TX                            0.000000\n",
       "state_UT                            0.000000\n",
       "state_MN                            0.000000\n",
       "state_MD                            0.000000\n",
       "state_MA                            0.000000\n",
       "state_FL                            0.000000\n",
       "state_DE                            0.000000\n",
       "data_provider_1                     0.000000\n",
       "state_CO                            0.000000\n",
       "state_CA                            0.000000\n",
       "state_AZ                            0.000000\n",
       "price_per_kw                        0.000000\n",
       "month                               0.000000\n",
       "year                                0.000000\n",
       "multiple_phase_system               0.000000\n",
       "expansion_system                    0.000000\n",
       "customer_segment                    0.000000\n",
       "rebate_or_grant                     0.000000\n",
       "system_size_dc                      0.000000\n",
       "installation_date                   0.000000\n",
       "state_WI                            0.000000\n",
       "dtype: float64"
      ]
     },
     "execution_count": 6,
     "metadata": {},
     "output_type": "execute_result"
    }
   ],
   "source": [
    "percent_missing = data.isnull().sum()/len(data)*100\n",
    "percent_missing.sort_values(ascending=False)"
   ]
  },
  {
   "cell_type": "markdown",
   "id": "4131010e",
   "metadata": {},
   "source": [
    "The only feature that needs to be removed based on this threshold is 'date_of_battery_install'. "
   ]
  },
  {
   "cell_type": "code",
   "execution_count": 7,
   "id": "91c800e8",
   "metadata": {},
   "outputs": [],
   "source": [
    "data=data.drop(columns=['date_of_battery_install'])"
   ]
  },
  {
   "cell_type": "markdown",
   "id": "ba3b53ac",
   "metadata": {},
   "source": [
    "I'm going to check how many zip codes are in the dataset, convert them from 9 digit to 5, and then check to see how many times the top five unique zip codes are present in the dataset."
   ]
  },
  {
   "cell_type": "code",
   "execution_count": 8,
   "id": "6406df93",
   "metadata": {},
   "outputs": [
    {
     "data": {
      "text/plain": [
       "7602"
      ]
     },
     "execution_count": 8,
     "metadata": {},
     "output_type": "execute_result"
    }
   ],
   "source": [
    "data['zip_code'].nunique()"
   ]
  },
  {
   "cell_type": "code",
   "execution_count": 9,
   "id": "754a093c",
   "metadata": {},
   "outputs": [],
   "source": [
    "data['zip_code'] = data['zip_code'].str[0:5]"
   ]
  },
  {
   "cell_type": "code",
   "execution_count": 10,
   "id": "7f077560",
   "metadata": {},
   "outputs": [
    {
     "name": "stdout",
     "output_type": "stream",
     "text": [
      "4113\n"
     ]
    },
    {
     "data": {
      "text/plain": [
       "92584    1141\n",
       "92058    1128\n",
       "92336    1047\n",
       "93727     982\n",
       "95762     908\n",
       "Name: zip_code, dtype: int64"
      ]
     },
     "execution_count": 10,
     "metadata": {},
     "output_type": "execute_result"
    }
   ],
   "source": [
    "print(data['zip_code'].nunique())\n",
    "data['zip_code'].value_counts().head()"
   ]
  },
  {
   "cell_type": "markdown",
   "id": "c3baf37b",
   "metadata": {},
   "source": [
    "So it looks like removing the last four digits from the zip code reduced some of the variance. I'll check how many zip codes have more than 30 entries and then decide on a limit for which should get dummy columns."
   ]
  },
  {
   "cell_type": "code",
   "execution_count": 11,
   "id": "ef647a9c",
   "metadata": {},
   "outputs": [
    {
     "name": "stdout",
     "output_type": "stream",
     "text": [
      "1287\n"
     ]
    }
   ],
   "source": [
    "print((data['zip_code'].value_counts() > 30).sum())"
   ]
  },
  {
   "cell_type": "markdown",
   "id": "89f6ad56",
   "metadata": {},
   "source": [
    "Right now I have 54 features in my data. A general rule of thumb is to keep the number of features limited to the square root of the number of entries in the data. For this dataset that means I should stick to 456 or fewer features. With that said, I will go ahead and create dummy columns for each of these zip codes and then later on I'll use univariate feature selection to retain only the 400 most statistically significant features when subjected to f-regression testing. Any zip codes present fewer than 30 times will be dropped to avoid collinearity within the dataset."
   ]
  },
  {
   "cell_type": "code",
   "execution_count": 12,
   "id": "20a2ba7f",
   "metadata": {},
   "outputs": [
    {
     "data": {
      "text/plain": [
       "(208257, 54)"
      ]
     },
     "execution_count": 12,
     "metadata": {},
     "output_type": "execute_result"
    }
   ],
   "source": [
    "data.shape"
   ]
  },
  {
   "cell_type": "code",
   "execution_count": 13,
   "id": "cce3d1c5",
   "metadata": {},
   "outputs": [
    {
     "data": {
      "text/plain": [
       "(208257, 1341)"
      ]
     },
     "execution_count": 13,
     "metadata": {},
     "output_type": "execute_result"
    }
   ],
   "source": [
    "for zipcode in data['zip_code'].unique():\n",
    "    if data['zip_code'].value_counts(dropna=False)[zipcode] > 30:\n",
    "        new_col = pd.Series(((data['zip_code'] == zipcode)*1), name = f'zip_{zipcode}').astype(np.uint8)\n",
    "        data = pd.concat([data, new_col.to_frame()], axis=1)\n",
    "    \n",
    "data = data.drop(columns=['zip_code'])\n",
    "data.shape"
   ]
  },
  {
   "cell_type": "markdown",
   "id": "dffeb3df",
   "metadata": {},
   "source": [
    "Next I want to browse the categorical object columns and count how many unique values each has. If a feature has too many or only one unique value they won't help identify any trends."
   ]
  },
  {
   "cell_type": "code",
   "execution_count": 14,
   "id": "68486772",
   "metadata": {},
   "outputs": [
    {
     "name": "stdout",
     "output_type": "stream",
     "text": [
      "data_provider_1  :  22\n",
      "system_id_1  :  200022\n",
      "installation_date  :  530\n",
      "customer_segment  :  1\n",
      "utility_service_territory  :  71\n",
      "installer_name  :  2640\n",
      "module_manufacturer_1  :  156\n",
      "module_model_1  :  2459\n",
      "technology_module_1  :  6\n",
      "inverter_manufacturer_1  :  63\n",
      "inverter_model_1  :  628\n"
     ]
    }
   ],
   "source": [
    "for col in data.columns:\n",
    "    if data[col].dtypes == 'object':\n",
    "        print(col, ' : ', data[col].nunique())"
   ]
  },
  {
   "cell_type": "markdown",
   "id": "18a36ff9",
   "metadata": {},
   "source": [
    "Based on these results it should be safe to remove system_id_1, as that has a unique value for almost every entry. I'll also drop customer_segment since earlier in the project I limited the dataset to only residential installations. "
   ]
  },
  {
   "cell_type": "code",
   "execution_count": 15,
   "id": "06e786e3",
   "metadata": {},
   "outputs": [],
   "source": [
    "data = data.drop(columns=['system_id_1', 'customer_segment'])"
   ]
  },
  {
   "cell_type": "markdown",
   "id": "7636efe9",
   "metadata": {},
   "source": [
    "Great! Now I need to encode these categorical features as I did with the zip codes earlier. I'll count the unique values for each column and if a value appears in more than 30 entries then I'll dummy encode it, anything below 30 will be dropped to avoid collinearity. Since technology_module_1 and data_provider_1 have fewer than 30 unique values I'll just dummy encode those entire columns, dropping the first value."
   ]
  },
  {
   "cell_type": "code",
   "execution_count": 16,
   "id": "65fa9995",
   "metadata": {},
   "outputs": [
    {
     "data": {
      "text/plain": [
       "(208257, 1363)"
      ]
     },
     "execution_count": 16,
     "metadata": {},
     "output_type": "execute_result"
    }
   ],
   "source": [
    "data = pd.get_dummies(data, columns=['technology_module_1', 'data_provider_1'], drop_first=True)\n",
    "data.shape"
   ]
  },
  {
   "cell_type": "code",
   "execution_count": 17,
   "id": "5359830e",
   "metadata": {},
   "outputs": [
    {
     "data": {
      "text/plain": [
       "(208257, 2898)"
      ]
     },
     "execution_count": 17,
     "metadata": {},
     "output_type": "execute_result"
    }
   ],
   "source": [
    "cols = ['installation_date', 'utility_service_territory', 'installer_name', 'module_manufacturer_1',\\\n",
    "        'module_model_1', 'inverter_manufacturer_1', 'inverter_model_1']\n",
    "for col in cols:\n",
    "        for val in data[col].unique():\n",
    "            if data[col].value_counts(dropna=False)[val] > 30:\n",
    "                new_col = pd.Series(((data[col] == val)*1), name = f'{col}_{val}').astype(np.uint8)\n",
    "                data = pd.concat([data, new_col.to_frame()], axis=1)\n",
    "                \n",
    "        data = data.drop(columns=[col])\n",
    "dummied = data.copy()\n",
    "dummied.shape"
   ]
  },
  {
   "cell_type": "code",
   "execution_count": 18,
   "id": "966bac7f",
   "metadata": {},
   "outputs": [
    {
     "data": {
      "text/plain": [
       "108019    3036.156250\n",
       "108020    2586.400000\n",
       "108142    4015.238095\n",
       "108175    2788.732394\n",
       "108233    3500.000000\n",
       "Name: price_per_kw, dtype: float64"
      ]
     },
     "execution_count": 18,
     "metadata": {},
     "output_type": "execute_result"
    }
   ],
   "source": [
    "dummied['price_per_kw'].head()"
   ]
  },
  {
   "cell_type": "markdown",
   "id": "647d1a36",
   "metadata": {},
   "source": [
    "Now that I have dummy columns for all categorical values with 30 or more entries I'm going to perform the train test split so that I make sure I'm imputing, scaling, and performing feature selection entirely based on the training data and not getting data leakage built into my model."
   ]
  },
  {
   "cell_type": "code",
   "execution_count": 19,
   "id": "59270cde",
   "metadata": {},
   "outputs": [],
   "source": [
    "x = dummied.drop(columns=['price_per_kw'])\n",
    "y = dummied['price_per_kw']\n",
    "X_train, X_test, y_train, y_test = train_test_split(x, y, test_size=0.25)"
   ]
  },
  {
   "cell_type": "code",
   "execution_count": 20,
   "id": "0faa7b7f",
   "metadata": {},
   "outputs": [
    {
     "name": "stdout",
     "output_type": "stream",
     "text": [
      "(156192, 2897) (52065, 2897) (156192,) (52065,)\n"
     ]
    }
   ],
   "source": [
    "print(X_train.shape, X_test.shape, y_train.shape, y_test.shape)"
   ]
  },
  {
   "cell_type": "markdown",
   "id": "7bebb522",
   "metadata": {},
   "source": [
    "I'm going to impute any missing values with the most common value for that feature and later on once I've done initial modeling I can take a closer look at the most important features to consider whether the imputed values should be changed."
   ]
  },
  {
   "cell_type": "code",
   "execution_count": 21,
   "id": "52f9f223",
   "metadata": {},
   "outputs": [
    {
     "name": "stderr",
     "output_type": "stream",
     "text": [
      "C:\\Users\\Zachary Brown\\anaconda3\\lib\\site-packages\\sklearn\\impute\\_base.py:49: FutureWarning: Unlike other reduction functions (e.g. `skew`, `kurtosis`), the default behavior of `mode` typically preserves the axis it acts along. In SciPy 1.11.0, this behavior will change: the default value of `keepdims` will become False, the `axis` over which the statistic is taken will be eliminated, and the value None will no longer be accepted. Set `keepdims` to True or False to avoid this warning.\n",
      "  mode = stats.mode(array)\n",
      "C:\\Users\\Zachary Brown\\anaconda3\\lib\\site-packages\\sklearn\\impute\\_base.py:49: FutureWarning: Unlike other reduction functions (e.g. `skew`, `kurtosis`), the default behavior of `mode` typically preserves the axis it acts along. In SciPy 1.11.0, this behavior will change: the default value of `keepdims` will become False, the `axis` over which the statistic is taken will be eliminated, and the value None will no longer be accepted. Set `keepdims` to True or False to avoid this warning.\n",
      "  mode = stats.mode(array)\n",
      "C:\\Users\\Zachary Brown\\anaconda3\\lib\\site-packages\\sklearn\\impute\\_base.py:49: FutureWarning: Unlike other reduction functions (e.g. `skew`, `kurtosis`), the default behavior of `mode` typically preserves the axis it acts along. In SciPy 1.11.0, this behavior will change: the default value of `keepdims` will become False, the `axis` over which the statistic is taken will be eliminated, and the value None will no longer be accepted. Set `keepdims` to True or False to avoid this warning.\n",
      "  mode = stats.mode(array)\n",
      "C:\\Users\\Zachary Brown\\anaconda3\\lib\\site-packages\\sklearn\\impute\\_base.py:49: FutureWarning: Unlike other reduction functions (e.g. `skew`, `kurtosis`), the default behavior of `mode` typically preserves the axis it acts along. In SciPy 1.11.0, this behavior will change: the default value of `keepdims` will become False, the `axis` over which the statistic is taken will be eliminated, and the value None will no longer be accepted. Set `keepdims` to True or False to avoid this warning.\n",
      "  mode = stats.mode(array)\n",
      "C:\\Users\\Zachary Brown\\anaconda3\\lib\\site-packages\\sklearn\\impute\\_base.py:49: FutureWarning: Unlike other reduction functions (e.g. `skew`, `kurtosis`), the default behavior of `mode` typically preserves the axis it acts along. In SciPy 1.11.0, this behavior will change: the default value of `keepdims` will become False, the `axis` over which the statistic is taken will be eliminated, and the value None will no longer be accepted. Set `keepdims` to True or False to avoid this warning.\n",
      "  mode = stats.mode(array)\n",
      "C:\\Users\\Zachary Brown\\anaconda3\\lib\\site-packages\\sklearn\\impute\\_base.py:49: FutureWarning: Unlike other reduction functions (e.g. `skew`, `kurtosis`), the default behavior of `mode` typically preserves the axis it acts along. In SciPy 1.11.0, this behavior will change: the default value of `keepdims` will become False, the `axis` over which the statistic is taken will be eliminated, and the value None will no longer be accepted. Set `keepdims` to True or False to avoid this warning.\n",
      "  mode = stats.mode(array)\n",
      "C:\\Users\\Zachary Brown\\anaconda3\\lib\\site-packages\\sklearn\\impute\\_base.py:49: FutureWarning: Unlike other reduction functions (e.g. `skew`, `kurtosis`), the default behavior of `mode` typically preserves the axis it acts along. In SciPy 1.11.0, this behavior will change: the default value of `keepdims` will become False, the `axis` over which the statistic is taken will be eliminated, and the value None will no longer be accepted. Set `keepdims` to True or False to avoid this warning.\n",
      "  mode = stats.mode(array)\n",
      "C:\\Users\\Zachary Brown\\anaconda3\\lib\\site-packages\\sklearn\\impute\\_base.py:49: FutureWarning: Unlike other reduction functions (e.g. `skew`, `kurtosis`), the default behavior of `mode` typically preserves the axis it acts along. In SciPy 1.11.0, this behavior will change: the default value of `keepdims` will become False, the `axis` over which the statistic is taken will be eliminated, and the value None will no longer be accepted. Set `keepdims` to True or False to avoid this warning.\n",
      "  mode = stats.mode(array)\n",
      "C:\\Users\\Zachary Brown\\anaconda3\\lib\\site-packages\\sklearn\\impute\\_base.py:49: FutureWarning: Unlike other reduction functions (e.g. `skew`, `kurtosis`), the default behavior of `mode` typically preserves the axis it acts along. In SciPy 1.11.0, this behavior will change: the default value of `keepdims` will become False, the `axis` over which the statistic is taken will be eliminated, and the value None will no longer be accepted. Set `keepdims` to True or False to avoid this warning.\n",
      "  mode = stats.mode(array)\n",
      "C:\\Users\\Zachary Brown\\anaconda3\\lib\\site-packages\\sklearn\\impute\\_base.py:49: FutureWarning: Unlike other reduction functions (e.g. `skew`, `kurtosis`), the default behavior of `mode` typically preserves the axis it acts along. In SciPy 1.11.0, this behavior will change: the default value of `keepdims` will become False, the `axis` over which the statistic is taken will be eliminated, and the value None will no longer be accepted. Set `keepdims` to True or False to avoid this warning.\n",
      "  mode = stats.mode(array)\n",
      "C:\\Users\\Zachary Brown\\anaconda3\\lib\\site-packages\\sklearn\\impute\\_base.py:49: FutureWarning: Unlike other reduction functions (e.g. `skew`, `kurtosis`), the default behavior of `mode` typically preserves the axis it acts along. In SciPy 1.11.0, this behavior will change: the default value of `keepdims` will become False, the `axis` over which the statistic is taken will be eliminated, and the value None will no longer be accepted. Set `keepdims` to True or False to avoid this warning.\n",
      "  mode = stats.mode(array)\n",
      "C:\\Users\\Zachary Brown\\anaconda3\\lib\\site-packages\\sklearn\\impute\\_base.py:49: FutureWarning: Unlike other reduction functions (e.g. `skew`, `kurtosis`), the default behavior of `mode` typically preserves the axis it acts along. In SciPy 1.11.0, this behavior will change: the default value of `keepdims` will become False, the `axis` over which the statistic is taken will be eliminated, and the value None will no longer be accepted. Set `keepdims` to True or False to avoid this warning.\n",
      "  mode = stats.mode(array)\n",
      "C:\\Users\\Zachary Brown\\anaconda3\\lib\\site-packages\\sklearn\\impute\\_base.py:49: FutureWarning: Unlike other reduction functions (e.g. `skew`, `kurtosis`), the default behavior of `mode` typically preserves the axis it acts along. In SciPy 1.11.0, this behavior will change: the default value of `keepdims` will become False, the `axis` over which the statistic is taken will be eliminated, and the value None will no longer be accepted. Set `keepdims` to True or False to avoid this warning.\n",
      "  mode = stats.mode(array)\n",
      "C:\\Users\\Zachary Brown\\anaconda3\\lib\\site-packages\\sklearn\\impute\\_base.py:49: FutureWarning: Unlike other reduction functions (e.g. `skew`, `kurtosis`), the default behavior of `mode` typically preserves the axis it acts along. In SciPy 1.11.0, this behavior will change: the default value of `keepdims` will become False, the `axis` over which the statistic is taken will be eliminated, and the value None will no longer be accepted. Set `keepdims` to True or False to avoid this warning.\n",
      "  mode = stats.mode(array)\n",
      "C:\\Users\\Zachary Brown\\anaconda3\\lib\\site-packages\\sklearn\\impute\\_base.py:49: FutureWarning: Unlike other reduction functions (e.g. `skew`, `kurtosis`), the default behavior of `mode` typically preserves the axis it acts along. In SciPy 1.11.0, this behavior will change: the default value of `keepdims` will become False, the `axis` over which the statistic is taken will be eliminated, and the value None will no longer be accepted. Set `keepdims` to True or False to avoid this warning.\n",
      "  mode = stats.mode(array)\n",
      "C:\\Users\\Zachary Brown\\anaconda3\\lib\\site-packages\\sklearn\\impute\\_base.py:49: FutureWarning: Unlike other reduction functions (e.g. `skew`, `kurtosis`), the default behavior of `mode` typically preserves the axis it acts along. In SciPy 1.11.0, this behavior will change: the default value of `keepdims` will become False, the `axis` over which the statistic is taken will be eliminated, and the value None will no longer be accepted. Set `keepdims` to True or False to avoid this warning.\n",
      "  mode = stats.mode(array)\n",
      "C:\\Users\\Zachary Brown\\anaconda3\\lib\\site-packages\\sklearn\\impute\\_base.py:49: FutureWarning: Unlike other reduction functions (e.g. `skew`, `kurtosis`), the default behavior of `mode` typically preserves the axis it acts along. In SciPy 1.11.0, this behavior will change: the default value of `keepdims` will become False, the `axis` over which the statistic is taken will be eliminated, and the value None will no longer be accepted. Set `keepdims` to True or False to avoid this warning.\n",
      "  mode = stats.mode(array)\n",
      "C:\\Users\\Zachary Brown\\anaconda3\\lib\\site-packages\\sklearn\\impute\\_base.py:49: FutureWarning: Unlike other reduction functions (e.g. `skew`, `kurtosis`), the default behavior of `mode` typically preserves the axis it acts along. In SciPy 1.11.0, this behavior will change: the default value of `keepdims` will become False, the `axis` over which the statistic is taken will be eliminated, and the value None will no longer be accepted. Set `keepdims` to True or False to avoid this warning.\n",
      "  mode = stats.mode(array)\n",
      "C:\\Users\\Zachary Brown\\anaconda3\\lib\\site-packages\\sklearn\\impute\\_base.py:49: FutureWarning: Unlike other reduction functions (e.g. `skew`, `kurtosis`), the default behavior of `mode` typically preserves the axis it acts along. In SciPy 1.11.0, this behavior will change: the default value of `keepdims` will become False, the `axis` over which the statistic is taken will be eliminated, and the value None will no longer be accepted. Set `keepdims` to True or False to avoid this warning.\n",
      "  mode = stats.mode(array)\n"
     ]
    }
   ],
   "source": [
    "from sklearn.impute import SimpleImputer\n",
    "\n",
    "mode_imputer = SimpleImputer(strategy='most_frequent')\n",
    "\n",
    "for col in X_train.columns:\n",
    "    if X_train[col].isna().sum() != 0:\n",
    "        X_train[col] = mode_imputer.fit_transform(X_train[col].values.reshape(-1,1))\n",
    "        X_test[col] = mode_imputer.transform(X_test[col].values.reshape(-1,1))\n",
    "        \n",
    "X_train_imp = X_train.copy()\n",
    "X_test_imp = X_test.copy()"
   ]
  },
  {
   "cell_type": "code",
   "execution_count": 22,
   "id": "e49c666f",
   "metadata": {},
   "outputs": [
    {
     "data": {
      "text/plain": [
       "(156192, 2897)"
      ]
     },
     "execution_count": 22,
     "metadata": {},
     "output_type": "execute_result"
    }
   ],
   "source": [
    "X_train_imp.shape"
   ]
  },
  {
   "cell_type": "markdown",
   "id": "8ce2039c",
   "metadata": {},
   "source": [
    "Now that the data is dummied, split, and imputed, I'll scale it so that the feature selection isn't biased by the different scales of the features."
   ]
  },
  {
   "cell_type": "code",
   "execution_count": 23,
   "id": "e282d715",
   "metadata": {},
   "outputs": [
    {
     "data": {
      "text/plain": [
       "array([[-0.18078829, -0.26323919,  5.09166112, ..., -0.10915241,\n",
       "        -0.01159603, -0.01734942],\n",
       "       [-0.33566342, -0.26323919, -0.19639956, ..., -0.10915241,\n",
       "        -0.01159603, -0.01734942],\n",
       "       [ 0.33723177, -0.26323919, -0.19639956, ..., -0.10915241,\n",
       "        -0.01159603, -0.01734942],\n",
       "       ...,\n",
       "       [ 0.10421863, -0.26323919, -0.19639956, ..., -0.10915241,\n",
       "        -0.01159603, -0.01734942],\n",
       "       [ 0.12592543, -0.26323919, -0.19639956, ..., -0.10915241,\n",
       "        -0.01159603, -0.01734942],\n",
       "       [ 0.36563319, -0.26323919, -0.19639956, ..., -0.10915241,\n",
       "        -0.01159603, -0.01734942]])"
      ]
     },
     "execution_count": 23,
     "metadata": {},
     "output_type": "execute_result"
    }
   ],
   "source": [
    "from sklearn.preprocessing import StandardScaler\n",
    "\n",
    "scaler = StandardScaler()\n",
    "scaler.fit(X_train_imp)\n",
    "scaler.transform(X_train_imp)\n",
    "scaler.transform(X_test_imp)"
   ]
  },
  {
   "cell_type": "markdown",
   "id": "edff876e",
   "metadata": {},
   "source": [
    "Now that I have all of my dummy columns, they've been split, imputed, and scaled, I'm going to trim down the dataframe to 400 features based on f-regression for each."
   ]
  },
  {
   "cell_type": "code",
   "execution_count": 24,
   "id": "f0aca978",
   "metadata": {},
   "outputs": [
    {
     "name": "stderr",
     "output_type": "stream",
     "text": [
      "C:\\Users\\Zachary Brown\\anaconda3\\lib\\site-packages\\sklearn\\feature_selection\\_univariate_selection.py:289: RuntimeWarning: invalid value encountered in true_divide\n",
      "  correlation_coefficient /= X_norms\n"
     ]
    }
   ],
   "source": [
    "selector = SelectKBest(f_regression, k=400)\n",
    "transformed = selector.fit_transform(X_train_imp, y_train)"
   ]
  },
  {
   "cell_type": "code",
   "execution_count": 25,
   "id": "65a20da6",
   "metadata": {},
   "outputs": [
    {
     "data": {
      "text/plain": [
       "((156192, 400), (52065, 400))"
      ]
     },
     "execution_count": 25,
     "metadata": {},
     "output_type": "execute_result"
    }
   ],
   "source": [
    "features = selector.get_support(indices=True)\n",
    "X_train_selected = X_train_imp.iloc[:,features]\n",
    "X_test_selected = X_test_imp.iloc[:,features]\n",
    "X_train_selected.shape, X_test_selected.shape"
   ]
  },
  {
   "cell_type": "markdown",
   "id": "6e70d21f",
   "metadata": {},
   "source": [
    "And that's it for this portion of the project. I'll export all four portions of data separately for the modeling notebook and they can each be read in separately."
   ]
  },
  {
   "cell_type": "code",
   "execution_count": 26,
   "id": "58ea0bfe",
   "metadata": {},
   "outputs": [],
   "source": [
    "X_train_selected.to_csv('X_train.csv')\n",
    "X_test_selected.to_csv('X_test.csv')\n",
    "y_train.to_csv('y_train.csv')\n",
    "y_test.to_csv('y_test.csv')"
   ]
  },
  {
   "cell_type": "code",
   "execution_count": null,
   "id": "7adf4dac",
   "metadata": {},
   "outputs": [],
   "source": []
  }
 ],
 "metadata": {
  "kernelspec": {
   "display_name": "Python 3 (ipykernel)",
   "language": "python",
   "name": "python3"
  },
  "language_info": {
   "codemirror_mode": {
    "name": "ipython",
    "version": 3
   },
   "file_extension": ".py",
   "mimetype": "text/x-python",
   "name": "python",
   "nbconvert_exporter": "python",
   "pygments_lexer": "ipython3",
   "version": "3.9.15"
  }
 },
 "nbformat": 4,
 "nbformat_minor": 5
}
