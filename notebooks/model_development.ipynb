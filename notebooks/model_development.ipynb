{
 "cells": [
  {
   "cell_type": "markdown",
   "id": "c378f6c8",
   "metadata": {},
   "source": [
    "# Getting the most solar power for your dollar\n",
    "## Model development\n",
    "### Zachary Brown\n",
    "\n",
    "I've loaded, cleaned, engineered, and split the dataset I'm using to determine how to optimize cost efficiency for a residential solar panel installation. Now I will screen a range of regression models to identify which gives the best results and refine it as best I can.\n",
    "\n",
    "I'll start by loading in my X_train and y_train sets so that I can begin training some models."
   ]
  },
  {
   "cell_type": "code",
   "execution_count": 32,
   "id": "66aa66b7",
   "metadata": {},
   "outputs": [],
   "source": [
    "import os\n",
    "import numpy as np\n",
    "import pandas as pd\n",
    "import matplotlib.pyplot as plt\n",
    "import seaborn as sns\n",
    "sns.set_theme('notebook')\n",
    "from sklearn.model_selection import train_test_split"
   ]
  },
  {
   "cell_type": "code",
   "execution_count": 33,
   "id": "5912dfb8",
   "metadata": {},
   "outputs": [
    {
     "name": "stdout",
     "output_type": "stream",
     "text": [
      "C:\\Users\\Zjbro\\OneDrive\\Documents\\GitHub\\Solar-Panel-Capstone\\data\\processed\n"
     ]
    },
    {
     "ename": "FileNotFoundError",
     "evalue": "[WinError 3] The system cannot find the path specified: '..\\\\data\\\\processed'",
     "output_type": "error",
     "traceback": [
      "\u001b[1;31m---------------------------------------------------------------------------\u001b[0m",
      "\u001b[1;31mFileNotFoundError\u001b[0m                         Traceback (most recent call last)",
      "Cell \u001b[1;32mIn [33], line 2\u001b[0m\n\u001b[0;32m      1\u001b[0m \u001b[38;5;28mprint\u001b[39m(os\u001b[38;5;241m.\u001b[39mgetcwd())\n\u001b[1;32m----> 2\u001b[0m \u001b[43mos\u001b[49m\u001b[38;5;241;43m.\u001b[39;49m\u001b[43mchdir\u001b[49m\u001b[43m(\u001b[49m\u001b[38;5;124;43mr\u001b[39;49m\u001b[38;5;124;43m\"\u001b[39;49m\u001b[38;5;124;43m..\u001b[39;49m\u001b[38;5;124;43m\\\u001b[39;49m\u001b[38;5;124;43mdata\u001b[39;49m\u001b[38;5;124;43m\\\u001b[39;49m\u001b[38;5;124;43mprocessed\u001b[39;49m\u001b[38;5;124;43m\"\u001b[39;49m\u001b[43m)\u001b[49m\n\u001b[0;32m      3\u001b[0m \u001b[38;5;28mprint\u001b[39m(os\u001b[38;5;241m.\u001b[39mgetcwd())\n",
      "\u001b[1;31mFileNotFoundError\u001b[0m: [WinError 3] The system cannot find the path specified: '..\\\\data\\\\processed'"
     ]
    }
   ],
   "source": [
    "print(os.getcwd())\n",
    "os.chdir(r\"..\\data\\processed\")\n",
    "print(os.getcwd())"
   ]
  },
  {
   "cell_type": "code",
   "execution_count": 34,
   "id": "972180b3",
   "metadata": {},
   "outputs": [
    {
     "data": {
      "text/html": [
       "<div>\n",
       "<style scoped>\n",
       "    .dataframe tbody tr th:only-of-type {\n",
       "        vertical-align: middle;\n",
       "    }\n",
       "\n",
       "    .dataframe tbody tr th {\n",
       "        vertical-align: top;\n",
       "    }\n",
       "\n",
       "    .dataframe thead th {\n",
       "        text-align: right;\n",
       "    }\n",
       "</style>\n",
       "<table border=\"1\" class=\"dataframe\">\n",
       "  <thead>\n",
       "    <tr style=\"text-align: right;\">\n",
       "      <th></th>\n",
       "      <th>system_size_dc</th>\n",
       "      <th>total_installed_price</th>\n",
       "      <th>rebate_or_grant</th>\n",
       "      <th>expansion_system</th>\n",
       "      <th>multiple_phase_system</th>\n",
       "      <th>tracking</th>\n",
       "      <th>ground_mounted</th>\n",
       "      <th>third_party_owned</th>\n",
       "      <th>self_installed</th>\n",
       "      <th>azimuth_1</th>\n",
       "      <th>...</th>\n",
       "      <th>module_model_1_missing</th>\n",
       "      <th>module_model_1_not_missing</th>\n",
       "      <th>solaredge_technologies</th>\n",
       "      <th>enphase_energy</th>\n",
       "      <th>inverter_manufacturer_1_missing</th>\n",
       "      <th>inverter_manufacturer_1_other</th>\n",
       "      <th>inverter_model_1_missing</th>\n",
       "      <th>iq7</th>\n",
       "      <th>se3</th>\n",
       "      <th>inverter_model_1_other</th>\n",
       "    </tr>\n",
       "  </thead>\n",
       "  <tbody>\n",
       "    <tr>\n",
       "      <th>1480676</th>\n",
       "      <td>2.80</td>\n",
       "      <td>10472.0</td>\n",
       "      <td>0.0</td>\n",
       "      <td>0</td>\n",
       "      <td>0</td>\n",
       "      <td>0</td>\n",
       "      <td>0</td>\n",
       "      <td>1</td>\n",
       "      <td>0</td>\n",
       "      <td>127.0</td>\n",
       "      <td>...</td>\n",
       "      <td>0</td>\n",
       "      <td>1</td>\n",
       "      <td>0</td>\n",
       "      <td>1</td>\n",
       "      <td>0</td>\n",
       "      <td>0</td>\n",
       "      <td>0</td>\n",
       "      <td>0</td>\n",
       "      <td>0</td>\n",
       "      <td>1</td>\n",
       "    </tr>\n",
       "    <tr>\n",
       "      <th>1541293</th>\n",
       "      <td>7.44</td>\n",
       "      <td>22904.3</td>\n",
       "      <td>0.0</td>\n",
       "      <td>0</td>\n",
       "      <td>0</td>\n",
       "      <td>0</td>\n",
       "      <td>0</td>\n",
       "      <td>1</td>\n",
       "      <td>0</td>\n",
       "      <td>258.0</td>\n",
       "      <td>...</td>\n",
       "      <td>0</td>\n",
       "      <td>1</td>\n",
       "      <td>0</td>\n",
       "      <td>1</td>\n",
       "      <td>0</td>\n",
       "      <td>0</td>\n",
       "      <td>0</td>\n",
       "      <td>1</td>\n",
       "      <td>0</td>\n",
       "      <td>0</td>\n",
       "    </tr>\n",
       "    <tr>\n",
       "      <th>422316</th>\n",
       "      <td>9.60</td>\n",
       "      <td>3000.0</td>\n",
       "      <td>0.0</td>\n",
       "      <td>0</td>\n",
       "      <td>0</td>\n",
       "      <td>0</td>\n",
       "      <td>0</td>\n",
       "      <td>1</td>\n",
       "      <td>0</td>\n",
       "      <td>180.0</td>\n",
       "      <td>...</td>\n",
       "      <td>0</td>\n",
       "      <td>1</td>\n",
       "      <td>0</td>\n",
       "      <td>1</td>\n",
       "      <td>0</td>\n",
       "      <td>0</td>\n",
       "      <td>0</td>\n",
       "      <td>1</td>\n",
       "      <td>0</td>\n",
       "      <td>0</td>\n",
       "    </tr>\n",
       "    <tr>\n",
       "      <th>275862</th>\n",
       "      <td>2.56</td>\n",
       "      <td>8200.0</td>\n",
       "      <td>0.0</td>\n",
       "      <td>0</td>\n",
       "      <td>0</td>\n",
       "      <td>0</td>\n",
       "      <td>0</td>\n",
       "      <td>1</td>\n",
       "      <td>0</td>\n",
       "      <td>180.0</td>\n",
       "      <td>...</td>\n",
       "      <td>0</td>\n",
       "      <td>1</td>\n",
       "      <td>0</td>\n",
       "      <td>1</td>\n",
       "      <td>0</td>\n",
       "      <td>0</td>\n",
       "      <td>0</td>\n",
       "      <td>0</td>\n",
       "      <td>0</td>\n",
       "      <td>1</td>\n",
       "    </tr>\n",
       "    <tr>\n",
       "      <th>416176</th>\n",
       "      <td>4.10</td>\n",
       "      <td>36930.0</td>\n",
       "      <td>0.0</td>\n",
       "      <td>0</td>\n",
       "      <td>0</td>\n",
       "      <td>0</td>\n",
       "      <td>0</td>\n",
       "      <td>0</td>\n",
       "      <td>0</td>\n",
       "      <td>180.0</td>\n",
       "      <td>...</td>\n",
       "      <td>0</td>\n",
       "      <td>1</td>\n",
       "      <td>0</td>\n",
       "      <td>0</td>\n",
       "      <td>0</td>\n",
       "      <td>0</td>\n",
       "      <td>0</td>\n",
       "      <td>0</td>\n",
       "      <td>0</td>\n",
       "      <td>1</td>\n",
       "    </tr>\n",
       "  </tbody>\n",
       "</table>\n",
       "<p>5 rows × 89 columns</p>\n",
       "</div>"
      ],
      "text/plain": [
       "         system_size_dc  total_installed_price  rebate_or_grant  \\\n",
       "1480676            2.80                10472.0              0.0   \n",
       "1541293            7.44                22904.3              0.0   \n",
       "422316             9.60                 3000.0              0.0   \n",
       "275862             2.56                 8200.0              0.0   \n",
       "416176             4.10                36930.0              0.0   \n",
       "\n",
       "         expansion_system  multiple_phase_system  tracking  ground_mounted  \\\n",
       "1480676                 0                      0         0               0   \n",
       "1541293                 0                      0         0               0   \n",
       "422316                  0                      0         0               0   \n",
       "275862                  0                      0         0               0   \n",
       "416176                  0                      0         0               0   \n",
       "\n",
       "         third_party_owned  self_installed  azimuth_1  ...  \\\n",
       "1480676                  1               0      127.0  ...   \n",
       "1541293                  1               0      258.0  ...   \n",
       "422316                   1               0      180.0  ...   \n",
       "275862                   1               0      180.0  ...   \n",
       "416176                   0               0      180.0  ...   \n",
       "\n",
       "         module_model_1_missing  module_model_1_not_missing  \\\n",
       "1480676                       0                           1   \n",
       "1541293                       0                           1   \n",
       "422316                        0                           1   \n",
       "275862                        0                           1   \n",
       "416176                        0                           1   \n",
       "\n",
       "         solaredge_technologies  enphase_energy  \\\n",
       "1480676                       0               1   \n",
       "1541293                       0               1   \n",
       "422316                        0               1   \n",
       "275862                        0               1   \n",
       "416176                        0               0   \n",
       "\n",
       "         inverter_manufacturer_1_missing  inverter_manufacturer_1_other  \\\n",
       "1480676                                0                              0   \n",
       "1541293                                0                              0   \n",
       "422316                                 0                              0   \n",
       "275862                                 0                              0   \n",
       "416176                                 0                              0   \n",
       "\n",
       "         inverter_model_1_missing  iq7  se3  inverter_model_1_other  \n",
       "1480676                         0    0    0                       1  \n",
       "1541293                         0    1    0                       0  \n",
       "422316                          0    1    0                       0  \n",
       "275862                          0    0    0                       1  \n",
       "416176                          0    0    0                       1  \n",
       "\n",
       "[5 rows x 89 columns]"
      ]
     },
     "execution_count": 34,
     "metadata": {},
     "output_type": "execute_result"
    }
   ],
   "source": [
    "X_train = pd.read_csv('X_train.csv', index_col=0)\n",
    "y_train = pd.read_csv('y_train.csv', index_col=0)\n",
    "X_train.head()"
   ]
  },
  {
   "cell_type": "code",
   "execution_count": 35,
   "id": "978af0c7",
   "metadata": {},
   "outputs": [
    {
     "data": {
      "text/plain": [
       "Index(['system_size_dc', 'total_installed_price', 'rebate_or_grant',\n",
       "       'expansion_system', 'multiple_phase_system', 'tracking',\n",
       "       'ground_mounted', 'third_party_owned', 'self_installed', 'azimuth_1',\n",
       "       'tilt_1', 'module_quantity_1', 'additional_modules', 'bipv_module_1',\n",
       "       'bifacial_module_1', 'nameplate_capacity_module_1',\n",
       "       'efficiency_module_1', 'inverter_quantity_1', 'additional_inverters',\n",
       "       'micro_inverter_1', 'solar_storage_hybrid_inverter_1',\n",
       "       'built_in_meter_inverter_1', 'dc_optimizer', 'inverter_loading_ratio',\n",
       "       'year', 'month', 'state_AZ', 'state_CA', 'state_CO', 'state_CT',\n",
       "       'state_DE', 'state_FL', 'state_MA', 'state_MD', 'state_MN', 'state_NH',\n",
       "       'state_NM', 'state_NY', 'state_RI', 'state_TX', 'state_UT', 'state_WI',\n",
       "       'technology_module_1_-1', 'technology_module_1_CIGS',\n",
       "       'technology_module_1_CdTe', 'technology_module_1_Mono',\n",
       "       'technology_module_1_Multi-c-Si', 'technology_module_1_Poly',\n",
       "       'technology_module_1_Thin Film',\n",
       "       'data_provider_1_Arizona Public Service',\n",
       "       'data_provider_1_Austin Energy', 'data_provider_1_CPS Energy',\n",
       "       'data_provider_1_California Public Utilities Commission',\n",
       "       'data_provider_1_Connecticut Green Bank',\n",
       "       'data_provider_1_Delaware Department of Natural Resources and Environmental Control',\n",
       "       'data_provider_1_Frontier Associates',\n",
       "       'data_provider_1_Gainesville Regional Utilities',\n",
       "       'data_provider_1_Los Angeles Department of Water & Power',\n",
       "       'data_provider_1_MA DOER',\n",
       "       'data_provider_1_Maryland Energy Administration',\n",
       "       'data_provider_1_Mohave Electric Cooperative',\n",
       "       'data_provider_1_New Hampshire Public Utilities Commission',\n",
       "       'data_provider_1_New York State Energy Research and Development Authority',\n",
       "       'data_provider_1_Orlando Utilities Commission',\n",
       "       'data_provider_1_Rhode Island Commerce Corporation',\n",
       "       'data_provider_1_Salt River Project',\n",
       "       'data_provider_1_Tucson Electric Power',\n",
       "       'data_provider_1_UniSource Energy Services',\n",
       "       'data_provider_1_Utah Office of Energy Development',\n",
       "       'data_provider_1_Wisconsin Focus on Energy',\n",
       "       'data_provider_1_Xcel Energy', 'territory_pacific_gas_and_electric',\n",
       "       'territory_san_diego_gas_and_electric',\n",
       "       'utility_service_territory_other', 'hanwha_q_cells', 'sunpower',\n",
       "       'module_manufacturer_1_missing', 'lg_electronics',\n",
       "       'module_manufacturer_1_other', 'module_model_1_missing',\n",
       "       'module_model_1_not_missing', 'solaredge_technologies',\n",
       "       'enphase_energy', 'inverter_manufacturer_1_missing',\n",
       "       'inverter_manufacturer_1_other', 'inverter_model_1_missing', 'iq7',\n",
       "       'se3', 'inverter_model_1_other'],\n",
       "      dtype='object')"
      ]
     },
     "execution_count": 35,
     "metadata": {},
     "output_type": "execute_result"
    }
   ],
   "source": [
    "X_train.columns"
   ]
  },
  {
   "cell_type": "code",
   "execution_count": 36,
   "id": "13eafde2",
   "metadata": {},
   "outputs": [
    {
     "data": {
      "text/html": [
       "<div>\n",
       "<style scoped>\n",
       "    .dataframe tbody tr th:only-of-type {\n",
       "        vertical-align: middle;\n",
       "    }\n",
       "\n",
       "    .dataframe tbody tr th {\n",
       "        vertical-align: top;\n",
       "    }\n",
       "\n",
       "    .dataframe thead th {\n",
       "        text-align: right;\n",
       "    }\n",
       "</style>\n",
       "<table border=\"1\" class=\"dataframe\">\n",
       "  <thead>\n",
       "    <tr style=\"text-align: right;\">\n",
       "      <th></th>\n",
       "      <th>price_per_kw</th>\n",
       "    </tr>\n",
       "  </thead>\n",
       "  <tbody>\n",
       "    <tr>\n",
       "      <th>1480676</th>\n",
       "      <td>3740.000000</td>\n",
       "    </tr>\n",
       "    <tr>\n",
       "      <th>1541293</th>\n",
       "      <td>3078.534946</td>\n",
       "    </tr>\n",
       "    <tr>\n",
       "      <th>422316</th>\n",
       "      <td>312.500000</td>\n",
       "    </tr>\n",
       "    <tr>\n",
       "      <th>275862</th>\n",
       "      <td>3203.125000</td>\n",
       "    </tr>\n",
       "    <tr>\n",
       "      <th>416176</th>\n",
       "      <td>9007.317073</td>\n",
       "    </tr>\n",
       "  </tbody>\n",
       "</table>\n",
       "</div>"
      ],
      "text/plain": [
       "         price_per_kw\n",
       "1480676   3740.000000\n",
       "1541293   3078.534946\n",
       "422316     312.500000\n",
       "275862    3203.125000\n",
       "416176    9007.317073"
      ]
     },
     "execution_count": 36,
     "metadata": {},
     "output_type": "execute_result"
    }
   ],
   "source": [
    "y_train.head()"
   ]
  },
  {
   "cell_type": "markdown",
   "id": "0fce8a1e",
   "metadata": {},
   "source": [
    "First I'm going to train a few dummy regression models to see how they performs and to set a benchmark of what I should consider a useful model."
   ]
  },
  {
   "cell_type": "code",
   "execution_count": 39,
   "id": "4e27a8e9",
   "metadata": {},
   "outputs": [
    {
     "data": {
      "text/plain": [
       "18659994.119095534"
      ]
     },
     "execution_count": 39,
     "metadata": {},
     "output_type": "execute_result"
    }
   ],
   "source": [
    "from sklearn.preprocessing import StandardScaler\n",
    "from sklearn.model_selection import train_test_split\n",
    "from sklearn.linear_model import LinearRegression\n",
    "from sklearn.dummy import DummyRegressor\n",
    "from sklearn.metrics import mean_squared_error\n",
    "\n",
    "scaler = StandardScaler()\n",
    "scaler.fit_transform(X_train)\n",
    "scaler.fit_transform(y_train)\n",
    "\n",
    "x_tr, x_te, y_tr, y_te = train_test_split(X_train, y_train, test_size=0.8)\n",
    "\n",
    "# Using the mean of the training set\n",
    "dummy_mean = DummyRegressor(strategy=\"mean\")\n",
    "dummy_mean.fit(x_tr, y_tr)\n",
    "y_pred = dummy_mean.predict(x_te)\n",
    "mean_squared_error(y_te, y_pred)"
   ]
  },
  {
   "cell_type": "code",
   "execution_count": 40,
   "id": "5c1f8248",
   "metadata": {},
   "outputs": [
    {
     "data": {
      "text/plain": [
       "18689040.05151151"
      ]
     },
     "execution_count": 40,
     "metadata": {},
     "output_type": "execute_result"
    }
   ],
   "source": [
    "# Using the median of the training set\n",
    "dummy_median = DummyRegressor(strategy=\"median\")\n",
    "dummy_median.fit(x_tr, y_tr)\n",
    "y_pred = dummy_median.predict(x_te)\n",
    "mean_squared_error(y_te, y_pred)"
   ]
  },
  {
   "cell_type": "code",
   "execution_count": 42,
   "id": "7d022040",
   "metadata": {},
   "outputs": [
    {
     "data": {
      "text/plain": [
       "19401284.279438186"
      ]
     },
     "execution_count": 42,
     "metadata": {},
     "output_type": "execute_result"
    }
   ],
   "source": [
    "# One final dummy regressor using the 25th quantile of the training set\n",
    "dummy_quantile = DummyRegressor(strategy=\"quantile\", quantile = 0.25)\n",
    "dummy_quantile.fit(x_tr, y_tr)\n",
    "y_pred = dummy_quantile.predict(x_te)\n",
    "mean_squared_error(y_te, y_pred)"
   ]
  },
  {
   "cell_type": "markdown",
   "id": "4f864d3b",
   "metadata": {},
   "source": [
    "Now that I have some base RMSE values that give me a cutoff for whether my models are effective or not, I'll begin with an ordinary least squares model."
   ]
  },
  {
   "cell_type": "code",
   "execution_count": 43,
   "id": "fb54789d",
   "metadata": {},
   "outputs": [
    {
     "data": {
      "text/plain": [
       "15153828.928806404"
      ]
     },
     "execution_count": 43,
     "metadata": {},
     "output_type": "execute_result"
    }
   ],
   "source": [
    "ols = LinearRegression()\n",
    "ols.fit(x_tr, y_tr)\n",
    "y_pred = ols.predict(x_te)\n",
    "mean_squared_error(y_te, y_pred)"
   ]
  },
  {
   "cell_type": "markdown",
   "id": "d354ee11",
   "metadata": {},
   "source": [
    "OLS shows a relatively modest improvement over the dummy regressors. I want to check the coefficients to get a feel for how many there are, and their magnitudes."
   ]
  },
  {
   "cell_type": "code",
   "execution_count": 44,
   "id": "7511f482",
   "metadata": {},
   "outputs": [
    {
     "data": {
      "text/plain": [
       "array([[-3.98909334e+02,  1.82969349e-01, -1.66644098e-01,\n",
       "         6.03183078e+02, -1.41421637e+02, -1.68644515e+02,\n",
       "        -7.53484039e+02,  9.98828560e+01,  5.96062974e+02,\n",
       "        -1.64776978e-01,  8.98071262e+00, -8.90049345e+00,\n",
       "        -5.66560711e+02, -1.16494531e+02, -6.90455889e+01,\n",
       "        -7.13973503e+00,  1.61257836e+04, -7.11568446e+01,\n",
       "         3.39745499e+03,  1.39811575e+03, -1.89680757e+02,\n",
       "         2.44592980e+02,  5.69335659e+02, -1.48925595e+03,\n",
       "        -4.04639557e+02, -5.05834404e+00,  1.79342153e+02,\n",
       "        -1.88544751e+03,  1.16051174e+03, -6.94967220e+02,\n",
       "         1.04235597e+03, -4.40673665e+02, -8.19604183e+02,\n",
       "         7.02898177e+02,  4.61532847e+02,  5.24408155e+02,\n",
       "        -6.61594207e+02, -5.21235960e+02, -4.79592996e+02,\n",
       "         1.01243725e+03,  1.17002943e+03, -7.50399978e+02,\n",
       "        -9.12246931e+02, -1.59161573e-12,  2.41016096e-11,\n",
       "         5.70876724e+01,  4.42133536e+02,  1.69227527e+03,\n",
       "        -1.27924955e+03, -2.77276307e+03,  7.99953300e+02,\n",
       "        -2.09008320e+03,  3.85354225e+02, -6.94967220e+02,\n",
       "         1.04235597e+03,  2.30256714e+03, -2.02116585e+03,\n",
       "        -2.27080174e+03, -8.19604183e+02,  7.02898177e+02,\n",
       "         1.78341359e+03,  5.24408155e+02, -5.21235960e+02,\n",
       "         1.58049219e+03, -4.79592996e+02, -1.44833244e+03,\n",
       "         1.30990115e+03,  1.30712292e+03,  1.17002943e+03,\n",
       "        -7.50399978e+02,  9.60450379e+02, -5.49373476e+01,\n",
       "         1.77758276e+02, -1.22820929e+02, -1.19072418e+02,\n",
       "        -2.38812749e+01, -9.12246931e+02, -3.16246879e+02,\n",
       "        -3.35448782e+02, -9.12246931e+02,  9.12246931e+02,\n",
       "        -8.82359813e+02,  4.68782035e+02,  1.10595322e+02,\n",
       "         3.26863731e+02,  1.10595322e+02, -2.44391419e+02,\n",
       "         6.55835021e+02, -5.22038924e+02]])"
      ]
     },
     "execution_count": 44,
     "metadata": {},
     "output_type": "execute_result"
    }
   ],
   "source": [
    "ols.coef_"
   ]
  },
  {
   "cell_type": "markdown",
   "id": "6d0db7f1",
   "metadata": {},
   "source": [
    "As expected, OLS produces a huge number of coefficients. I'll take a look at ridge regression to see if it will generate a better model with fewer coefficients."
   ]
  },
  {
   "cell_type": "code",
   "execution_count": 45,
   "id": "dc5bd57b",
   "metadata": {},
   "outputs": [],
   "source": [
    "from sklearn.linear_model import Ridge\n",
    "from sklearn.model_selection import RandomizedSearchCV\n",
    "from sklearn import linear_model\n",
    "from scipy.stats import uniform as sp_randFloat\n",
    "from scipy.stats import randint as sp_randInt"
   ]
  },
  {
   "cell_type": "code",
   "execution_count": 55,
   "id": "f70e91c4",
   "metadata": {},
   "outputs": [
    {
     "data": {
      "text/plain": [
       "{'alpha': 1285.078864609401}"
      ]
     },
     "execution_count": 55,
     "metadata": {},
     "output_type": "execute_result"
    }
   ],
   "source": [
    "parameters = {'alpha': sp_randFloat(100,3000)}\n",
    "ridge = Ridge()\n",
    "ridge_reg = RandomizedSearchCV(ridge, parameters,scoring=['neg_root_mean_squared_error', 'neg_mean_absolute_error'],\\\n",
    "                               refit='neg_root_mean_squared_error', n_iter=60, cv=5)\n",
    "random_ridge = ridge_reg.fit(x_tr, y_tr)\n",
    "random_ridge.best_params_"
   ]
  },
  {
   "cell_type": "code",
   "execution_count": 56,
   "id": "ec91ff23",
   "metadata": {},
   "outputs": [
    {
     "data": {
      "text/plain": [
       "Index(['mean_fit_time', 'std_fit_time', 'mean_score_time', 'std_score_time',\n",
       "       'param_alpha', 'params', 'split0_test_neg_root_mean_squared_error',\n",
       "       'split1_test_neg_root_mean_squared_error',\n",
       "       'split2_test_neg_root_mean_squared_error',\n",
       "       'split3_test_neg_root_mean_squared_error',\n",
       "       'split4_test_neg_root_mean_squared_error',\n",
       "       'mean_test_neg_root_mean_squared_error',\n",
       "       'std_test_neg_root_mean_squared_error',\n",
       "       'rank_test_neg_root_mean_squared_error',\n",
       "       'split0_test_neg_mean_absolute_error',\n",
       "       'split1_test_neg_mean_absolute_error',\n",
       "       'split2_test_neg_mean_absolute_error',\n",
       "       'split3_test_neg_mean_absolute_error',\n",
       "       'split4_test_neg_mean_absolute_error',\n",
       "       'mean_test_neg_mean_absolute_error', 'std_test_neg_mean_absolute_error',\n",
       "       'rank_test_neg_mean_absolute_error'],\n",
       "      dtype='object')"
      ]
     },
     "execution_count": 56,
     "metadata": {},
     "output_type": "execute_result"
    }
   ],
   "source": [
    "random_ridge_results = pd.DataFrame(random_ridge.cv_results_)\n",
    "random_ridge_results.columns"
   ]
  },
  {
   "cell_type": "code",
   "execution_count": 57,
   "id": "9567acfd",
   "metadata": {
    "scrolled": true
   },
   "outputs": [
    {
     "data": {
      "image/png": "[encoded data removed]",
      "text/plain": [
       "<Figure size 640x480 with 2 Axes>"
      ]
     },
     "metadata": {},
     "output_type": "display_data"
    }
   ],
   "source": [
    "fig, ax = plt.subplots()\n",
    "ax.plot(random_ridge_results['param_alpha'], random_ridge_results['mean_test_neg_root_mean_squared_error'], color='r',\\\n",
    "        marker='o', linestyle='none', alpha=0.7)\n",
    "ax.set_xlabel('Alpha')\n",
    "ax.set_ylabel('Mean Negative RMSE')\n",
    "ax2 = ax.twinx()\n",
    "ax2.plot(random_ridge_results['param_alpha'], random_ridge_results['mean_test_neg_mean_absolute_error'], color='b',\\\n",
    "         marker='d', linestyle='none', alpha=0.7)\n",
    "ax2.set_ylabel('Mean Negative MAE')\n",
    "plt.show()"
   ]
  },
  {
   "cell_type": "markdown",
   "id": "b5b1f130",
   "metadata": {},
   "source": [
    "Now that I have an optimized alpha for the ridge regression I'll use it to model the test data and see how that performs."
   ]
  },
  {
   "cell_type": "code",
   "execution_count": 60,
   "id": "da07f142",
   "metadata": {},
   "outputs": [
    {
     "data": {
      "text/plain": [
       "15153828.928806404"
      ]
     },
     "execution_count": 60,
     "metadata": {},
     "output_type": "execute_result"
    }
   ],
   "source": [
    "ridge=Ridge(alpha=random_ridge.best_params_['alpha'])\n",
    "ridge.fit(x_tr, y_tr)\n",
    "ridge.predict(x_te)\n",
    "mean_squared_error(y_te, y_pred)"
   ]
  },
  {
   "cell_type": "markdown",
   "id": "059e5a27",
   "metadata": {},
   "source": [
    "Next I'll identify the best alpha for a lasso regression to compare that against the OLS and ridge models."
   ]
  },
  {
   "cell_type": "code",
   "execution_count": 13,
   "id": "082fdf9f",
   "metadata": {},
   "outputs": [
    {
     "data": {
      "text/plain": [
       "{'alpha': 30737}"
      ]
     },
     "execution_count": 13,
     "metadata": {},
     "output_type": "execute_result"
    }
   ],
   "source": [
    "parameters = {'alpha': sp_randInt(10000,10000000)}\n",
    "lasso = linear_model.Lasso()\n",
    "rand = RandomizedSearchCV(lasso, parameters, scoring=['neg_root_mean_squared_error', 'neg_mean_absolute_error'],\\\n",
    "                          refit='neg_root_mean_squared_error', n_iter=60, cv=5, random_state=0)\n",
    "rand_lasso = rand.fit(x_tr, y_tr)\n",
    "rand_lasso.best_params_"
   ]
  },
  {
   "cell_type": "code",
   "execution_count": 14,
   "id": "289582bd",
   "metadata": {},
   "outputs": [
    {
     "data": {
      "text/html": [
       "<div>\n",
       "<style scoped>\n",
       "    .dataframe tbody tr th:only-of-type {\n",
       "        vertical-align: middle;\n",
       "    }\n",
       "\n",
       "    .dataframe tbody tr th {\n",
       "        vertical-align: top;\n",
       "    }\n",
       "\n",
       "    .dataframe thead th {\n",
       "        text-align: right;\n",
       "    }\n",
       "</style>\n",
       "<table border=\"1\" class=\"dataframe\">\n",
       "  <thead>\n",
       "    <tr style=\"text-align: right;\">\n",
       "      <th></th>\n",
       "      <th>mean_fit_time</th>\n",
       "      <th>std_fit_time</th>\n",
       "      <th>mean_score_time</th>\n",
       "      <th>std_score_time</th>\n",
       "      <th>param_alpha</th>\n",
       "      <th>params</th>\n",
       "      <th>split0_test_neg_root_mean_squared_error</th>\n",
       "      <th>split1_test_neg_root_mean_squared_error</th>\n",
       "      <th>split2_test_neg_root_mean_squared_error</th>\n",
       "      <th>split3_test_neg_root_mean_squared_error</th>\n",
       "      <th>...</th>\n",
       "      <th>std_test_neg_root_mean_squared_error</th>\n",
       "      <th>rank_test_neg_root_mean_squared_error</th>\n",
       "      <th>split0_test_neg_mean_absolute_error</th>\n",
       "      <th>split1_test_neg_mean_absolute_error</th>\n",
       "      <th>split2_test_neg_mean_absolute_error</th>\n",
       "      <th>split3_test_neg_mean_absolute_error</th>\n",
       "      <th>split4_test_neg_mean_absolute_error</th>\n",
       "      <th>mean_test_neg_mean_absolute_error</th>\n",
       "      <th>std_test_neg_mean_absolute_error</th>\n",
       "      <th>rank_test_neg_mean_absolute_error</th>\n",
       "    </tr>\n",
       "  </thead>\n",
       "  <tbody>\n",
       "    <tr>\n",
       "      <th>0</th>\n",
       "      <td>0.077574</td>\n",
       "      <td>0.012496</td>\n",
       "      <td>0.006562</td>\n",
       "      <td>0.008036</td>\n",
       "      <td>8335804</td>\n",
       "      <td>{'alpha': 8335804}</td>\n",
       "      <td>-13361.962430</td>\n",
       "      <td>-2786.260197</td>\n",
       "      <td>-2359.407877</td>\n",
       "      <td>-2855.894834</td>\n",
       "      <td>...</td>\n",
       "      <td>4368.047675</td>\n",
       "      <td>51</td>\n",
       "      <td>-1196.290792</td>\n",
       "      <td>-1432.941534</td>\n",
       "      <td>-1354.841766</td>\n",
       "      <td>-1439.336207</td>\n",
       "      <td>-1267.368255</td>\n",
       "      <td>-1338.155711</td>\n",
       "      <td>94.484696</td>\n",
       "      <td>51</td>\n",
       "    </tr>\n",
       "    <tr>\n",
       "      <th>1</th>\n",
       "      <td>0.092134</td>\n",
       "      <td>0.009743</td>\n",
       "      <td>0.011190</td>\n",
       "      <td>0.005248</td>\n",
       "      <td>1494405</td>\n",
       "      <td>{'alpha': 1494405}</td>\n",
       "      <td>-5768.977169</td>\n",
       "      <td>-501.294841</td>\n",
       "      <td>-424.519955</td>\n",
       "      <td>-513.906097</td>\n",
       "      <td>...</td>\n",
       "      <td>2130.334525</td>\n",
       "      <td>9</td>\n",
       "      <td>-556.921088</td>\n",
       "      <td>-257.791112</td>\n",
       "      <td>-243.759232</td>\n",
       "      <td>-258.989799</td>\n",
       "      <td>-227.958264</td>\n",
       "      <td>-309.083899</td>\n",
       "      <td>124.428551</td>\n",
       "      <td>9</td>\n",
       "    </tr>\n",
       "    <tr>\n",
       "      <th>2</th>\n",
       "      <td>0.092303</td>\n",
       "      <td>0.025873</td>\n",
       "      <td>0.009394</td>\n",
       "      <td>0.007121</td>\n",
       "      <td>2225104</td>\n",
       "      <td>{'alpha': 2225104}</td>\n",
       "      <td>-8589.774021</td>\n",
       "      <td>-745.311324</td>\n",
       "      <td>-631.165207</td>\n",
       "      <td>-764.011408</td>\n",
       "      <td>...</td>\n",
       "      <td>3172.363484</td>\n",
       "      <td>13</td>\n",
       "      <td>-829.228724</td>\n",
       "      <td>-383.288342</td>\n",
       "      <td>-362.422502</td>\n",
       "      <td>-385.041387</td>\n",
       "      <td>-338.971338</td>\n",
       "      <td>-459.790459</td>\n",
       "      <td>185.473668</td>\n",
       "      <td>13</td>\n",
       "    </tr>\n",
       "    <tr>\n",
       "      <th>3</th>\n",
       "      <td>0.085370</td>\n",
       "      <td>0.019805</td>\n",
       "      <td>0.010454</td>\n",
       "      <td>0.003319</td>\n",
       "      <td>5167699</td>\n",
       "      <td>{'alpha': 5167699}</td>\n",
       "      <td>-12631.210890</td>\n",
       "      <td>-1727.989157</td>\n",
       "      <td>-1463.345523</td>\n",
       "      <td>-1771.209539</td>\n",
       "      <td>...</td>\n",
       "      <td>4443.456022</td>\n",
       "      <td>38</td>\n",
       "      <td>-1181.246298</td>\n",
       "      <td>-888.677734</td>\n",
       "      <td>-840.290878</td>\n",
       "      <td>-892.663234</td>\n",
       "      <td>-786.031672</td>\n",
       "      <td>-917.781963</td>\n",
       "      <td>137.298558</td>\n",
       "      <td>38</td>\n",
       "    </tr>\n",
       "    <tr>\n",
       "      <th>4</th>\n",
       "      <td>0.096303</td>\n",
       "      <td>0.024166</td>\n",
       "      <td>0.006858</td>\n",
       "      <td>0.001372</td>\n",
       "      <td>8232403</td>\n",
       "      <td>{'alpha': 8232403}</td>\n",
       "      <td>-13338.079795</td>\n",
       "      <td>-2751.681907</td>\n",
       "      <td>-2330.153729</td>\n",
       "      <td>-2820.468812</td>\n",
       "      <td>...</td>\n",
       "      <td>4370.438983</td>\n",
       "      <td>50</td>\n",
       "      <td>-1195.708291</td>\n",
       "      <td>-1415.158491</td>\n",
       "      <td>-1338.043062</td>\n",
       "      <td>-1421.481925</td>\n",
       "      <td>-1251.643716</td>\n",
       "      <td>-1324.407097</td>\n",
       "      <td>89.110234</td>\n",
       "      <td>50</td>\n",
       "    </tr>\n",
       "  </tbody>\n",
       "</table>\n",
       "<p>5 rows × 22 columns</p>\n",
       "</div>"
      ],
      "text/plain": [
       "   mean_fit_time  std_fit_time  mean_score_time  std_score_time param_alpha  \\\n",
       "0       0.077574      0.012496         0.006562        0.008036     8335804   \n",
       "1       0.092134      0.009743         0.011190        0.005248     1494405   \n",
       "2       0.092303      0.025873         0.009394        0.007121     2225104   \n",
       "3       0.085370      0.019805         0.010454        0.003319     5167699   \n",
       "4       0.096303      0.024166         0.006858        0.001372     8232403   \n",
       "\n",
       "               params  split0_test_neg_root_mean_squared_error  \\\n",
       "0  {'alpha': 8335804}                            -13361.962430   \n",
       "1  {'alpha': 1494405}                             -5768.977169   \n",
       "2  {'alpha': 2225104}                             -8589.774021   \n",
       "3  {'alpha': 5167699}                            -12631.210890   \n",
       "4  {'alpha': 8232403}                            -13338.079795   \n",
       "\n",
       "   split1_test_neg_root_mean_squared_error  \\\n",
       "0                             -2786.260197   \n",
       "1                              -501.294841   \n",
       "2                              -745.311324   \n",
       "3                             -1727.989157   \n",
       "4                             -2751.681907   \n",
       "\n",
       "   split2_test_neg_root_mean_squared_error  \\\n",
       "0                             -2359.407877   \n",
       "1                              -424.519955   \n",
       "2                              -631.165207   \n",
       "3                             -1463.345523   \n",
       "4                             -2330.153729   \n",
       "\n",
       "   split3_test_neg_root_mean_squared_error  ...  \\\n",
       "0                             -2855.894834  ...   \n",
       "1                              -513.906097  ...   \n",
       "2                              -764.011408  ...   \n",
       "3                             -1771.209539  ...   \n",
       "4                             -2820.468812  ...   \n",
       "\n",
       "   std_test_neg_root_mean_squared_error  \\\n",
       "0                           4368.047675   \n",
       "1                           2130.334525   \n",
       "2                           3172.363484   \n",
       "3                           4443.456022   \n",
       "4                           4370.438983   \n",
       "\n",
       "   rank_test_neg_root_mean_squared_error  split0_test_neg_mean_absolute_error  \\\n",
       "0                                     51                         -1196.290792   \n",
       "1                                      9                          -556.921088   \n",
       "2                                     13                          -829.228724   \n",
       "3                                     38                         -1181.246298   \n",
       "4                                     50                         -1195.708291   \n",
       "\n",
       "   split1_test_neg_mean_absolute_error  split2_test_neg_mean_absolute_error  \\\n",
       "0                         -1432.941534                         -1354.841766   \n",
       "1                          -257.791112                          -243.759232   \n",
       "2                          -383.288342                          -362.422502   \n",
       "3                          -888.677734                          -840.290878   \n",
       "4                         -1415.158491                         -1338.043062   \n",
       "\n",
       "   split3_test_neg_mean_absolute_error  split4_test_neg_mean_absolute_error  \\\n",
       "0                         -1439.336207                         -1267.368255   \n",
       "1                          -258.989799                          -227.958264   \n",
       "2                          -385.041387                          -338.971338   \n",
       "3                          -892.663234                          -786.031672   \n",
       "4                         -1421.481925                         -1251.643716   \n",
       "\n",
       "   mean_test_neg_mean_absolute_error  std_test_neg_mean_absolute_error  \\\n",
       "0                       -1338.155711                         94.484696   \n",
       "1                        -309.083899                        124.428551   \n",
       "2                        -459.790459                        185.473668   \n",
       "3                        -917.781963                        137.298558   \n",
       "4                       -1324.407097                         89.110234   \n",
       "\n",
       "   rank_test_neg_mean_absolute_error  \n",
       "0                                 51  \n",
       "1                                  9  \n",
       "2                                 13  \n",
       "3                                 38  \n",
       "4                                 50  \n",
       "\n",
       "[5 rows x 22 columns]"
      ]
     },
     "execution_count": 14,
     "metadata": {},
     "output_type": "execute_result"
    }
   ],
   "source": [
    "rand_lasso_params = pd.DataFrame(rand_lasso.cv_results_)\n",
    "rand_lasso_params.head()"
   ]
  },
  {
   "cell_type": "code",
   "execution_count": 15,
   "id": "4df5b632",
   "metadata": {},
   "outputs": [
    {
     "name": "stderr",
     "output_type": "stream",
     "text": [
      "C:\\Users\\Zjbro\\AppData\\Local\\Temp\\ipykernel_23792\\687083208.py:12: UserWarning: The handle <matplotlib.lines.Line2D object at 0x0000017707803CD0> has a label of '_child0' which cannot be automatically added to the legend.\n",
      "  ax.legend(axs, labs, loc=0)\n",
      "C:\\Users\\Zjbro\\AppData\\Local\\Temp\\ipykernel_23792\\687083208.py:12: UserWarning: The handle <matplotlib.lines.Line2D object at 0x0000017707859FD0> has a label of '_child0' which cannot be automatically added to the legend.\n",
      "  ax.legend(axs, labs, loc=0)\n"
     ]
    },
    {
     "data": {
      "image/png": "[encoded data removed]",
      "text/plain": [
       "<Figure size 640x480 with 2 Axes>"
      ]
     },
     "metadata": {},
     "output_type": "display_data"
    }
   ],
   "source": [
    "fig, ax = plt.subplots()\n",
    "\n",
    "a1 = ax.plot(rand_lasso_params['param_alpha'], rand_lasso_params['mean_test_neg_root_mean_squared_error'], color='r',\\\n",
    "        marker='o', linestyle='none', alpha=0.7)\n",
    "\n",
    "ax2 = ax.twinx()\n",
    "a2 = ax2.plot(rand_lasso_params['param_alpha'], rand_lasso_params['mean_test_neg_mean_absolute_error'], color='b',\\\n",
    "         marker='d', linestyle='none', alpha=0.7)\n",
    "\n",
    "axs = a1+a2\n",
    "labs = [a.get_label() for a in axs]\n",
    "ax.legend(axs, labs, loc=0)\n",
    "\n",
    "ax.set_xlabel('Alpha')\n",
    "ax.set_ylabel('Mean Negative RMSE')\n",
    "ax2.set_ylabel('Mean Negative MAE')\n",
    "\n",
    "plt.show()"
   ]
  },
  {
   "cell_type": "markdown",
   "id": "9858892e",
   "metadata": {},
   "source": [
    "Next I'm going to take a look at random forest and see how that does modeling this dataset."
   ]
  },
  {
   "cell_type": "code",
   "execution_count": 22,
   "id": "6dc9dcaf",
   "metadata": {},
   "outputs": [
    {
     "data": {
      "text/plain": [
       "{'max_depth': 5,\n",
       " 'max_features': 0.73253069814195,\n",
       " 'min_samples_leaf': 1160,\n",
       " 'n_estimators': 821}"
      ]
     },
     "execution_count": 22,
     "metadata": {},
     "output_type": "execute_result"
    }
   ],
   "source": [
    "from sklearn.ensemble import RandomForestRegressor\n",
    "from sklearn.datasets import make_regression\n",
    "\n",
    "parameters = {'n_estimators': sp_randInt(10,1000),\n",
    "             'max_features': sp_randFloat(0.00001, 1.0),\n",
    "             'max_depth': sp_randInt(2,10),\n",
    "             'min_samples_leaf': sp_randInt(1000,50000),\n",
    "             }\n",
    "forest = RandomForestRegressor(n_jobs=-1, random_state=12)\n",
    "forest_reg = RandomizedSearchCV(forest, parameters, scoring=['neg_root_mean_squared_error', 'neg_mean_absolute_error'],\\\n",
    "                                refit='neg_root_mean_squared_error', n_iter=60, cv=5, random_state=12)\n",
    "rand_forest = forest_reg.fit(x_tr, y_tr)\n",
    "rand_forest.best_params_"
   ]
  },
  {
   "cell_type": "code",
   "execution_count": 23,
   "id": "c3359ebc",
   "metadata": {},
   "outputs": [
    {
     "data": {
      "text/html": [
       "<div>\n",
       "<style scoped>\n",
       "    .dataframe tbody tr th:only-of-type {\n",
       "        vertical-align: middle;\n",
       "    }\n",
       "\n",
       "    .dataframe tbody tr th {\n",
       "        vertical-align: top;\n",
       "    }\n",
       "\n",
       "    .dataframe thead th {\n",
       "        text-align: right;\n",
       "    }\n",
       "</style>\n",
       "<table border=\"1\" class=\"dataframe\">\n",
       "  <thead>\n",
       "    <tr style=\"text-align: right;\">\n",
       "      <th></th>\n",
       "      <th>mean_fit_time</th>\n",
       "      <th>std_fit_time</th>\n",
       "      <th>mean_score_time</th>\n",
       "      <th>std_score_time</th>\n",
       "      <th>param_max_depth</th>\n",
       "      <th>param_max_features</th>\n",
       "      <th>param_min_samples_leaf</th>\n",
       "      <th>param_n_estimators</th>\n",
       "      <th>params</th>\n",
       "      <th>split0_test_neg_root_mean_squared_error</th>\n",
       "      <th>...</th>\n",
       "      <th>std_test_neg_root_mean_squared_error</th>\n",
       "      <th>rank_test_neg_root_mean_squared_error</th>\n",
       "      <th>split0_test_neg_mean_absolute_error</th>\n",
       "      <th>split1_test_neg_mean_absolute_error</th>\n",
       "      <th>split2_test_neg_mean_absolute_error</th>\n",
       "      <th>split3_test_neg_mean_absolute_error</th>\n",
       "      <th>split4_test_neg_mean_absolute_error</th>\n",
       "      <th>mean_test_neg_mean_absolute_error</th>\n",
       "      <th>std_test_neg_mean_absolute_error</th>\n",
       "      <th>rank_test_neg_mean_absolute_error</th>\n",
       "    </tr>\n",
       "  </thead>\n",
       "  <tbody>\n",
       "    <tr>\n",
       "      <th>0</th>\n",
       "      <td>1.017774</td>\n",
       "      <td>1.319576</td>\n",
       "      <td>0.087103</td>\n",
       "      <td>0.019562</td>\n",
       "      <td>5</td>\n",
       "      <td>0.446232</td>\n",
       "      <td>20709</td>\n",
       "      <td>251</td>\n",
       "      <td>{'max_depth': 5, 'max_features': 0.44623174456...</td>\n",
       "      <td>-15392.581651</td>\n",
       "      <td>...</td>\n",
       "      <td>5390.254564</td>\n",
       "      <td>31</td>\n",
       "      <td>-1270.260988</td>\n",
       "      <td>-1061.596402</td>\n",
       "      <td>-1112.531924</td>\n",
       "      <td>-1101.541475</td>\n",
       "      <td>-1100.439661</td>\n",
       "      <td>-1129.274090</td>\n",
       "      <td>72.578781</td>\n",
       "      <td>35</td>\n",
       "    </tr>\n",
       "    <tr>\n",
       "      <th>1</th>\n",
       "      <td>0.552126</td>\n",
       "      <td>0.076370</td>\n",
       "      <td>0.090321</td>\n",
       "      <td>0.015911</td>\n",
       "      <td>4</td>\n",
       "      <td>0.533749</td>\n",
       "      <td>13108</td>\n",
       "      <td>442</td>\n",
       "      <td>{'max_depth': 4, 'max_features': 0.53374939338...</td>\n",
       "      <td>-15392.582438</td>\n",
       "      <td>...</td>\n",
       "      <td>5390.243091</td>\n",
       "      <td>52</td>\n",
       "      <td>-1270.249854</td>\n",
       "      <td>-1061.748069</td>\n",
       "      <td>-1112.712455</td>\n",
       "      <td>-1101.835496</td>\n",
       "      <td>-1100.650228</td>\n",
       "      <td>-1129.439220</td>\n",
       "      <td>72.498666</td>\n",
       "      <td>51</td>\n",
       "    </tr>\n",
       "    <tr>\n",
       "      <th>2</th>\n",
       "      <td>0.756937</td>\n",
       "      <td>0.041443</td>\n",
       "      <td>0.124448</td>\n",
       "      <td>0.017434</td>\n",
       "      <td>8</td>\n",
       "      <td>0.033974</td>\n",
       "      <td>21109</td>\n",
       "      <td>483</td>\n",
       "      <td>{'max_depth': 8, 'max_features': 0.03397417126...</td>\n",
       "      <td>-15392.580627</td>\n",
       "      <td>...</td>\n",
       "      <td>5390.251228</td>\n",
       "      <td>42</td>\n",
       "      <td>-1270.275500</td>\n",
       "      <td>-1061.600244</td>\n",
       "      <td>-1112.548139</td>\n",
       "      <td>-1101.661137</td>\n",
       "      <td>-1100.473718</td>\n",
       "      <td>-1129.311748</td>\n",
       "      <td>72.571115</td>\n",
       "      <td>42</td>\n",
       "    </tr>\n",
       "    <tr>\n",
       "      <th>3</th>\n",
       "      <td>1.210460</td>\n",
       "      <td>0.046845</td>\n",
       "      <td>0.089632</td>\n",
       "      <td>0.021228</td>\n",
       "      <td>4</td>\n",
       "      <td>0.725964</td>\n",
       "      <td>6194</td>\n",
       "      <td>394</td>\n",
       "      <td>{'max_depth': 4, 'max_features': 0.72596416111...</td>\n",
       "      <td>-15341.027614</td>\n",
       "      <td>...</td>\n",
       "      <td>5509.567130</td>\n",
       "      <td>10</td>\n",
       "      <td>-882.103017</td>\n",
       "      <td>-685.932751</td>\n",
       "      <td>-713.332047</td>\n",
       "      <td>-693.137160</td>\n",
       "      <td>-696.054596</td>\n",
       "      <td>-734.111914</td>\n",
       "      <td>74.540849</td>\n",
       "      <td>11</td>\n",
       "    </tr>\n",
       "    <tr>\n",
       "      <th>4</th>\n",
       "      <td>0.270412</td>\n",
       "      <td>0.011976</td>\n",
       "      <td>0.021888</td>\n",
       "      <td>0.003473</td>\n",
       "      <td>7</td>\n",
       "      <td>0.606093</td>\n",
       "      <td>49397</td>\n",
       "      <td>92</td>\n",
       "      <td>{'max_depth': 7, 'max_features': 0.60609318435...</td>\n",
       "      <td>-15392.578972</td>\n",
       "      <td>...</td>\n",
       "      <td>5390.245973</td>\n",
       "      <td>45</td>\n",
       "      <td>-1270.298991</td>\n",
       "      <td>-1061.681783</td>\n",
       "      <td>-1112.615850</td>\n",
       "      <td>-1101.779584</td>\n",
       "      <td>-1100.520269</td>\n",
       "      <td>-1129.379295</td>\n",
       "      <td>72.549175</td>\n",
       "      <td>45</td>\n",
       "    </tr>\n",
       "  </tbody>\n",
       "</table>\n",
       "<p>5 rows × 25 columns</p>\n",
       "</div>"
      ],
      "text/plain": [
       "   mean_fit_time  std_fit_time  mean_score_time  std_score_time  \\\n",
       "0       1.017774      1.319576         0.087103        0.019562   \n",
       "1       0.552126      0.076370         0.090321        0.015911   \n",
       "2       0.756937      0.041443         0.124448        0.017434   \n",
       "3       1.210460      0.046845         0.089632        0.021228   \n",
       "4       0.270412      0.011976         0.021888        0.003473   \n",
       "\n",
       "  param_max_depth param_max_features param_min_samples_leaf  \\\n",
       "0               5           0.446232                  20709   \n",
       "1               4           0.533749                  13108   \n",
       "2               8           0.033974                  21109   \n",
       "3               4           0.725964                   6194   \n",
       "4               7           0.606093                  49397   \n",
       "\n",
       "  param_n_estimators                                             params  \\\n",
       "0                251  {'max_depth': 5, 'max_features': 0.44623174456...   \n",
       "1                442  {'max_depth': 4, 'max_features': 0.53374939338...   \n",
       "2                483  {'max_depth': 8, 'max_features': 0.03397417126...   \n",
       "3                394  {'max_depth': 4, 'max_features': 0.72596416111...   \n",
       "4                 92  {'max_depth': 7, 'max_features': 0.60609318435...   \n",
       "\n",
       "   split0_test_neg_root_mean_squared_error  ...  \\\n",
       "0                            -15392.581651  ...   \n",
       "1                            -15392.582438  ...   \n",
       "2                            -15392.580627  ...   \n",
       "3                            -15341.027614  ...   \n",
       "4                            -15392.578972  ...   \n",
       "\n",
       "   std_test_neg_root_mean_squared_error  \\\n",
       "0                           5390.254564   \n",
       "1                           5390.243091   \n",
       "2                           5390.251228   \n",
       "3                           5509.567130   \n",
       "4                           5390.245973   \n",
       "\n",
       "   rank_test_neg_root_mean_squared_error  split0_test_neg_mean_absolute_error  \\\n",
       "0                                     31                         -1270.260988   \n",
       "1                                     52                         -1270.249854   \n",
       "2                                     42                         -1270.275500   \n",
       "3                                     10                          -882.103017   \n",
       "4                                     45                         -1270.298991   \n",
       "\n",
       "   split1_test_neg_mean_absolute_error  split2_test_neg_mean_absolute_error  \\\n",
       "0                         -1061.596402                         -1112.531924   \n",
       "1                         -1061.748069                         -1112.712455   \n",
       "2                         -1061.600244                         -1112.548139   \n",
       "3                          -685.932751                          -713.332047   \n",
       "4                         -1061.681783                         -1112.615850   \n",
       "\n",
       "   split3_test_neg_mean_absolute_error  split4_test_neg_mean_absolute_error  \\\n",
       "0                         -1101.541475                         -1100.439661   \n",
       "1                         -1101.835496                         -1100.650228   \n",
       "2                         -1101.661137                         -1100.473718   \n",
       "3                          -693.137160                          -696.054596   \n",
       "4                         -1101.779584                         -1100.520269   \n",
       "\n",
       "   mean_test_neg_mean_absolute_error  std_test_neg_mean_absolute_error  \\\n",
       "0                       -1129.274090                         72.578781   \n",
       "1                       -1129.439220                         72.498666   \n",
       "2                       -1129.311748                         72.571115   \n",
       "3                        -734.111914                         74.540849   \n",
       "4                       -1129.379295                         72.549175   \n",
       "\n",
       "   rank_test_neg_mean_absolute_error  \n",
       "0                                 35  \n",
       "1                                 51  \n",
       "2                                 42  \n",
       "3                                 11  \n",
       "4                                 45  \n",
       "\n",
       "[5 rows x 25 columns]"
      ]
     },
     "execution_count": 23,
     "metadata": {},
     "output_type": "execute_result"
    }
   ],
   "source": [
    "rand_forest_params = pd.DataFrame(rand_forest.cv_results_)\n",
    "rand_forest_params.head()"
   ]
  },
  {
   "cell_type": "code",
   "execution_count": 24,
   "id": "bfa7d23e",
   "metadata": {},
   "outputs": [
    {
     "data": {
      "image/png": "[encoded data removed]",
      "text/plain": [
       "<Figure size 640x480 with 1 Axes>"
      ]
     },
     "metadata": {},
     "output_type": "display_data"
    }
   ],
   "source": [
    "sns.scatterplot(data=rand_forest_params, x='param_max_depth', y='mean_test_neg_root_mean_squared_error')\n",
    "plt.show()"
   ]
  },
  {
   "cell_type": "code",
   "execution_count": 25,
   "id": "781f60eb",
   "metadata": {},
   "outputs": [
    {
     "data": {
      "image/png": "[encoded data removed]",
      "text/plain": [
       "<Figure size 640x480 with 1 Axes>"
      ]
     },
     "metadata": {},
     "output_type": "display_data"
    }
   ],
   "source": [
    "sns.scatterplot(data=rand_forest_params, x='param_max_features', y='mean_test_neg_root_mean_squared_error')\n",
    "plt.show()"
   ]
  },
  {
   "cell_type": "code",
   "execution_count": 26,
   "id": "7dc19389",
   "metadata": {},
   "outputs": [
    {
     "data": {
      "image/png": "[encoded data removed]",
      "text/plain": [
       "<Figure size 640x480 with 1 Axes>"
      ]
     },
     "metadata": {},
     "output_type": "display_data"
    }
   ],
   "source": [
    "sns.scatterplot(data=rand_forest_params, x='param_min_samples_leaf', y='mean_test_neg_root_mean_squared_error')\n",
    "plt.show()"
   ]
  },
  {
   "cell_type": "code",
   "execution_count": 27,
   "id": "85536bd0",
   "metadata": {},
   "outputs": [
    {
     "data": {
      "image/png": "[encoded data removed]",
      "text/plain": [
       "<Figure size 640x480 with 1 Axes>"
      ]
     },
     "metadata": {},
     "output_type": "display_data"
    }
   ],
   "source": [
    "sns.scatterplot(data=rand_forest_params, x='param_n_estimators', y='mean_test_neg_root_mean_squared_error')\n",
    "plt.show()"
   ]
  },
  {
   "cell_type": "code",
   "execution_count": 28,
   "id": "46154f20",
   "metadata": {},
   "outputs": [
    {
     "data": {
      "text/plain": [
       "{'min_samples_leaf': 225}"
      ]
     },
     "execution_count": 28,
     "metadata": {},
     "output_type": "execute_result"
    }
   ],
   "source": [
    "parameters = {\n",
    "             'min_samples_leaf': sp_randInt(50,10000)\n",
    "             }\n",
    "forest = RandomForestRegressor(n_estimators=821, max_features=0.73253069814195, max_depth=5, n_jobs=-1, random_state=12)\n",
    "forest_reg = RandomizedSearchCV(forest, parameters, scoring=['neg_root_mean_squared_error', 'neg_mean_absolute_error'],\\\n",
    "                                refit='neg_root_mean_squared_error', n_iter=60, cv=5, random_state=12)\n",
    "rand_forest = forest_reg.fit(x_tr, y_tr)\n",
    "rand_forest.best_params_"
   ]
  },
  {
   "cell_type": "code",
   "execution_count": 30,
   "id": "268913be",
   "metadata": {},
   "outputs": [
    {
     "data": {
      "text/plain": [
       "2.060422798931258e-22"
      ]
     },
     "execution_count": 30,
     "metadata": {},
     "output_type": "execute_result"
    }
   ],
   "source": [
    "opt_forest = RandomForestRegressor(n_estimators=821, max_features=0.73253069814195, min_samples_leaf=225, max_depth=5, random_state=12)\n",
    "opt_forest.fit(x_tr, y_tr)\n",
    "y_pred = ols.predict(x_te)\n",
    "mean_squared_error(y_te, y_pred)"
   ]
  },
  {
   "cell_type": "code",
   "execution_count": null,
   "id": "1e22d6aa",
   "metadata": {},
   "outputs": [],
   "source": []
  }
 ],
 "metadata": {
  "kernelspec": {
   "display_name": "Python 3 (ipykernel)",
   "language": "python",
   "name": "python3"
  },
  "language_info": {
   "codemirror_mode": {
    "name": "ipython",
    "version": 3
   },
   "file_extension": ".py",
   "mimetype": "text/x-python",
   "name": "python",
   "nbconvert_exporter": "python",
   "pygments_lexer": "ipython3",
   "version": "3.9.15"
  }
 },
 "nbformat": 4,
 "nbformat_minor": 5
}
