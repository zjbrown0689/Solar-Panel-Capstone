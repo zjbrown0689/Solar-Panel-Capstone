{
 "cells": [
  {
   "cell_type": "markdown",
   "metadata": {},
   "source": [
    "# Getting the most solar power for your dollar\n",
    "## Model development\n",
    "### Zachary Brown\n",
    "\n",
    "I've loaded, cleaned, engineered, and split the dataset I'm using to determine how to optimize cost efficiency for a residential solar panel installation. Now I will screen a range of regression models to identify which gives the best results and refine it as best I can.\n",
    "\n",
    "I'll start by loading in my X_train and y_train sets so that I can begin training some models."
   ]
  },
  {
   "cell_type": "code",
   "execution_count": 1,
   "metadata": {},
   "outputs": [],
   "source": [
    "import os\n",
    "import numpy as np\n",
    "import pandas as pd\n",
    "import matplotlib.pyplot as plt\n",
    "import seaborn as sns\n",
    "sns.set_theme('notebook')\n",
    "from sklearn.model_selection import train_test_split\n",
    "from sklearn.preprocessing import StandardScaler\n",
    "from sklearn.model_selection import train_test_split\n",
    "from sklearn.linear_model import LinearRegression\n",
    "from sklearn.dummy import DummyRegressor\n",
    "from sklearn.metrics import mean_squared_error\n",
    "from sklearn.metrics import mean_absolute_error\n",
    "from sklearn.linear_model import Ridge\n",
    "from sklearn.model_selection import RandomizedSearchCV\n",
    "from sklearn import linear_model\n",
    "from scipy.stats import uniform as sp_randFloat\n",
    "from scipy.stats import randint as sp_randInt\n",
    "from sklearn.ensemble import RandomForestRegressor\n",
    "from xgboost import XGBRegressor\n",
    "import xgboost\n",
    "from sklearn import tree\n",
    "from sklearn.neural_network import MLPRegressor\n",
    "from sklearn.neighbors import KNeighborsRegressor\n",
    "import lightgbm as lgb"
   ]
  },
  {
   "cell_type": "code",
   "execution_count": 2,
   "metadata": {},
   "outputs": [
    {
     "name": "stdout",
     "output_type": "stream",
     "text": [
      "C:\\Users\\zbro1\\Documents\\GitHub\\Solar-Panel-Capstone\\notebooks\n",
      "C:\\Users\\zbro1\\Documents\\GitHub\\Solar-Panel-Capstone\\data\\processed\n"
     ]
    }
   ],
   "source": [
    "print(os.getcwd())\n",
    "os.chdir(r\"..\\data\\processed\")\n",
    "print(os.getcwd())"
   ]
  },
  {
   "cell_type": "code",
   "execution_count": 3,
   "metadata": {},
   "outputs": [
    {
     "data": {
      "text/html": [
       "<div>\n",
       "<style scoped>\n",
       "    .dataframe tbody tr th:only-of-type {\n",
       "        vertical-align: middle;\n",
       "    }\n",
       "\n",
       "    .dataframe tbody tr th {\n",
       "        vertical-align: top;\n",
       "    }\n",
       "\n",
       "    .dataframe thead th {\n",
       "        text-align: right;\n",
       "    }\n",
       "</style>\n",
       "<table border=\"1\" class=\"dataframe\">\n",
       "  <thead>\n",
       "    <tr style=\"text-align: right;\">\n",
       "      <th></th>\n",
       "      <th>system_size_dc</th>\n",
       "      <th>rebate_or_grant</th>\n",
       "      <th>expansion_system</th>\n",
       "      <th>third_party_owned</th>\n",
       "      <th>self_installed</th>\n",
       "      <th>tilt_1</th>\n",
       "      <th>additional_modules</th>\n",
       "      <th>bipv_module_1</th>\n",
       "      <th>efficiency_module_1</th>\n",
       "      <th>inverter_quantity_1</th>\n",
       "      <th>...</th>\n",
       "      <th>inverter_model_1_IQ6PLUS-72-ACM-US [240V]</th>\n",
       "      <th>inverter_model_1_SE3800H-US (240V)</th>\n",
       "      <th>inverter_model_1_SE9KUS [208V]</th>\n",
       "      <th>inverter_model_1_IQ7XS-96-E-ACM-US [240V]</th>\n",
       "      <th>inverter_model_1_SE7600H-US (240V)</th>\n",
       "      <th>inverter_model_1_SPR-X22-360-E-AC [208V]</th>\n",
       "      <th>inverter_model_1_SE11400H-US (240V)</th>\n",
       "      <th>inverter_model_1_IQ7-60-x-ACM-US [208V]</th>\n",
       "      <th>inverter_model_1_SE10000H-US (240V)</th>\n",
       "      <th>inverter_model_1_SB3.8-1SP-US-40 [208V]</th>\n",
       "    </tr>\n",
       "  </thead>\n",
       "  <tbody>\n",
       "    <tr>\n",
       "      <th>454572</th>\n",
       "      <td>7.680000</td>\n",
       "      <td>0.0</td>\n",
       "      <td>0</td>\n",
       "      <td>0.0</td>\n",
       "      <td>0.0</td>\n",
       "      <td>25.0</td>\n",
       "      <td>0.0</td>\n",
       "      <td>0.0</td>\n",
       "      <td>0.196319</td>\n",
       "      <td>1.0</td>\n",
       "      <td>...</td>\n",
       "      <td>0</td>\n",
       "      <td>0</td>\n",
       "      <td>0</td>\n",
       "      <td>0</td>\n",
       "      <td>0</td>\n",
       "      <td>0</td>\n",
       "      <td>0</td>\n",
       "      <td>0</td>\n",
       "      <td>0</td>\n",
       "      <td>0</td>\n",
       "    </tr>\n",
       "    <tr>\n",
       "      <th>1980351</th>\n",
       "      <td>11.800000</td>\n",
       "      <td>1875.0</td>\n",
       "      <td>0</td>\n",
       "      <td>0.0</td>\n",
       "      <td>0.0</td>\n",
       "      <td>18.0</td>\n",
       "      <td>0.0</td>\n",
       "      <td>0.0</td>\n",
       "      <td>0.182099</td>\n",
       "      <td>1.0</td>\n",
       "      <td>...</td>\n",
       "      <td>0</td>\n",
       "      <td>0</td>\n",
       "      <td>0</td>\n",
       "      <td>0</td>\n",
       "      <td>0</td>\n",
       "      <td>0</td>\n",
       "      <td>0</td>\n",
       "      <td>0</td>\n",
       "      <td>0</td>\n",
       "      <td>0</td>\n",
       "    </tr>\n",
       "    <tr>\n",
       "      <th>370974</th>\n",
       "      <td>3.150000</td>\n",
       "      <td>2201.0</td>\n",
       "      <td>0</td>\n",
       "      <td>0.0</td>\n",
       "      <td>0.0</td>\n",
       "      <td>18.0</td>\n",
       "      <td>0.0</td>\n",
       "      <td>0.0</td>\n",
       "      <td>0.214724</td>\n",
       "      <td>9.0</td>\n",
       "      <td>...</td>\n",
       "      <td>0</td>\n",
       "      <td>0</td>\n",
       "      <td>0</td>\n",
       "      <td>0</td>\n",
       "      <td>0</td>\n",
       "      <td>0</td>\n",
       "      <td>0</td>\n",
       "      <td>0</td>\n",
       "      <td>0</td>\n",
       "      <td>0</td>\n",
       "    </tr>\n",
       "    <tr>\n",
       "      <th>485150</th>\n",
       "      <td>3.113918</td>\n",
       "      <td>0.0</td>\n",
       "      <td>0</td>\n",
       "      <td>1.0</td>\n",
       "      <td>0.0</td>\n",
       "      <td>27.0</td>\n",
       "      <td>0.0</td>\n",
       "      <td>0.0</td>\n",
       "      <td>0.193939</td>\n",
       "      <td>5.0</td>\n",
       "      <td>...</td>\n",
       "      <td>0</td>\n",
       "      <td>0</td>\n",
       "      <td>0</td>\n",
       "      <td>0</td>\n",
       "      <td>0</td>\n",
       "      <td>0</td>\n",
       "      <td>0</td>\n",
       "      <td>0</td>\n",
       "      <td>0</td>\n",
       "      <td>0</td>\n",
       "    </tr>\n",
       "    <tr>\n",
       "      <th>341124</th>\n",
       "      <td>5.760000</td>\n",
       "      <td>0.0</td>\n",
       "      <td>0</td>\n",
       "      <td>0.0</td>\n",
       "      <td>0.0</td>\n",
       "      <td>23.0</td>\n",
       "      <td>0.0</td>\n",
       "      <td>0.0</td>\n",
       "      <td>0.196319</td>\n",
       "      <td>18.0</td>\n",
       "      <td>...</td>\n",
       "      <td>0</td>\n",
       "      <td>0</td>\n",
       "      <td>0</td>\n",
       "      <td>0</td>\n",
       "      <td>0</td>\n",
       "      <td>0</td>\n",
       "      <td>0</td>\n",
       "      <td>0</td>\n",
       "      <td>0</td>\n",
       "      <td>0</td>\n",
       "    </tr>\n",
       "  </tbody>\n",
       "</table>\n",
       "<p>5 rows × 400 columns</p>\n",
       "</div>"
      ],
      "text/plain": [
       "         system_size_dc  rebate_or_grant  expansion_system  third_party_owned  \\\n",
       "454572         7.680000              0.0                 0                0.0   \n",
       "1980351       11.800000           1875.0                 0                0.0   \n",
       "370974         3.150000           2201.0                 0                0.0   \n",
       "485150         3.113918              0.0                 0                1.0   \n",
       "341124         5.760000              0.0                 0                0.0   \n",
       "\n",
       "         self_installed  tilt_1  additional_modules  bipv_module_1  \\\n",
       "454572              0.0    25.0                 0.0            0.0   \n",
       "1980351             0.0    18.0                 0.0            0.0   \n",
       "370974              0.0    18.0                 0.0            0.0   \n",
       "485150              0.0    27.0                 0.0            0.0   \n",
       "341124              0.0    23.0                 0.0            0.0   \n",
       "\n",
       "         efficiency_module_1  inverter_quantity_1  ...  \\\n",
       "454572              0.196319                  1.0  ...   \n",
       "1980351             0.182099                  1.0  ...   \n",
       "370974              0.214724                  9.0  ...   \n",
       "485150              0.193939                  5.0  ...   \n",
       "341124              0.196319                 18.0  ...   \n",
       "\n",
       "         inverter_model_1_IQ6PLUS-72-ACM-US [240V]  \\\n",
       "454572                                           0   \n",
       "1980351                                          0   \n",
       "370974                                           0   \n",
       "485150                                           0   \n",
       "341124                                           0   \n",
       "\n",
       "         inverter_model_1_SE3800H-US (240V)  inverter_model_1_SE9KUS [208V]  \\\n",
       "454572                                    0                               0   \n",
       "1980351                                   0                               0   \n",
       "370974                                    0                               0   \n",
       "485150                                    0                               0   \n",
       "341124                                    0                               0   \n",
       "\n",
       "         inverter_model_1_IQ7XS-96-E-ACM-US [240V]  \\\n",
       "454572                                           0   \n",
       "1980351                                          0   \n",
       "370974                                           0   \n",
       "485150                                           0   \n",
       "341124                                           0   \n",
       "\n",
       "         inverter_model_1_SE7600H-US (240V)  \\\n",
       "454572                                    0   \n",
       "1980351                                   0   \n",
       "370974                                    0   \n",
       "485150                                    0   \n",
       "341124                                    0   \n",
       "\n",
       "         inverter_model_1_SPR-X22-360-E-AC [208V]  \\\n",
       "454572                                          0   \n",
       "1980351                                         0   \n",
       "370974                                          0   \n",
       "485150                                          0   \n",
       "341124                                          0   \n",
       "\n",
       "         inverter_model_1_SE11400H-US (240V)  \\\n",
       "454572                                     0   \n",
       "1980351                                    0   \n",
       "370974                                     0   \n",
       "485150                                     0   \n",
       "341124                                     0   \n",
       "\n",
       "         inverter_model_1_IQ7-60-x-ACM-US [208V]  \\\n",
       "454572                                         0   \n",
       "1980351                                        0   \n",
       "370974                                         0   \n",
       "485150                                         0   \n",
       "341124                                         0   \n",
       "\n",
       "         inverter_model_1_SE10000H-US (240V)  \\\n",
       "454572                                     0   \n",
       "1980351                                    0   \n",
       "370974                                     0   \n",
       "485150                                     0   \n",
       "341124                                     0   \n",
       "\n",
       "         inverter_model_1_SB3.8-1SP-US-40 [208V]  \n",
       "454572                                         0  \n",
       "1980351                                        0  \n",
       "370974                                         0  \n",
       "485150                                         0  \n",
       "341124                                         0  \n",
       "\n",
       "[5 rows x 400 columns]"
      ]
     },
     "execution_count": 3,
     "metadata": {},
     "output_type": "execute_result"
    }
   ],
   "source": [
    "X_train = pd.read_csv('X_train.csv', index_col=0)\n",
    "y_train = pd.read_csv('y_train.csv', index_col=0)\n",
    "X_train.head()"
   ]
  },
  {
   "cell_type": "code",
   "execution_count": 4,
   "metadata": {},
   "outputs": [
    {
     "data": {
      "text/plain": [
       "((156192, 400), (156192, 1))"
      ]
     },
     "execution_count": 4,
     "metadata": {},
     "output_type": "execute_result"
    }
   ],
   "source": [
    "X_train.shape, y_train.shape"
   ]
  },
  {
   "cell_type": "code",
   "execution_count": 5,
   "metadata": {},
   "outputs": [
    {
     "data": {
      "text/plain": [
       "Index(['system_size_dc', 'rebate_or_grant', 'expansion_system',\n",
       "       'third_party_owned', 'self_installed', 'tilt_1', 'additional_modules',\n",
       "       'bipv_module_1', 'efficiency_module_1', 'inverter_quantity_1',\n",
       "       ...\n",
       "       'inverter_model_1_IQ6PLUS-72-ACM-US [240V]',\n",
       "       'inverter_model_1_SE3800H-US (240V)', 'inverter_model_1_SE9KUS [208V]',\n",
       "       'inverter_model_1_IQ7XS-96-E-ACM-US [240V]',\n",
       "       'inverter_model_1_SE7600H-US (240V)',\n",
       "       'inverter_model_1_SPR-X22-360-E-AC [208V]',\n",
       "       'inverter_model_1_SE11400H-US (240V)',\n",
       "       'inverter_model_1_IQ7-60-x-ACM-US [208V]',\n",
       "       'inverter_model_1_SE10000H-US (240V)',\n",
       "       'inverter_model_1_SB3.8-1SP-US-40 [208V]'],\n",
       "      dtype='object', length=400)"
      ]
     },
     "execution_count": 5,
     "metadata": {},
     "output_type": "execute_result"
    }
   ],
   "source": [
    "X_train.columns"
   ]
  },
  {
   "cell_type": "markdown",
   "metadata": {},
   "source": [
    "First I'm going to train a few dummy regression models to see how they performs and to set a benchmark of what I should consider a useful model. Since there isn't any reason large outliers should be extra harshly penalized, I'm going to rank the models based on mean absolute error (MAE), while plotting both MAE and root mean squared error (RMSE)."
   ]
  },
  {
   "cell_type": "code",
   "execution_count": 6,
   "metadata": {},
   "outputs": [
    {
     "data": {
      "text/plain": [
       "((31238, 400), (124954, 400), (31238, 1), (124954, 1))"
      ]
     },
     "execution_count": 6,
     "metadata": {},
     "output_type": "execute_result"
    }
   ],
   "source": [
    "x_tr, x_te, y_tr, y_te = train_test_split(X_train, y_train, test_size=0.8)\n",
    "x_tr.shape, x_te.shape, y_tr.shape, y_te.shape"
   ]
  },
  {
   "cell_type": "code",
   "execution_count": 7,
   "metadata": {},
   "outputs": [],
   "source": [
    "# Reshape y_train for model fitting\n",
    "y_tr = y_tr.values.ravel()\n",
    "y_te = y_te.values.ravel()"
   ]
  },
  {
   "cell_type": "code",
   "execution_count": 8,
   "metadata": {},
   "outputs": [
    {
     "name": "stdout",
     "output_type": "stream",
     "text": [
      "55122254.790286995\n"
     ]
    }
   ],
   "source": [
    "# Using the mean of the training set\n",
    "dummy_mean = DummyRegressor(strategy=\"mean\")\n",
    "dummy_mean.fit(x_tr, y_tr)\n",
    "y_pred = dummy_mean.predict(x_te)\n",
    "train_scores = {'Mean Dummy Regressor' : mean_squared_error(y_te, y_pred)}\n",
    "print(mean_squared_error(y_te, y_pred))"
   ]
  },
  {
   "cell_type": "code",
   "execution_count": 9,
   "metadata": {},
   "outputs": [
    {
     "name": "stdout",
     "output_type": "stream",
     "text": [
      "55164857.971142314\n"
     ]
    }
   ],
   "source": [
    "# Using the median of the training set\n",
    "dummy_median = DummyRegressor(strategy=\"median\")\n",
    "dummy_median.fit(x_tr, y_tr)\n",
    "y_pred = dummy_median.predict(x_te)\n",
    "train_scores['Median Dummy Regressor'] = mean_squared_error(y_te, y_pred)\n",
    "print(mean_squared_error(y_te, y_pred))"
   ]
  },
  {
   "cell_type": "code",
   "execution_count": 10,
   "metadata": {},
   "outputs": [
    {
     "name": "stdout",
     "output_type": "stream",
     "text": [
      "55924623.26652007\n"
     ]
    }
   ],
   "source": [
    "# One final dummy regressor using the 25th quantile of the training set\n",
    "dummy_quantile = DummyRegressor(strategy=\"quantile\", quantile = 0.25)\n",
    "dummy_quantile.fit(x_tr, y_tr)\n",
    "y_pred = dummy_quantile.predict(x_te)\n",
    "train_scores['25th Quantile Dummy Regressor'] = mean_squared_error(y_te, y_pred)\n",
    "print(mean_squared_error(y_te, y_pred))"
   ]
  },
  {
   "cell_type": "markdown",
   "metadata": {},
   "source": [
    "Now that I have some base RMSE values that give me a cutoff for whether my models are effective or not, I'll begin with an ordinary least squares model."
   ]
  },
  {
   "cell_type": "code",
   "execution_count": 11,
   "metadata": {},
   "outputs": [
    {
     "name": "stdout",
     "output_type": "stream",
     "text": [
      "4.0087382954495144e+16\n"
     ]
    }
   ],
   "source": [
    "ols = LinearRegression()\n",
    "ols.fit(x_tr, y_tr)\n",
    "y_pred = ols.predict(x_te)\n",
    "train_scores['OLS'] = mean_squared_error(y_te, y_pred)\n",
    "print(mean_squared_error(y_te, y_pred))"
   ]
  },
  {
   "cell_type": "markdown",
   "metadata": {},
   "source": [
    "As expected, OLS produces a big improvement over the dummy regressors. I'll take a look at ridge regression to see if it will generate a better model."
   ]
  },
  {
   "cell_type": "code",
   "execution_count": 16,
   "metadata": {},
   "outputs": [
    {
     "data": {
      "text/plain": [
       "{'alpha': 63.38753065382816}"
      ]
     },
     "execution_count": 16,
     "metadata": {},
     "output_type": "execute_result"
    }
   ],
   "source": [
    "parameters = {'alpha': sp_randFloat(2,100)}\n",
    "ridge = Ridge(random_state = 12)\n",
    "ridge_reg = RandomizedSearchCV(ridge, parameters,scoring=['neg_root_mean_squared_error', 'neg_mean_absolute_error'],\\\n",
    "                               refit='neg_root_mean_squared_error', n_iter=60, cv=5)\n",
    "random_ridge = ridge_reg.fit(x_tr, y_tr)\n",
    "random_ridge.best_params_"
   ]
  },
  {
   "cell_type": "code",
   "execution_count": 17,
   "metadata": {},
   "outputs": [
    {
     "data": {
      "text/plain": [
       "Index(['mean_fit_time', 'std_fit_time', 'mean_score_time', 'std_score_time',\n",
       "       'param_alpha', 'params', 'split0_test_neg_root_mean_squared_error',\n",
       "       'split1_test_neg_root_mean_squared_error',\n",
       "       'split2_test_neg_root_mean_squared_error',\n",
       "       'split3_test_neg_root_mean_squared_error',\n",
       "       'split4_test_neg_root_mean_squared_error',\n",
       "       'mean_test_neg_root_mean_squared_error',\n",
       "       'std_test_neg_root_mean_squared_error',\n",
       "       'rank_test_neg_root_mean_squared_error',\n",
       "       'split0_test_neg_mean_absolute_error',\n",
       "       'split1_test_neg_mean_absolute_error',\n",
       "       'split2_test_neg_mean_absolute_error',\n",
       "       'split3_test_neg_mean_absolute_error',\n",
       "       'split4_test_neg_mean_absolute_error',\n",
       "       'mean_test_neg_mean_absolute_error', 'std_test_neg_mean_absolute_error',\n",
       "       'rank_test_neg_mean_absolute_error'],\n",
       "      dtype='object')"
      ]
     },
     "execution_count": 17,
     "metadata": {},
     "output_type": "execute_result"
    }
   ],
   "source": [
    "random_ridge_results = pd.DataFrame(random_ridge.cv_results_)\n",
    "random_ridge_results.columns"
   ]
  },
  {
   "cell_type": "code",
   "execution_count": 18,
   "metadata": {
    "scrolled": false
   },
   "outputs": [
    {
     "data": {
      "image/png": "[encoded data removed]",
      "text/plain": [
       "<Figure size 432x288 with 2 Axes>"
      ]
     },
     "metadata": {},
     "output_type": "display_data"
    }
   ],
   "source": [
    "fig, ax = plt.subplots()\n",
    "ax.plot(random_ridge_results['param_alpha'], random_ridge_results['mean_test_neg_root_mean_squared_error'], color='r',\\\n",
    "        marker='o', linestyle='none', alpha=0.7)\n",
    "ax.set_xlabel('Alpha')\n",
    "ax.set_ylabel('Mean Negative RMSE')\n",
    "ax2 = ax.twinx()\n",
    "ax2.plot(random_ridge_results['param_alpha'], random_ridge_results['mean_test_neg_mean_absolute_error'], color='b',\\\n",
    "         marker='d', linestyle='none', alpha=0.7)\n",
    "ax2.set_ylabel('Mean Negative MAE')\n",
    "plt.show()"
   ]
  },
  {
   "cell_type": "markdown",
   "metadata": {},
   "source": [
    "Now that I have an idea of where the optimal alpha value lies for the ridge regression I'll fit an optimized ridge to the train data and add the RMSE to my collection of scores."
   ]
  },
  {
   "cell_type": "code",
   "execution_count": 19,
   "metadata": {},
   "outputs": [
    {
     "name": "stdout",
     "output_type": "stream",
     "text": [
      "54623089.553966075\n"
     ]
    }
   ],
   "source": [
    "ridge=Ridge(alpha=random_ridge.best_params_['alpha'], random_state = 12)\n",
    "ridge.fit(x_tr, y_tr)\n",
    "y_pred = ridge.predict(x_te)\n",
    "train_scores['Ridge'] = mean_squared_error(y_te, y_pred)\n",
    "print(mean_squared_error(y_te, y_pred))"
   ]
  },
  {
   "cell_type": "markdown",
   "metadata": {},
   "source": [
    "So ridge regression performs almost the exact same as OLS, good to know. Next I'll identify the best alpha for a lasso regression to compare that against the OLS and ridge models."
   ]
  },
  {
   "cell_type": "code",
   "execution_count": null,
   "metadata": {},
   "outputs": [],
   "source": [
    "parameters = {'alpha': sp_randFloat(1,50)}\n",
    "lasso = linear_model.Lasso(random_state = 12)\n",
    "rand = RandomizedSearchCV(lasso, parameters, scoring=['neg_root_mean_squared_error', 'neg_mean_absolute_error'],\\\n",
    "                          refit='neg_root_mean_squared_error', n_iter=60, cv=5, random_state=0)\n",
    "rand_lasso = rand.fit(x_tr, y_tr)\n",
    "rand_lasso.best_params_"
   ]
  },
  {
   "cell_type": "code",
   "execution_count": null,
   "metadata": {},
   "outputs": [],
   "source": [
    "rand_lasso_params = pd.DataFrame(rand_lasso.cv_results_)\n",
    "rand_lasso_params.head()"
   ]
  },
  {
   "cell_type": "code",
   "execution_count": null,
   "metadata": {},
   "outputs": [],
   "source": [
    "fig, ax = plt.subplots()\n",
    "\n",
    "a1 = ax.plot(rand_lasso_params['param_alpha'], rand_lasso_params['mean_test_neg_root_mean_squared_error'], color='r',\\\n",
    "        marker='o', linestyle='none', alpha=0.7)\n",
    "\n",
    "ax2 = ax.twinx()\n",
    "a2 = ax2.plot(rand_lasso_params['param_alpha'], rand_lasso_params['mean_test_neg_mean_absolute_error'], color='b',\\\n",
    "         marker='d', linestyle='none', alpha=0.7)\n",
    "\n",
    "axs = a1+a2\n",
    "labs = [a.get_label() for a in axs]\n",
    "ax.legend(axs, labs, loc=0)\n",
    "\n",
    "ax.set_xlabel('Alpha')\n",
    "ax.set_ylabel('Mean Negative RMSE')\n",
    "ax2.set_ylabel('Mean Negative MAE')\n",
    "\n",
    "plt.show()"
   ]
  },
  {
   "cell_type": "code",
   "execution_count": null,
   "metadata": {},
   "outputs": [],
   "source": [
    "lasso = linear_model.Lasso(alpha=rand_lasso.best_params_['alpha'], random_state = 12)\n",
    "lasso.fit(x_tr, y_tr)\n",
    "y_pred = lasso.predict(x_te)\n",
    "train_scores['Lasso'] = mean_squared_error(y_te, y_pred)\n",
    "print(mean_squared_error(y_te, y_pred))"
   ]
  },
  {
   "cell_type": "markdown",
   "metadata": {},
   "source": [
    "Again, almost the exact same performance relative to ridge and OLS regression. Next I'm going to take a look at random forest and see if that can produce a significant reduction in MAE."
   ]
  },
  {
   "cell_type": "code",
   "execution_count": 24,
   "metadata": {},
   "outputs": [
    {
     "data": {
      "text/plain": [
       "{'max_depth': 9,\n",
       " 'max_features': 0.6943250674615364,\n",
       " 'min_samples_leaf': 608,\n",
       " 'n_estimators': 990}"
      ]
     },
     "execution_count": 24,
     "metadata": {},
     "output_type": "execute_result"
    }
   ],
   "source": [
    "parameters = {'n_estimators': sp_randInt(10,1000),\n",
    "             'max_features': sp_randFloat(0.01, 1),\n",
    "             'max_depth': sp_randInt(2,10),\n",
    "             'min_samples_leaf': sp_randInt(400,10000),\n",
    "             }\n",
    "forest = RandomForestRegressor(n_jobs=-1, random_state=12)\n",
    "forest_reg = RandomizedSearchCV(forest, parameters, scoring=['neg_root_mean_squared_error', 'neg_mean_absolute_error'],\\\n",
    "                                refit='neg_root_mean_squared_error', n_iter=60, cv=5, random_state=12)\n",
    "rand_forest = forest_reg.fit(x_tr, y_tr)\n",
    "rand_forest.best_params_"
   ]
  },
  {
   "cell_type": "code",
   "execution_count": 25,
   "metadata": {},
   "outputs": [
    {
     "data": {
      "text/plain": [
       "Index(['mean_fit_time', 'std_fit_time', 'mean_score_time', 'std_score_time',\n",
       "       'param_max_depth', 'param_max_features', 'param_min_samples_leaf',\n",
       "       'param_n_estimators', 'params',\n",
       "       'split0_test_neg_root_mean_squared_error',\n",
       "       'split1_test_neg_root_mean_squared_error',\n",
       "       'split2_test_neg_root_mean_squared_error',\n",
       "       'split3_test_neg_root_mean_squared_error',\n",
       "       'split4_test_neg_root_mean_squared_error',\n",
       "       'mean_test_neg_root_mean_squared_error',\n",
       "       'std_test_neg_root_mean_squared_error',\n",
       "       'rank_test_neg_root_mean_squared_error',\n",
       "       'split0_test_neg_mean_absolute_error',\n",
       "       'split1_test_neg_mean_absolute_error',\n",
       "       'split2_test_neg_mean_absolute_error',\n",
       "       'split3_test_neg_mean_absolute_error',\n",
       "       'split4_test_neg_mean_absolute_error',\n",
       "       'mean_test_neg_mean_absolute_error', 'std_test_neg_mean_absolute_error',\n",
       "       'rank_test_neg_mean_absolute_error'],\n",
       "      dtype='object')"
      ]
     },
     "execution_count": 25,
     "metadata": {},
     "output_type": "execute_result"
    }
   ],
   "source": [
    "rand_forest_params = pd.DataFrame(rand_forest.cv_results_)\n",
    "rand_forest_params.columns"
   ]
  },
  {
   "cell_type": "code",
   "execution_count": 26,
   "metadata": {},
   "outputs": [
    {
     "data": {
      "image/png": "[encoded data removed]",
      "text/plain": [
       "<Figure size 432x288 with 1 Axes>"
      ]
     },
     "metadata": {},
     "output_type": "display_data"
    }
   ],
   "source": [
    "sns.scatterplot(data=rand_forest_params, x='param_max_depth', y='mean_test_neg_root_mean_squared_error')\n",
    "plt.show()"
   ]
  },
  {
   "cell_type": "code",
   "execution_count": 27,
   "metadata": {},
   "outputs": [
    {
     "data": {
      "image/png": "[encoded data removed]",
      "text/plain": [
       "<Figure size 432x288 with 1 Axes>"
      ]
     },
     "metadata": {},
     "output_type": "display_data"
    }
   ],
   "source": [
    "sns.scatterplot(data=rand_forest_params, x='param_max_features', y='mean_test_neg_root_mean_squared_error')\n",
    "plt.show()"
   ]
  },
  {
   "cell_type": "code",
   "execution_count": 28,
   "metadata": {},
   "outputs": [
    {
     "data": {
      "image/png": "[encoded data removed]",
      "text/plain": [
       "<Figure size 432x288 with 1 Axes>"
      ]
     },
     "metadata": {},
     "output_type": "display_data"
    }
   ],
   "source": [
    "sns.scatterplot(data=rand_forest_params, x='param_min_samples_leaf', y='mean_test_neg_root_mean_squared_error')\n",
    "plt.show()"
   ]
  },
  {
   "cell_type": "code",
   "execution_count": 29,
   "metadata": {},
   "outputs": [
    {
     "data": {
      "image/png": "[encoded data removed]",
      "text/plain": [
       "<Figure size 432x288 with 1 Axes>"
      ]
     },
     "metadata": {},
     "output_type": "display_data"
    }
   ],
   "source": [
    "sns.scatterplot(data=rand_forest_params, x='param_n_estimators', y='mean_test_neg_root_mean_squared_error')\n",
    "plt.show()"
   ]
  },
  {
   "cell_type": "code",
   "execution_count": 30,
   "metadata": {},
   "outputs": [
    {
     "data": {
      "text/plain": [
       "{'min_samples_leaf': 50, 'n_estimators': 941}"
      ]
     },
     "execution_count": 30,
     "metadata": {},
     "output_type": "execute_result"
    }
   ],
   "source": [
    "parameters = {\n",
    "             'min_samples_leaf': sp_randInt(1,2000),\n",
    "             'n_estimators': sp_randInt(800,1100)\n",
    "             }\n",
    "forest = RandomForestRegressor(max_features=rand_forest.best_params_['max_features'],\\\n",
    "                               max_depth=rand_forest.best_params_['max_depth'], n_jobs=-1, random_state=12)\n",
    "forest_reg = RandomizedSearchCV(forest, parameters, scoring=['neg_root_mean_squared_error', 'neg_mean_absolute_error'],\\\n",
    "                                refit='neg_root_mean_squared_error', n_iter=60, cv=5, random_state=12)\n",
    "random_forest = forest_reg.fit(x_tr, y_tr)\n",
    "random_forest.best_params_"
   ]
  },
  {
   "cell_type": "code",
   "execution_count": 31,
   "metadata": {
    "scrolled": true
   },
   "outputs": [
    {
     "data": {
      "text/plain": [
       "54529920.36273953"
      ]
     },
     "execution_count": 31,
     "metadata": {},
     "output_type": "execute_result"
    }
   ],
   "source": [
    "opt_forest = RandomForestRegressor(n_estimators=rand_forest.best_params_['n_estimators'],\\\n",
    "                                   max_features=rand_forest.best_params_['max_features'],\\\n",
    "                                   min_samples_leaf=random_forest.best_params_['min_samples_leaf'],\\\n",
    "                                   max_depth=rand_forest.best_params_['max_depth'], n_jobs = -1, random_state=12)\n",
    "opt_forest.fit(x_tr, y_tr)\n",
    "y_pred = opt_forest.predict(x_te)\n",
    "train_scores['Random Forest'] = mean_squared_error(y_te, y_pred)\n",
    "mean_squared_error(y_te, y_pred)"
   ]
  },
  {
   "cell_type": "markdown",
   "metadata": {},
   "source": [
    "Nice, random forest improved upon the other models very significantly. I'll take a look at XGBoost next to see if it can improve even further."
   ]
  },
  {
   "cell_type": "code",
   "execution_count": 34,
   "metadata": {},
   "outputs": [
    {
     "ename": "ValueError",
     "evalue": "feature_names must be string, and may not contain [, ] or <",
     "output_type": "error",
     "traceback": [
      "\u001b[1;31m---------------------------------------------------------------------------\u001b[0m",
      "\u001b[1;31mValueError\u001b[0m                                Traceback (most recent call last)",
      "\u001b[1;32m<ipython-input-34-ee1f7044b93b>\u001b[0m in \u001b[0;36m<module>\u001b[1;34m\u001b[0m\n\u001b[0;32m      6\u001b[0m rand_xgb = RandomizedSearchCV(xgb, parameters, scoring='neg_root_mean_squared_error',\\\n\u001b[0;32m      7\u001b[0m                                 refit='neg_root_mean_squared_error', n_iter=60, cv=5, random_state=15)\n\u001b[1;32m----> 8\u001b[1;33m \u001b[0mxgbooster\u001b[0m \u001b[1;33m=\u001b[0m \u001b[0mrand_xgb\u001b[0m\u001b[1;33m.\u001b[0m\u001b[0mfit\u001b[0m\u001b[1;33m(\u001b[0m\u001b[0mx_tr\u001b[0m\u001b[1;33m,\u001b[0m \u001b[0my_tr\u001b[0m\u001b[1;33m)\u001b[0m\u001b[1;33m\u001b[0m\u001b[1;33m\u001b[0m\u001b[0m\n\u001b[0m\u001b[0;32m      9\u001b[0m \u001b[0mxgbooster\u001b[0m\u001b[1;33m.\u001b[0m\u001b[0mbest_params_\u001b[0m\u001b[1;33m\u001b[0m\u001b[1;33m\u001b[0m\u001b[0m\n",
      "\u001b[1;32m~\\anaconda3\\lib\\site-packages\\sklearn\\model_selection\\_search.py\u001b[0m in \u001b[0;36mfit\u001b[1;34m(self, X, y, groups, **fit_params)\u001b[0m\n\u001b[0;32m    737\u001b[0m             \u001b[0mrefit_start_time\u001b[0m \u001b[1;33m=\u001b[0m \u001b[0mtime\u001b[0m\u001b[1;33m.\u001b[0m\u001b[0mtime\u001b[0m\u001b[1;33m(\u001b[0m\u001b[1;33m)\u001b[0m\u001b[1;33m\u001b[0m\u001b[1;33m\u001b[0m\u001b[0m\n\u001b[0;32m    738\u001b[0m             \u001b[1;32mif\u001b[0m \u001b[0my\u001b[0m \u001b[1;32mis\u001b[0m \u001b[1;32mnot\u001b[0m \u001b[1;32mNone\u001b[0m\u001b[1;33m:\u001b[0m\u001b[1;33m\u001b[0m\u001b[1;33m\u001b[0m\u001b[0m\n\u001b[1;32m--> 739\u001b[1;33m                 \u001b[0mself\u001b[0m\u001b[1;33m.\u001b[0m\u001b[0mbest_estimator_\u001b[0m\u001b[1;33m.\u001b[0m\u001b[0mfit\u001b[0m\u001b[1;33m(\u001b[0m\u001b[0mX\u001b[0m\u001b[1;33m,\u001b[0m \u001b[0my\u001b[0m\u001b[1;33m,\u001b[0m \u001b[1;33m**\u001b[0m\u001b[0mfit_params\u001b[0m\u001b[1;33m)\u001b[0m\u001b[1;33m\u001b[0m\u001b[1;33m\u001b[0m\u001b[0m\n\u001b[0m\u001b[0;32m    740\u001b[0m             \u001b[1;32melse\u001b[0m\u001b[1;33m:\u001b[0m\u001b[1;33m\u001b[0m\u001b[1;33m\u001b[0m\u001b[0m\n\u001b[0;32m    741\u001b[0m                 \u001b[0mself\u001b[0m\u001b[1;33m.\u001b[0m\u001b[0mbest_estimator_\u001b[0m\u001b[1;33m.\u001b[0m\u001b[0mfit\u001b[0m\u001b[1;33m(\u001b[0m\u001b[0mX\u001b[0m\u001b[1;33m,\u001b[0m \u001b[1;33m**\u001b[0m\u001b[0mfit_params\u001b[0m\u001b[1;33m)\u001b[0m\u001b[1;33m\u001b[0m\u001b[1;33m\u001b[0m\u001b[0m\n",
      "\u001b[1;32m~\\anaconda3\\lib\\site-packages\\xgboost\\core.py\u001b[0m in \u001b[0;36minner_f\u001b[1;34m(*args, **kwargs)\u001b[0m\n\u001b[0;32m    573\u001b[0m         \u001b[1;32mfor\u001b[0m \u001b[0mk\u001b[0m\u001b[1;33m,\u001b[0m \u001b[0marg\u001b[0m \u001b[1;32min\u001b[0m \u001b[0mzip\u001b[0m\u001b[1;33m(\u001b[0m\u001b[0msig\u001b[0m\u001b[1;33m.\u001b[0m\u001b[0mparameters\u001b[0m\u001b[1;33m,\u001b[0m \u001b[0margs\u001b[0m\u001b[1;33m)\u001b[0m\u001b[1;33m:\u001b[0m\u001b[1;33m\u001b[0m\u001b[1;33m\u001b[0m\u001b[0m\n\u001b[0;32m    574\u001b[0m             \u001b[0mkwargs\u001b[0m\u001b[1;33m[\u001b[0m\u001b[0mk\u001b[0m\u001b[1;33m]\u001b[0m \u001b[1;33m=\u001b[0m \u001b[0marg\u001b[0m\u001b[1;33m\u001b[0m\u001b[1;33m\u001b[0m\u001b[0m\n\u001b[1;32m--> 575\u001b[1;33m         \u001b[1;32mreturn\u001b[0m \u001b[0mf\u001b[0m\u001b[1;33m(\u001b[0m\u001b[1;33m**\u001b[0m\u001b[0mkwargs\u001b[0m\u001b[1;33m)\u001b[0m\u001b[1;33m\u001b[0m\u001b[1;33m\u001b[0m\u001b[0m\n\u001b[0m\u001b[0;32m    576\u001b[0m \u001b[1;33m\u001b[0m\u001b[0m\n\u001b[0;32m    577\u001b[0m     \u001b[1;32mreturn\u001b[0m \u001b[0minner_f\u001b[0m\u001b[1;33m\u001b[0m\u001b[1;33m\u001b[0m\u001b[0m\n",
      "\u001b[1;32m~\\anaconda3\\lib\\site-packages\\xgboost\\sklearn.py\u001b[0m in \u001b[0;36mfit\u001b[1;34m(self, X, y, sample_weight, base_margin, eval_set, eval_metric, early_stopping_rounds, verbose, xgb_model, sample_weight_eval_set, base_margin_eval_set, feature_weights, callbacks)\u001b[0m\n\u001b[0;32m    944\u001b[0m             \u001b[0meval_qid\u001b[0m\u001b[1;33m=\u001b[0m\u001b[1;32mNone\u001b[0m\u001b[1;33m,\u001b[0m\u001b[1;33m\u001b[0m\u001b[1;33m\u001b[0m\u001b[0m\n\u001b[0;32m    945\u001b[0m             \u001b[0mcreate_dmatrix\u001b[0m\u001b[1;33m=\u001b[0m\u001b[1;32mlambda\u001b[0m \u001b[1;33m**\u001b[0m\u001b[0mkwargs\u001b[0m\u001b[1;33m:\u001b[0m \u001b[0mDMatrix\u001b[0m\u001b[1;33m(\u001b[0m\u001b[0mnthread\u001b[0m\u001b[1;33m=\u001b[0m\u001b[0mself\u001b[0m\u001b[1;33m.\u001b[0m\u001b[0mn_jobs\u001b[0m\u001b[1;33m,\u001b[0m \u001b[1;33m**\u001b[0m\u001b[0mkwargs\u001b[0m\u001b[1;33m)\u001b[0m\u001b[1;33m,\u001b[0m\u001b[1;33m\u001b[0m\u001b[1;33m\u001b[0m\u001b[0m\n\u001b[1;32m--> 946\u001b[1;33m             \u001b[0menable_categorical\u001b[0m\u001b[1;33m=\u001b[0m\u001b[0mself\u001b[0m\u001b[1;33m.\u001b[0m\u001b[0menable_categorical\u001b[0m\u001b[1;33m,\u001b[0m\u001b[1;33m\u001b[0m\u001b[1;33m\u001b[0m\u001b[0m\n\u001b[0m\u001b[0;32m    947\u001b[0m         )\n\u001b[0;32m    948\u001b[0m         \u001b[0mparams\u001b[0m \u001b[1;33m=\u001b[0m \u001b[0mself\u001b[0m\u001b[1;33m.\u001b[0m\u001b[0mget_xgb_params\u001b[0m\u001b[1;33m(\u001b[0m\u001b[1;33m)\u001b[0m\u001b[1;33m\u001b[0m\u001b[1;33m\u001b[0m\u001b[0m\n",
      "\u001b[1;32m~\\anaconda3\\lib\\site-packages\\xgboost\\sklearn.py\u001b[0m in \u001b[0;36m_wrap_evaluation_matrices\u001b[1;34m(missing, X, y, group, qid, sample_weight, base_margin, feature_weights, eval_set, sample_weight_eval_set, base_margin_eval_set, eval_group, eval_qid, create_dmatrix, enable_categorical)\u001b[0m\n\u001b[0;32m    408\u001b[0m         \u001b[0mfeature_weights\u001b[0m\u001b[1;33m=\u001b[0m\u001b[0mfeature_weights\u001b[0m\u001b[1;33m,\u001b[0m\u001b[1;33m\u001b[0m\u001b[1;33m\u001b[0m\u001b[0m\n\u001b[0;32m    409\u001b[0m         \u001b[0mmissing\u001b[0m\u001b[1;33m=\u001b[0m\u001b[0mmissing\u001b[0m\u001b[1;33m,\u001b[0m\u001b[1;33m\u001b[0m\u001b[1;33m\u001b[0m\u001b[0m\n\u001b[1;32m--> 410\u001b[1;33m         \u001b[0menable_categorical\u001b[0m\u001b[1;33m=\u001b[0m\u001b[0menable_categorical\u001b[0m\u001b[1;33m,\u001b[0m\u001b[1;33m\u001b[0m\u001b[1;33m\u001b[0m\u001b[0m\n\u001b[0m\u001b[0;32m    411\u001b[0m     )\n\u001b[0;32m    412\u001b[0m \u001b[1;33m\u001b[0m\u001b[0m\n",
      "\u001b[1;32m~\\anaconda3\\lib\\site-packages\\xgboost\\sklearn.py\u001b[0m in \u001b[0;36m<lambda>\u001b[1;34m(**kwargs)\u001b[0m\n\u001b[0;32m    943\u001b[0m             \u001b[0meval_group\u001b[0m\u001b[1;33m=\u001b[0m\u001b[1;32mNone\u001b[0m\u001b[1;33m,\u001b[0m\u001b[1;33m\u001b[0m\u001b[1;33m\u001b[0m\u001b[0m\n\u001b[0;32m    944\u001b[0m             \u001b[0meval_qid\u001b[0m\u001b[1;33m=\u001b[0m\u001b[1;32mNone\u001b[0m\u001b[1;33m,\u001b[0m\u001b[1;33m\u001b[0m\u001b[1;33m\u001b[0m\u001b[0m\n\u001b[1;32m--> 945\u001b[1;33m             \u001b[0mcreate_dmatrix\u001b[0m\u001b[1;33m=\u001b[0m\u001b[1;32mlambda\u001b[0m \u001b[1;33m**\u001b[0m\u001b[0mkwargs\u001b[0m\u001b[1;33m:\u001b[0m \u001b[0mDMatrix\u001b[0m\u001b[1;33m(\u001b[0m\u001b[0mnthread\u001b[0m\u001b[1;33m=\u001b[0m\u001b[0mself\u001b[0m\u001b[1;33m.\u001b[0m\u001b[0mn_jobs\u001b[0m\u001b[1;33m,\u001b[0m \u001b[1;33m**\u001b[0m\u001b[0mkwargs\u001b[0m\u001b[1;33m)\u001b[0m\u001b[1;33m,\u001b[0m\u001b[1;33m\u001b[0m\u001b[1;33m\u001b[0m\u001b[0m\n\u001b[0m\u001b[0;32m    946\u001b[0m             \u001b[0menable_categorical\u001b[0m\u001b[1;33m=\u001b[0m\u001b[0mself\u001b[0m\u001b[1;33m.\u001b[0m\u001b[0menable_categorical\u001b[0m\u001b[1;33m,\u001b[0m\u001b[1;33m\u001b[0m\u001b[1;33m\u001b[0m\u001b[0m\n\u001b[0;32m    947\u001b[0m         )\n",
      "\u001b[1;32m~\\anaconda3\\lib\\site-packages\\xgboost\\core.py\u001b[0m in \u001b[0;36minner_f\u001b[1;34m(*args, **kwargs)\u001b[0m\n\u001b[0;32m    573\u001b[0m         \u001b[1;32mfor\u001b[0m \u001b[0mk\u001b[0m\u001b[1;33m,\u001b[0m \u001b[0marg\u001b[0m \u001b[1;32min\u001b[0m \u001b[0mzip\u001b[0m\u001b[1;33m(\u001b[0m\u001b[0msig\u001b[0m\u001b[1;33m.\u001b[0m\u001b[0mparameters\u001b[0m\u001b[1;33m,\u001b[0m \u001b[0margs\u001b[0m\u001b[1;33m)\u001b[0m\u001b[1;33m:\u001b[0m\u001b[1;33m\u001b[0m\u001b[1;33m\u001b[0m\u001b[0m\n\u001b[0;32m    574\u001b[0m             \u001b[0mkwargs\u001b[0m\u001b[1;33m[\u001b[0m\u001b[0mk\u001b[0m\u001b[1;33m]\u001b[0m \u001b[1;33m=\u001b[0m \u001b[0marg\u001b[0m\u001b[1;33m\u001b[0m\u001b[1;33m\u001b[0m\u001b[0m\n\u001b[1;32m--> 575\u001b[1;33m         \u001b[1;32mreturn\u001b[0m \u001b[0mf\u001b[0m\u001b[1;33m(\u001b[0m\u001b[1;33m**\u001b[0m\u001b[0mkwargs\u001b[0m\u001b[1;33m)\u001b[0m\u001b[1;33m\u001b[0m\u001b[1;33m\u001b[0m\u001b[0m\n\u001b[0m\u001b[0;32m    576\u001b[0m \u001b[1;33m\u001b[0m\u001b[0m\n\u001b[0;32m    577\u001b[0m     \u001b[1;32mreturn\u001b[0m \u001b[0minner_f\u001b[0m\u001b[1;33m\u001b[0m\u001b[1;33m\u001b[0m\u001b[0m\n",
      "\u001b[1;32m~\\anaconda3\\lib\\site-packages\\xgboost\\core.py\u001b[0m in \u001b[0;36m__init__\u001b[1;34m(self, data, label, weight, base_margin, missing, silent, feature_names, feature_types, nthread, group, qid, label_lower_bound, label_upper_bound, feature_weights, enable_categorical)\u001b[0m\n\u001b[0;32m    707\u001b[0m \u001b[1;33m\u001b[0m\u001b[0m\n\u001b[0;32m    708\u001b[0m         \u001b[1;32mif\u001b[0m \u001b[0mfeature_names\u001b[0m \u001b[1;32mis\u001b[0m \u001b[1;32mnot\u001b[0m \u001b[1;32mNone\u001b[0m\u001b[1;33m:\u001b[0m\u001b[1;33m\u001b[0m\u001b[1;33m\u001b[0m\u001b[0m\n\u001b[1;32m--> 709\u001b[1;33m             \u001b[0mself\u001b[0m\u001b[1;33m.\u001b[0m\u001b[0mfeature_names\u001b[0m \u001b[1;33m=\u001b[0m \u001b[0mfeature_names\u001b[0m\u001b[1;33m\u001b[0m\u001b[1;33m\u001b[0m\u001b[0m\n\u001b[0m\u001b[0;32m    710\u001b[0m         \u001b[1;32mif\u001b[0m \u001b[0mfeature_types\u001b[0m \u001b[1;32mis\u001b[0m \u001b[1;32mnot\u001b[0m \u001b[1;32mNone\u001b[0m\u001b[1;33m:\u001b[0m\u001b[1;33m\u001b[0m\u001b[1;33m\u001b[0m\u001b[0m\n\u001b[0;32m    711\u001b[0m             \u001b[0mself\u001b[0m\u001b[1;33m.\u001b[0m\u001b[0mfeature_types\u001b[0m \u001b[1;33m=\u001b[0m \u001b[0mfeature_types\u001b[0m\u001b[1;33m\u001b[0m\u001b[1;33m\u001b[0m\u001b[0m\n",
      "\u001b[1;32m~\\anaconda3\\lib\\site-packages\\xgboost\\core.py\u001b[0m in \u001b[0;36mfeature_names\u001b[1;34m(self, feature_names)\u001b[0m\n\u001b[0;32m   1085\u001b[0m                        \u001b[1;32mnot\u001b[0m \u001b[0many\u001b[0m\u001b[1;33m(\u001b[0m\u001b[0mx\u001b[0m \u001b[1;32min\u001b[0m \u001b[0mf\u001b[0m \u001b[1;32mfor\u001b[0m \u001b[0mx\u001b[0m \u001b[1;32min\u001b[0m \u001b[0mset\u001b[0m\u001b[1;33m(\u001b[0m\u001b[1;33m(\u001b[0m\u001b[1;34m'['\u001b[0m\u001b[1;33m,\u001b[0m \u001b[1;34m']'\u001b[0m\u001b[1;33m,\u001b[0m \u001b[1;34m'<'\u001b[0m\u001b[1;33m)\u001b[0m\u001b[1;33m)\u001b[0m\u001b[1;33m)\u001b[0m\u001b[1;33m\u001b[0m\u001b[1;33m\u001b[0m\u001b[0m\n\u001b[0;32m   1086\u001b[0m                        for f in feature_names):\n\u001b[1;32m-> 1087\u001b[1;33m                 \u001b[1;32mraise\u001b[0m \u001b[0mValueError\u001b[0m\u001b[1;33m(\u001b[0m\u001b[1;34m'feature_names must be string, and may not contain [, ] or <'\u001b[0m\u001b[1;33m)\u001b[0m\u001b[1;33m\u001b[0m\u001b[1;33m\u001b[0m\u001b[0m\n\u001b[0m\u001b[0;32m   1088\u001b[0m             \u001b[0mfeature_names_bytes\u001b[0m \u001b[1;33m=\u001b[0m \u001b[1;33m[\u001b[0m\u001b[0mbytes\u001b[0m\u001b[1;33m(\u001b[0m\u001b[0mf\u001b[0m\u001b[1;33m,\u001b[0m \u001b[0mencoding\u001b[0m\u001b[1;33m=\u001b[0m\u001b[1;34m'utf-8'\u001b[0m\u001b[1;33m)\u001b[0m \u001b[1;32mfor\u001b[0m \u001b[0mf\u001b[0m \u001b[1;32min\u001b[0m \u001b[0mfeature_names\u001b[0m\u001b[1;33m]\u001b[0m\u001b[1;33m\u001b[0m\u001b[1;33m\u001b[0m\u001b[0m\n\u001b[0;32m   1089\u001b[0m             c_feature_names = (ctypes.c_char_p *\n",
      "\u001b[1;31mValueError\u001b[0m: feature_names must be string, and may not contain [, ] or <"
     ]
    }
   ],
   "source": [
    "xgb = XGBRegressor()\n",
    "parameters = {'n_estimators': sp_randInt(500,1000),\n",
    "             'max_depth': sp_randInt(2,10),\n",
    "             'eta': sp_randFloat(0.0001,0.99),\n",
    "             'colsample_bytree': sp_randFloat(0.01,0.99)} \n",
    "rand_xgb = RandomizedSearchCV(xgb, parameters, scoring='neg_root_mean_squared_error',\\\n",
    "                                refit='neg_root_mean_squared_error', n_iter=60, cv=5, random_state=15)\n",
    "xgbooster = rand_xgb.fit(x_tr, y_tr)\n",
    "xgbooster.best_params_"
   ]
  },
  {
   "cell_type": "code",
   "execution_count": null,
   "metadata": {},
   "outputs": [],
   "source": [
    "xgb_model = XGBRegressor(n_estimators=xgbooster.best_params_['n_estimators'],\\\n",
    "                                   eta=xgbooster.best_params_['eta'],\\\n",
    "                                   colsample_bytree=xgbooster.best_params_['colsample_bytree'],\\\n",
    "                                   max_depth=xgbooster.best_params_['max_depth'])\n",
    "xgb_model.fit(x_tr, y_tr)\n",
    "y_pred = xgb_model.predict(x_te)\n",
    "train_scores['XGBoost'] = mean_squared_error(y_te, y_pred)\n",
    "mean_squared_error(y_te, y_pred)"
   ]
  },
  {
   "cell_type": "markdown",
   "metadata": {},
   "source": [
    "Wow! XGBoost knocked down the MAE from 680 (with random forest) to 72! Just for some context I'm going to check the range between the 5th and 95th percentiles of the price per KW just to get an idea of how much error \\\\$72 represents."
   ]
  },
  {
   "cell_type": "code",
   "execution_count": null,
   "metadata": {},
   "outputs": [],
   "source": [
    "print(np.quantile(y_train['price_per_kw'], 0.05))\n",
    "print(np.quantile(y_train['price_per_kw'], 0.95))"
   ]
  },
  {
   "cell_type": "markdown",
   "metadata": {},
   "source": [
    "Great! 90% of the data lie within a \\\\$4100 spread, so having an estimate with \\\\$72 error is pretty good. Let's see if we can get any better with a decision tree."
   ]
  },
  {
   "cell_type": "code",
   "execution_count": null,
   "metadata": {},
   "outputs": [],
   "source": [
    "d_tree = tree.DecisionTreeRegressor(random_state = 12)\n",
    "parameters = {'max_depth': sp_randInt(2,10),\n",
    "             'min_samples_leaf': sp_randInt(100,5000)}\n",
    "rand_tree = RandomizedSearchCV(d_tree, parameters, scoring=['neg_root_mean_squared_error', 'neg_mean_absolute_error'],\\\n",
    "                                refit='neg_root_mean_squared_error', n_iter=60, cv=5, random_state=12)\n",
    "decision_tree = rand_tree.fit(x_tr, y_tr)\n",
    "decision_tree.best_params_"
   ]
  },
  {
   "cell_type": "code",
   "execution_count": null,
   "metadata": {},
   "outputs": [],
   "source": [
    "decision_tree_model = tree.DecisionTreeRegressor(max_depth = decision_tree.best_params_['max_depth'],\\\n",
    "                                            min_samples_leaf = decision_tree.best_params_['min_samples_leaf'],\\\n",
    "                                            random_state = 12)\n",
    "decision_tree_model.fit(x_tr, y_tr)\n",
    "y_pred = decision_tree_model.predict(x_te)\n",
    "train_scores['Decision Tree'] = mean_squared_error(y_te, y_pred)\n",
    "mean_squared_error(y_te, y_pred)"
   ]
  },
  {
   "cell_type": "markdown",
   "metadata": {},
   "source": [
    "Interesting, even a basic decision tree outperformed the random forest and lasso regressors. Let's keep testing a few additional models to determine which should be tuned further and used as the final model."
   ]
  },
  {
   "cell_type": "code",
   "execution_count": null,
   "metadata": {},
   "outputs": [],
   "source": [
    "neighbors = KNeighborsRegressor()\n",
    "parameters = {'n_neighbors': sp_randInt(2,50)}\n",
    "rand_knn = RandomizedSearchCV(neighbors, parameters, scoring=['neg_root_mean_squared_error', 'neg_mean_absolute_error'],\\\n",
    "                                refit='neg_root_mean_squared_error', n_iter=60, cv=5, random_state=12)\n",
    "opt_nn = rand_knn.fit(x_tr, y_tr)\n",
    "opt_nn.best_params_"
   ]
  },
  {
   "cell_type": "code",
   "execution_count": null,
   "metadata": {},
   "outputs": [],
   "source": [
    "knn_opt = KNeighborsRegressor(n_neighbors = opt_nn.best_params_['n_neighbors'])\n",
    "knn_opt.fit(x_tr, y_tr)\n",
    "y_pred = knn_opt.predict(x_te)\n",
    "train_scores['KNN'] = mean_squared_error(y_te, y_pred)\n",
    "mean_squared_error(y_te, y_pred)"
   ]
  },
  {
   "cell_type": "code",
   "execution_count": null,
   "metadata": {},
   "outputs": [],
   "source": [
    "lgbm = lgb.LGBMRegressor(objective = 'regression', metric = 'mae')\n",
    "parameters = {'num_leaves': sp_randInt(10,1000),\n",
    "              'n_estimators': sp_randInt(10,1000),\n",
    "              'max_depth': sp_randInt(2,10),\n",
    "              'learning_rate': sp_randFloat(0.001,1)}\n",
    "rand_lgbm = RandomizedSearchCV(lgbm, parameters, scoring=['neg_root_mean_squared_error', 'neg_mean_absolute_error'],\\\n",
    "                                refit='neg_root_mean_squared_error', n_iter=60, cv=5, random_state=12)\n",
    "opt_lgbm = rand_lgbm.fit(x_tr, y_tr)\n",
    "opt_lgbm.best_params_"
   ]
  },
  {
   "cell_type": "code",
   "execution_count": null,
   "metadata": {},
   "outputs": [],
   "source": [
    "lgbm_opt = lgb.LGBMRegressor(objective = 'regression', metric = 'mae', num_leaves = opt_lgbm.best_params_['num_leaves'],\\\n",
    "                             n_estimators = opt_lgbm.best_params_['n_estimators'],\\\n",
    "                             max_depth = opt_lgbm.best_params_['max_depth'],\\\n",
    "                             learning_rate = opt_lgbm.best_params_['learning_rate'])\n",
    "lgbm_opt.fit(x_tr, y_tr)\n",
    "y_pred = lgbm_opt.predict(x_te)\n",
    "train_scores['Light GBM'] = mean_squared_error(y_te, y_pred)\n",
    "mean_squared_error(y_te, y_pred)"
   ]
  },
  {
   "cell_type": "code",
   "execution_count": null,
   "metadata": {},
   "outputs": [],
   "source": [
    "mlp = MLPRegressor(hidden_layer_sizes = (89, 89, 89), random_state = 12)\n",
    "parameters = {'activation': ['identity', 'logistic', 'tanh', 'relu'],\n",
    "             'solver': ['lbfgs', 'sgd', 'adam'],\n",
    "             'max_iter': sp_randInt(500,1000)}\n",
    "rand_mlp = RandomizedSearchCV(mlp, parameters, scoring=['neg_root_mean_squared_error', 'neg_mean_absolute_error'],\\\n",
    "                                refit='neg_root_mean_squared_error', n_iter=60, cv=5, random_state=12)\n",
    "opt_mlp = rand_mlp.fit(x_tr, y_tr)\n",
    "opt_mlp.best_params_"
   ]
  },
  {
   "cell_type": "code",
   "execution_count": null,
   "metadata": {},
   "outputs": [],
   "source": [
    "mlp_opt = MLPRegressor(random_state = 12)\n",
    "mlp_opt.fit(x_tr, y_tr)\n",
    "y_pred = mlp_opt.predict(x_te)\n",
    "train_scores['MLP'] = mean_squared_error(y_te, y_pred)\n",
    "mean_squared_error(y_te, y_pred)"
   ]
  },
  {
   "cell_type": "code",
   "execution_count": null,
   "metadata": {},
   "outputs": [],
   "source": [
    "keys = list(train_scores.keys())\n",
    "vals = [float(train_scores[k]) for k in keys]\n",
    "sns.barplot(x=keys, y=vals)\n",
    "plt.xticks(rotation=45, ha='right')\n",
    "plt.ylabel('Mean Absolute Error')\n",
    "plt.title('Model Accuracy Comparison')\n",
    "plt.show()"
   ]
  },
  {
   "cell_type": "markdown",
   "metadata": {},
   "source": [
    "Now that I've done a quick once-over for these different models and identified XGBoost as the best fit for this challenge, I'm going to revisit XGBoost and see if I can't refine it further to improve the results even more."
   ]
  },
  {
   "cell_type": "code",
   "execution_count": null,
   "metadata": {},
   "outputs": [],
   "source": [
    "fig, ax = plt.subplots(1,1,figsize=(12, 14))\n",
    "xgboost.plot_importance(xgb_model, ax=ax)"
   ]
  },
  {
   "cell_type": "code",
   "execution_count": null,
   "metadata": {},
   "outputs": [],
   "source": [
    "# Previous best parameters\n",
    "# 'colsample_bytree': 0.9887415865233958,\n",
    "# 'eta': 0.3412489908771189,\n",
    "# 'max_depth': 9,\n",
    "# 'n_estimators': 859\n",
    "\n",
    "xgb_2 = XGBRegressor(verbosity = 0)\n",
    "parameters = {'n_estimators': sp_randInt(759,959),\n",
    "             'max_depth': sp_randInt(7,11),\n",
    "             'eta': sp_randFloat(0.14,0.54),\n",
    "             'colsample_bytree': sp_randFloat(0.9,1)} \n",
    "rand_xgb_2 = RandomizedSearchCV(xgb_2, parameters, scoring=['neg_root_mean_squared_error', 'neg_mean_absolute_error'],\\\n",
    "                                refit='neg_root_mean_squared_error', n_iter=60, cv=5, random_state=12)\n",
    "xgbooster_2 = rand_xgb_2.fit(x_tr, y_tr)\n",
    "xgbooster_2.best_params_"
   ]
  },
  {
   "cell_type": "code",
   "execution_count": null,
   "metadata": {},
   "outputs": [],
   "source": [
    "xgb_model_2 = XGBRegressor(n_estimators=xgbooster_2.best_params_['n_estimators'],\\\n",
    "                                   eta=xgbooster_2.best_params_['eta'],\\\n",
    "                                   colsample_bytree=xgbooster_2.best_params_['colsample_bytree'],\\\n",
    "                                   max_depth=xgbooster_2.best_params_['max_depth'])\n",
    "xgb_model_2.fit(x_tr, y_tr)\n",
    "y_pred = xgb_model_2.predict(x_te)\n",
    "train_scores['XGBoost 2'] = mean_squared_error(y_te, y_pred)\n",
    "mean_squared_error(y_te, y_pred)"
   ]
  },
  {
   "cell_type": "code",
   "execution_count": null,
   "metadata": {},
   "outputs": [],
   "source": [
    "fig, ax = plt.subplots(1,1,figsize=(12, 14))\n",
    "xgboost.plot_importance(xgb_model_2, ax=ax)"
   ]
  },
  {
   "cell_type": "code",
   "execution_count": null,
   "metadata": {},
   "outputs": [],
   "source": [
    "xgb_linear = XGBRegressor(booster = 'gblinear', verbosity = 0)\n",
    "parameters = {'reg_lambda': sp_randFloat(0,1),\n",
    "             'reg_alpha': sp_randFloat(0, 1),\n",
    "             'feature_selector': ['cyclic', 'shuffle']}\n",
    "rand_xgb_linear = RandomizedSearchCV(xgb_linear, parameters, scoring=['neg_root_mean_squared_error', 'neg_mean_absolute_error'],\\\n",
    "                                refit='neg_root_mean_squared_error', n_iter=60, cv=5, random_state=12)\n",
    "xgbooster_linear = rand_xgb_linear.fit(x_tr, y_tr)\n",
    "xgbooster_linear.best_params_"
   ]
  },
  {
   "cell_type": "code",
   "execution_count": null,
   "metadata": {},
   "outputs": [],
   "source": [
    "xgb_model_linear = XGBRegressor(booster = 'gblinear', reg_lambda = xgbooster_linear.best_params_['reg_lambda'],\\\n",
    "                                   reg_alpha=xgbooster_linear.best_params_['reg_alpha'],\\\n",
    "                                   feature_selector=xgbooster_linear.best_params_['feature_selector'])\n",
    "xgb_model_linear.fit(x_tr, y_tr)\n",
    "y_pred = xgb_model_linear.predict(x_te)\n",
    "train_scores['XGBoost Linear Booster'] = mean_squared_error(y_te, y_pred)\n",
    "mean_squared_error(y_te, y_pred)"
   ]
  },
  {
   "cell_type": "code",
   "execution_count": null,
   "metadata": {},
   "outputs": [],
   "source": [
    "xgb_linear = XGBRegressor(booster = 'gblinear', updater = 'coord_descent', verbosity = 0)\n",
    "parameters = {'reg_lambda': sp_randFloat(0,1),\n",
    "             'reg_alpha': sp_randFloat(0, 1),\n",
    "             'feature_selector': ['random', 'greedy', 'thrifty']}\n",
    "rand_xgb_linear = RandomizedSearchCV(xgb_linear, parameters, scoring=['neg_root_mean_squared_error', 'neg_mean_absolute_error'],\\\n",
    "                                refit='neg_root_mean_squared_error', n_iter=60, cv=5, random_state=12)\n",
    "xgbooster_linear = rand_xgb_linear.fit(x_tr, y_tr)\n",
    "xgbooster_linear.best_params_"
   ]
  },
  {
   "cell_type": "code",
   "execution_count": null,
   "metadata": {},
   "outputs": [],
   "source": [
    "xgb_model_linear = XGBRegressor(booster = 'gblinear', updater = 'coord_descent',\\\n",
    "                                reg_lambda = xgbooster_linear.best_params_['reg_lambda'],\\\n",
    "                                   reg_alpha=xgbooster_linear.best_params_['reg_alpha'],\\\n",
    "                                   feature_selector=xgbooster_linear.best_params_['feature_selector'])\n",
    "xgb_model_linear.fit(x_tr, y_tr)\n",
    "y_pred = xgb_model_linear.predict(x_te)\n",
    "train_scores['XGBoost Linear Booster'] = mean_squared_error(y_te, y_pred)\n",
    "mean_squared_error(y_te, y_pred)"
   ]
  },
  {
   "cell_type": "code",
   "execution_count": null,
   "metadata": {},
   "outputs": [],
   "source": []
  }
 ],
 "metadata": {
  "kernelspec": {
   "display_name": "Python 3",
   "language": "python",
   "name": "python3"
  },
  "language_info": {
   "codemirror_mode": {
    "name": "ipython",
    "version": 3
   },
   "file_extension": ".py",
   "mimetype": "text/x-python",
   "name": "python",
   "nbconvert_exporter": "python",
   "pygments_lexer": "ipython3",
   "version": "3.7.6"
  }
 },
 "nbformat": 4,
 "nbformat_minor": 5
}
