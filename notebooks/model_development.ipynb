{
 "cells": [
  {
   "cell_type": "markdown",
   "id": "1af9556b",
   "metadata": {},
   "source": [
    "# Getting the most solar power for your dollar\n",
    "## Model development\n",
    "### Zachary Brown\n",
    "\n",
    "I've loaded, cleaned, engineered, and split the dataset I'm using to determine how to optimize cost efficiency for a residential solar panel installation. Now I will screen a range of regression models to identify which gives the best results and refine it as best I can.\n",
    "\n",
    "I'll start by loading in my X_train and y_train sets so that I can begin training some models."
   ]
  },
  {
   "cell_type": "code",
   "execution_count": 2,
   "id": "425318db",
   "metadata": {},
   "outputs": [],
   "source": [
    "import os\n",
    "import numpy as np\n",
    "import pandas as pd\n",
    "import matplotlib.pyplot as plt\n",
    "import seaborn as sns\n",
    "sns.set_theme('notebook')\n",
    "from sklearn.model_selection import train_test_split\n",
    "from sklearn.preprocessing import StandardScaler\n",
    "from sklearn.model_selection import train_test_split\n",
    "from sklearn.linear_model import LinearRegression\n",
    "from sklearn.dummy import DummyRegressor\n",
    "from sklearn.metrics import mean_squared_error\n",
    "from sklearn.metrics import mean_absolute_error\n",
    "from sklearn.linear_model import Ridge\n",
    "from sklearn.model_selection import RandomizedSearchCV\n",
    "from sklearn import linear_model\n",
    "from scipy.stats import uniform as sp_randFloat\n",
    "from scipy.stats import randint as sp_randInt\n",
    "from sklearn.ensemble import RandomForestRegressor\n",
    "from xgboost import XGBRegressor\n",
    "import xgboost\n",
    "from sklearn import tree\n",
    "from sklearn.neural_network import MLPRegressor\n",
    "from sklearn.neighbors import KNeighborsRegressor\n",
    "import lightgbm as lgb"
   ]
  },
  {
   "cell_type": "code",
   "execution_count": 3,
   "id": "43272a7b",
   "metadata": {},
   "outputs": [
    {
     "name": "stdout",
     "output_type": "stream",
     "text": [
      "C:\\Users\\Zachary Brown\\Documents\\GitHub\\Solar-Panel-Capstone\\notebooks\n",
      "C:\\Users\\Zachary Brown\\Documents\\GitHub\\Solar-Panel-Capstone\\data\\processed\n"
     ]
    }
   ],
   "source": [
    "print(os.getcwd())\n",
    "os.chdir(r\"..\\data\\processed\")\n",
    "print(os.getcwd())"
   ]
  },
  {
   "cell_type": "code",
   "execution_count": 4,
   "id": "ad50049f",
   "metadata": {},
   "outputs": [
    {
     "data": {
      "text/html": [
       "<div>\n",
       "<style scoped>\n",
       "    .dataframe tbody tr th:only-of-type {\n",
       "        vertical-align: middle;\n",
       "    }\n",
       "\n",
       "    .dataframe tbody tr th {\n",
       "        vertical-align: top;\n",
       "    }\n",
       "\n",
       "    .dataframe thead th {\n",
       "        text-align: right;\n",
       "    }\n",
       "</style>\n",
       "<table border=\"1\" class=\"dataframe\">\n",
       "  <thead>\n",
       "    <tr style=\"text-align: right;\">\n",
       "      <th></th>\n",
       "      <th>system_size_dc</th>\n",
       "      <th>rebate_or_grant</th>\n",
       "      <th>expansion_system</th>\n",
       "      <th>third_party_owned</th>\n",
       "      <th>self_installed</th>\n",
       "      <th>tilt_1</th>\n",
       "      <th>additional_modules</th>\n",
       "      <th>bipv_module_1</th>\n",
       "      <th>efficiency_module_1</th>\n",
       "      <th>inverter_quantity_1</th>\n",
       "      <th>...</th>\n",
       "      <th>inverter_model_1_SE3800H-US (240V)</th>\n",
       "      <th>inverter_model_1_SE9KUS [208V]</th>\n",
       "      <th>inverter_model_1_IQ7XS-96-E-ACM-US [240V]</th>\n",
       "      <th>inverter_model_1_SE7600H-US (240V)</th>\n",
       "      <th>inverter_model_1_SB7.7-1SP-US-41 [240V]</th>\n",
       "      <th>inverter_model_1_SPR-X22-360-E-AC [208V]</th>\n",
       "      <th>inverter_model_1_SE11400H-US (240V)</th>\n",
       "      <th>inverter_model_1_IQ7-60-x-ACM-US [208V]</th>\n",
       "      <th>inverter_model_1_SE10000H-US (240V)</th>\n",
       "      <th>inverter_model_1_SB3.8-1SP-US-40 [208V]</th>\n",
       "    </tr>\n",
       "  </thead>\n",
       "  <tbody>\n",
       "    <tr>\n",
       "      <th>528206</th>\n",
       "      <td>4.023418</td>\n",
       "      <td>0.0</td>\n",
       "      <td>0</td>\n",
       "      <td>0.0</td>\n",
       "      <td>0.0</td>\n",
       "      <td>13.0</td>\n",
       "      <td>0.0</td>\n",
       "      <td>0.0</td>\n",
       "      <td>0.194444</td>\n",
       "      <td>13.0</td>\n",
       "      <td>...</td>\n",
       "      <td>0</td>\n",
       "      <td>0</td>\n",
       "      <td>0</td>\n",
       "      <td>0</td>\n",
       "      <td>0</td>\n",
       "      <td>0</td>\n",
       "      <td>0</td>\n",
       "      <td>0</td>\n",
       "      <td>0</td>\n",
       "      <td>0</td>\n",
       "    </tr>\n",
       "    <tr>\n",
       "      <th>539572</th>\n",
       "      <td>3.780000</td>\n",
       "      <td>0.0</td>\n",
       "      <td>0</td>\n",
       "      <td>1.0</td>\n",
       "      <td>0.0</td>\n",
       "      <td>18.0</td>\n",
       "      <td>0.0</td>\n",
       "      <td>0.0</td>\n",
       "      <td>0.194444</td>\n",
       "      <td>1.0</td>\n",
       "      <td>...</td>\n",
       "      <td>0</td>\n",
       "      <td>0</td>\n",
       "      <td>0</td>\n",
       "      <td>0</td>\n",
       "      <td>0</td>\n",
       "      <td>0</td>\n",
       "      <td>0</td>\n",
       "      <td>0</td>\n",
       "      <td>0</td>\n",
       "      <td>0</td>\n",
       "    </tr>\n",
       "    <tr>\n",
       "      <th>519356</th>\n",
       "      <td>2.279200</td>\n",
       "      <td>0.0</td>\n",
       "      <td>1</td>\n",
       "      <td>0.0</td>\n",
       "      <td>0.0</td>\n",
       "      <td>18.0</td>\n",
       "      <td>0.0</td>\n",
       "      <td>0.0</td>\n",
       "      <td>0.202532</td>\n",
       "      <td>7.0</td>\n",
       "      <td>...</td>\n",
       "      <td>0</td>\n",
       "      <td>0</td>\n",
       "      <td>0</td>\n",
       "      <td>0</td>\n",
       "      <td>0</td>\n",
       "      <td>0</td>\n",
       "      <td>0</td>\n",
       "      <td>0</td>\n",
       "      <td>0</td>\n",
       "      <td>0</td>\n",
       "    </tr>\n",
       "    <tr>\n",
       "      <th>1979031</th>\n",
       "      <td>5.440000</td>\n",
       "      <td>2500.0</td>\n",
       "      <td>0</td>\n",
       "      <td>0.0</td>\n",
       "      <td>0.0</td>\n",
       "      <td>18.0</td>\n",
       "      <td>0.0</td>\n",
       "      <td>0.0</td>\n",
       "      <td>0.197531</td>\n",
       "      <td>17.0</td>\n",
       "      <td>...</td>\n",
       "      <td>0</td>\n",
       "      <td>0</td>\n",
       "      <td>0</td>\n",
       "      <td>0</td>\n",
       "      <td>0</td>\n",
       "      <td>0</td>\n",
       "      <td>0</td>\n",
       "      <td>0</td>\n",
       "      <td>0</td>\n",
       "      <td>0</td>\n",
       "    </tr>\n",
       "    <tr>\n",
       "      <th>1531856</th>\n",
       "      <td>4.680000</td>\n",
       "      <td>0.0</td>\n",
       "      <td>0</td>\n",
       "      <td>0.0</td>\n",
       "      <td>0.0</td>\n",
       "      <td>41.0</td>\n",
       "      <td>0.0</td>\n",
       "      <td>0.0</td>\n",
       "      <td>0.198895</td>\n",
       "      <td>1.0</td>\n",
       "      <td>...</td>\n",
       "      <td>0</td>\n",
       "      <td>0</td>\n",
       "      <td>0</td>\n",
       "      <td>0</td>\n",
       "      <td>0</td>\n",
       "      <td>0</td>\n",
       "      <td>0</td>\n",
       "      <td>0</td>\n",
       "      <td>0</td>\n",
       "      <td>0</td>\n",
       "    </tr>\n",
       "  </tbody>\n",
       "</table>\n",
       "<p>5 rows × 400 columns</p>\n",
       "</div>"
      ],
      "text/plain": [
       "         system_size_dc  rebate_or_grant  expansion_system  third_party_owned  \\\n",
       "528206         4.023418              0.0                 0                0.0   \n",
       "539572         3.780000              0.0                 0                1.0   \n",
       "519356         2.279200              0.0                 1                0.0   \n",
       "1979031        5.440000           2500.0                 0                0.0   \n",
       "1531856        4.680000              0.0                 0                0.0   \n",
       "\n",
       "         self_installed  tilt_1  additional_modules  bipv_module_1  \\\n",
       "528206              0.0    13.0                 0.0            0.0   \n",
       "539572              0.0    18.0                 0.0            0.0   \n",
       "519356              0.0    18.0                 0.0            0.0   \n",
       "1979031             0.0    18.0                 0.0            0.0   \n",
       "1531856             0.0    41.0                 0.0            0.0   \n",
       "\n",
       "         efficiency_module_1  inverter_quantity_1  ...  \\\n",
       "528206              0.194444                 13.0  ...   \n",
       "539572              0.194444                  1.0  ...   \n",
       "519356              0.202532                  7.0  ...   \n",
       "1979031             0.197531                 17.0  ...   \n",
       "1531856             0.198895                  1.0  ...   \n",
       "\n",
       "         inverter_model_1_SE3800H-US (240V)  inverter_model_1_SE9KUS [208V]  \\\n",
       "528206                                    0                               0   \n",
       "539572                                    0                               0   \n",
       "519356                                    0                               0   \n",
       "1979031                                   0                               0   \n",
       "1531856                                   0                               0   \n",
       "\n",
       "         inverter_model_1_IQ7XS-96-E-ACM-US [240V]  \\\n",
       "528206                                           0   \n",
       "539572                                           0   \n",
       "519356                                           0   \n",
       "1979031                                          0   \n",
       "1531856                                          0   \n",
       "\n",
       "         inverter_model_1_SE7600H-US (240V)  \\\n",
       "528206                                    0   \n",
       "539572                                    0   \n",
       "519356                                    0   \n",
       "1979031                                   0   \n",
       "1531856                                   0   \n",
       "\n",
       "         inverter_model_1_SB7.7-1SP-US-41 [240V]  \\\n",
       "528206                                         0   \n",
       "539572                                         0   \n",
       "519356                                         0   \n",
       "1979031                                        0   \n",
       "1531856                                        0   \n",
       "\n",
       "         inverter_model_1_SPR-X22-360-E-AC [208V]  \\\n",
       "528206                                          0   \n",
       "539572                                          0   \n",
       "519356                                          0   \n",
       "1979031                                         0   \n",
       "1531856                                         0   \n",
       "\n",
       "         inverter_model_1_SE11400H-US (240V)  \\\n",
       "528206                                     0   \n",
       "539572                                     0   \n",
       "519356                                     0   \n",
       "1979031                                    0   \n",
       "1531856                                    0   \n",
       "\n",
       "         inverter_model_1_IQ7-60-x-ACM-US [208V]  \\\n",
       "528206                                         0   \n",
       "539572                                         0   \n",
       "519356                                         0   \n",
       "1979031                                        0   \n",
       "1531856                                        0   \n",
       "\n",
       "         inverter_model_1_SE10000H-US (240V)  \\\n",
       "528206                                     0   \n",
       "539572                                     0   \n",
       "519356                                     0   \n",
       "1979031                                    0   \n",
       "1531856                                    0   \n",
       "\n",
       "         inverter_model_1_SB3.8-1SP-US-40 [208V]  \n",
       "528206                                         0  \n",
       "539572                                         0  \n",
       "519356                                         0  \n",
       "1979031                                        0  \n",
       "1531856                                        0  \n",
       "\n",
       "[5 rows x 400 columns]"
      ]
     },
     "execution_count": 4,
     "metadata": {},
     "output_type": "execute_result"
    }
   ],
   "source": [
    "X_train = pd.read_csv('X_train.csv', index_col=0)\n",
    "y_train = pd.read_csv('y_train.csv', index_col=0)\n",
    "X_train.head()"
   ]
  },
  {
   "cell_type": "code",
   "execution_count": 5,
   "id": "fc80ed6f",
   "metadata": {},
   "outputs": [
    {
     "data": {
      "text/plain": [
       "((156192, 400), (156192, 1))"
      ]
     },
     "execution_count": 5,
     "metadata": {},
     "output_type": "execute_result"
    }
   ],
   "source": [
    "X_train.shape, y_train.shape"
   ]
  },
  {
   "cell_type": "code",
   "execution_count": 6,
   "id": "45d76e6d",
   "metadata": {},
   "outputs": [
    {
     "data": {
      "text/plain": [
       "Index(['system_size_dc', 'rebate_or_grant', 'expansion_system',\n",
       "       'third_party_owned', 'self_installed', 'tilt_1', 'additional_modules',\n",
       "       'bipv_module_1', 'efficiency_module_1', 'inverter_quantity_1',\n",
       "       ...\n",
       "       'inverter_model_1_SE3800H-US (240V)', 'inverter_model_1_SE9KUS [208V]',\n",
       "       'inverter_model_1_IQ7XS-96-E-ACM-US [240V]',\n",
       "       'inverter_model_1_SE7600H-US (240V)',\n",
       "       'inverter_model_1_SB7.7-1SP-US-41 [240V]',\n",
       "       'inverter_model_1_SPR-X22-360-E-AC [208V]',\n",
       "       'inverter_model_1_SE11400H-US (240V)',\n",
       "       'inverter_model_1_IQ7-60-x-ACM-US [208V]',\n",
       "       'inverter_model_1_SE10000H-US (240V)',\n",
       "       'inverter_model_1_SB3.8-1SP-US-40 [208V]'],\n",
       "      dtype='object', length=400)"
      ]
     },
     "execution_count": 6,
     "metadata": {},
     "output_type": "execute_result"
    }
   ],
   "source": [
    "X_train.columns"
   ]
  },
  {
   "cell_type": "markdown",
   "id": "9dcaca9d",
   "metadata": {},
   "source": [
    "First I'm going to train a few dummy regression models to see how they performs and to set a benchmark of what I should consider a useful model. Since there isn't any reason large outliers should be extra harshly penalized, I'm going to rank the models based on mean absolute error (MAE), while plotting both MAE and root mean squared error (RMSE)."
   ]
  },
  {
   "cell_type": "code",
   "execution_count": 7,
   "id": "ca3dc3e9",
   "metadata": {},
   "outputs": [
    {
     "data": {
      "text/plain": [
       "((31238, 400), (124954, 400), (31238, 1), (124954, 1))"
      ]
     },
     "execution_count": 7,
     "metadata": {},
     "output_type": "execute_result"
    }
   ],
   "source": [
    "x_tr, x_te, y_tr, y_te = train_test_split(X_train, y_train, test_size=0.8)\n",
    "x_tr.shape, x_te.shape, y_tr.shape, y_te.shape"
   ]
  },
  {
   "cell_type": "code",
   "execution_count": 8,
   "id": "a8331642",
   "metadata": {},
   "outputs": [],
   "source": [
    "# Reshape y_train for model fitting\n",
    "y_tr = y_tr.values.ravel()\n",
    "y_te = y_te.values.ravel()"
   ]
  },
  {
   "cell_type": "code",
   "execution_count": 8,
   "id": "ae01d98a",
   "metadata": {},
   "outputs": [
    {
     "name": "stdout",
     "output_type": "stream",
     "text": [
      "55122254.790286995\n"
     ]
    }
   ],
   "source": [
    "# Using the mean of the training set\n",
    "dummy_mean = DummyRegressor(strategy=\"mean\")\n",
    "dummy_mean.fit(x_tr, y_tr)\n",
    "y_pred = dummy_mean.predict(x_te)\n",
    "train_scores = {'Mean Dummy Regressor' : mean_squared_error(y_te, y_pred)}\n",
    "print(mean_squared_error(y_te, y_pred))"
   ]
  },
  {
   "cell_type": "code",
   "execution_count": 9,
   "id": "125351c4",
   "metadata": {},
   "outputs": [
    {
     "name": "stdout",
     "output_type": "stream",
     "text": [
      "55164857.971142314\n"
     ]
    }
   ],
   "source": [
    "# Using the median of the training set\n",
    "dummy_median = DummyRegressor(strategy=\"median\")\n",
    "dummy_median.fit(x_tr, y_tr)\n",
    "y_pred = dummy_median.predict(x_te)\n",
    "train_scores['Median Dummy Regressor'] = mean_squared_error(y_te, y_pred)\n",
    "print(mean_squared_error(y_te, y_pred))"
   ]
  },
  {
   "cell_type": "code",
   "execution_count": 10,
   "id": "90ab6a9e",
   "metadata": {},
   "outputs": [
    {
     "name": "stdout",
     "output_type": "stream",
     "text": [
      "55924623.26652007\n"
     ]
    }
   ],
   "source": [
    "# One final dummy regressor using the 25th quantile of the training set\n",
    "dummy_quantile = DummyRegressor(strategy=\"quantile\", quantile = 0.25)\n",
    "dummy_quantile.fit(x_tr, y_tr)\n",
    "y_pred = dummy_quantile.predict(x_te)\n",
    "train_scores['25th Quantile Dummy Regressor'] = mean_squared_error(y_te, y_pred)\n",
    "print(mean_squared_error(y_te, y_pred))"
   ]
  },
  {
   "cell_type": "markdown",
   "id": "0139a643",
   "metadata": {},
   "source": [
    "Now that I have some base RMSE values that give me a cutoff for whether my models are effective or not, I'll begin with an ordinary least squares model."
   ]
  },
  {
   "cell_type": "code",
   "execution_count": 11,
   "id": "1f38dd5e",
   "metadata": {},
   "outputs": [
    {
     "name": "stdout",
     "output_type": "stream",
     "text": [
      "4.0087382954495144e+16\n"
     ]
    }
   ],
   "source": [
    "ols = LinearRegression()\n",
    "ols.fit(x_tr, y_tr)\n",
    "y_pred = ols.predict(x_te)\n",
    "train_scores['OLS'] = mean_squared_error(y_te, y_pred)\n",
    "print(mean_squared_error(y_te, y_pred))"
   ]
  },
  {
   "cell_type": "markdown",
   "id": "cf9f2d9e",
   "metadata": {},
   "source": [
    "As expected, OLS produces a big improvement over the dummy regressors. I'll take a look at ridge regression to see if it will generate a better model."
   ]
  },
  {
   "cell_type": "code",
   "execution_count": 16,
   "id": "9e90b26b",
   "metadata": {},
   "outputs": [
    {
     "data": {
      "text/plain": [
       "{'alpha': 63.38753065382816}"
      ]
     },
     "execution_count": 16,
     "metadata": {},
     "output_type": "execute_result"
    }
   ],
   "source": [
    "parameters = {'alpha': sp_randFloat(2,100)}\n",
    "ridge = Ridge(random_state = 12)\n",
    "ridge_reg = RandomizedSearchCV(ridge, parameters,scoring=['neg_root_mean_squared_error', 'neg_mean_absolute_error'],\\\n",
    "                               refit='neg_root_mean_squared_error', n_iter=60, cv=5)\n",
    "random_ridge = ridge_reg.fit(x_tr, y_tr)\n",
    "random_ridge.best_params_"
   ]
  },
  {
   "cell_type": "code",
   "execution_count": 17,
   "id": "1f971519",
   "metadata": {},
   "outputs": [
    {
     "data": {
      "text/plain": [
       "Index(['mean_fit_time', 'std_fit_time', 'mean_score_time', 'std_score_time',\n",
       "       'param_alpha', 'params', 'split0_test_neg_root_mean_squared_error',\n",
       "       'split1_test_neg_root_mean_squared_error',\n",
       "       'split2_test_neg_root_mean_squared_error',\n",
       "       'split3_test_neg_root_mean_squared_error',\n",
       "       'split4_test_neg_root_mean_squared_error',\n",
       "       'mean_test_neg_root_mean_squared_error',\n",
       "       'std_test_neg_root_mean_squared_error',\n",
       "       'rank_test_neg_root_mean_squared_error',\n",
       "       'split0_test_neg_mean_absolute_error',\n",
       "       'split1_test_neg_mean_absolute_error',\n",
       "       'split2_test_neg_mean_absolute_error',\n",
       "       'split3_test_neg_mean_absolute_error',\n",
       "       'split4_test_neg_mean_absolute_error',\n",
       "       'mean_test_neg_mean_absolute_error', 'std_test_neg_mean_absolute_error',\n",
       "       'rank_test_neg_mean_absolute_error'],\n",
       "      dtype='object')"
      ]
     },
     "execution_count": 17,
     "metadata": {},
     "output_type": "execute_result"
    }
   ],
   "source": [
    "random_ridge_results = pd.DataFrame(random_ridge.cv_results_)\n",
    "random_ridge_results.columns"
   ]
  },
  {
   "cell_type": "code",
   "execution_count": 18,
   "id": "b8333d6d",
   "metadata": {
    "scrolled": false
   },
   "outputs": [
    {
     "data": {
      "image/png": "[encoded data removed]",
      "text/plain": [
       "<Figure size 432x288 with 2 Axes>"
      ]
     },
     "metadata": {},
     "output_type": "display_data"
    }
   ],
   "source": [
    "fig, ax = plt.subplots()\n",
    "ax.plot(random_ridge_results['param_alpha'], random_ridge_results['mean_test_neg_root_mean_squared_error'], color='r',\\\n",
    "        marker='o', linestyle='none', alpha=0.7)\n",
    "plt.title('Ridge Scoring')\n",
    "ax.set_xlabel('Alpha')\n",
    "ax.set_ylabel('Mean Negative RMSE')\n",
    "ax2 = ax.twinx()\n",
    "ax2.plot(random_ridge_results['param_alpha'], random_ridge_results['mean_test_neg_mean_absolute_error'], color='b',\\\n",
    "         marker='d', linestyle='none', alpha=0.7)\n",
    "ax2.set_ylabel('Mean Negative MAE')\n",
    "plt.show()"
   ]
  },
  {
   "cell_type": "markdown",
   "id": "8890effc",
   "metadata": {},
   "source": [
    "Now that I have an idea of where the optimal alpha value lies for the ridge regression I'll fit an optimized ridge to the train data and add the RMSE to my collection of scores."
   ]
  },
  {
   "cell_type": "code",
   "execution_count": 19,
   "id": "d7b3bb8e",
   "metadata": {},
   "outputs": [
    {
     "name": "stdout",
     "output_type": "stream",
     "text": [
      "54623089.553966075\n"
     ]
    }
   ],
   "source": [
    "ridge=Ridge(alpha=random_ridge.best_params_['alpha'], random_state = 12)\n",
    "ridge.fit(x_tr, y_tr)\n",
    "y_pred = ridge.predict(x_te)\n",
    "train_scores['Ridge'] = mean_squared_error(y_te, y_pred)\n",
    "print(mean_squared_error(y_te, y_pred))"
   ]
  },
  {
   "cell_type": "markdown",
   "id": "ea38838f",
   "metadata": {},
   "source": [
    "So ridge regression performs almost the exact same as OLS, good to know. Next I'll identify the best alpha for a lasso regression to compare that against the OLS and ridge models."
   ]
  },
  {
   "cell_type": "code",
   "execution_count": 20,
   "id": "1a283ce6",
   "metadata": {},
   "outputs": [
    {
     "data": {
      "text/plain": [
       "{'alpha': 99.83738380592261}"
      ]
     },
     "execution_count": 20,
     "metadata": {},
     "output_type": "execute_result"
    }
   ],
   "source": [
    "parameters = {'alpha': sp_randFloat(1,100)}\n",
    "lasso = linear_model.Lasso(random_state = 12)\n",
    "rand = RandomizedSearchCV(lasso, parameters, scoring=['neg_root_mean_squared_error', 'neg_mean_absolute_error'],\\\n",
    "                          refit='neg_root_mean_squared_error', n_iter=60, cv=5, random_state=0)\n",
    "rand_lasso = rand.fit(x_tr, y_tr)\n",
    "rand_lasso.best_params_"
   ]
  },
  {
   "cell_type": "code",
   "execution_count": 21,
   "id": "b74c3a6d",
   "metadata": {},
   "outputs": [
    {
     "data": {
      "text/html": [
       "<div>\n",
       "<style scoped>\n",
       "    .dataframe tbody tr th:only-of-type {\n",
       "        vertical-align: middle;\n",
       "    }\n",
       "\n",
       "    .dataframe tbody tr th {\n",
       "        vertical-align: top;\n",
       "    }\n",
       "\n",
       "    .dataframe thead th {\n",
       "        text-align: right;\n",
       "    }\n",
       "</style>\n",
       "<table border=\"1\" class=\"dataframe\">\n",
       "  <thead>\n",
       "    <tr style=\"text-align: right;\">\n",
       "      <th></th>\n",
       "      <th>mean_fit_time</th>\n",
       "      <th>std_fit_time</th>\n",
       "      <th>mean_score_time</th>\n",
       "      <th>std_score_time</th>\n",
       "      <th>param_alpha</th>\n",
       "      <th>params</th>\n",
       "      <th>split0_test_neg_root_mean_squared_error</th>\n",
       "      <th>split1_test_neg_root_mean_squared_error</th>\n",
       "      <th>split2_test_neg_root_mean_squared_error</th>\n",
       "      <th>split3_test_neg_root_mean_squared_error</th>\n",
       "      <th>...</th>\n",
       "      <th>std_test_neg_root_mean_squared_error</th>\n",
       "      <th>rank_test_neg_root_mean_squared_error</th>\n",
       "      <th>split0_test_neg_mean_absolute_error</th>\n",
       "      <th>split1_test_neg_mean_absolute_error</th>\n",
       "      <th>split2_test_neg_mean_absolute_error</th>\n",
       "      <th>split3_test_neg_mean_absolute_error</th>\n",
       "      <th>split4_test_neg_mean_absolute_error</th>\n",
       "      <th>mean_test_neg_mean_absolute_error</th>\n",
       "      <th>std_test_neg_mean_absolute_error</th>\n",
       "      <th>rank_test_neg_mean_absolute_error</th>\n",
       "    </tr>\n",
       "  </thead>\n",
       "  <tbody>\n",
       "    <tr>\n",
       "      <th>0</th>\n",
       "      <td>0.230251</td>\n",
       "      <td>0.018218</td>\n",
       "      <td>0.016783</td>\n",
       "      <td>0.001580</td>\n",
       "      <td>55.88135</td>\n",
       "      <td>{'alpha': 55.88135039273247}</td>\n",
       "      <td>-1778.783325</td>\n",
       "      <td>-2316.100983</td>\n",
       "      <td>-1990.014417</td>\n",
       "      <td>-26073.907118</td>\n",
       "      <td>...</td>\n",
       "      <td>9652.946395</td>\n",
       "      <td>30</td>\n",
       "      <td>-1064.134343</td>\n",
       "      <td>-1073.066018</td>\n",
       "      <td>-1058.403063</td>\n",
       "      <td>-1354.992104</td>\n",
       "      <td>-1084.250732</td>\n",
       "      <td>-1126.969252</td>\n",
       "      <td>114.345441</td>\n",
       "      <td>59</td>\n",
       "    </tr>\n",
       "    <tr>\n",
       "      <th>1</th>\n",
       "      <td>0.224321</td>\n",
       "      <td>0.010472</td>\n",
       "      <td>0.017194</td>\n",
       "      <td>0.003007</td>\n",
       "      <td>72.518937</td>\n",
       "      <td>{'alpha': 72.51893663724195}</td>\n",
       "      <td>-1755.605549</td>\n",
       "      <td>-2276.626032</td>\n",
       "      <td>-1968.370161</td>\n",
       "      <td>-26073.698711</td>\n",
       "      <td>...</td>\n",
       "      <td>9667.755014</td>\n",
       "      <td>15</td>\n",
       "      <td>-1062.736949</td>\n",
       "      <td>-1065.153194</td>\n",
       "      <td>-1058.676555</td>\n",
       "      <td>-1365.679364</td>\n",
       "      <td>-1073.102611</td>\n",
       "      <td>-1125.069734</td>\n",
       "      <td>120.396842</td>\n",
       "      <td>35</td>\n",
       "    </tr>\n",
       "    <tr>\n",
       "      <th>2</th>\n",
       "      <td>0.212352</td>\n",
       "      <td>0.008954</td>\n",
       "      <td>0.016452</td>\n",
       "      <td>0.002363</td>\n",
       "      <td>61.276338</td>\n",
       "      <td>{'alpha': 61.276337607164386}</td>\n",
       "      <td>-1769.698297</td>\n",
       "      <td>-2299.358502</td>\n",
       "      <td>-1980.163746</td>\n",
       "      <td>-26073.814143</td>\n",
       "      <td>...</td>\n",
       "      <td>9659.142686</td>\n",
       "      <td>26</td>\n",
       "      <td>-1064.776500</td>\n",
       "      <td>-1070.772200</td>\n",
       "      <td>-1058.804994</td>\n",
       "      <td>-1358.609329</td>\n",
       "      <td>-1081.547105</td>\n",
       "      <td>-1126.902026</td>\n",
       "      <td>116.097103</td>\n",
       "      <td>49</td>\n",
       "    </tr>\n",
       "    <tr>\n",
       "      <th>3</th>\n",
       "      <td>0.221808</td>\n",
       "      <td>0.024047</td>\n",
       "      <td>0.015642</td>\n",
       "      <td>0.002750</td>\n",
       "      <td>55.488318</td>\n",
       "      <td>{'alpha': 55.48831829968969}</td>\n",
       "      <td>-1779.598288</td>\n",
       "      <td>-2317.445115</td>\n",
       "      <td>-1990.881971</td>\n",
       "      <td>-26073.908339</td>\n",
       "      <td>...</td>\n",
       "      <td>9652.428065</td>\n",
       "      <td>31</td>\n",
       "      <td>-1064.114435</td>\n",
       "      <td>-1073.223612</td>\n",
       "      <td>-1058.393744</td>\n",
       "      <td>-1354.676868</td>\n",
       "      <td>-1084.446553</td>\n",
       "      <td>-1126.971042</td>\n",
       "      <td>114.193573</td>\n",
       "      <td>60</td>\n",
       "    </tr>\n",
       "    <tr>\n",
       "      <th>4</th>\n",
       "      <td>0.232735</td>\n",
       "      <td>0.010240</td>\n",
       "      <td>0.014612</td>\n",
       "      <td>0.002709</td>\n",
       "      <td>43.36548</td>\n",
       "      <td>{'alpha': 43.36547993389047}</td>\n",
       "      <td>-1815.457927</td>\n",
       "      <td>-2369.168169</td>\n",
       "      <td>-2028.818084</td>\n",
       "      <td>-26073.792454</td>\n",
       "      <td>...</td>\n",
       "      <td>9631.188085</td>\n",
       "      <td>40</td>\n",
       "      <td>-1062.127967</td>\n",
       "      <td>-1075.736468</td>\n",
       "      <td>-1060.382285</td>\n",
       "      <td>-1337.184954</td>\n",
       "      <td>-1089.941279</td>\n",
       "      <td>-1125.074591</td>\n",
       "      <td>106.589660</td>\n",
       "      <td>36</td>\n",
       "    </tr>\n",
       "  </tbody>\n",
       "</table>\n",
       "<p>5 rows × 22 columns</p>\n",
       "</div>"
      ],
      "text/plain": [
       "   mean_fit_time  std_fit_time  mean_score_time  std_score_time param_alpha  \\\n",
       "0       0.230251      0.018218         0.016783        0.001580    55.88135   \n",
       "1       0.224321      0.010472         0.017194        0.003007   72.518937   \n",
       "2       0.212352      0.008954         0.016452        0.002363   61.276338   \n",
       "3       0.221808      0.024047         0.015642        0.002750   55.488318   \n",
       "4       0.232735      0.010240         0.014612        0.002709    43.36548   \n",
       "\n",
       "                          params  split0_test_neg_root_mean_squared_error  \\\n",
       "0   {'alpha': 55.88135039273247}                             -1778.783325   \n",
       "1   {'alpha': 72.51893663724195}                             -1755.605549   \n",
       "2  {'alpha': 61.276337607164386}                             -1769.698297   \n",
       "3   {'alpha': 55.48831829968969}                             -1779.598288   \n",
       "4   {'alpha': 43.36547993389047}                             -1815.457927   \n",
       "\n",
       "   split1_test_neg_root_mean_squared_error  \\\n",
       "0                             -2316.100983   \n",
       "1                             -2276.626032   \n",
       "2                             -2299.358502   \n",
       "3                             -2317.445115   \n",
       "4                             -2369.168169   \n",
       "\n",
       "   split2_test_neg_root_mean_squared_error  \\\n",
       "0                             -1990.014417   \n",
       "1                             -1968.370161   \n",
       "2                             -1980.163746   \n",
       "3                             -1990.881971   \n",
       "4                             -2028.818084   \n",
       "\n",
       "   split3_test_neg_root_mean_squared_error  ...  \\\n",
       "0                            -26073.907118  ...   \n",
       "1                            -26073.698711  ...   \n",
       "2                            -26073.814143  ...   \n",
       "3                            -26073.908339  ...   \n",
       "4                            -26073.792454  ...   \n",
       "\n",
       "   std_test_neg_root_mean_squared_error  \\\n",
       "0                           9652.946395   \n",
       "1                           9667.755014   \n",
       "2                           9659.142686   \n",
       "3                           9652.428065   \n",
       "4                           9631.188085   \n",
       "\n",
       "   rank_test_neg_root_mean_squared_error  split0_test_neg_mean_absolute_error  \\\n",
       "0                                     30                         -1064.134343   \n",
       "1                                     15                         -1062.736949   \n",
       "2                                     26                         -1064.776500   \n",
       "3                                     31                         -1064.114435   \n",
       "4                                     40                         -1062.127967   \n",
       "\n",
       "   split1_test_neg_mean_absolute_error  split2_test_neg_mean_absolute_error  \\\n",
       "0                         -1073.066018                         -1058.403063   \n",
       "1                         -1065.153194                         -1058.676555   \n",
       "2                         -1070.772200                         -1058.804994   \n",
       "3                         -1073.223612                         -1058.393744   \n",
       "4                         -1075.736468                         -1060.382285   \n",
       "\n",
       "   split3_test_neg_mean_absolute_error  split4_test_neg_mean_absolute_error  \\\n",
       "0                         -1354.992104                         -1084.250732   \n",
       "1                         -1365.679364                         -1073.102611   \n",
       "2                         -1358.609329                         -1081.547105   \n",
       "3                         -1354.676868                         -1084.446553   \n",
       "4                         -1337.184954                         -1089.941279   \n",
       "\n",
       "   mean_test_neg_mean_absolute_error  std_test_neg_mean_absolute_error  \\\n",
       "0                       -1126.969252                        114.345441   \n",
       "1                       -1125.069734                        120.396842   \n",
       "2                       -1126.902026                        116.097103   \n",
       "3                       -1126.971042                        114.193573   \n",
       "4                       -1125.074591                        106.589660   \n",
       "\n",
       "   rank_test_neg_mean_absolute_error  \n",
       "0                                 59  \n",
       "1                                 35  \n",
       "2                                 49  \n",
       "3                                 60  \n",
       "4                                 36  \n",
       "\n",
       "[5 rows x 22 columns]"
      ]
     },
     "execution_count": 21,
     "metadata": {},
     "output_type": "execute_result"
    }
   ],
   "source": [
    "rand_lasso_params = pd.DataFrame(rand_lasso.cv_results_)\n",
    "rand_lasso_params.head()"
   ]
  },
  {
   "cell_type": "code",
   "execution_count": 22,
   "id": "03c51a20",
   "metadata": {},
   "outputs": [
    {
     "name": "stderr",
     "output_type": "stream",
     "text": [
      "C:\\Users\\Zachary Brown\\AppData\\Local\\Temp\\ipykernel_13624\\915681421.py:12: UserWarning: The handle <matplotlib.lines.Line2D object at 0x00000175300966A0> has a label of '_child0' which cannot be automatically added to the legend.\n",
      "  ax.legend(axs, labs, loc=0)\n",
      "C:\\Users\\Zachary Brown\\AppData\\Local\\Temp\\ipykernel_13624\\915681421.py:12: UserWarning: The handle <matplotlib.lines.Line2D object at 0x000001752FF6C310> has a label of '_child0' which cannot be automatically added to the legend.\n",
      "  ax.legend(axs, labs, loc=0)\n"
     ]
    },
    {
     "data": {
      "image/png": "[encoded data removed]",
      "text/plain": [
       "<Figure size 640x480 with 2 Axes>"
      ]
     },
     "metadata": {},
     "output_type": "display_data"
    }
   ],
   "source": [
    "fig, ax = plt.subplots()\n",
    "\n",
    "a1 = ax.plot(rand_lasso_params['param_alpha'], rand_lasso_params['mean_test_neg_root_mean_squared_error'], color='r',\\\n",
    "        marker='o', linestyle='none', alpha=0.7)\n",
    "\n",
    "ax2 = ax.twinx()\n",
    "a2 = ax2.plot(rand_lasso_params['param_alpha'], rand_lasso_params['mean_test_neg_mean_absolute_error'], color='b',\\\n",
    "         marker='d', linestyle='none', alpha=0.7)\n",
    "\n",
    "axs = a1+a2\n",
    "labs = [a.get_label() for a in axs]\n",
    "ax.legend(axs, labs, loc=0)\n",
    "\n",
    "plt.title('Lasso Scoring')\n",
    "ax.set_xlabel('Alpha')\n",
    "ax.set_ylabel('Mean Negative RMSE')\n",
    "ax2.set_ylabel('Mean Negative MAE')\n",
    "\n",
    "plt.show()"
   ]
  },
  {
   "cell_type": "code",
   "execution_count": 23,
   "id": "c5020b0f",
   "metadata": {},
   "outputs": [
    {
     "ename": "NameError",
     "evalue": "name 'train_scores' is not defined",
     "output_type": "error",
     "traceback": [
      "\u001b[1;31m---------------------------------------------------------------------------\u001b[0m",
      "\u001b[1;31mNameError\u001b[0m                                 Traceback (most recent call last)",
      "Cell \u001b[1;32mIn [23], line 4\u001b[0m\n\u001b[0;32m      2\u001b[0m lasso\u001b[38;5;241m.\u001b[39mfit(x_tr, y_tr)\n\u001b[0;32m      3\u001b[0m y_pred \u001b[38;5;241m=\u001b[39m lasso\u001b[38;5;241m.\u001b[39mpredict(x_te)\n\u001b[1;32m----> 4\u001b[0m \u001b[43mtrain_scores\u001b[49m[\u001b[38;5;124m'\u001b[39m\u001b[38;5;124mLasso\u001b[39m\u001b[38;5;124m'\u001b[39m] \u001b[38;5;241m=\u001b[39m mean_squared_error(y_te, y_pred)\n\u001b[0;32m      5\u001b[0m \u001b[38;5;28mprint\u001b[39m(mean_squared_error(y_te, y_pred))\n",
      "\u001b[1;31mNameError\u001b[0m: name 'train_scores' is not defined"
     ]
    }
   ],
   "source": [
    "lasso = linear_model.Lasso(alpha=rand_lasso.best_params_['alpha'], random_state = 12)\n",
    "lasso.fit(x_tr, y_tr)\n",
    "y_pred = lasso.predict(x_te)\n",
    "train_scores['Lasso'] = mean_squared_error(y_te, y_pred)\n",
    "print(mean_squared_error(y_te, y_pred))"
   ]
  },
  {
   "cell_type": "markdown",
   "id": "b275cfb3",
   "metadata": {},
   "source": [
    "Again, almost the exact same performance relative to ridge and OLS regression. Next I'm going to take a look at random forest and see if that can produce a significant reduction in MAE."
   ]
  },
  {
   "cell_type": "code",
   "execution_count": 24,
   "id": "acc83133",
   "metadata": {},
   "outputs": [
    {
     "data": {
      "text/plain": [
       "{'max_depth': 9,\n",
       " 'max_features': 0.6943250674615364,\n",
       " 'min_samples_leaf': 608,\n",
       " 'n_estimators': 990}"
      ]
     },
     "execution_count": 24,
     "metadata": {},
     "output_type": "execute_result"
    }
   ],
   "source": [
    "parameters = {'n_estimators': sp_randInt(10,1000),\n",
    "             'max_features': sp_randFloat(0.01, 1),\n",
    "             'max_depth': sp_randInt(2,10),\n",
    "             'min_samples_leaf': sp_randInt(400,10000),\n",
    "             }\n",
    "forest = RandomForestRegressor(n_jobs=-1, random_state=12)\n",
    "forest_reg = RandomizedSearchCV(forest, parameters, scoring=['neg_root_mean_squared_error', 'neg_mean_absolute_error'],\\\n",
    "                                refit='neg_root_mean_squared_error', n_iter=60, cv=5, random_state=12)\n",
    "rand_forest = forest_reg.fit(x_tr, y_tr)\n",
    "rand_forest.best_params_"
   ]
  },
  {
   "cell_type": "code",
   "execution_count": 25,
   "id": "b817c106",
   "metadata": {},
   "outputs": [
    {
     "data": {
      "text/plain": [
       "Index(['mean_fit_time', 'std_fit_time', 'mean_score_time', 'std_score_time',\n",
       "       'param_max_depth', 'param_max_features', 'param_min_samples_leaf',\n",
       "       'param_n_estimators', 'params',\n",
       "       'split0_test_neg_root_mean_squared_error',\n",
       "       'split1_test_neg_root_mean_squared_error',\n",
       "       'split2_test_neg_root_mean_squared_error',\n",
       "       'split3_test_neg_root_mean_squared_error',\n",
       "       'split4_test_neg_root_mean_squared_error',\n",
       "       'mean_test_neg_root_mean_squared_error',\n",
       "       'std_test_neg_root_mean_squared_error',\n",
       "       'rank_test_neg_root_mean_squared_error',\n",
       "       'split0_test_neg_mean_absolute_error',\n",
       "       'split1_test_neg_mean_absolute_error',\n",
       "       'split2_test_neg_mean_absolute_error',\n",
       "       'split3_test_neg_mean_absolute_error',\n",
       "       'split4_test_neg_mean_absolute_error',\n",
       "       'mean_test_neg_mean_absolute_error', 'std_test_neg_mean_absolute_error',\n",
       "       'rank_test_neg_mean_absolute_error'],\n",
       "      dtype='object')"
      ]
     },
     "execution_count": 25,
     "metadata": {},
     "output_type": "execute_result"
    }
   ],
   "source": [
    "rand_forest_params = pd.DataFrame(rand_forest.cv_results_)\n",
    "rand_forest_params.columns"
   ]
  },
  {
   "cell_type": "code",
   "execution_count": 26,
   "id": "da75d6ac",
   "metadata": {},
   "outputs": [
    {
     "data": {
      "image/png": "[encoded data removed]",
      "text/plain": [
       "<Figure size 432x288 with 1 Axes>"
      ]
     },
     "metadata": {},
     "output_type": "display_data"
    }
   ],
   "source": [
    "sns.scatterplot(data=rand_forest_params, x='param_max_depth', y='mean_test_neg_root_mean_squared_error')\n",
    "plt.show()"
   ]
  },
  {
   "cell_type": "code",
   "execution_count": 27,
   "id": "dd4712b3",
   "metadata": {},
   "outputs": [
    {
     "data": {
      "image/png": "[encoded data removed]",
      "text/plain": [
       "<Figure size 432x288 with 1 Axes>"
      ]
     },
     "metadata": {},
     "output_type": "display_data"
    }
   ],
   "source": [
    "sns.scatterplot(data=rand_forest_params, x='param_max_features', y='mean_test_neg_root_mean_squared_error')\n",
    "plt.show()"
   ]
  },
  {
   "cell_type": "code",
   "execution_count": 28,
   "id": "ae967ab0",
   "metadata": {},
   "outputs": [
    {
     "data": {
      "image/png": "[encoded data removed]",
      "text/plain": [
       "<Figure size 432x288 with 1 Axes>"
      ]
     },
     "metadata": {},
     "output_type": "display_data"
    }
   ],
   "source": [
    "sns.scatterplot(data=rand_forest_params, x='param_min_samples_leaf', y='mean_test_neg_root_mean_squared_error')\n",
    "plt.show()"
   ]
  },
  {
   "cell_type": "code",
   "execution_count": 29,
   "id": "705992a0",
   "metadata": {},
   "outputs": [
    {
     "data": {
      "image/png": "[encoded data removed]",
      "text/plain": [
       "<Figure size 432x288 with 1 Axes>"
      ]
     },
     "metadata": {},
     "output_type": "display_data"
    }
   ],
   "source": [
    "sns.scatterplot(data=rand_forest_params, x='param_n_estimators', y='mean_test_neg_root_mean_squared_error')\n",
    "plt.show()"
   ]
  },
  {
   "cell_type": "code",
   "execution_count": 30,
   "id": "91480403",
   "metadata": {},
   "outputs": [
    {
     "data": {
      "text/plain": [
       "{'min_samples_leaf': 50, 'n_estimators': 941}"
      ]
     },
     "execution_count": 30,
     "metadata": {},
     "output_type": "execute_result"
    }
   ],
   "source": [
    "parameters = {\n",
    "             'min_samples_leaf': sp_randInt(1,2000),\n",
    "             'n_estimators': sp_randInt(800,1100)\n",
    "             }\n",
    "forest = RandomForestRegressor(max_features=rand_forest.best_params_['max_features'],\\\n",
    "                               max_depth=rand_forest.best_params_['max_depth'], n_jobs=-1, random_state=12)\n",
    "forest_reg = RandomizedSearchCV(forest, parameters, scoring=['neg_root_mean_squared_error', 'neg_mean_absolute_error'],\\\n",
    "                                refit='neg_root_mean_squared_error', n_iter=60, cv=5, random_state=12)\n",
    "random_forest = forest_reg.fit(x_tr, y_tr)\n",
    "random_forest.best_params_"
   ]
  },
  {
   "cell_type": "code",
   "execution_count": 31,
   "id": "1dcb6ebf",
   "metadata": {
    "scrolled": true
   },
   "outputs": [
    {
     "data": {
      "text/plain": [
       "54529920.36273953"
      ]
     },
     "execution_count": 31,
     "metadata": {},
     "output_type": "execute_result"
    }
   ],
   "source": [
    "opt_forest = RandomForestRegressor(n_estimators=rand_forest.best_params_['n_estimators'],\\\n",
    "                                   max_features=rand_forest.best_params_['max_features'],\\\n",
    "                                   min_samples_leaf=random_forest.best_params_['min_samples_leaf'],\\\n",
    "                                   max_depth=rand_forest.best_params_['max_depth'], n_jobs = -1, random_state=12)\n",
    "opt_forest.fit(x_tr, y_tr)\n",
    "y_pred = opt_forest.predict(x_te)\n",
    "train_scores['Random Forest'] = mean_squared_error(y_te, y_pred)\n",
    "mean_squared_error(y_te, y_pred)"
   ]
  },
  {
   "cell_type": "markdown",
   "id": "4999b9db",
   "metadata": {},
   "source": [
    "Nice, random forest improved upon the other models very significantly. I'll take a look at XGBoost next to see if it can improve even further."
   ]
  },
  {
   "cell_type": "code",
   "execution_count": 13,
   "id": "b14948ea",
   "metadata": {},
   "outputs": [
    {
     "name": "stderr",
     "output_type": "stream",
     "text": [
      "C:\\Users\\Zachary Brown\\AppData\\Local\\Temp\\ipykernel_13624\\455639707.py:1: FutureWarning: The default value of regex will change from True to False in a future version. In addition, single character regular expressions will *not* be treated as literal strings when regex=True.\n",
      "  x_tr.columns = x_tr.columns.str.replace('[', '_')\n",
      "C:\\Users\\Zachary Brown\\AppData\\Local\\Temp\\ipykernel_13624\\455639707.py:2: FutureWarning: The default value of regex will change from True to False in a future version. In addition, single character regular expressions will *not* be treated as literal strings when regex=True.\n",
      "  x_tr.columns = x_tr.columns.str.replace(']', '_')\n",
      "C:\\Users\\Zachary Brown\\AppData\\Local\\Temp\\ipykernel_13624\\455639707.py:5: FutureWarning: The default value of regex will change from True to False in a future version. In addition, single character regular expressions will *not* be treated as literal strings when regex=True.\n",
      "  x_te.columns = x_te.columns.str.replace('[', '_')\n",
      "C:\\Users\\Zachary Brown\\AppData\\Local\\Temp\\ipykernel_13624\\455639707.py:6: FutureWarning: The default value of regex will change from True to False in a future version. In addition, single character regular expressions will *not* be treated as literal strings when regex=True.\n",
      "  x_te.columns = x_te.columns.str.replace(']', '_')\n"
     ]
    }
   ],
   "source": [
    "x_tr.columns = x_tr.columns.str.replace('[', '_')\n",
    "x_tr.columns = x_tr.columns.str.replace(']', '_')\n",
    "x_tr.columns = x_tr.columns.str.replace(' ', '_')\n",
    "x_tr.columns = x_tr.columns.str.replace(',', '_')\n",
    "x_te.columns = x_te.columns.str.replace('[', '_')\n",
    "x_te.columns = x_te.columns.str.replace(']', '_')\n",
    "x_te.columns = x_te.columns.str.replace(' ', '_')\n",
    "x_te.columns = x_te.columns.str.replace(',', '_')"
   ]
  },
  {
   "cell_type": "code",
   "execution_count": 14,
   "id": "c532d56c",
   "metadata": {},
   "outputs": [
    {
     "data": {
      "text/plain": [
       "Index(['system_size_dc', 'rebate_or_grant', 'expansion_system',\n",
       "       'third_party_owned', 'self_installed', 'tilt_1', 'additional_modules',\n",
       "       'bipv_module_1', 'efficiency_module_1', 'inverter_quantity_1',\n",
       "       ...\n",
       "       'inverter_model_1_SE3800H-US_(240V)', 'inverter_model_1_SE9KUS__208V_',\n",
       "       'inverter_model_1_IQ7XS-96-E-ACM-US__240V_',\n",
       "       'inverter_model_1_SE7600H-US_(240V)',\n",
       "       'inverter_model_1_SB7.7-1SP-US-41__240V_',\n",
       "       'inverter_model_1_SPR-X22-360-E-AC__208V_',\n",
       "       'inverter_model_1_SE11400H-US_(240V)',\n",
       "       'inverter_model_1_IQ7-60-x-ACM-US__208V_',\n",
       "       'inverter_model_1_SE10000H-US_(240V)',\n",
       "       'inverter_model_1_SB3.8-1SP-US-40__208V_'],\n",
       "      dtype='object', length=400)"
      ]
     },
     "execution_count": 14,
     "metadata": {},
     "output_type": "execute_result"
    }
   ],
   "source": [
    "x_tr.columns"
   ]
  },
  {
   "cell_type": "code",
   "execution_count": 15,
   "id": "418f3b0a",
   "metadata": {},
   "outputs": [
    {
     "ename": "KeyboardInterrupt",
     "evalue": "",
     "output_type": "error",
     "traceback": [
      "\u001b[1;31m---------------------------------------------------------------------------\u001b[0m",
      "\u001b[1;31mKeyboardInterrupt\u001b[0m                         Traceback (most recent call last)",
      "Cell \u001b[1;32mIn [15], line 8\u001b[0m\n\u001b[0;32m      2\u001b[0m parameters \u001b[38;5;241m=\u001b[39m {\u001b[38;5;124m'\u001b[39m\u001b[38;5;124mn_estimators\u001b[39m\u001b[38;5;124m'\u001b[39m: sp_randInt(\u001b[38;5;241m500\u001b[39m,\u001b[38;5;241m1000\u001b[39m),\n\u001b[0;32m      3\u001b[0m              \u001b[38;5;124m'\u001b[39m\u001b[38;5;124mmax_depth\u001b[39m\u001b[38;5;124m'\u001b[39m: sp_randInt(\u001b[38;5;241m2\u001b[39m,\u001b[38;5;241m10\u001b[39m),\n\u001b[0;32m      4\u001b[0m              \u001b[38;5;124m'\u001b[39m\u001b[38;5;124meta\u001b[39m\u001b[38;5;124m'\u001b[39m: sp_randFloat(\u001b[38;5;241m0.0001\u001b[39m,\u001b[38;5;241m0.99\u001b[39m),\n\u001b[0;32m      5\u001b[0m              \u001b[38;5;124m'\u001b[39m\u001b[38;5;124mcolsample_bytree\u001b[39m\u001b[38;5;124m'\u001b[39m: sp_randFloat(\u001b[38;5;241m0.01\u001b[39m,\u001b[38;5;241m0.99\u001b[39m)} \n\u001b[0;32m      6\u001b[0m rand_xgb \u001b[38;5;241m=\u001b[39m RandomizedSearchCV(xgb, parameters, scoring\u001b[38;5;241m=\u001b[39m\u001b[38;5;124m'\u001b[39m\u001b[38;5;124mneg_root_mean_squared_error\u001b[39m\u001b[38;5;124m'\u001b[39m,\\\n\u001b[0;32m      7\u001b[0m                                 refit\u001b[38;5;241m=\u001b[39m\u001b[38;5;124m'\u001b[39m\u001b[38;5;124mneg_root_mean_squared_error\u001b[39m\u001b[38;5;124m'\u001b[39m, n_iter\u001b[38;5;241m=\u001b[39m\u001b[38;5;241m60\u001b[39m, cv\u001b[38;5;241m=\u001b[39m\u001b[38;5;241m5\u001b[39m, random_state\u001b[38;5;241m=\u001b[39m\u001b[38;5;241m15\u001b[39m)\n\u001b[1;32m----> 8\u001b[0m xgbooster \u001b[38;5;241m=\u001b[39m \u001b[43mrand_xgb\u001b[49m\u001b[38;5;241;43m.\u001b[39;49m\u001b[43mfit\u001b[49m\u001b[43m(\u001b[49m\u001b[43mx_tr\u001b[49m\u001b[43m,\u001b[49m\u001b[43m \u001b[49m\u001b[43my_tr\u001b[49m\u001b[43m)\u001b[49m\n\u001b[0;32m      9\u001b[0m xgbooster\u001b[38;5;241m.\u001b[39mbest_params_\n",
      "File \u001b[1;32m~\\anaconda3\\lib\\site-packages\\sklearn\\model_selection\\_search.py:891\u001b[0m, in \u001b[0;36mBaseSearchCV.fit\u001b[1;34m(self, X, y, groups, **fit_params)\u001b[0m\n\u001b[0;32m    885\u001b[0m     results \u001b[38;5;241m=\u001b[39m \u001b[38;5;28mself\u001b[39m\u001b[38;5;241m.\u001b[39m_format_results(\n\u001b[0;32m    886\u001b[0m         all_candidate_params, n_splits, all_out, all_more_results\n\u001b[0;32m    887\u001b[0m     )\n\u001b[0;32m    889\u001b[0m     \u001b[38;5;28;01mreturn\u001b[39;00m results\n\u001b[1;32m--> 891\u001b[0m \u001b[38;5;28;43mself\u001b[39;49m\u001b[38;5;241;43m.\u001b[39;49m\u001b[43m_run_search\u001b[49m\u001b[43m(\u001b[49m\u001b[43mevaluate_candidates\u001b[49m\u001b[43m)\u001b[49m\n\u001b[0;32m    893\u001b[0m \u001b[38;5;66;03m# multimetric is determined here because in the case of a callable\u001b[39;00m\n\u001b[0;32m    894\u001b[0m \u001b[38;5;66;03m# self.scoring the return type is only known after calling\u001b[39;00m\n\u001b[0;32m    895\u001b[0m first_test_score \u001b[38;5;241m=\u001b[39m all_out[\u001b[38;5;241m0\u001b[39m][\u001b[38;5;124m\"\u001b[39m\u001b[38;5;124mtest_scores\u001b[39m\u001b[38;5;124m\"\u001b[39m]\n",
      "File \u001b[1;32m~\\anaconda3\\lib\\site-packages\\sklearn\\model_selection\\_search.py:1766\u001b[0m, in \u001b[0;36mRandomizedSearchCV._run_search\u001b[1;34m(self, evaluate_candidates)\u001b[0m\n\u001b[0;32m   1764\u001b[0m \u001b[38;5;28;01mdef\u001b[39;00m \u001b[38;5;21m_run_search\u001b[39m(\u001b[38;5;28mself\u001b[39m, evaluate_candidates):\n\u001b[0;32m   1765\u001b[0m     \u001b[38;5;124;03m\"\"\"Search n_iter candidates from param_distributions\"\"\"\u001b[39;00m\n\u001b[1;32m-> 1766\u001b[0m     \u001b[43mevaluate_candidates\u001b[49m\u001b[43m(\u001b[49m\n\u001b[0;32m   1767\u001b[0m \u001b[43m        \u001b[49m\u001b[43mParameterSampler\u001b[49m\u001b[43m(\u001b[49m\n\u001b[0;32m   1768\u001b[0m \u001b[43m            \u001b[49m\u001b[38;5;28;43mself\u001b[39;49m\u001b[38;5;241;43m.\u001b[39;49m\u001b[43mparam_distributions\u001b[49m\u001b[43m,\u001b[49m\u001b[43m \u001b[49m\u001b[38;5;28;43mself\u001b[39;49m\u001b[38;5;241;43m.\u001b[39;49m\u001b[43mn_iter\u001b[49m\u001b[43m,\u001b[49m\u001b[43m \u001b[49m\u001b[43mrandom_state\u001b[49m\u001b[38;5;241;43m=\u001b[39;49m\u001b[38;5;28;43mself\u001b[39;49m\u001b[38;5;241;43m.\u001b[39;49m\u001b[43mrandom_state\u001b[49m\n\u001b[0;32m   1769\u001b[0m \u001b[43m        \u001b[49m\u001b[43m)\u001b[49m\n\u001b[0;32m   1770\u001b[0m \u001b[43m    \u001b[49m\u001b[43m)\u001b[49m\n",
      "File \u001b[1;32m~\\anaconda3\\lib\\site-packages\\sklearn\\model_selection\\_search.py:838\u001b[0m, in \u001b[0;36mBaseSearchCV.fit.<locals>.evaluate_candidates\u001b[1;34m(candidate_params, cv, more_results)\u001b[0m\n\u001b[0;32m    830\u001b[0m \u001b[38;5;28;01mif\u001b[39;00m \u001b[38;5;28mself\u001b[39m\u001b[38;5;241m.\u001b[39mverbose \u001b[38;5;241m>\u001b[39m \u001b[38;5;241m0\u001b[39m:\n\u001b[0;32m    831\u001b[0m     \u001b[38;5;28mprint\u001b[39m(\n\u001b[0;32m    832\u001b[0m         \u001b[38;5;124m\"\u001b[39m\u001b[38;5;124mFitting \u001b[39m\u001b[38;5;132;01m{0}\u001b[39;00m\u001b[38;5;124m folds for each of \u001b[39m\u001b[38;5;132;01m{1}\u001b[39;00m\u001b[38;5;124m candidates,\u001b[39m\u001b[38;5;124m\"\u001b[39m\n\u001b[0;32m    833\u001b[0m         \u001b[38;5;124m\"\u001b[39m\u001b[38;5;124m totalling \u001b[39m\u001b[38;5;132;01m{2}\u001b[39;00m\u001b[38;5;124m fits\u001b[39m\u001b[38;5;124m\"\u001b[39m\u001b[38;5;241m.\u001b[39mformat(\n\u001b[0;32m    834\u001b[0m             n_splits, n_candidates, n_candidates \u001b[38;5;241m*\u001b[39m n_splits\n\u001b[0;32m    835\u001b[0m         )\n\u001b[0;32m    836\u001b[0m     )\n\u001b[1;32m--> 838\u001b[0m out \u001b[38;5;241m=\u001b[39m \u001b[43mparallel\u001b[49m\u001b[43m(\u001b[49m\n\u001b[0;32m    839\u001b[0m \u001b[43m    \u001b[49m\u001b[43mdelayed\u001b[49m\u001b[43m(\u001b[49m\u001b[43m_fit_and_score\u001b[49m\u001b[43m)\u001b[49m\u001b[43m(\u001b[49m\n\u001b[0;32m    840\u001b[0m \u001b[43m        \u001b[49m\u001b[43mclone\u001b[49m\u001b[43m(\u001b[49m\u001b[43mbase_estimator\u001b[49m\u001b[43m)\u001b[49m\u001b[43m,\u001b[49m\n\u001b[0;32m    841\u001b[0m \u001b[43m        \u001b[49m\u001b[43mX\u001b[49m\u001b[43m,\u001b[49m\n\u001b[0;32m    842\u001b[0m \u001b[43m        \u001b[49m\u001b[43my\u001b[49m\u001b[43m,\u001b[49m\n\u001b[0;32m    843\u001b[0m \u001b[43m        \u001b[49m\u001b[43mtrain\u001b[49m\u001b[38;5;241;43m=\u001b[39;49m\u001b[43mtrain\u001b[49m\u001b[43m,\u001b[49m\n\u001b[0;32m    844\u001b[0m \u001b[43m        \u001b[49m\u001b[43mtest\u001b[49m\u001b[38;5;241;43m=\u001b[39;49m\u001b[43mtest\u001b[49m\u001b[43m,\u001b[49m\n\u001b[0;32m    845\u001b[0m \u001b[43m        \u001b[49m\u001b[43mparameters\u001b[49m\u001b[38;5;241;43m=\u001b[39;49m\u001b[43mparameters\u001b[49m\u001b[43m,\u001b[49m\n\u001b[0;32m    846\u001b[0m \u001b[43m        \u001b[49m\u001b[43msplit_progress\u001b[49m\u001b[38;5;241;43m=\u001b[39;49m\u001b[43m(\u001b[49m\u001b[43msplit_idx\u001b[49m\u001b[43m,\u001b[49m\u001b[43m \u001b[49m\u001b[43mn_splits\u001b[49m\u001b[43m)\u001b[49m\u001b[43m,\u001b[49m\n\u001b[0;32m    847\u001b[0m \u001b[43m        \u001b[49m\u001b[43mcandidate_progress\u001b[49m\u001b[38;5;241;43m=\u001b[39;49m\u001b[43m(\u001b[49m\u001b[43mcand_idx\u001b[49m\u001b[43m,\u001b[49m\u001b[43m \u001b[49m\u001b[43mn_candidates\u001b[49m\u001b[43m)\u001b[49m\u001b[43m,\u001b[49m\n\u001b[0;32m    848\u001b[0m \u001b[43m        \u001b[49m\u001b[38;5;241;43m*\u001b[39;49m\u001b[38;5;241;43m*\u001b[39;49m\u001b[43mfit_and_score_kwargs\u001b[49m\u001b[43m,\u001b[49m\n\u001b[0;32m    849\u001b[0m \u001b[43m    \u001b[49m\u001b[43m)\u001b[49m\n\u001b[0;32m    850\u001b[0m \u001b[43m    \u001b[49m\u001b[38;5;28;43;01mfor\u001b[39;49;00m\u001b[43m \u001b[49m\u001b[43m(\u001b[49m\u001b[43mcand_idx\u001b[49m\u001b[43m,\u001b[49m\u001b[43m \u001b[49m\u001b[43mparameters\u001b[49m\u001b[43m)\u001b[49m\u001b[43m,\u001b[49m\u001b[43m \u001b[49m\u001b[43m(\u001b[49m\u001b[43msplit_idx\u001b[49m\u001b[43m,\u001b[49m\u001b[43m \u001b[49m\u001b[43m(\u001b[49m\u001b[43mtrain\u001b[49m\u001b[43m,\u001b[49m\u001b[43m \u001b[49m\u001b[43mtest\u001b[49m\u001b[43m)\u001b[49m\u001b[43m)\u001b[49m\u001b[43m \u001b[49m\u001b[38;5;129;43;01min\u001b[39;49;00m\u001b[43m \u001b[49m\u001b[43mproduct\u001b[49m\u001b[43m(\u001b[49m\n\u001b[0;32m    851\u001b[0m \u001b[43m        \u001b[49m\u001b[38;5;28;43menumerate\u001b[39;49m\u001b[43m(\u001b[49m\u001b[43mcandidate_params\u001b[49m\u001b[43m)\u001b[49m\u001b[43m,\u001b[49m\u001b[43m \u001b[49m\u001b[38;5;28;43menumerate\u001b[39;49m\u001b[43m(\u001b[49m\u001b[43mcv\u001b[49m\u001b[38;5;241;43m.\u001b[39;49m\u001b[43msplit\u001b[49m\u001b[43m(\u001b[49m\u001b[43mX\u001b[49m\u001b[43m,\u001b[49m\u001b[43m \u001b[49m\u001b[43my\u001b[49m\u001b[43m,\u001b[49m\u001b[43m \u001b[49m\u001b[43mgroups\u001b[49m\u001b[43m)\u001b[49m\u001b[43m)\u001b[49m\n\u001b[0;32m    852\u001b[0m \u001b[43m    \u001b[49m\u001b[43m)\u001b[49m\n\u001b[0;32m    853\u001b[0m \u001b[43m\u001b[49m\u001b[43m)\u001b[49m\n\u001b[0;32m    855\u001b[0m \u001b[38;5;28;01mif\u001b[39;00m \u001b[38;5;28mlen\u001b[39m(out) \u001b[38;5;241m<\u001b[39m \u001b[38;5;241m1\u001b[39m:\n\u001b[0;32m    856\u001b[0m     \u001b[38;5;28;01mraise\u001b[39;00m \u001b[38;5;167;01mValueError\u001b[39;00m(\n\u001b[0;32m    857\u001b[0m         \u001b[38;5;124m\"\u001b[39m\u001b[38;5;124mNo fits were performed. \u001b[39m\u001b[38;5;124m\"\u001b[39m\n\u001b[0;32m    858\u001b[0m         \u001b[38;5;124m\"\u001b[39m\u001b[38;5;124mWas the CV iterator empty? \u001b[39m\u001b[38;5;124m\"\u001b[39m\n\u001b[0;32m    859\u001b[0m         \u001b[38;5;124m\"\u001b[39m\u001b[38;5;124mWere there no candidates?\u001b[39m\u001b[38;5;124m\"\u001b[39m\n\u001b[0;32m    860\u001b[0m     )\n",
      "File \u001b[1;32m~\\anaconda3\\lib\\site-packages\\joblib\\parallel.py:1051\u001b[0m, in \u001b[0;36mParallel.__call__\u001b[1;34m(self, iterable)\u001b[0m\n\u001b[0;32m   1048\u001b[0m \u001b[38;5;28;01mif\u001b[39;00m \u001b[38;5;28mself\u001b[39m\u001b[38;5;241m.\u001b[39mdispatch_one_batch(iterator):\n\u001b[0;32m   1049\u001b[0m     \u001b[38;5;28mself\u001b[39m\u001b[38;5;241m.\u001b[39m_iterating \u001b[38;5;241m=\u001b[39m \u001b[38;5;28mself\u001b[39m\u001b[38;5;241m.\u001b[39m_original_iterator \u001b[38;5;129;01mis\u001b[39;00m \u001b[38;5;129;01mnot\u001b[39;00m \u001b[38;5;28;01mNone\u001b[39;00m\n\u001b[1;32m-> 1051\u001b[0m \u001b[38;5;28;01mwhile\u001b[39;00m \u001b[38;5;28;43mself\u001b[39;49m\u001b[38;5;241;43m.\u001b[39;49m\u001b[43mdispatch_one_batch\u001b[49m\u001b[43m(\u001b[49m\u001b[43miterator\u001b[49m\u001b[43m)\u001b[49m:\n\u001b[0;32m   1052\u001b[0m     \u001b[38;5;28;01mpass\u001b[39;00m\n\u001b[0;32m   1054\u001b[0m \u001b[38;5;28;01mif\u001b[39;00m pre_dispatch \u001b[38;5;241m==\u001b[39m \u001b[38;5;124m\"\u001b[39m\u001b[38;5;124mall\u001b[39m\u001b[38;5;124m\"\u001b[39m \u001b[38;5;129;01mor\u001b[39;00m n_jobs \u001b[38;5;241m==\u001b[39m \u001b[38;5;241m1\u001b[39m:\n\u001b[0;32m   1055\u001b[0m     \u001b[38;5;66;03m# The iterable was consumed all at once by the above for loop.\u001b[39;00m\n\u001b[0;32m   1056\u001b[0m     \u001b[38;5;66;03m# No need to wait for async callbacks to trigger to\u001b[39;00m\n\u001b[0;32m   1057\u001b[0m     \u001b[38;5;66;03m# consumption.\u001b[39;00m\n",
      "File \u001b[1;32m~\\anaconda3\\lib\\site-packages\\joblib\\parallel.py:864\u001b[0m, in \u001b[0;36mParallel.dispatch_one_batch\u001b[1;34m(self, iterator)\u001b[0m\n\u001b[0;32m    862\u001b[0m     \u001b[38;5;28;01mreturn\u001b[39;00m \u001b[38;5;28;01mFalse\u001b[39;00m\n\u001b[0;32m    863\u001b[0m \u001b[38;5;28;01melse\u001b[39;00m:\n\u001b[1;32m--> 864\u001b[0m     \u001b[38;5;28;43mself\u001b[39;49m\u001b[38;5;241;43m.\u001b[39;49m\u001b[43m_dispatch\u001b[49m\u001b[43m(\u001b[49m\u001b[43mtasks\u001b[49m\u001b[43m)\u001b[49m\n\u001b[0;32m    865\u001b[0m     \u001b[38;5;28;01mreturn\u001b[39;00m \u001b[38;5;28;01mTrue\u001b[39;00m\n",
      "File \u001b[1;32m~\\anaconda3\\lib\\site-packages\\joblib\\parallel.py:782\u001b[0m, in \u001b[0;36mParallel._dispatch\u001b[1;34m(self, batch)\u001b[0m\n\u001b[0;32m    780\u001b[0m \u001b[38;5;28;01mwith\u001b[39;00m \u001b[38;5;28mself\u001b[39m\u001b[38;5;241m.\u001b[39m_lock:\n\u001b[0;32m    781\u001b[0m     job_idx \u001b[38;5;241m=\u001b[39m \u001b[38;5;28mlen\u001b[39m(\u001b[38;5;28mself\u001b[39m\u001b[38;5;241m.\u001b[39m_jobs)\n\u001b[1;32m--> 782\u001b[0m     job \u001b[38;5;241m=\u001b[39m \u001b[38;5;28;43mself\u001b[39;49m\u001b[38;5;241;43m.\u001b[39;49m\u001b[43m_backend\u001b[49m\u001b[38;5;241;43m.\u001b[39;49m\u001b[43mapply_async\u001b[49m\u001b[43m(\u001b[49m\u001b[43mbatch\u001b[49m\u001b[43m,\u001b[49m\u001b[43m \u001b[49m\u001b[43mcallback\u001b[49m\u001b[38;5;241;43m=\u001b[39;49m\u001b[43mcb\u001b[49m\u001b[43m)\u001b[49m\n\u001b[0;32m    783\u001b[0m     \u001b[38;5;66;03m# A job can complete so quickly than its callback is\u001b[39;00m\n\u001b[0;32m    784\u001b[0m     \u001b[38;5;66;03m# called before we get here, causing self._jobs to\u001b[39;00m\n\u001b[0;32m    785\u001b[0m     \u001b[38;5;66;03m# grow. To ensure correct results ordering, .insert is\u001b[39;00m\n\u001b[0;32m    786\u001b[0m     \u001b[38;5;66;03m# used (rather than .append) in the following line\u001b[39;00m\n\u001b[0;32m    787\u001b[0m     \u001b[38;5;28mself\u001b[39m\u001b[38;5;241m.\u001b[39m_jobs\u001b[38;5;241m.\u001b[39minsert(job_idx, job)\n",
      "File \u001b[1;32m~\\anaconda3\\lib\\site-packages\\joblib\\_parallel_backends.py:208\u001b[0m, in \u001b[0;36mSequentialBackend.apply_async\u001b[1;34m(self, func, callback)\u001b[0m\n\u001b[0;32m    206\u001b[0m \u001b[38;5;28;01mdef\u001b[39;00m \u001b[38;5;21mapply_async\u001b[39m(\u001b[38;5;28mself\u001b[39m, func, callback\u001b[38;5;241m=\u001b[39m\u001b[38;5;28;01mNone\u001b[39;00m):\n\u001b[0;32m    207\u001b[0m     \u001b[38;5;124;03m\"\"\"Schedule a func to be run\"\"\"\u001b[39;00m\n\u001b[1;32m--> 208\u001b[0m     result \u001b[38;5;241m=\u001b[39m \u001b[43mImmediateResult\u001b[49m\u001b[43m(\u001b[49m\u001b[43mfunc\u001b[49m\u001b[43m)\u001b[49m\n\u001b[0;32m    209\u001b[0m     \u001b[38;5;28;01mif\u001b[39;00m callback:\n\u001b[0;32m    210\u001b[0m         callback(result)\n",
      "File \u001b[1;32m~\\anaconda3\\lib\\site-packages\\joblib\\_parallel_backends.py:572\u001b[0m, in \u001b[0;36mImmediateResult.__init__\u001b[1;34m(self, batch)\u001b[0m\n\u001b[0;32m    569\u001b[0m \u001b[38;5;28;01mdef\u001b[39;00m \u001b[38;5;21m__init__\u001b[39m(\u001b[38;5;28mself\u001b[39m, batch):\n\u001b[0;32m    570\u001b[0m     \u001b[38;5;66;03m# Don't delay the application, to avoid keeping the input\u001b[39;00m\n\u001b[0;32m    571\u001b[0m     \u001b[38;5;66;03m# arguments in memory\u001b[39;00m\n\u001b[1;32m--> 572\u001b[0m     \u001b[38;5;28mself\u001b[39m\u001b[38;5;241m.\u001b[39mresults \u001b[38;5;241m=\u001b[39m \u001b[43mbatch\u001b[49m\u001b[43m(\u001b[49m\u001b[43m)\u001b[49m\n",
      "File \u001b[1;32m~\\anaconda3\\lib\\site-packages\\joblib\\parallel.py:263\u001b[0m, in \u001b[0;36mBatchedCalls.__call__\u001b[1;34m(self)\u001b[0m\n\u001b[0;32m    259\u001b[0m \u001b[38;5;28;01mdef\u001b[39;00m \u001b[38;5;21m__call__\u001b[39m(\u001b[38;5;28mself\u001b[39m):\n\u001b[0;32m    260\u001b[0m     \u001b[38;5;66;03m# Set the default nested backend to self._backend but do not set the\u001b[39;00m\n\u001b[0;32m    261\u001b[0m     \u001b[38;5;66;03m# change the default number of processes to -1\u001b[39;00m\n\u001b[0;32m    262\u001b[0m     \u001b[38;5;28;01mwith\u001b[39;00m parallel_backend(\u001b[38;5;28mself\u001b[39m\u001b[38;5;241m.\u001b[39m_backend, n_jobs\u001b[38;5;241m=\u001b[39m\u001b[38;5;28mself\u001b[39m\u001b[38;5;241m.\u001b[39m_n_jobs):\n\u001b[1;32m--> 263\u001b[0m         \u001b[38;5;28;01mreturn\u001b[39;00m [func(\u001b[38;5;241m*\u001b[39margs, \u001b[38;5;241m*\u001b[39m\u001b[38;5;241m*\u001b[39mkwargs)\n\u001b[0;32m    264\u001b[0m                 \u001b[38;5;28;01mfor\u001b[39;00m func, args, kwargs \u001b[38;5;129;01min\u001b[39;00m \u001b[38;5;28mself\u001b[39m\u001b[38;5;241m.\u001b[39mitems]\n",
      "File \u001b[1;32m~\\anaconda3\\lib\\site-packages\\joblib\\parallel.py:263\u001b[0m, in \u001b[0;36m<listcomp>\u001b[1;34m(.0)\u001b[0m\n\u001b[0;32m    259\u001b[0m \u001b[38;5;28;01mdef\u001b[39;00m \u001b[38;5;21m__call__\u001b[39m(\u001b[38;5;28mself\u001b[39m):\n\u001b[0;32m    260\u001b[0m     \u001b[38;5;66;03m# Set the default nested backend to self._backend but do not set the\u001b[39;00m\n\u001b[0;32m    261\u001b[0m     \u001b[38;5;66;03m# change the default number of processes to -1\u001b[39;00m\n\u001b[0;32m    262\u001b[0m     \u001b[38;5;28;01mwith\u001b[39;00m parallel_backend(\u001b[38;5;28mself\u001b[39m\u001b[38;5;241m.\u001b[39m_backend, n_jobs\u001b[38;5;241m=\u001b[39m\u001b[38;5;28mself\u001b[39m\u001b[38;5;241m.\u001b[39m_n_jobs):\n\u001b[1;32m--> 263\u001b[0m         \u001b[38;5;28;01mreturn\u001b[39;00m [func(\u001b[38;5;241m*\u001b[39margs, \u001b[38;5;241m*\u001b[39m\u001b[38;5;241m*\u001b[39mkwargs)\n\u001b[0;32m    264\u001b[0m                 \u001b[38;5;28;01mfor\u001b[39;00m func, args, kwargs \u001b[38;5;129;01min\u001b[39;00m \u001b[38;5;28mself\u001b[39m\u001b[38;5;241m.\u001b[39mitems]\n",
      "File \u001b[1;32m~\\anaconda3\\lib\\site-packages\\sklearn\\utils\\fixes.py:216\u001b[0m, in \u001b[0;36m_FuncWrapper.__call__\u001b[1;34m(self, *args, **kwargs)\u001b[0m\n\u001b[0;32m    214\u001b[0m \u001b[38;5;28;01mdef\u001b[39;00m \u001b[38;5;21m__call__\u001b[39m(\u001b[38;5;28mself\u001b[39m, \u001b[38;5;241m*\u001b[39margs, \u001b[38;5;241m*\u001b[39m\u001b[38;5;241m*\u001b[39mkwargs):\n\u001b[0;32m    215\u001b[0m     \u001b[38;5;28;01mwith\u001b[39;00m config_context(\u001b[38;5;241m*\u001b[39m\u001b[38;5;241m*\u001b[39m\u001b[38;5;28mself\u001b[39m\u001b[38;5;241m.\u001b[39mconfig):\n\u001b[1;32m--> 216\u001b[0m         \u001b[38;5;28;01mreturn\u001b[39;00m \u001b[38;5;28mself\u001b[39m\u001b[38;5;241m.\u001b[39mfunction(\u001b[38;5;241m*\u001b[39margs, \u001b[38;5;241m*\u001b[39m\u001b[38;5;241m*\u001b[39mkwargs)\n",
      "File \u001b[1;32m~\\anaconda3\\lib\\site-packages\\sklearn\\model_selection\\_validation.py:680\u001b[0m, in \u001b[0;36m_fit_and_score\u001b[1;34m(estimator, X, y, scorer, train, test, verbose, parameters, fit_params, return_train_score, return_parameters, return_n_test_samples, return_times, return_estimator, split_progress, candidate_progress, error_score)\u001b[0m\n\u001b[0;32m    678\u001b[0m         estimator\u001b[38;5;241m.\u001b[39mfit(X_train, \u001b[38;5;241m*\u001b[39m\u001b[38;5;241m*\u001b[39mfit_params)\n\u001b[0;32m    679\u001b[0m     \u001b[38;5;28;01melse\u001b[39;00m:\n\u001b[1;32m--> 680\u001b[0m         estimator\u001b[38;5;241m.\u001b[39mfit(X_train, y_train, \u001b[38;5;241m*\u001b[39m\u001b[38;5;241m*\u001b[39mfit_params)\n\u001b[0;32m    682\u001b[0m \u001b[38;5;28;01mexcept\u001b[39;00m \u001b[38;5;167;01mException\u001b[39;00m:\n\u001b[0;32m    683\u001b[0m     \u001b[38;5;66;03m# Note fit time as time until error\u001b[39;00m\n\u001b[0;32m    684\u001b[0m     fit_time \u001b[38;5;241m=\u001b[39m time\u001b[38;5;241m.\u001b[39mtime() \u001b[38;5;241m-\u001b[39m start_time\n",
      "File \u001b[1;32m~\\anaconda3\\lib\\site-packages\\xgboost\\core.py:620\u001b[0m, in \u001b[0;36mrequire_keyword_args.<locals>.throw_if.<locals>.inner_f\u001b[1;34m(*args, **kwargs)\u001b[0m\n\u001b[0;32m    618\u001b[0m \u001b[38;5;28;01mfor\u001b[39;00m k, arg \u001b[38;5;129;01min\u001b[39;00m \u001b[38;5;28mzip\u001b[39m(sig\u001b[38;5;241m.\u001b[39mparameters, args):\n\u001b[0;32m    619\u001b[0m     kwargs[k] \u001b[38;5;241m=\u001b[39m arg\n\u001b[1;32m--> 620\u001b[0m \u001b[38;5;28;01mreturn\u001b[39;00m func(\u001b[38;5;241m*\u001b[39m\u001b[38;5;241m*\u001b[39mkwargs)\n",
      "File \u001b[1;32m~\\anaconda3\\lib\\site-packages\\xgboost\\sklearn.py:1051\u001b[0m, in \u001b[0;36mXGBModel.fit\u001b[1;34m(self, X, y, sample_weight, base_margin, eval_set, eval_metric, early_stopping_rounds, verbose, xgb_model, sample_weight_eval_set, base_margin_eval_set, feature_weights, callbacks)\u001b[0m\n\u001b[0;32m   1040\u001b[0m     obj \u001b[38;5;241m=\u001b[39m \u001b[38;5;28;01mNone\u001b[39;00m\n\u001b[0;32m   1042\u001b[0m (\n\u001b[0;32m   1043\u001b[0m     model,\n\u001b[0;32m   1044\u001b[0m     metric,\n\u001b[1;32m   (...)\u001b[0m\n\u001b[0;32m   1049\u001b[0m     xgb_model, eval_metric, params, early_stopping_rounds, callbacks\n\u001b[0;32m   1050\u001b[0m )\n\u001b[1;32m-> 1051\u001b[0m \u001b[38;5;28mself\u001b[39m\u001b[38;5;241m.\u001b[39m_Booster \u001b[38;5;241m=\u001b[39m \u001b[43mtrain\u001b[49m\u001b[43m(\u001b[49m\n\u001b[0;32m   1052\u001b[0m \u001b[43m    \u001b[49m\u001b[43mparams\u001b[49m\u001b[43m,\u001b[49m\n\u001b[0;32m   1053\u001b[0m \u001b[43m    \u001b[49m\u001b[43mtrain_dmatrix\u001b[49m\u001b[43m,\u001b[49m\n\u001b[0;32m   1054\u001b[0m \u001b[43m    \u001b[49m\u001b[38;5;28;43mself\u001b[39;49m\u001b[38;5;241;43m.\u001b[39;49m\u001b[43mget_num_boosting_rounds\u001b[49m\u001b[43m(\u001b[49m\u001b[43m)\u001b[49m\u001b[43m,\u001b[49m\n\u001b[0;32m   1055\u001b[0m \u001b[43m    \u001b[49m\u001b[43mevals\u001b[49m\u001b[38;5;241;43m=\u001b[39;49m\u001b[43mevals\u001b[49m\u001b[43m,\u001b[49m\n\u001b[0;32m   1056\u001b[0m \u001b[43m    \u001b[49m\u001b[43mearly_stopping_rounds\u001b[49m\u001b[38;5;241;43m=\u001b[39;49m\u001b[43mearly_stopping_rounds\u001b[49m\u001b[43m,\u001b[49m\n\u001b[0;32m   1057\u001b[0m \u001b[43m    \u001b[49m\u001b[43mevals_result\u001b[49m\u001b[38;5;241;43m=\u001b[39;49m\u001b[43mevals_result\u001b[49m\u001b[43m,\u001b[49m\n\u001b[0;32m   1058\u001b[0m \u001b[43m    \u001b[49m\u001b[43mobj\u001b[49m\u001b[38;5;241;43m=\u001b[39;49m\u001b[43mobj\u001b[49m\u001b[43m,\u001b[49m\n\u001b[0;32m   1059\u001b[0m \u001b[43m    \u001b[49m\u001b[43mcustom_metric\u001b[49m\u001b[38;5;241;43m=\u001b[39;49m\u001b[43mmetric\u001b[49m\u001b[43m,\u001b[49m\n\u001b[0;32m   1060\u001b[0m \u001b[43m    \u001b[49m\u001b[43mverbose_eval\u001b[49m\u001b[38;5;241;43m=\u001b[39;49m\u001b[43mverbose\u001b[49m\u001b[43m,\u001b[49m\n\u001b[0;32m   1061\u001b[0m \u001b[43m    \u001b[49m\u001b[43mxgb_model\u001b[49m\u001b[38;5;241;43m=\u001b[39;49m\u001b[43mmodel\u001b[49m\u001b[43m,\u001b[49m\n\u001b[0;32m   1062\u001b[0m \u001b[43m    \u001b[49m\u001b[43mcallbacks\u001b[49m\u001b[38;5;241;43m=\u001b[39;49m\u001b[43mcallbacks\u001b[49m\u001b[43m,\u001b[49m\n\u001b[0;32m   1063\u001b[0m \u001b[43m\u001b[49m\u001b[43m)\u001b[49m\n\u001b[0;32m   1065\u001b[0m \u001b[38;5;28mself\u001b[39m\u001b[38;5;241m.\u001b[39m_set_evaluation_result(evals_result)\n\u001b[0;32m   1066\u001b[0m \u001b[38;5;28;01mreturn\u001b[39;00m \u001b[38;5;28mself\u001b[39m\n",
      "File \u001b[1;32m~\\anaconda3\\lib\\site-packages\\xgboost\\core.py:620\u001b[0m, in \u001b[0;36mrequire_keyword_args.<locals>.throw_if.<locals>.inner_f\u001b[1;34m(*args, **kwargs)\u001b[0m\n\u001b[0;32m    618\u001b[0m \u001b[38;5;28;01mfor\u001b[39;00m k, arg \u001b[38;5;129;01min\u001b[39;00m \u001b[38;5;28mzip\u001b[39m(sig\u001b[38;5;241m.\u001b[39mparameters, args):\n\u001b[0;32m    619\u001b[0m     kwargs[k] \u001b[38;5;241m=\u001b[39m arg\n\u001b[1;32m--> 620\u001b[0m \u001b[38;5;28;01mreturn\u001b[39;00m func(\u001b[38;5;241m*\u001b[39m\u001b[38;5;241m*\u001b[39mkwargs)\n",
      "File \u001b[1;32m~\\anaconda3\\lib\\site-packages\\xgboost\\training.py:185\u001b[0m, in \u001b[0;36mtrain\u001b[1;34m(params, dtrain, num_boost_round, evals, obj, feval, maximize, early_stopping_rounds, evals_result, verbose_eval, xgb_model, callbacks, custom_metric)\u001b[0m\n\u001b[0;32m    183\u001b[0m \u001b[38;5;28;01mif\u001b[39;00m cb_container\u001b[38;5;241m.\u001b[39mbefore_iteration(bst, i, dtrain, evals):\n\u001b[0;32m    184\u001b[0m     \u001b[38;5;28;01mbreak\u001b[39;00m\n\u001b[1;32m--> 185\u001b[0m \u001b[43mbst\u001b[49m\u001b[38;5;241;43m.\u001b[39;49m\u001b[43mupdate\u001b[49m\u001b[43m(\u001b[49m\u001b[43mdtrain\u001b[49m\u001b[43m,\u001b[49m\u001b[43m \u001b[49m\u001b[43mi\u001b[49m\u001b[43m,\u001b[49m\u001b[43m \u001b[49m\u001b[43mobj\u001b[49m\u001b[43m)\u001b[49m\n\u001b[0;32m    186\u001b[0m \u001b[38;5;28;01mif\u001b[39;00m cb_container\u001b[38;5;241m.\u001b[39mafter_iteration(bst, i, dtrain, evals):\n\u001b[0;32m    187\u001b[0m     \u001b[38;5;28;01mbreak\u001b[39;00m\n",
      "File \u001b[1;32m~\\anaconda3\\lib\\site-packages\\xgboost\\core.py:1918\u001b[0m, in \u001b[0;36mBooster.update\u001b[1;34m(self, dtrain, iteration, fobj)\u001b[0m\n\u001b[0;32m   1915\u001b[0m \u001b[38;5;28mself\u001b[39m\u001b[38;5;241m.\u001b[39m_validate_dmatrix_features(dtrain)\n\u001b[0;32m   1917\u001b[0m \u001b[38;5;28;01mif\u001b[39;00m fobj \u001b[38;5;129;01mis\u001b[39;00m \u001b[38;5;28;01mNone\u001b[39;00m:\n\u001b[1;32m-> 1918\u001b[0m     _check_call(\u001b[43m_LIB\u001b[49m\u001b[38;5;241;43m.\u001b[39;49m\u001b[43mXGBoosterUpdateOneIter\u001b[49m\u001b[43m(\u001b[49m\u001b[38;5;28;43mself\u001b[39;49m\u001b[38;5;241;43m.\u001b[39;49m\u001b[43mhandle\u001b[49m\u001b[43m,\u001b[49m\n\u001b[0;32m   1919\u001b[0m \u001b[43m                                            \u001b[49m\u001b[43mctypes\u001b[49m\u001b[38;5;241;43m.\u001b[39;49m\u001b[43mc_int\u001b[49m\u001b[43m(\u001b[49m\u001b[43miteration\u001b[49m\u001b[43m)\u001b[49m\u001b[43m,\u001b[49m\n\u001b[0;32m   1920\u001b[0m \u001b[43m                                            \u001b[49m\u001b[43mdtrain\u001b[49m\u001b[38;5;241;43m.\u001b[39;49m\u001b[43mhandle\u001b[49m\u001b[43m)\u001b[49m)\n\u001b[0;32m   1921\u001b[0m \u001b[38;5;28;01melse\u001b[39;00m:\n\u001b[0;32m   1922\u001b[0m     pred \u001b[38;5;241m=\u001b[39m \u001b[38;5;28mself\u001b[39m\u001b[38;5;241m.\u001b[39mpredict(dtrain, output_margin\u001b[38;5;241m=\u001b[39m\u001b[38;5;28;01mTrue\u001b[39;00m, training\u001b[38;5;241m=\u001b[39m\u001b[38;5;28;01mTrue\u001b[39;00m)\n",
      "\u001b[1;31mKeyboardInterrupt\u001b[0m: "
     ]
    }
   ],
   "source": [
    "xgb = XGBRegressor()\n",
    "parameters = {'n_estimators': sp_randInt(500,1000),\n",
    "             'max_depth': sp_randInt(2,10),\n",
    "             'eta': sp_randFloat(0.0001,0.99),\n",
    "             'colsample_bytree': sp_randFloat(0.01,0.99)} \n",
    "rand_xgb = RandomizedSearchCV(xgb, parameters, scoring='neg_root_mean_squared_error',\\\n",
    "                                refit='neg_root_mean_squared_error', n_iter=60, cv=5, random_state=15)\n",
    "xgbooster = rand_xgb.fit(x_tr, y_tr)\n",
    "xgbooster.best_params_"
   ]
  },
  {
   "cell_type": "code",
   "execution_count": null,
   "id": "92767778",
   "metadata": {},
   "outputs": [],
   "source": [
    "xgb_model = XGBRegressor(n_estimators=xgbooster.best_params_['n_estimators'],\\\n",
    "                                   eta=xgbooster.best_params_['eta'],\\\n",
    "                                   colsample_bytree=xgbooster.best_params_['colsample_bytree'],\\\n",
    "                                   max_depth=xgbooster.best_params_['max_depth'])\n",
    "xgb_model.fit(x_tr, y_tr)\n",
    "y_pred = xgb_model.predict(x_te)\n",
    "train_scores['XGBoost'] = mean_squared_error(y_te, y_pred)\n",
    "mean_squared_error(y_te, y_pred)"
   ]
  },
  {
   "cell_type": "markdown",
   "id": "89e832ce",
   "metadata": {},
   "source": [
    "Wow! XGBoost knocked down the MAE from 680 (with random forest) to 72! Just for some context I'm going to check the range between the 5th and 95th percentiles of the price per KW just to get an idea of how much error \\\\$72 represents."
   ]
  },
  {
   "cell_type": "code",
   "execution_count": null,
   "id": "90d38b01",
   "metadata": {},
   "outputs": [],
   "source": [
    "print(np.quantile(y_train['price_per_kw'], 0.05))\n",
    "print(np.quantile(y_train['price_per_kw'], 0.95))"
   ]
  },
  {
   "cell_type": "markdown",
   "id": "057f4972",
   "metadata": {},
   "source": [
    "Great! 90% of the data lie within a \\\\$4100 spread, so having an estimate with \\\\$72 error is pretty good. Let's see if we can get any better with a decision tree."
   ]
  },
  {
   "cell_type": "code",
   "execution_count": null,
   "id": "60ddcfff",
   "metadata": {},
   "outputs": [],
   "source": [
    "d_tree = tree.DecisionTreeRegressor(random_state = 12)\n",
    "parameters = {'max_depth': sp_randInt(2,10),\n",
    "             'min_samples_leaf': sp_randInt(100,5000)}\n",
    "rand_tree = RandomizedSearchCV(d_tree, parameters, scoring=['neg_root_mean_squared_error', 'neg_mean_absolute_error'],\\\n",
    "                                refit='neg_root_mean_squared_error', n_iter=60, cv=5, random_state=12)\n",
    "decision_tree = rand_tree.fit(x_tr, y_tr)\n",
    "decision_tree.best_params_"
   ]
  },
  {
   "cell_type": "code",
   "execution_count": null,
   "id": "8986d441",
   "metadata": {},
   "outputs": [],
   "source": [
    "decision_tree_model = tree.DecisionTreeRegressor(max_depth = decision_tree.best_params_['max_depth'],\\\n",
    "                                            min_samples_leaf = decision_tree.best_params_['min_samples_leaf'],\\\n",
    "                                            random_state = 12)\n",
    "decision_tree_model.fit(x_tr, y_tr)\n",
    "y_pred = decision_tree_model.predict(x_te)\n",
    "train_scores['Decision Tree'] = mean_squared_error(y_te, y_pred)\n",
    "mean_squared_error(y_te, y_pred)"
   ]
  },
  {
   "cell_type": "markdown",
   "id": "af8f47b9",
   "metadata": {},
   "source": [
    "Interesting, even a basic decision tree outperformed the random forest and lasso regressors. Let's keep testing a few additional models to determine which should be tuned further and used as the final model."
   ]
  },
  {
   "cell_type": "code",
   "execution_count": null,
   "id": "48713fd4",
   "metadata": {},
   "outputs": [],
   "source": [
    "neighbors = KNeighborsRegressor()\n",
    "parameters = {'n_neighbors': sp_randInt(2,50)}\n",
    "rand_knn = RandomizedSearchCV(neighbors, parameters, scoring=['neg_root_mean_squared_error', 'neg_mean_absolute_error'],\\\n",
    "                                refit='neg_root_mean_squared_error', n_iter=60, cv=5, random_state=12)\n",
    "opt_nn = rand_knn.fit(x_tr, y_tr)\n",
    "opt_nn.best_params_"
   ]
  },
  {
   "cell_type": "code",
   "execution_count": null,
   "id": "df3fd248",
   "metadata": {},
   "outputs": [],
   "source": [
    "knn_opt = KNeighborsRegressor(n_neighbors = opt_nn.best_params_['n_neighbors'])\n",
    "knn_opt.fit(x_tr, y_tr)\n",
    "y_pred = knn_opt.predict(x_te)\n",
    "train_scores['KNN'] = mean_squared_error(y_te, y_pred)\n",
    "mean_squared_error(y_te, y_pred)"
   ]
  },
  {
   "cell_type": "code",
   "execution_count": null,
   "id": "0bf3231c",
   "metadata": {},
   "outputs": [],
   "source": [
    "lgbm = lgb.LGBMRegressor(objective = 'regression', metric = 'mae')\n",
    "parameters = {'num_leaves': sp_randInt(10,1000),\n",
    "              'n_estimators': sp_randInt(10,1000),\n",
    "              'max_depth': sp_randInt(2,10),\n",
    "              'learning_rate': sp_randFloat(0.001,1)}\n",
    "rand_lgbm = RandomizedSearchCV(lgbm, parameters, scoring=['neg_root_mean_squared_error', 'neg_mean_absolute_error'],\\\n",
    "                                refit='neg_root_mean_squared_error', n_iter=60, cv=5, random_state=12)\n",
    "opt_lgbm = rand_lgbm.fit(x_tr, y_tr)\n",
    "opt_lgbm.best_params_"
   ]
  },
  {
   "cell_type": "code",
   "execution_count": null,
   "id": "c854a341",
   "metadata": {},
   "outputs": [],
   "source": [
    "lgbm_opt = lgb.LGBMRegressor(objective = 'regression', metric = 'mae', num_leaves = opt_lgbm.best_params_['num_leaves'],\\\n",
    "                             n_estimators = opt_lgbm.best_params_['n_estimators'],\\\n",
    "                             max_depth = opt_lgbm.best_params_['max_depth'],\\\n",
    "                             learning_rate = opt_lgbm.best_params_['learning_rate'])\n",
    "lgbm_opt.fit(x_tr, y_tr)\n",
    "y_pred = lgbm_opt.predict(x_te)\n",
    "train_scores['Light GBM'] = mean_squared_error(y_te, y_pred)\n",
    "mean_squared_error(y_te, y_pred)"
   ]
  },
  {
   "cell_type": "code",
   "execution_count": null,
   "id": "d564e8f5",
   "metadata": {},
   "outputs": [],
   "source": [
    "mlp = MLPRegressor(hidden_layer_sizes = (89, 89, 89), random_state = 12)\n",
    "parameters = {'activation': ['identity', 'logistic', 'tanh', 'relu'],\n",
    "             'solver': ['lbfgs', 'sgd', 'adam'],\n",
    "             'max_iter': sp_randInt(500,1000)}\n",
    "rand_mlp = RandomizedSearchCV(mlp, parameters, scoring=['neg_root_mean_squared_error', 'neg_mean_absolute_error'],\\\n",
    "                                refit='neg_root_mean_squared_error', n_iter=60, cv=5, random_state=12)\n",
    "opt_mlp = rand_mlp.fit(x_tr, y_tr)\n",
    "opt_mlp.best_params_"
   ]
  },
  {
   "cell_type": "code",
   "execution_count": null,
   "id": "38b78536",
   "metadata": {},
   "outputs": [],
   "source": [
    "mlp_opt = MLPRegressor(random_state = 12)\n",
    "mlp_opt.fit(x_tr, y_tr)\n",
    "y_pred = mlp_opt.predict(x_te)\n",
    "train_scores['MLP'] = mean_squared_error(y_te, y_pred)\n",
    "mean_squared_error(y_te, y_pred)"
   ]
  },
  {
   "cell_type": "code",
   "execution_count": null,
   "id": "1c5f6659",
   "metadata": {},
   "outputs": [],
   "source": [
    "keys = list(train_scores.keys())\n",
    "vals = [float(train_scores[k]) for k in keys]\n",
    "sns.barplot(x=keys, y=vals)\n",
    "plt.xticks(rotation=45, ha='right')\n",
    "plt.ylabel('Mean Absolute Error')\n",
    "plt.title('Model Accuracy Comparison')\n",
    "plt.show()"
   ]
  },
  {
   "cell_type": "markdown",
   "id": "8ada418e",
   "metadata": {},
   "source": [
    "Now that I've done a quick once-over for these different models and identified XGBoost as the best fit for this challenge, I'm going to revisit XGBoost and see if I can't refine it further to improve the results even more."
   ]
  },
  {
   "cell_type": "code",
   "execution_count": null,
   "id": "16cf8e50",
   "metadata": {},
   "outputs": [],
   "source": [
    "fig, ax = plt.subplots(1,1,figsize=(12, 14))\n",
    "xgboost.plot_importance(xgb_model, ax=ax)"
   ]
  },
  {
   "cell_type": "code",
   "execution_count": null,
   "id": "0649ae04",
   "metadata": {},
   "outputs": [],
   "source": [
    "# Previous best parameters\n",
    "# 'colsample_bytree': 0.9887415865233958,\n",
    "# 'eta': 0.3412489908771189,\n",
    "# 'max_depth': 9,\n",
    "# 'n_estimators': 859\n",
    "\n",
    "xgb_2 = XGBRegressor(verbosity = 0)\n",
    "parameters = {'n_estimators': sp_randInt(759,959),\n",
    "             'max_depth': sp_randInt(7,11),\n",
    "             'eta': sp_randFloat(0.14,0.54),\n",
    "             'colsample_bytree': sp_randFloat(0.9,1)} \n",
    "rand_xgb_2 = RandomizedSearchCV(xgb_2, parameters, scoring=['neg_root_mean_squared_error', 'neg_mean_absolute_error'],\\\n",
    "                                refit='neg_root_mean_squared_error', n_iter=60, cv=5, random_state=12)\n",
    "xgbooster_2 = rand_xgb_2.fit(x_tr, y_tr)\n",
    "xgbooster_2.best_params_"
   ]
  },
  {
   "cell_type": "code",
   "execution_count": null,
   "id": "80a14342",
   "metadata": {},
   "outputs": [],
   "source": [
    "xgb_model_2 = XGBRegressor(n_estimators=xgbooster_2.best_params_['n_estimators'],\\\n",
    "                                   eta=xgbooster_2.best_params_['eta'],\\\n",
    "                                   colsample_bytree=xgbooster_2.best_params_['colsample_bytree'],\\\n",
    "                                   max_depth=xgbooster_2.best_params_['max_depth'])\n",
    "xgb_model_2.fit(x_tr, y_tr)\n",
    "y_pred = xgb_model_2.predict(x_te)\n",
    "train_scores['XGBoost 2'] = mean_squared_error(y_te, y_pred)\n",
    "mean_squared_error(y_te, y_pred)"
   ]
  },
  {
   "cell_type": "code",
   "execution_count": null,
   "id": "6827c311",
   "metadata": {},
   "outputs": [],
   "source": [
    "fig, ax = plt.subplots(1,1,figsize=(12, 14))\n",
    "xgboost.plot_importance(xgb_model_2, ax=ax)"
   ]
  },
  {
   "cell_type": "code",
   "execution_count": null,
   "id": "29439e3f",
   "metadata": {},
   "outputs": [],
   "source": [
    "xgb_linear = XGBRegressor(booster = 'gblinear', verbosity = 0)\n",
    "parameters = {'reg_lambda': sp_randFloat(0,1),\n",
    "             'reg_alpha': sp_randFloat(0, 1),\n",
    "             'feature_selector': ['cyclic', 'shuffle']}\n",
    "rand_xgb_linear = RandomizedSearchCV(xgb_linear, parameters, scoring=['neg_root_mean_squared_error', 'neg_mean_absolute_error'],\\\n",
    "                                refit='neg_root_mean_squared_error', n_iter=60, cv=5, random_state=12)\n",
    "xgbooster_linear = rand_xgb_linear.fit(x_tr, y_tr)\n",
    "xgbooster_linear.best_params_"
   ]
  },
  {
   "cell_type": "code",
   "execution_count": null,
   "id": "d469d1bb",
   "metadata": {},
   "outputs": [],
   "source": [
    "xgb_model_linear = XGBRegressor(booster = 'gblinear', reg_lambda = xgbooster_linear.best_params_['reg_lambda'],\\\n",
    "                                   reg_alpha=xgbooster_linear.best_params_['reg_alpha'],\\\n",
    "                                   feature_selector=xgbooster_linear.best_params_['feature_selector'])\n",
    "xgb_model_linear.fit(x_tr, y_tr)\n",
    "y_pred = xgb_model_linear.predict(x_te)\n",
    "train_scores['XGBoost Linear Booster'] = mean_squared_error(y_te, y_pred)\n",
    "mean_squared_error(y_te, y_pred)"
   ]
  },
  {
   "cell_type": "code",
   "execution_count": null,
   "id": "e797704b",
   "metadata": {},
   "outputs": [],
   "source": [
    "xgb_linear = XGBRegressor(booster = 'gblinear', updater = 'coord_descent', verbosity = 0)\n",
    "parameters = {'reg_lambda': sp_randFloat(0,1),\n",
    "             'reg_alpha': sp_randFloat(0, 1),\n",
    "             'feature_selector': ['random', 'greedy', 'thrifty']}\n",
    "rand_xgb_linear = RandomizedSearchCV(xgb_linear, parameters, scoring=['neg_root_mean_squared_error', 'neg_mean_absolute_error'],\\\n",
    "                                refit='neg_root_mean_squared_error', n_iter=60, cv=5, random_state=12)\n",
    "xgbooster_linear = rand_xgb_linear.fit(x_tr, y_tr)\n",
    "xgbooster_linear.best_params_"
   ]
  },
  {
   "cell_type": "code",
   "execution_count": null,
   "id": "cf34f1f4",
   "metadata": {},
   "outputs": [],
   "source": [
    "xgb_model_linear = XGBRegressor(booster = 'gblinear', updater = 'coord_descent',\\\n",
    "                                reg_lambda = xgbooster_linear.best_params_['reg_lambda'],\\\n",
    "                                   reg_alpha=xgbooster_linear.best_params_['reg_alpha'],\\\n",
    "                                   feature_selector=xgbooster_linear.best_params_['feature_selector'])\n",
    "xgb_model_linear.fit(x_tr, y_tr)\n",
    "y_pred = xgb_model_linear.predict(x_te)\n",
    "train_scores['XGBoost Linear Booster'] = mean_squared_error(y_te, y_pred)\n",
    "mean_squared_error(y_te, y_pred)"
   ]
  },
  {
   "cell_type": "code",
   "execution_count": null,
   "id": "e29bbcab",
   "metadata": {},
   "outputs": [],
   "source": []
  }
 ],
 "metadata": {
  "kernelspec": {
   "display_name": "Python 3 (ipykernel)",
   "language": "python",
   "name": "python3"
  },
  "language_info": {
   "codemirror_mode": {
    "name": "ipython",
    "version": 3
   },
   "file_extension": ".py",
   "mimetype": "text/x-python",
   "name": "python",
   "nbconvert_exporter": "python",
   "pygments_lexer": "ipython3",
   "version": "3.9.15"
  }
 },
 "nbformat": 4,
 "nbformat_minor": 5
}
