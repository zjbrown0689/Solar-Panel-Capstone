{
 "cells": [
  {
   "cell_type": "markdown",
   "id": "c378f6c8",
   "metadata": {},
   "source": [
    "# Getting the most solar power for your dollar\n",
    "## Model development\n",
    "### Zachary Brown\n",
    "\n",
    "I've loaded, cleaned, engineered, and split the dataset I'm using to determine how to optimize cost efficiency for a residential solar panel installation. Now I will screen a range of regression models to identify which gives the best results and refine it as best I can.\n",
    "\n",
    "I'll start by loading in my X_train and y_train sets so that I can begin training some models."
   ]
  },
  {
   "cell_type": "code",
   "execution_count": 1,
   "id": "66aa66b7",
   "metadata": {},
   "outputs": [],
   "source": [
    "import os\n",
    "import numpy as np\n",
    "import pandas as pd\n",
    "import matplotlib.pyplot as plt\n",
    "import seaborn as sns\n",
    "sns.set_theme('notebook')\n",
    "from sklearn.model_selection import train_test_split"
   ]
  },
  {
   "cell_type": "code",
   "execution_count": 2,
   "id": "5912dfb8",
   "metadata": {},
   "outputs": [
    {
     "name": "stdout",
     "output_type": "stream",
     "text": [
      "C:\\Users\\Zjbro\\OneDrive\\Documents\\GitHub\\Solar-Panel-Capstone\\notebooks\n",
      "C:\\Users\\Zjbro\\OneDrive\\Documents\\GitHub\\Solar-Panel-Capstone\\data\\processed\n"
     ]
    }
   ],
   "source": [
    "print(os.getcwd())\n",
    "os.chdir(r\"..\\data\\processed\")\n",
    "print(os.getcwd())"
   ]
  },
  {
   "cell_type": "code",
   "execution_count": 3,
   "id": "972180b3",
   "metadata": {},
   "outputs": [],
   "source": [
    "X_train = pd.read_csv('X_train.csv', index_col=0)\n",
    "y_train = pd.read_csv('y_train.csv', index_col=0)"
   ]
  },
  {
   "cell_type": "markdown",
   "id": "0fce8a1e",
   "metadata": {},
   "source": [
    "First I'm going to train a linear regression model to see how it performs and which features it finds important to predicting cost efficiency."
   ]
  },
  {
   "cell_type": "code",
   "execution_count": 4,
   "id": "4e27a8e9",
   "metadata": {},
   "outputs": [
    {
     "data": {
      "text/plain": [
       "1.0"
      ]
     },
     "execution_count": 4,
     "metadata": {},
     "output_type": "execute_result"
    }
   ],
   "source": [
    "from sklearn.preprocessing import StandardScaler\n",
    "from sklearn.model_selection import train_test_split\n",
    "from sklearn.linear_model import LinearRegression\n",
    "\n",
    "scaler = StandardScaler()\n",
    "scaler.fit_transform(X_train)\n",
    "scaler.fit_transform(y_train)\n",
    "\n",
    "x_tr, x_te, y_tr, y_te = train_test_split(X_train, y_train, test_size=0.8)\n",
    "\n",
    "ols = LinearRegression()\n",
    "ols.fit(x_tr, y_tr)\n",
    "ols.score(x_tr, y_tr)"
   ]
  },
  {
   "cell_type": "code",
   "execution_count": 5,
   "id": "834e80f8",
   "metadata": {},
   "outputs": [
    {
     "data": {
      "text/plain": [
       "4.738713521202259e-22"
      ]
     },
     "execution_count": 5,
     "metadata": {},
     "output_type": "execute_result"
    }
   ],
   "source": [
    "from sklearn.metrics import mean_squared_error\n",
    "\n",
    "y_pred = ols.predict(x_te)\n",
    "mean_squared_error(y_te, y_pred)"
   ]
  },
  {
   "cell_type": "code",
   "execution_count": 6,
   "id": "7511f482",
   "metadata": {},
   "outputs": [
    {
     "data": {
      "text/plain": [
       "array([[-2.55501946e-14,  6.38378239e-16, -1.22124533e-15,\n",
       "        -2.18437768e-12, -6.87672141e-13,  4.26999365e-13,\n",
       "        -1.07434596e-13, -2.88550759e-13, -1.16466363e-12,\n",
       "        -6.32685754e-16, -1.27266429e-14, -1.31757669e-16,\n",
       "        -1.27812100e-12,  1.52096198e-12, -6.23935889e-14,\n",
       "        -7.88407976e-15,  2.09831991e-11, -2.76145277e-14,\n",
       "         8.80311092e-13,  7.24476041e-13,  1.35171844e-12,\n",
       "         7.07289177e-13, -1.12831600e-13,  1.57071486e-14,\n",
       "        -7.09354200e-14, -6.72728474e-15,  1.00000000e+00,\n",
       "         7.78543998e-14,  5.92658450e-14, -4.63587705e-14,\n",
       "         3.24902780e-14, -3.81560129e-14, -2.53482957e-14,\n",
       "         1.48815642e-15, -1.05830177e-14,  1.38805572e-14,\n",
       "        -7.78537723e-15,  8.47424990e-15, -1.10099545e-14,\n",
       "        -2.59116429e-14, -2.10324091e-14,  2.86207351e-15,\n",
       "        -1.01417456e-14,  1.35112699e-14, -5.23572241e-20,\n",
       "         8.47032947e-22,  4.15958958e-14,  4.60296525e-14,\n",
       "        -1.45427055e-13,  4.43059070e-14,  1.84108879e-15,\n",
       "        -2.59773316e-15, -3.14620131e-14, -5.45935706e-14,\n",
       "         3.24915393e-14, -3.81558277e-14,  1.30227888e-14,\n",
       "        -5.22366941e-14,  1.13860797e-13,  1.48794636e-15,\n",
       "        -1.05828711e-14,  0.00000000e+00, -7.78526606e-15,\n",
       "        -1.10101061e-14,  2.68871445e-14, -2.59118203e-14,\n",
       "         7.75386157e-15,  1.83776461e-14,  4.98870879e-14,\n",
       "         2.86281043e-15, -1.01408834e-14, -2.40005159e-14,\n",
       "         2.33236011e-14, -4.66484422e-15, -1.86630428e-14,\n",
       "        -4.47713088e-14, -6.85215434e-15,  1.35116697e-14,\n",
       "        -2.36999819e-14, -1.31488177e-14,  1.35116697e-14,\n",
       "        -1.35049849e-14,  6.28210710e-15,  2.19361781e-14,\n",
       "        -2.56239088e-14,  4.28295264e-15, -2.56241222e-14,\n",
       "         2.79646030e-14,  6.55146781e-15, -8.91048845e-15]])"
      ]
     },
     "execution_count": 6,
     "metadata": {},
     "output_type": "execute_result"
    }
   ],
   "source": [
    "ols.coef_"
   ]
  },
  {
   "cell_type": "markdown",
   "id": "6d0db7f1",
   "metadata": {},
   "source": [
    "Great! Perfect R-squared on both the train and test sets, time to pack it up and call it a capstone!\n",
    "\n",
    "Just kidding, there are way too many coefficients here and it's probably overfit. Let's take a look at Ridge and Lasso regressions to see if they can improve upon this OLS. I'm going to use a randomized search with cross validation to identify alpha"
   ]
  },
  {
   "cell_type": "code",
   "execution_count": null,
   "id": "dc5bd57b",
   "metadata": {},
   "outputs": [],
   "source": [
    "from sklearn.linear_model import Ridge\n",
    "from sklearn.model_selection import RandomizedSearchCV\n",
    "from sklearn import linear_model\n",
    "from scipy.stats import uniform as sp_randFloat\n",
    "from scipy.stats import randint as sp_randInt"
   ]
  },
  {
   "cell_type": "code",
   "execution_count": 19,
   "id": "f70e91c4",
   "metadata": {},
   "outputs": [
    {
     "data": {
      "text/plain": [
       "{'alpha': 75338563.41631173}"
      ]
     },
     "execution_count": 19,
     "metadata": {},
     "output_type": "execute_result"
    }
   ],
   "source": [
    "parameters = {'alpha': sp_randFloat(10000000,10000000000)}\n",
    "ridge = Ridge()\n",
    "ridge_reg = RandomizedSearchCV(ridge, parameters, n_iter=60, cv=5)\n",
    "random_ridge = ridge_reg.fit(x_tr, y_tr)\n",
    "random_ridge.best_params_"
   ]
  },
  {
   "cell_type": "code",
   "execution_count": 20,
   "id": "ec91ff23",
   "metadata": {},
   "outputs": [
    {
     "data": {
      "text/html": [
       "<div>\n",
       "<style scoped>\n",
       "    .dataframe tbody tr th:only-of-type {\n",
       "        vertical-align: middle;\n",
       "    }\n",
       "\n",
       "    .dataframe tbody tr th {\n",
       "        vertical-align: top;\n",
       "    }\n",
       "\n",
       "    .dataframe thead th {\n",
       "        text-align: right;\n",
       "    }\n",
       "</style>\n",
       "<table border=\"1\" class=\"dataframe\">\n",
       "  <thead>\n",
       "    <tr style=\"text-align: right;\">\n",
       "      <th></th>\n",
       "      <th>mean_fit_time</th>\n",
       "      <th>std_fit_time</th>\n",
       "      <th>mean_score_time</th>\n",
       "      <th>std_score_time</th>\n",
       "      <th>param_alpha</th>\n",
       "      <th>params</th>\n",
       "      <th>split0_test_score</th>\n",
       "      <th>split1_test_score</th>\n",
       "      <th>split2_test_score</th>\n",
       "      <th>split3_test_score</th>\n",
       "      <th>split4_test_score</th>\n",
       "      <th>mean_test_score</th>\n",
       "      <th>std_test_score</th>\n",
       "      <th>rank_test_score</th>\n",
       "    </tr>\n",
       "  </thead>\n",
       "  <tbody>\n",
       "    <tr>\n",
       "      <th>0</th>\n",
       "      <td>0.108957</td>\n",
       "      <td>0.007775</td>\n",
       "      <td>0.016324</td>\n",
       "      <td>0.000578</td>\n",
       "      <td>4026814658.783855</td>\n",
       "      <td>{'alpha': 4026814658.783855}</td>\n",
       "      <td>0.996632</td>\n",
       "      <td>0.995982</td>\n",
       "      <td>0.996867</td>\n",
       "      <td>0.996357</td>\n",
       "      <td>0.996769</td>\n",
       "      <td>0.996521</td>\n",
       "      <td>0.000320</td>\n",
       "      <td>24</td>\n",
       "    </tr>\n",
       "    <tr>\n",
       "      <th>1</th>\n",
       "      <td>0.116771</td>\n",
       "      <td>0.000646</td>\n",
       "      <td>0.016678</td>\n",
       "      <td>0.000737</td>\n",
       "      <td>7177318192.272618</td>\n",
       "      <td>{'alpha': 7177318192.272618}</td>\n",
       "      <td>0.990344</td>\n",
       "      <td>0.988459</td>\n",
       "      <td>0.990940</td>\n",
       "      <td>0.989534</td>\n",
       "      <td>0.990649</td>\n",
       "      <td>0.989985</td>\n",
       "      <td>0.000896</td>\n",
       "      <td>46</td>\n",
       "    </tr>\n",
       "    <tr>\n",
       "      <th>2</th>\n",
       "      <td>0.114852</td>\n",
       "      <td>0.004397</td>\n",
       "      <td>0.015023</td>\n",
       "      <td>0.002175</td>\n",
       "      <td>6511794543.47162</td>\n",
       "      <td>{'alpha': 6511794543.47162}</td>\n",
       "      <td>0.991882</td>\n",
       "      <td>0.990300</td>\n",
       "      <td>0.992395</td>\n",
       "      <td>0.991204</td>\n",
       "      <td>0.992153</td>\n",
       "      <td>0.991587</td>\n",
       "      <td>0.000757</td>\n",
       "      <td>38</td>\n",
       "    </tr>\n",
       "    <tr>\n",
       "      <th>3</th>\n",
       "      <td>0.115577</td>\n",
       "      <td>0.007973</td>\n",
       "      <td>0.016944</td>\n",
       "      <td>0.000575</td>\n",
       "      <td>3743088280.124309</td>\n",
       "      <td>{'alpha': 3743088280.124309}</td>\n",
       "      <td>0.997062</td>\n",
       "      <td>0.996495</td>\n",
       "      <td>0.997269</td>\n",
       "      <td>0.996822</td>\n",
       "      <td>0.997184</td>\n",
       "      <td>0.996966</td>\n",
       "      <td>0.000280</td>\n",
       "      <td>20</td>\n",
       "    </tr>\n",
       "    <tr>\n",
       "      <th>4</th>\n",
       "      <td>0.114492</td>\n",
       "      <td>0.003833</td>\n",
       "      <td>0.013800</td>\n",
       "      <td>0.006934</td>\n",
       "      <td>1095979182.385983</td>\n",
       "      <td>{'alpha': 1095979182.3859832}</td>\n",
       "      <td>0.999724</td>\n",
       "      <td>0.999671</td>\n",
       "      <td>0.999746</td>\n",
       "      <td>0.999702</td>\n",
       "      <td>0.999737</td>\n",
       "      <td>0.999716</td>\n",
       "      <td>0.000027</td>\n",
       "      <td>4</td>\n",
       "    </tr>\n",
       "  </tbody>\n",
       "</table>\n",
       "</div>"
      ],
      "text/plain": [
       "   mean_fit_time  std_fit_time  mean_score_time  std_score_time  \\\n",
       "0       0.108957      0.007775         0.016324        0.000578   \n",
       "1       0.116771      0.000646         0.016678        0.000737   \n",
       "2       0.114852      0.004397         0.015023        0.002175   \n",
       "3       0.115577      0.007973         0.016944        0.000575   \n",
       "4       0.114492      0.003833         0.013800        0.006934   \n",
       "\n",
       "         param_alpha                         params  split0_test_score  \\\n",
       "0  4026814658.783855   {'alpha': 4026814658.783855}           0.996632   \n",
       "1  7177318192.272618   {'alpha': 7177318192.272618}           0.990344   \n",
       "2   6511794543.47162    {'alpha': 6511794543.47162}           0.991882   \n",
       "3  3743088280.124309   {'alpha': 3743088280.124309}           0.997062   \n",
       "4  1095979182.385983  {'alpha': 1095979182.3859832}           0.999724   \n",
       "\n",
       "   split1_test_score  split2_test_score  split3_test_score  split4_test_score  \\\n",
       "0           0.995982           0.996867           0.996357           0.996769   \n",
       "1           0.988459           0.990940           0.989534           0.990649   \n",
       "2           0.990300           0.992395           0.991204           0.992153   \n",
       "3           0.996495           0.997269           0.996822           0.997184   \n",
       "4           0.999671           0.999746           0.999702           0.999737   \n",
       "\n",
       "   mean_test_score  std_test_score  rank_test_score  \n",
       "0         0.996521        0.000320               24  \n",
       "1         0.989985        0.000896               46  \n",
       "2         0.991587        0.000757               38  \n",
       "3         0.996966        0.000280               20  \n",
       "4         0.999716        0.000027                4  "
      ]
     },
     "execution_count": 20,
     "metadata": {},
     "output_type": "execute_result"
    }
   ],
   "source": [
    "random_ridge_results = pd.DataFrame(random_ridge.cv_results_)\n",
    "random_ridge_results.head()"
   ]
  },
  {
   "cell_type": "code",
   "execution_count": 21,
   "id": "9567acfd",
   "metadata": {
    "scrolled": true
   },
   "outputs": [
    {
     "data": {
      "image/png": "[encoded data removed]",
      "text/plain": [
       "<Figure size 640x480 with 1 Axes>"
      ]
     },
     "metadata": {},
     "output_type": "display_data"
    }
   ],
   "source": [
    "sns.scatterplot(data=random_ridge_results, x='param_alpha', y='mean_test_score')\n",
    "plt.show()"
   ]
  },
  {
   "cell_type": "code",
   "execution_count": 10,
   "id": "082fdf9f",
   "metadata": {},
   "outputs": [
    {
     "data": {
      "text/plain": [
       "{'alpha': 30737}"
      ]
     },
     "execution_count": 10,
     "metadata": {},
     "output_type": "execute_result"
    }
   ],
   "source": [
    "parameters = {'alpha': sp_randInt(10000,10000000)}\n",
    "lasso = linear_model.Lasso()\n",
    "rand = RandomizedSearchCV(lasso, parameters, n_iter=60, cv=5, random_state=0)\n",
    "rand_lasso = rand.fit(x_tr, y_tr)\n",
    "rand_lasso.best_params_"
   ]
  },
  {
   "cell_type": "code",
   "execution_count": 11,
   "id": "289582bd",
   "metadata": {},
   "outputs": [
    {
     "data": {
      "text/html": [
       "<div>\n",
       "<style scoped>\n",
       "    .dataframe tbody tr th:only-of-type {\n",
       "        vertical-align: middle;\n",
       "    }\n",
       "\n",
       "    .dataframe tbody tr th {\n",
       "        vertical-align: top;\n",
       "    }\n",
       "\n",
       "    .dataframe thead th {\n",
       "        text-align: right;\n",
       "    }\n",
       "</style>\n",
       "<table border=\"1\" class=\"dataframe\">\n",
       "  <thead>\n",
       "    <tr style=\"text-align: right;\">\n",
       "      <th></th>\n",
       "      <th>mean_fit_time</th>\n",
       "      <th>std_fit_time</th>\n",
       "      <th>mean_score_time</th>\n",
       "      <th>std_score_time</th>\n",
       "      <th>param_alpha</th>\n",
       "      <th>params</th>\n",
       "      <th>split0_test_score</th>\n",
       "      <th>split1_test_score</th>\n",
       "      <th>split2_test_score</th>\n",
       "      <th>split3_test_score</th>\n",
       "      <th>split4_test_score</th>\n",
       "      <th>mean_test_score</th>\n",
       "      <th>std_test_score</th>\n",
       "      <th>rank_test_score</th>\n",
       "    </tr>\n",
       "  </thead>\n",
       "  <tbody>\n",
       "    <tr>\n",
       "      <th>0</th>\n",
       "      <td>0.125523</td>\n",
       "      <td>0.004228</td>\n",
       "      <td>0.023802</td>\n",
       "      <td>0.006524</td>\n",
       "      <td>8335804</td>\n",
       "      <td>{'alpha': 8335804}</td>\n",
       "      <td>0.052581</td>\n",
       "      <td>0.051972</td>\n",
       "      <td>0.054364</td>\n",
       "      <td>0.047280</td>\n",
       "      <td>0.052663</td>\n",
       "      <td>0.051772</td>\n",
       "      <td>0.002383</td>\n",
       "      <td>51</td>\n",
       "    </tr>\n",
       "    <tr>\n",
       "      <th>1</th>\n",
       "      <td>0.134431</td>\n",
       "      <td>0.010250</td>\n",
       "      <td>0.014536</td>\n",
       "      <td>0.002724</td>\n",
       "      <td>1494405</td>\n",
       "      <td>{'alpha': 1494405}</td>\n",
       "      <td>0.690161</td>\n",
       "      <td>0.649225</td>\n",
       "      <td>0.705634</td>\n",
       "      <td>0.660492</td>\n",
       "      <td>0.704175</td>\n",
       "      <td>0.681937</td>\n",
       "      <td>0.023038</td>\n",
       "      <td>9</td>\n",
       "    </tr>\n",
       "    <tr>\n",
       "      <th>2</th>\n",
       "      <td>0.130042</td>\n",
       "      <td>0.009697</td>\n",
       "      <td>0.012469</td>\n",
       "      <td>0.006039</td>\n",
       "      <td>2225104</td>\n",
       "      <td>{'alpha': 2225104}</td>\n",
       "      <td>0.313093</td>\n",
       "      <td>0.222338</td>\n",
       "      <td>0.347397</td>\n",
       "      <td>0.247318</td>\n",
       "      <td>0.344159</td>\n",
       "      <td>0.294861</td>\n",
       "      <td>0.051074</td>\n",
       "      <td>13</td>\n",
       "    </tr>\n",
       "    <tr>\n",
       "      <th>3</th>\n",
       "      <td>0.128186</td>\n",
       "      <td>0.010194</td>\n",
       "      <td>0.016053</td>\n",
       "      <td>0.000493</td>\n",
       "      <td>5167699</td>\n",
       "      <td>{'alpha': 5167699}</td>\n",
       "      <td>0.092952</td>\n",
       "      <td>0.066405</td>\n",
       "      <td>0.089073</td>\n",
       "      <td>0.083407</td>\n",
       "      <td>0.074527</td>\n",
       "      <td>0.081273</td>\n",
       "      <td>0.009679</td>\n",
       "      <td>38</td>\n",
       "    </tr>\n",
       "    <tr>\n",
       "      <th>4</th>\n",
       "      <td>0.135463</td>\n",
       "      <td>0.009196</td>\n",
       "      <td>0.017779</td>\n",
       "      <td>0.002241</td>\n",
       "      <td>8232403</td>\n",
       "      <td>{'alpha': 8232403}</td>\n",
       "      <td>0.054083</td>\n",
       "      <td>0.052955</td>\n",
       "      <td>0.055629</td>\n",
       "      <td>0.048655</td>\n",
       "      <td>0.053592</td>\n",
       "      <td>0.052983</td>\n",
       "      <td>0.002337</td>\n",
       "      <td>50</td>\n",
       "    </tr>\n",
       "  </tbody>\n",
       "</table>\n",
       "</div>"
      ],
      "text/plain": [
       "   mean_fit_time  std_fit_time  mean_score_time  std_score_time param_alpha  \\\n",
       "0       0.125523      0.004228         0.023802        0.006524     8335804   \n",
       "1       0.134431      0.010250         0.014536        0.002724     1494405   \n",
       "2       0.130042      0.009697         0.012469        0.006039     2225104   \n",
       "3       0.128186      0.010194         0.016053        0.000493     5167699   \n",
       "4       0.135463      0.009196         0.017779        0.002241     8232403   \n",
       "\n",
       "               params  split0_test_score  split1_test_score  \\\n",
       "0  {'alpha': 8335804}           0.052581           0.051972   \n",
       "1  {'alpha': 1494405}           0.690161           0.649225   \n",
       "2  {'alpha': 2225104}           0.313093           0.222338   \n",
       "3  {'alpha': 5167699}           0.092952           0.066405   \n",
       "4  {'alpha': 8232403}           0.054083           0.052955   \n",
       "\n",
       "   split2_test_score  split3_test_score  split4_test_score  mean_test_score  \\\n",
       "0           0.054364           0.047280           0.052663         0.051772   \n",
       "1           0.705634           0.660492           0.704175         0.681937   \n",
       "2           0.347397           0.247318           0.344159         0.294861   \n",
       "3           0.089073           0.083407           0.074527         0.081273   \n",
       "4           0.055629           0.048655           0.053592         0.052983   \n",
       "\n",
       "   std_test_score  rank_test_score  \n",
       "0        0.002383               51  \n",
       "1        0.023038                9  \n",
       "2        0.051074               13  \n",
       "3        0.009679               38  \n",
       "4        0.002337               50  "
      ]
     },
     "execution_count": 11,
     "metadata": {},
     "output_type": "execute_result"
    }
   ],
   "source": [
    "rand_lasso_params = pd.DataFrame(rand_lasso.cv_results_)\n",
    "rand_lasso_params.head()"
   ]
  },
  {
   "cell_type": "code",
   "execution_count": 12,
   "id": "4df5b632",
   "metadata": {},
   "outputs": [
    {
     "data": {
      "image/png": "[encoded data removed]",
      "text/plain": [
       "<Figure size 640x480 with 1 Axes>"
      ]
     },
     "metadata": {},
     "output_type": "display_data"
    }
   ],
   "source": [
    "sns.scatterplot(data=rand_lasso_params, x='param_alpha', y='mean_test_score')\n",
    "plt.show()"
   ]
  }
 ],
 "metadata": {
  "kernelspec": {
   "display_name": "Python 3 (ipykernel)",
   "language": "python",
   "name": "python3"
  },
  "language_info": {
   "codemirror_mode": {
    "name": "ipython",
    "version": 3
   },
   "file_extension": ".py",
   "mimetype": "text/x-python",
   "name": "python",
   "nbconvert_exporter": "python",
   "pygments_lexer": "ipython3",
   "version": "3.9.15"
  }
 },
 "nbformat": 4,
 "nbformat_minor": 5
}
