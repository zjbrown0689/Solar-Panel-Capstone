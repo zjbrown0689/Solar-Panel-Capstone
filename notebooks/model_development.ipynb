{
 "cells": [
  {
   "cell_type": "markdown",
   "id": "c378f6c8",
   "metadata": {},
   "source": [
    "# Getting the most solar power for your dollar\n",
    "## Model development\n",
    "### Zachary Brown\n",
    "\n",
    "I've loaded, cleaned, engineered, and split the dataset I'm using to determine how to optimize cost efficiency for a residential solar panel installation. Now I will screen a range of regression models to identify which gives the best results and refine it as best I can.\n",
    "\n",
    "I'll start by loading in my X_train and y_train sets so that I can begin training some models."
   ]
  },
  {
   "cell_type": "code",
   "execution_count": 1,
   "id": "66aa66b7",
   "metadata": {},
   "outputs": [],
   "source": [
    "import os\n",
    "import numpy as np\n",
    "import pandas as pd\n",
    "import matplotlib.pyplot as plt\n",
    "import seaborn as sns\n",
    "sns.set_theme('notebook')\n",
    "from sklearn.model_selection import train_test_split"
   ]
  },
  {
   "cell_type": "code",
   "execution_count": 2,
   "id": "5912dfb8",
   "metadata": {},
   "outputs": [
    {
     "name": "stdout",
     "output_type": "stream",
     "text": [
      "C:\\Users\\Zjbro\\OneDrive\\Documents\\GitHub\\Solar-Panel-Capstone\\notebooks\n",
      "C:\\Users\\Zjbro\\OneDrive\\Documents\\GitHub\\Solar-Panel-Capstone\\data\\processed\n"
     ]
    }
   ],
   "source": [
    "print(os.getcwd())\n",
    "os.chdir(r\"..\\data\\processed\")\n",
    "print(os.getcwd())"
   ]
  },
  {
   "cell_type": "code",
   "execution_count": 3,
   "id": "972180b3",
   "metadata": {},
   "outputs": [
    {
     "data": {
      "text/html": [
       "<div>\n",
       "<style scoped>\n",
       "    .dataframe tbody tr th:only-of-type {\n",
       "        vertical-align: middle;\n",
       "    }\n",
       "\n",
       "    .dataframe tbody tr th {\n",
       "        vertical-align: top;\n",
       "    }\n",
       "\n",
       "    .dataframe thead th {\n",
       "        text-align: right;\n",
       "    }\n",
       "</style>\n",
       "<table border=\"1\" class=\"dataframe\">\n",
       "  <thead>\n",
       "    <tr style=\"text-align: right;\">\n",
       "      <th></th>\n",
       "      <th>system_size_dc</th>\n",
       "      <th>total_installed_price</th>\n",
       "      <th>rebate_or_grant</th>\n",
       "      <th>expansion_system</th>\n",
       "      <th>multiple_phase_system</th>\n",
       "      <th>tracking</th>\n",
       "      <th>ground_mounted</th>\n",
       "      <th>third_party_owned</th>\n",
       "      <th>self_installed</th>\n",
       "      <th>azimuth_1</th>\n",
       "      <th>...</th>\n",
       "      <th>module_model_1_missing</th>\n",
       "      <th>module_model_1_not_missing</th>\n",
       "      <th>solaredge_technologies</th>\n",
       "      <th>enphase_energy</th>\n",
       "      <th>inverter_manufacturer_1_missing</th>\n",
       "      <th>inverter_manufacturer_1_other</th>\n",
       "      <th>inverter_model_1_missing</th>\n",
       "      <th>iq7</th>\n",
       "      <th>se3</th>\n",
       "      <th>inverter_model_1_other</th>\n",
       "    </tr>\n",
       "  </thead>\n",
       "  <tbody>\n",
       "    <tr>\n",
       "      <th>389292</th>\n",
       "      <td>4.76</td>\n",
       "      <td>21090.0</td>\n",
       "      <td>0.0</td>\n",
       "      <td>0</td>\n",
       "      <td>0</td>\n",
       "      <td>0</td>\n",
       "      <td>0</td>\n",
       "      <td>0</td>\n",
       "      <td>0</td>\n",
       "      <td>205.0</td>\n",
       "      <td>...</td>\n",
       "      <td>0</td>\n",
       "      <td>1</td>\n",
       "      <td>0</td>\n",
       "      <td>0</td>\n",
       "      <td>0</td>\n",
       "      <td>1</td>\n",
       "      <td>0</td>\n",
       "      <td>0</td>\n",
       "      <td>0</td>\n",
       "      <td>1</td>\n",
       "    </tr>\n",
       "    <tr>\n",
       "      <th>183840</th>\n",
       "      <td>7.20</td>\n",
       "      <td>26452.0</td>\n",
       "      <td>0.0</td>\n",
       "      <td>0</td>\n",
       "      <td>0</td>\n",
       "      <td>0</td>\n",
       "      <td>0</td>\n",
       "      <td>0</td>\n",
       "      <td>0</td>\n",
       "      <td>180.0</td>\n",
       "      <td>...</td>\n",
       "      <td>1</td>\n",
       "      <td>0</td>\n",
       "      <td>0</td>\n",
       "      <td>0</td>\n",
       "      <td>1</td>\n",
       "      <td>0</td>\n",
       "      <td>1</td>\n",
       "      <td>0</td>\n",
       "      <td>0</td>\n",
       "      <td>0</td>\n",
       "    </tr>\n",
       "    <tr>\n",
       "      <th>498462</th>\n",
       "      <td>9.45</td>\n",
       "      <td>49600.0</td>\n",
       "      <td>0.0</td>\n",
       "      <td>0</td>\n",
       "      <td>0</td>\n",
       "      <td>0</td>\n",
       "      <td>0</td>\n",
       "      <td>0</td>\n",
       "      <td>0</td>\n",
       "      <td>170.0</td>\n",
       "      <td>...</td>\n",
       "      <td>0</td>\n",
       "      <td>1</td>\n",
       "      <td>1</td>\n",
       "      <td>0</td>\n",
       "      <td>0</td>\n",
       "      <td>0</td>\n",
       "      <td>0</td>\n",
       "      <td>0</td>\n",
       "      <td>0</td>\n",
       "      <td>1</td>\n",
       "    </tr>\n",
       "    <tr>\n",
       "      <th>1482443</th>\n",
       "      <td>15.40</td>\n",
       "      <td>64988.0</td>\n",
       "      <td>5687.0</td>\n",
       "      <td>0</td>\n",
       "      <td>0</td>\n",
       "      <td>0</td>\n",
       "      <td>0</td>\n",
       "      <td>0</td>\n",
       "      <td>0</td>\n",
       "      <td>250.0</td>\n",
       "      <td>...</td>\n",
       "      <td>0</td>\n",
       "      <td>1</td>\n",
       "      <td>1</td>\n",
       "      <td>0</td>\n",
       "      <td>0</td>\n",
       "      <td>0</td>\n",
       "      <td>0</td>\n",
       "      <td>0</td>\n",
       "      <td>0</td>\n",
       "      <td>1</td>\n",
       "    </tr>\n",
       "    <tr>\n",
       "      <th>428146</th>\n",
       "      <td>3.25</td>\n",
       "      <td>11667.9</td>\n",
       "      <td>0.0</td>\n",
       "      <td>0</td>\n",
       "      <td>0</td>\n",
       "      <td>0</td>\n",
       "      <td>0</td>\n",
       "      <td>1</td>\n",
       "      <td>0</td>\n",
       "      <td>227.0</td>\n",
       "      <td>...</td>\n",
       "      <td>0</td>\n",
       "      <td>1</td>\n",
       "      <td>0</td>\n",
       "      <td>0</td>\n",
       "      <td>0</td>\n",
       "      <td>1</td>\n",
       "      <td>0</td>\n",
       "      <td>0</td>\n",
       "      <td>0</td>\n",
       "      <td>1</td>\n",
       "    </tr>\n",
       "  </tbody>\n",
       "</table>\n",
       "<p>5 rows × 90 columns</p>\n",
       "</div>"
      ],
      "text/plain": [
       "         system_size_dc  total_installed_price  rebate_or_grant  \\\n",
       "389292             4.76                21090.0              0.0   \n",
       "183840             7.20                26452.0              0.0   \n",
       "498462             9.45                49600.0              0.0   \n",
       "1482443           15.40                64988.0           5687.0   \n",
       "428146             3.25                11667.9              0.0   \n",
       "\n",
       "         expansion_system  multiple_phase_system  tracking  ground_mounted  \\\n",
       "389292                  0                      0         0               0   \n",
       "183840                  0                      0         0               0   \n",
       "498462                  0                      0         0               0   \n",
       "1482443                 0                      0         0               0   \n",
       "428146                  0                      0         0               0   \n",
       "\n",
       "         third_party_owned  self_installed  azimuth_1  ...  \\\n",
       "389292                   0               0      205.0  ...   \n",
       "183840                   0               0      180.0  ...   \n",
       "498462                   0               0      170.0  ...   \n",
       "1482443                  0               0      250.0  ...   \n",
       "428146                   1               0      227.0  ...   \n",
       "\n",
       "         module_model_1_missing  module_model_1_not_missing  \\\n",
       "389292                        0                           1   \n",
       "183840                        1                           0   \n",
       "498462                        0                           1   \n",
       "1482443                       0                           1   \n",
       "428146                        0                           1   \n",
       "\n",
       "         solaredge_technologies  enphase_energy  \\\n",
       "389292                        0               0   \n",
       "183840                        0               0   \n",
       "498462                        1               0   \n",
       "1482443                       1               0   \n",
       "428146                        0               0   \n",
       "\n",
       "         inverter_manufacturer_1_missing  inverter_manufacturer_1_other  \\\n",
       "389292                                 0                              1   \n",
       "183840                                 1                              0   \n",
       "498462                                 0                              0   \n",
       "1482443                                0                              0   \n",
       "428146                                 0                              1   \n",
       "\n",
       "         inverter_model_1_missing  iq7  se3  inverter_model_1_other  \n",
       "389292                          0    0    0                       1  \n",
       "183840                          1    0    0                       0  \n",
       "498462                          0    0    0                       1  \n",
       "1482443                         0    0    0                       1  \n",
       "428146                          0    0    0                       1  \n",
       "\n",
       "[5 rows x 90 columns]"
      ]
     },
     "execution_count": 3,
     "metadata": {},
     "output_type": "execute_result"
    }
   ],
   "source": [
    "X_train = pd.read_csv('X_train.csv', index_col=0)\n",
    "y_train = pd.read_csv('y_train.csv', index_col=0)\n",
    "X_train.head()"
   ]
  },
  {
   "cell_type": "code",
   "execution_count": 4,
   "id": "13eafde2",
   "metadata": {},
   "outputs": [
    {
     "data": {
      "text/html": [
       "<div>\n",
       "<style scoped>\n",
       "    .dataframe tbody tr th:only-of-type {\n",
       "        vertical-align: middle;\n",
       "    }\n",
       "\n",
       "    .dataframe tbody tr th {\n",
       "        vertical-align: top;\n",
       "    }\n",
       "\n",
       "    .dataframe thead th {\n",
       "        text-align: right;\n",
       "    }\n",
       "</style>\n",
       "<table border=\"1\" class=\"dataframe\">\n",
       "  <thead>\n",
       "    <tr style=\"text-align: right;\">\n",
       "      <th></th>\n",
       "      <th>price_per_kw</th>\n",
       "    </tr>\n",
       "  </thead>\n",
       "  <tbody>\n",
       "    <tr>\n",
       "      <th>389292</th>\n",
       "      <td>4430.672269</td>\n",
       "    </tr>\n",
       "    <tr>\n",
       "      <th>183840</th>\n",
       "      <td>3673.888889</td>\n",
       "    </tr>\n",
       "    <tr>\n",
       "      <th>498462</th>\n",
       "      <td>5248.677249</td>\n",
       "    </tr>\n",
       "    <tr>\n",
       "      <th>1482443</th>\n",
       "      <td>3850.714286</td>\n",
       "    </tr>\n",
       "    <tr>\n",
       "      <th>428146</th>\n",
       "      <td>3590.123077</td>\n",
       "    </tr>\n",
       "  </tbody>\n",
       "</table>\n",
       "</div>"
      ],
      "text/plain": [
       "         price_per_kw\n",
       "389292    4430.672269\n",
       "183840    3673.888889\n",
       "498462    5248.677249\n",
       "1482443   3850.714286\n",
       "428146    3590.123077"
      ]
     },
     "execution_count": 4,
     "metadata": {},
     "output_type": "execute_result"
    }
   ],
   "source": [
    "y_train.head()"
   ]
  },
  {
   "cell_type": "markdown",
   "id": "0fce8a1e",
   "metadata": {},
   "source": [
    "First I'm going to train a linear regression model to see how it performs and which features it finds important to predicting cost efficiency."
   ]
  },
  {
   "cell_type": "code",
   "execution_count": 5,
   "id": "4e27a8e9",
   "metadata": {},
   "outputs": [
    {
     "data": {
      "text/plain": [
       "((31238, 90), (124954, 90), (31238,), (124954,))"
      ]
     },
     "execution_count": 5,
     "metadata": {},
     "output_type": "execute_result"
    }
   ],
   "source": [
    "from sklearn.preprocessing import StandardScaler\n",
    "from sklearn.model_selection import train_test_split\n",
    "from sklearn.linear_model import LinearRegression\n",
    "\n",
    "scaler = StandardScaler()\n",
    "scaler.fit_transform(X_train)\n",
    "scaler.fit_transform(y_train)\n",
    "\n",
    "x_tr, x_te, y_tr, y_te = train_test_split(X_train, y_train['price_per_kw'], test_size=0.8)\n",
    "\n",
    "x_tr.shape, x_te.shape, y_tr.shape, y_te.shape"
   ]
  },
  {
   "cell_type": "code",
   "execution_count": 6,
   "id": "fb54789d",
   "metadata": {},
   "outputs": [
    {
     "data": {
      "text/plain": [
       "1.0"
      ]
     },
     "execution_count": 6,
     "metadata": {},
     "output_type": "execute_result"
    }
   ],
   "source": [
    "ols = LinearRegression()\n",
    "ols.fit(x_tr, y_tr)\n",
    "ols.score(x_tr, y_tr)"
   ]
  },
  {
   "cell_type": "code",
   "execution_count": 7,
   "id": "834e80f8",
   "metadata": {},
   "outputs": [
    {
     "data": {
      "text/plain": [
       "2.060422798931258e-22"
      ]
     },
     "execution_count": 7,
     "metadata": {},
     "output_type": "execute_result"
    }
   ],
   "source": [
    "from sklearn.metrics import mean_squared_error\n",
    "\n",
    "y_pred = ols.predict(x_te)\n",
    "mean_squared_error(y_te, y_pred)"
   ]
  },
  {
   "cell_type": "code",
   "execution_count": 8,
   "id": "7511f482",
   "metadata": {},
   "outputs": [
    {
     "data": {
      "text/plain": [
       "array([ 9.19791528e-14,  9.02056208e-17,  1.11022302e-16,  2.96657837e-12,\n",
       "       -4.04152406e-13, -5.53304689e-13, -2.82439306e-12,  8.81314282e-13,\n",
       "       -2.33667957e-13,  4.07635622e-15,  1.07619263e-14, -9.99080223e-14,\n",
       "       -1.97576347e-12, -4.99579688e-13,  2.35912701e-13, -2.58516150e-16,\n",
       "        1.41200423e-13,  2.46980738e-14, -1.42995112e-12, -7.77502666e-13,\n",
       "        4.60049697e-13, -3.37043868e-13,  9.40095271e-14,  2.05472362e-13,\n",
       "       -3.10178440e-13, -2.71495066e-14,  1.00000000e+00,  5.55900675e-13,\n",
       "        2.50985573e-13,  5.91198208e-15,  1.04022003e-13,  1.63329489e-13,\n",
       "        1.44144480e-13,  1.12020575e-13,  2.17973101e-13,  3.98736288e-14,\n",
       "        1.05394793e-14,  2.58875120e-13,  1.49520709e-13,  1.24759106e-13,\n",
       "       -2.41534244e-12,  2.09011080e-13,  6.84753017e-14, -4.02159859e-14,\n",
       "        0.00000000e+00, -3.70861737e-13, -1.48705301e-13, -2.00221153e-13,\n",
       "       -6.30027595e-13,  1.39003174e-12,  8.10331035e-14, -7.70080657e-12,\n",
       "        2.64655857e-12, -2.46728797e-14,  1.04021980e-13,  1.63329495e-13,\n",
       "        2.63890561e-12,  2.39743976e-14,  2.75658542e-13,  1.12020581e-13,\n",
       "        2.17973090e-13, -5.29395592e-23,  1.05394751e-14,  1.49520696e-13,\n",
       "        1.20170081e-13,  1.24759106e-13,  3.06380060e-13,  1.81934698e-13,\n",
       "       -1.34470689e-14,  2.09011133e-13,  6.84753005e-14,  3.04660650e-13,\n",
       "        1.47721648e-14,  1.04725739e-14, -2.52448641e-14, -7.07753880e-15,\n",
       "        3.13790926e-13, -4.02159105e-14,  6.71615473e-15,  1.06946583e-13,\n",
       "       -4.02159105e-14,  4.02159622e-14, -3.47067989e-14,  7.70022135e-14,\n",
       "       -4.38241393e-13,  8.21549817e-14,  3.77403089e-13, -1.13209991e-13,\n",
       "       -9.05147641e-14, -1.73678221e-13])"
      ]
     },
     "execution_count": 8,
     "metadata": {},
     "output_type": "execute_result"
    }
   ],
   "source": [
    "ols.coef_"
   ]
  },
  {
   "cell_type": "markdown",
   "id": "6d0db7f1",
   "metadata": {},
   "source": [
    "Great! Perfect R-squared on both the train and test sets, time to pack it up and call it a capstone!\n",
    "\n",
    "Just kidding, there are way too many coefficients here and it's probably overfit. Let's take a look at Ridge and Lasso regressions to see if they can improve upon this OLS. I'm going to use a randomized search with cross validation to identify alpha"
   ]
  },
  {
   "cell_type": "code",
   "execution_count": 9,
   "id": "dc5bd57b",
   "metadata": {},
   "outputs": [],
   "source": [
    "from sklearn.linear_model import Ridge\n",
    "from sklearn.model_selection import RandomizedSearchCV\n",
    "from sklearn import linear_model\n",
    "from scipy.stats import uniform as sp_randFloat\n",
    "from scipy.stats import randint as sp_randInt"
   ]
  },
  {
   "cell_type": "code",
   "execution_count": 10,
   "id": "f70e91c4",
   "metadata": {},
   "outputs": [
    {
     "data": {
      "text/plain": [
       "{'alpha': 268724222.15566957}"
      ]
     },
     "execution_count": 10,
     "metadata": {},
     "output_type": "execute_result"
    }
   ],
   "source": [
    "parameters = {'alpha': sp_randFloat(10000000,10000000000)}\n",
    "ridge = Ridge()\n",
    "ridge_reg = RandomizedSearchCV(ridge, parameters,scoring=['neg_root_mean_squared_error', 'neg_mean_absolute_error'],\\\n",
    "                               refit='neg_root_mean_squared_error', n_iter=60, cv=5)\n",
    "random_ridge = ridge_reg.fit(x_tr, y_tr)\n",
    "random_ridge.best_params_"
   ]
  },
  {
   "cell_type": "code",
   "execution_count": 11,
   "id": "ec91ff23",
   "metadata": {},
   "outputs": [
    {
     "data": {
      "text/plain": [
       "Index(['mean_fit_time', 'std_fit_time', 'mean_score_time', 'std_score_time',\n",
       "       'param_alpha', 'params', 'split0_test_neg_root_mean_squared_error',\n",
       "       'split1_test_neg_root_mean_squared_error',\n",
       "       'split2_test_neg_root_mean_squared_error',\n",
       "       'split3_test_neg_root_mean_squared_error',\n",
       "       'split4_test_neg_root_mean_squared_error',\n",
       "       'mean_test_neg_root_mean_squared_error',\n",
       "       'std_test_neg_root_mean_squared_error',\n",
       "       'rank_test_neg_root_mean_squared_error',\n",
       "       'split0_test_neg_mean_absolute_error',\n",
       "       'split1_test_neg_mean_absolute_error',\n",
       "       'split2_test_neg_mean_absolute_error',\n",
       "       'split3_test_neg_mean_absolute_error',\n",
       "       'split4_test_neg_mean_absolute_error',\n",
       "       'mean_test_neg_mean_absolute_error', 'std_test_neg_mean_absolute_error',\n",
       "       'rank_test_neg_mean_absolute_error'],\n",
       "      dtype='object')"
      ]
     },
     "execution_count": 11,
     "metadata": {},
     "output_type": "execute_result"
    }
   ],
   "source": [
    "random_ridge_results = pd.DataFrame(random_ridge.cv_results_)\n",
    "random_ridge_results.columns"
   ]
  },
  {
   "cell_type": "code",
   "execution_count": 12,
   "id": "9567acfd",
   "metadata": {
    "scrolled": true
   },
   "outputs": [
    {
     "data": {
      "image/png": "[encoded data removed]",
      "text/plain": [
       "<Figure size 640x480 with 2 Axes>"
      ]
     },
     "metadata": {},
     "output_type": "display_data"
    }
   ],
   "source": [
    "fig, ax = plt.subplots()\n",
    "ax.plot(random_ridge_results['param_alpha'], random_ridge_results['mean_test_neg_root_mean_squared_error'], color='r',\\\n",
    "        marker='o', linestyle='none', alpha=0.7)\n",
    "ax.set_xlabel('Alpha')\n",
    "ax.set_ylabel('Mean Negative RMSE')\n",
    "ax2 = ax.twinx()\n",
    "ax2.plot(random_ridge_results['param_alpha'], random_ridge_results['mean_test_neg_mean_absolute_error'], color='b',\\\n",
    "         marker='d', linestyle='none', alpha=0.7)\n",
    "ax2.set_ylabel('Mean Negative MAE')\n",
    "plt.show()"
   ]
  },
  {
   "cell_type": "markdown",
   "id": "b5b1f130",
   "metadata": {},
   "source": [
    "Now that I have an optimized alpha for the ridge regression I'll use it to model the test data and see how that performs."
   ]
  },
  {
   "cell_type": "code",
   "execution_count": null,
   "id": "da07f142",
   "metadata": {},
   "outputs": [],
   "source": []
  },
  {
   "cell_type": "markdown",
   "id": "059e5a27",
   "metadata": {},
   "source": [
    "Next I'll identify the best alpha for a lasso regression to compare that against the OLS and ridge models."
   ]
  },
  {
   "cell_type": "code",
   "execution_count": 13,
   "id": "082fdf9f",
   "metadata": {},
   "outputs": [
    {
     "data": {
      "text/plain": [
       "{'alpha': 30737}"
      ]
     },
     "execution_count": 13,
     "metadata": {},
     "output_type": "execute_result"
    }
   ],
   "source": [
    "parameters = {'alpha': sp_randInt(10000,10000000)}\n",
    "lasso = linear_model.Lasso()\n",
    "rand = RandomizedSearchCV(lasso, parameters, scoring=['neg_root_mean_squared_error', 'neg_mean_absolute_error'],\\\n",
    "                          refit='neg_root_mean_squared_error', n_iter=60, cv=5, random_state=0)\n",
    "rand_lasso = rand.fit(x_tr, y_tr)\n",
    "rand_lasso.best_params_"
   ]
  },
  {
   "cell_type": "code",
   "execution_count": 14,
   "id": "289582bd",
   "metadata": {},
   "outputs": [
    {
     "data": {
      "text/html": [
       "<div>\n",
       "<style scoped>\n",
       "    .dataframe tbody tr th:only-of-type {\n",
       "        vertical-align: middle;\n",
       "    }\n",
       "\n",
       "    .dataframe tbody tr th {\n",
       "        vertical-align: top;\n",
       "    }\n",
       "\n",
       "    .dataframe thead th {\n",
       "        text-align: right;\n",
       "    }\n",
       "</style>\n",
       "<table border=\"1\" class=\"dataframe\">\n",
       "  <thead>\n",
       "    <tr style=\"text-align: right;\">\n",
       "      <th></th>\n",
       "      <th>mean_fit_time</th>\n",
       "      <th>std_fit_time</th>\n",
       "      <th>mean_score_time</th>\n",
       "      <th>std_score_time</th>\n",
       "      <th>param_alpha</th>\n",
       "      <th>params</th>\n",
       "      <th>split0_test_neg_root_mean_squared_error</th>\n",
       "      <th>split1_test_neg_root_mean_squared_error</th>\n",
       "      <th>split2_test_neg_root_mean_squared_error</th>\n",
       "      <th>split3_test_neg_root_mean_squared_error</th>\n",
       "      <th>...</th>\n",
       "      <th>std_test_neg_root_mean_squared_error</th>\n",
       "      <th>rank_test_neg_root_mean_squared_error</th>\n",
       "      <th>split0_test_neg_mean_absolute_error</th>\n",
       "      <th>split1_test_neg_mean_absolute_error</th>\n",
       "      <th>split2_test_neg_mean_absolute_error</th>\n",
       "      <th>split3_test_neg_mean_absolute_error</th>\n",
       "      <th>split4_test_neg_mean_absolute_error</th>\n",
       "      <th>mean_test_neg_mean_absolute_error</th>\n",
       "      <th>std_test_neg_mean_absolute_error</th>\n",
       "      <th>rank_test_neg_mean_absolute_error</th>\n",
       "    </tr>\n",
       "  </thead>\n",
       "  <tbody>\n",
       "    <tr>\n",
       "      <th>0</th>\n",
       "      <td>0.077574</td>\n",
       "      <td>0.012496</td>\n",
       "      <td>0.006562</td>\n",
       "      <td>0.008036</td>\n",
       "      <td>8335804</td>\n",
       "      <td>{'alpha': 8335804}</td>\n",
       "      <td>-13361.962430</td>\n",
       "      <td>-2786.260197</td>\n",
       "      <td>-2359.407877</td>\n",
       "      <td>-2855.894834</td>\n",
       "      <td>...</td>\n",
       "      <td>4368.047675</td>\n",
       "      <td>51</td>\n",
       "      <td>-1196.290792</td>\n",
       "      <td>-1432.941534</td>\n",
       "      <td>-1354.841766</td>\n",
       "      <td>-1439.336207</td>\n",
       "      <td>-1267.368255</td>\n",
       "      <td>-1338.155711</td>\n",
       "      <td>94.484696</td>\n",
       "      <td>51</td>\n",
       "    </tr>\n",
       "    <tr>\n",
       "      <th>1</th>\n",
       "      <td>0.092134</td>\n",
       "      <td>0.009743</td>\n",
       "      <td>0.011190</td>\n",
       "      <td>0.005248</td>\n",
       "      <td>1494405</td>\n",
       "      <td>{'alpha': 1494405}</td>\n",
       "      <td>-5768.977169</td>\n",
       "      <td>-501.294841</td>\n",
       "      <td>-424.519955</td>\n",
       "      <td>-513.906097</td>\n",
       "      <td>...</td>\n",
       "      <td>2130.334525</td>\n",
       "      <td>9</td>\n",
       "      <td>-556.921088</td>\n",
       "      <td>-257.791112</td>\n",
       "      <td>-243.759232</td>\n",
       "      <td>-258.989799</td>\n",
       "      <td>-227.958264</td>\n",
       "      <td>-309.083899</td>\n",
       "      <td>124.428551</td>\n",
       "      <td>9</td>\n",
       "    </tr>\n",
       "    <tr>\n",
       "      <th>2</th>\n",
       "      <td>0.092303</td>\n",
       "      <td>0.025873</td>\n",
       "      <td>0.009394</td>\n",
       "      <td>0.007121</td>\n",
       "      <td>2225104</td>\n",
       "      <td>{'alpha': 2225104}</td>\n",
       "      <td>-8589.774021</td>\n",
       "      <td>-745.311324</td>\n",
       "      <td>-631.165207</td>\n",
       "      <td>-764.011408</td>\n",
       "      <td>...</td>\n",
       "      <td>3172.363484</td>\n",
       "      <td>13</td>\n",
       "      <td>-829.228724</td>\n",
       "      <td>-383.288342</td>\n",
       "      <td>-362.422502</td>\n",
       "      <td>-385.041387</td>\n",
       "      <td>-338.971338</td>\n",
       "      <td>-459.790459</td>\n",
       "      <td>185.473668</td>\n",
       "      <td>13</td>\n",
       "    </tr>\n",
       "    <tr>\n",
       "      <th>3</th>\n",
       "      <td>0.085370</td>\n",
       "      <td>0.019805</td>\n",
       "      <td>0.010454</td>\n",
       "      <td>0.003319</td>\n",
       "      <td>5167699</td>\n",
       "      <td>{'alpha': 5167699}</td>\n",
       "      <td>-12631.210890</td>\n",
       "      <td>-1727.989157</td>\n",
       "      <td>-1463.345523</td>\n",
       "      <td>-1771.209539</td>\n",
       "      <td>...</td>\n",
       "      <td>4443.456022</td>\n",
       "      <td>38</td>\n",
       "      <td>-1181.246298</td>\n",
       "      <td>-888.677734</td>\n",
       "      <td>-840.290878</td>\n",
       "      <td>-892.663234</td>\n",
       "      <td>-786.031672</td>\n",
       "      <td>-917.781963</td>\n",
       "      <td>137.298558</td>\n",
       "      <td>38</td>\n",
       "    </tr>\n",
       "    <tr>\n",
       "      <th>4</th>\n",
       "      <td>0.096303</td>\n",
       "      <td>0.024166</td>\n",
       "      <td>0.006858</td>\n",
       "      <td>0.001372</td>\n",
       "      <td>8232403</td>\n",
       "      <td>{'alpha': 8232403}</td>\n",
       "      <td>-13338.079795</td>\n",
       "      <td>-2751.681907</td>\n",
       "      <td>-2330.153729</td>\n",
       "      <td>-2820.468812</td>\n",
       "      <td>...</td>\n",
       "      <td>4370.438983</td>\n",
       "      <td>50</td>\n",
       "      <td>-1195.708291</td>\n",
       "      <td>-1415.158491</td>\n",
       "      <td>-1338.043062</td>\n",
       "      <td>-1421.481925</td>\n",
       "      <td>-1251.643716</td>\n",
       "      <td>-1324.407097</td>\n",
       "      <td>89.110234</td>\n",
       "      <td>50</td>\n",
       "    </tr>\n",
       "  </tbody>\n",
       "</table>\n",
       "<p>5 rows × 22 columns</p>\n",
       "</div>"
      ],
      "text/plain": [
       "   mean_fit_time  std_fit_time  mean_score_time  std_score_time param_alpha  \\\n",
       "0       0.077574      0.012496         0.006562        0.008036     8335804   \n",
       "1       0.092134      0.009743         0.011190        0.005248     1494405   \n",
       "2       0.092303      0.025873         0.009394        0.007121     2225104   \n",
       "3       0.085370      0.019805         0.010454        0.003319     5167699   \n",
       "4       0.096303      0.024166         0.006858        0.001372     8232403   \n",
       "\n",
       "               params  split0_test_neg_root_mean_squared_error  \\\n",
       "0  {'alpha': 8335804}                            -13361.962430   \n",
       "1  {'alpha': 1494405}                             -5768.977169   \n",
       "2  {'alpha': 2225104}                             -8589.774021   \n",
       "3  {'alpha': 5167699}                            -12631.210890   \n",
       "4  {'alpha': 8232403}                            -13338.079795   \n",
       "\n",
       "   split1_test_neg_root_mean_squared_error  \\\n",
       "0                             -2786.260197   \n",
       "1                              -501.294841   \n",
       "2                              -745.311324   \n",
       "3                             -1727.989157   \n",
       "4                             -2751.681907   \n",
       "\n",
       "   split2_test_neg_root_mean_squared_error  \\\n",
       "0                             -2359.407877   \n",
       "1                              -424.519955   \n",
       "2                              -631.165207   \n",
       "3                             -1463.345523   \n",
       "4                             -2330.153729   \n",
       "\n",
       "   split3_test_neg_root_mean_squared_error  ...  \\\n",
       "0                             -2855.894834  ...   \n",
       "1                              -513.906097  ...   \n",
       "2                              -764.011408  ...   \n",
       "3                             -1771.209539  ...   \n",
       "4                             -2820.468812  ...   \n",
       "\n",
       "   std_test_neg_root_mean_squared_error  \\\n",
       "0                           4368.047675   \n",
       "1                           2130.334525   \n",
       "2                           3172.363484   \n",
       "3                           4443.456022   \n",
       "4                           4370.438983   \n",
       "\n",
       "   rank_test_neg_root_mean_squared_error  split0_test_neg_mean_absolute_error  \\\n",
       "0                                     51                         -1196.290792   \n",
       "1                                      9                          -556.921088   \n",
       "2                                     13                          -829.228724   \n",
       "3                                     38                         -1181.246298   \n",
       "4                                     50                         -1195.708291   \n",
       "\n",
       "   split1_test_neg_mean_absolute_error  split2_test_neg_mean_absolute_error  \\\n",
       "0                         -1432.941534                         -1354.841766   \n",
       "1                          -257.791112                          -243.759232   \n",
       "2                          -383.288342                          -362.422502   \n",
       "3                          -888.677734                          -840.290878   \n",
       "4                         -1415.158491                         -1338.043062   \n",
       "\n",
       "   split3_test_neg_mean_absolute_error  split4_test_neg_mean_absolute_error  \\\n",
       "0                         -1439.336207                         -1267.368255   \n",
       "1                          -258.989799                          -227.958264   \n",
       "2                          -385.041387                          -338.971338   \n",
       "3                          -892.663234                          -786.031672   \n",
       "4                         -1421.481925                         -1251.643716   \n",
       "\n",
       "   mean_test_neg_mean_absolute_error  std_test_neg_mean_absolute_error  \\\n",
       "0                       -1338.155711                         94.484696   \n",
       "1                        -309.083899                        124.428551   \n",
       "2                        -459.790459                        185.473668   \n",
       "3                        -917.781963                        137.298558   \n",
       "4                       -1324.407097                         89.110234   \n",
       "\n",
       "   rank_test_neg_mean_absolute_error  \n",
       "0                                 51  \n",
       "1                                  9  \n",
       "2                                 13  \n",
       "3                                 38  \n",
       "4                                 50  \n",
       "\n",
       "[5 rows x 22 columns]"
      ]
     },
     "execution_count": 14,
     "metadata": {},
     "output_type": "execute_result"
    }
   ],
   "source": [
    "rand_lasso_params = pd.DataFrame(rand_lasso.cv_results_)\n",
    "rand_lasso_params.head()"
   ]
  },
  {
   "cell_type": "code",
   "execution_count": 15,
   "id": "4df5b632",
   "metadata": {},
   "outputs": [
    {
     "name": "stderr",
     "output_type": "stream",
     "text": [
      "C:\\Users\\Zjbro\\AppData\\Local\\Temp\\ipykernel_23792\\687083208.py:12: UserWarning: The handle <matplotlib.lines.Line2D object at 0x0000017707803CD0> has a label of '_child0' which cannot be automatically added to the legend.\n",
      "  ax.legend(axs, labs, loc=0)\n",
      "C:\\Users\\Zjbro\\AppData\\Local\\Temp\\ipykernel_23792\\687083208.py:12: UserWarning: The handle <matplotlib.lines.Line2D object at 0x0000017707859FD0> has a label of '_child0' which cannot be automatically added to the legend.\n",
      "  ax.legend(axs, labs, loc=0)\n"
     ]
    },
    {
     "data": {
      "image/png": "[encoded data removed]",
      "text/plain": [
       "<Figure size 640x480 with 2 Axes>"
      ]
     },
     "metadata": {},
     "output_type": "display_data"
    }
   ],
   "source": [
    "fig, ax = plt.subplots()\n",
    "\n",
    "a1 = ax.plot(rand_lasso_params['param_alpha'], rand_lasso_params['mean_test_neg_root_mean_squared_error'], color='r',\\\n",
    "        marker='o', linestyle='none', alpha=0.7)\n",
    "\n",
    "ax2 = ax.twinx()\n",
    "a2 = ax2.plot(rand_lasso_params['param_alpha'], rand_lasso_params['mean_test_neg_mean_absolute_error'], color='b',\\\n",
    "         marker='d', linestyle='none', alpha=0.7)\n",
    "\n",
    "axs = a1+a2\n",
    "labs = [a.get_label() for a in axs]\n",
    "ax.legend(axs, labs, loc=0)\n",
    "\n",
    "ax.set_xlabel('Alpha')\n",
    "ax.set_ylabel('Mean Negative RMSE')\n",
    "ax2.set_ylabel('Mean Negative MAE')\n",
    "\n",
    "plt.show()"
   ]
  },
  {
   "cell_type": "markdown",
   "id": "9858892e",
   "metadata": {},
   "source": [
    "Next I'm going to take a look at random forest and see how that does modeling this dataset."
   ]
  },
  {
   "cell_type": "code",
   "execution_count": 22,
   "id": "6dc9dcaf",
   "metadata": {},
   "outputs": [
    {
     "data": {
      "text/plain": [
       "{'max_depth': 5,\n",
       " 'max_features': 0.73253069814195,\n",
       " 'min_samples_leaf': 1160,\n",
       " 'n_estimators': 821}"
      ]
     },
     "execution_count": 22,
     "metadata": {},
     "output_type": "execute_result"
    }
   ],
   "source": [
    "from sklearn.ensemble import RandomForestRegressor\n",
    "from sklearn.datasets import make_regression\n",
    "\n",
    "parameters = {'n_estimators': sp_randInt(10,1000),\n",
    "             'max_features': sp_randFloat(0.00001, 1.0),\n",
    "             'max_depth': sp_randInt(2,10),\n",
    "             'min_samples_leaf': sp_randInt(1000,50000),\n",
    "             }\n",
    "forest = RandomForestRegressor(n_jobs=-1, random_state=12)\n",
    "forest_reg = RandomizedSearchCV(forest, parameters, scoring=['neg_root_mean_squared_error', 'neg_mean_absolute_error'],\\\n",
    "                                refit='neg_root_mean_squared_error', n_iter=60, cv=5, random_state=12)\n",
    "rand_forest = forest_reg.fit(x_tr, y_tr)\n",
    "rand_forest.best_params_"
   ]
  },
  {
   "cell_type": "code",
   "execution_count": 23,
   "id": "c3359ebc",
   "metadata": {},
   "outputs": [
    {
     "data": {
      "text/html": [
       "<div>\n",
       "<style scoped>\n",
       "    .dataframe tbody tr th:only-of-type {\n",
       "        vertical-align: middle;\n",
       "    }\n",
       "\n",
       "    .dataframe tbody tr th {\n",
       "        vertical-align: top;\n",
       "    }\n",
       "\n",
       "    .dataframe thead th {\n",
       "        text-align: right;\n",
       "    }\n",
       "</style>\n",
       "<table border=\"1\" class=\"dataframe\">\n",
       "  <thead>\n",
       "    <tr style=\"text-align: right;\">\n",
       "      <th></th>\n",
       "      <th>mean_fit_time</th>\n",
       "      <th>std_fit_time</th>\n",
       "      <th>mean_score_time</th>\n",
       "      <th>std_score_time</th>\n",
       "      <th>param_max_depth</th>\n",
       "      <th>param_max_features</th>\n",
       "      <th>param_min_samples_leaf</th>\n",
       "      <th>param_n_estimators</th>\n",
       "      <th>params</th>\n",
       "      <th>split0_test_neg_root_mean_squared_error</th>\n",
       "      <th>...</th>\n",
       "      <th>std_test_neg_root_mean_squared_error</th>\n",
       "      <th>rank_test_neg_root_mean_squared_error</th>\n",
       "      <th>split0_test_neg_mean_absolute_error</th>\n",
       "      <th>split1_test_neg_mean_absolute_error</th>\n",
       "      <th>split2_test_neg_mean_absolute_error</th>\n",
       "      <th>split3_test_neg_mean_absolute_error</th>\n",
       "      <th>split4_test_neg_mean_absolute_error</th>\n",
       "      <th>mean_test_neg_mean_absolute_error</th>\n",
       "      <th>std_test_neg_mean_absolute_error</th>\n",
       "      <th>rank_test_neg_mean_absolute_error</th>\n",
       "    </tr>\n",
       "  </thead>\n",
       "  <tbody>\n",
       "    <tr>\n",
       "      <th>0</th>\n",
       "      <td>1.017774</td>\n",
       "      <td>1.319576</td>\n",
       "      <td>0.087103</td>\n",
       "      <td>0.019562</td>\n",
       "      <td>5</td>\n",
       "      <td>0.446232</td>\n",
       "      <td>20709</td>\n",
       "      <td>251</td>\n",
       "      <td>{'max_depth': 5, 'max_features': 0.44623174456...</td>\n",
       "      <td>-15392.581651</td>\n",
       "      <td>...</td>\n",
       "      <td>5390.254564</td>\n",
       "      <td>31</td>\n",
       "      <td>-1270.260988</td>\n",
       "      <td>-1061.596402</td>\n",
       "      <td>-1112.531924</td>\n",
       "      <td>-1101.541475</td>\n",
       "      <td>-1100.439661</td>\n",
       "      <td>-1129.274090</td>\n",
       "      <td>72.578781</td>\n",
       "      <td>35</td>\n",
       "    </tr>\n",
       "    <tr>\n",
       "      <th>1</th>\n",
       "      <td>0.552126</td>\n",
       "      <td>0.076370</td>\n",
       "      <td>0.090321</td>\n",
       "      <td>0.015911</td>\n",
       "      <td>4</td>\n",
       "      <td>0.533749</td>\n",
       "      <td>13108</td>\n",
       "      <td>442</td>\n",
       "      <td>{'max_depth': 4, 'max_features': 0.53374939338...</td>\n",
       "      <td>-15392.582438</td>\n",
       "      <td>...</td>\n",
       "      <td>5390.243091</td>\n",
       "      <td>52</td>\n",
       "      <td>-1270.249854</td>\n",
       "      <td>-1061.748069</td>\n",
       "      <td>-1112.712455</td>\n",
       "      <td>-1101.835496</td>\n",
       "      <td>-1100.650228</td>\n",
       "      <td>-1129.439220</td>\n",
       "      <td>72.498666</td>\n",
       "      <td>51</td>\n",
       "    </tr>\n",
       "    <tr>\n",
       "      <th>2</th>\n",
       "      <td>0.756937</td>\n",
       "      <td>0.041443</td>\n",
       "      <td>0.124448</td>\n",
       "      <td>0.017434</td>\n",
       "      <td>8</td>\n",
       "      <td>0.033974</td>\n",
       "      <td>21109</td>\n",
       "      <td>483</td>\n",
       "      <td>{'max_depth': 8, 'max_features': 0.03397417126...</td>\n",
       "      <td>-15392.580627</td>\n",
       "      <td>...</td>\n",
       "      <td>5390.251228</td>\n",
       "      <td>42</td>\n",
       "      <td>-1270.275500</td>\n",
       "      <td>-1061.600244</td>\n",
       "      <td>-1112.548139</td>\n",
       "      <td>-1101.661137</td>\n",
       "      <td>-1100.473718</td>\n",
       "      <td>-1129.311748</td>\n",
       "      <td>72.571115</td>\n",
       "      <td>42</td>\n",
       "    </tr>\n",
       "    <tr>\n",
       "      <th>3</th>\n",
       "      <td>1.210460</td>\n",
       "      <td>0.046845</td>\n",
       "      <td>0.089632</td>\n",
       "      <td>0.021228</td>\n",
       "      <td>4</td>\n",
       "      <td>0.725964</td>\n",
       "      <td>6194</td>\n",
       "      <td>394</td>\n",
       "      <td>{'max_depth': 4, 'max_features': 0.72596416111...</td>\n",
       "      <td>-15341.027614</td>\n",
       "      <td>...</td>\n",
       "      <td>5509.567130</td>\n",
       "      <td>10</td>\n",
       "      <td>-882.103017</td>\n",
       "      <td>-685.932751</td>\n",
       "      <td>-713.332047</td>\n",
       "      <td>-693.137160</td>\n",
       "      <td>-696.054596</td>\n",
       "      <td>-734.111914</td>\n",
       "      <td>74.540849</td>\n",
       "      <td>11</td>\n",
       "    </tr>\n",
       "    <tr>\n",
       "      <th>4</th>\n",
       "      <td>0.270412</td>\n",
       "      <td>0.011976</td>\n",
       "      <td>0.021888</td>\n",
       "      <td>0.003473</td>\n",
       "      <td>7</td>\n",
       "      <td>0.606093</td>\n",
       "      <td>49397</td>\n",
       "      <td>92</td>\n",
       "      <td>{'max_depth': 7, 'max_features': 0.60609318435...</td>\n",
       "      <td>-15392.578972</td>\n",
       "      <td>...</td>\n",
       "      <td>5390.245973</td>\n",
       "      <td>45</td>\n",
       "      <td>-1270.298991</td>\n",
       "      <td>-1061.681783</td>\n",
       "      <td>-1112.615850</td>\n",
       "      <td>-1101.779584</td>\n",
       "      <td>-1100.520269</td>\n",
       "      <td>-1129.379295</td>\n",
       "      <td>72.549175</td>\n",
       "      <td>45</td>\n",
       "    </tr>\n",
       "  </tbody>\n",
       "</table>\n",
       "<p>5 rows × 25 columns</p>\n",
       "</div>"
      ],
      "text/plain": [
       "   mean_fit_time  std_fit_time  mean_score_time  std_score_time  \\\n",
       "0       1.017774      1.319576         0.087103        0.019562   \n",
       "1       0.552126      0.076370         0.090321        0.015911   \n",
       "2       0.756937      0.041443         0.124448        0.017434   \n",
       "3       1.210460      0.046845         0.089632        0.021228   \n",
       "4       0.270412      0.011976         0.021888        0.003473   \n",
       "\n",
       "  param_max_depth param_max_features param_min_samples_leaf  \\\n",
       "0               5           0.446232                  20709   \n",
       "1               4           0.533749                  13108   \n",
       "2               8           0.033974                  21109   \n",
       "3               4           0.725964                   6194   \n",
       "4               7           0.606093                  49397   \n",
       "\n",
       "  param_n_estimators                                             params  \\\n",
       "0                251  {'max_depth': 5, 'max_features': 0.44623174456...   \n",
       "1                442  {'max_depth': 4, 'max_features': 0.53374939338...   \n",
       "2                483  {'max_depth': 8, 'max_features': 0.03397417126...   \n",
       "3                394  {'max_depth': 4, 'max_features': 0.72596416111...   \n",
       "4                 92  {'max_depth': 7, 'max_features': 0.60609318435...   \n",
       "\n",
       "   split0_test_neg_root_mean_squared_error  ...  \\\n",
       "0                            -15392.581651  ...   \n",
       "1                            -15392.582438  ...   \n",
       "2                            -15392.580627  ...   \n",
       "3                            -15341.027614  ...   \n",
       "4                            -15392.578972  ...   \n",
       "\n",
       "   std_test_neg_root_mean_squared_error  \\\n",
       "0                           5390.254564   \n",
       "1                           5390.243091   \n",
       "2                           5390.251228   \n",
       "3                           5509.567130   \n",
       "4                           5390.245973   \n",
       "\n",
       "   rank_test_neg_root_mean_squared_error  split0_test_neg_mean_absolute_error  \\\n",
       "0                                     31                         -1270.260988   \n",
       "1                                     52                         -1270.249854   \n",
       "2                                     42                         -1270.275500   \n",
       "3                                     10                          -882.103017   \n",
       "4                                     45                         -1270.298991   \n",
       "\n",
       "   split1_test_neg_mean_absolute_error  split2_test_neg_mean_absolute_error  \\\n",
       "0                         -1061.596402                         -1112.531924   \n",
       "1                         -1061.748069                         -1112.712455   \n",
       "2                         -1061.600244                         -1112.548139   \n",
       "3                          -685.932751                          -713.332047   \n",
       "4                         -1061.681783                         -1112.615850   \n",
       "\n",
       "   split3_test_neg_mean_absolute_error  split4_test_neg_mean_absolute_error  \\\n",
       "0                         -1101.541475                         -1100.439661   \n",
       "1                         -1101.835496                         -1100.650228   \n",
       "2                         -1101.661137                         -1100.473718   \n",
       "3                          -693.137160                          -696.054596   \n",
       "4                         -1101.779584                         -1100.520269   \n",
       "\n",
       "   mean_test_neg_mean_absolute_error  std_test_neg_mean_absolute_error  \\\n",
       "0                       -1129.274090                         72.578781   \n",
       "1                       -1129.439220                         72.498666   \n",
       "2                       -1129.311748                         72.571115   \n",
       "3                        -734.111914                         74.540849   \n",
       "4                       -1129.379295                         72.549175   \n",
       "\n",
       "   rank_test_neg_mean_absolute_error  \n",
       "0                                 35  \n",
       "1                                 51  \n",
       "2                                 42  \n",
       "3                                 11  \n",
       "4                                 45  \n",
       "\n",
       "[5 rows x 25 columns]"
      ]
     },
     "execution_count": 23,
     "metadata": {},
     "output_type": "execute_result"
    }
   ],
   "source": [
    "rand_forest_params = pd.DataFrame(rand_forest.cv_results_)\n",
    "rand_forest_params.head()"
   ]
  },
  {
   "cell_type": "code",
   "execution_count": 24,
   "id": "bfa7d23e",
   "metadata": {},
   "outputs": [
    {
     "data": {
      "image/png": "[encoded data removed]",
      "text/plain": [
       "<Figure size 640x480 with 1 Axes>"
      ]
     },
     "metadata": {},
     "output_type": "display_data"
    }
   ],
   "source": [
    "sns.scatterplot(data=rand_forest_params, x='param_max_depth', y='mean_test_neg_root_mean_squared_error')\n",
    "plt.show()"
   ]
  },
  {
   "cell_type": "code",
   "execution_count": 25,
   "id": "781f60eb",
   "metadata": {},
   "outputs": [
    {
     "data": {
      "image/png": "[encoded data removed]",
      "text/plain": [
       "<Figure size 640x480 with 1 Axes>"
      ]
     },
     "metadata": {},
     "output_type": "display_data"
    }
   ],
   "source": [
    "sns.scatterplot(data=rand_forest_params, x='param_max_features', y='mean_test_neg_root_mean_squared_error')\n",
    "plt.show()"
   ]
  },
  {
   "cell_type": "code",
   "execution_count": 26,
   "id": "7dc19389",
   "metadata": {},
   "outputs": [
    {
     "data": {
      "image/png": "[encoded data removed]",
      "text/plain": [
       "<Figure size 640x480 with 1 Axes>"
      ]
     },
     "metadata": {},
     "output_type": "display_data"
    }
   ],
   "source": [
    "sns.scatterplot(data=rand_forest_params, x='param_min_samples_leaf', y='mean_test_neg_root_mean_squared_error')\n",
    "plt.show()"
   ]
  },
  {
   "cell_type": "code",
   "execution_count": 27,
   "id": "85536bd0",
   "metadata": {},
   "outputs": [
    {
     "data": {
      "image/png": "[encoded data removed]",
      "text/plain": [
       "<Figure size 640x480 with 1 Axes>"
      ]
     },
     "metadata": {},
     "output_type": "display_data"
    }
   ],
   "source": [
    "sns.scatterplot(data=rand_forest_params, x='param_n_estimators', y='mean_test_neg_root_mean_squared_error')\n",
    "plt.show()"
   ]
  },
  {
   "cell_type": "code",
   "execution_count": 28,
   "id": "46154f20",
   "metadata": {},
   "outputs": [
    {
     "data": {
      "text/plain": [
       "{'min_samples_leaf': 225}"
      ]
     },
     "execution_count": 28,
     "metadata": {},
     "output_type": "execute_result"
    }
   ],
   "source": [
    "parameters = {\n",
    "             'min_samples_leaf': sp_randInt(50,10000)\n",
    "             }\n",
    "forest = RandomForestRegressor(n_estimators=821, max_features=0.73253069814195, max_depth=5, n_jobs=-1, random_state=12)\n",
    "forest_reg = RandomizedSearchCV(forest, parameters, scoring=['neg_root_mean_squared_error', 'neg_mean_absolute_error'],\\\n",
    "                                refit='neg_root_mean_squared_error', n_iter=60, cv=5, random_state=12)\n",
    "rand_forest = forest_reg.fit(x_tr, y_tr)\n",
    "rand_forest.best_params_"
   ]
  },
  {
   "cell_type": "code",
   "execution_count": 29,
   "id": "268913be",
   "metadata": {},
   "outputs": [
    {
     "ename": "SyntaxError",
     "evalue": "invalid syntax (2908192749.py, line 1)",
     "output_type": "error",
     "traceback": [
      "\u001b[1;36m  Cell \u001b[1;32mIn [29], line 1\u001b[1;36m\u001b[0m\n\u001b[1;33m    opt_forest = RandomForestRegressor(n_estimators=821, max_features=0.73253069814195, min_samples_leaf=, max_depth=5, random_state=12)\u001b[0m\n\u001b[1;37m                                                                                                         ^\u001b[0m\n\u001b[1;31mSyntaxError\u001b[0m\u001b[1;31m:\u001b[0m invalid syntax\n"
     ]
    }
   ],
   "source": [
    "opt_forest = RandomForestRegressor(n_estimators=821, max_features=0.73253069814195, min_samples_leaf=, max_depth=5, random_state=12)\n",
    "opt_forest.fit(x_tr, y_tr)\n",
    "y_pred = ols.predict(x_te)\n",
    "mean_squared_error(y_te, y_pred)"
   ]
  },
  {
   "cell_type": "code",
   "execution_count": null,
   "id": "816c3bd2",
   "metadata": {},
   "outputs": [],
   "source": []
  }
 ],
 "metadata": {
  "kernelspec": {
   "display_name": "Python 3 (ipykernel)",
   "language": "python",
   "name": "python3"
  },
  "language_info": {
   "codemirror_mode": {
    "name": "ipython",
    "version": 3
   },
   "file_extension": ".py",
   "mimetype": "text/x-python",
   "name": "python",
   "nbconvert_exporter": "python",
   "pygments_lexer": "ipython3",
   "version": "3.9.15"
  }
 },
 "nbformat": 4,
 "nbformat_minor": 5
}
