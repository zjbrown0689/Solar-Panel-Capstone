{
 "cells": [
  {
   "cell_type": "markdown",
   "metadata": {},
   "source": [
    "# Getting the most solar power for your dollar\n",
    "## Model development\n",
    "### Zachary Brown\n",
    "\n",
    "I've loaded, cleaned, engineered, and split the dataset I'm using to determine how to optimize cost efficiency for a residential solar panel installation. Now I will screen a range of regression models to identify which gives the best results and refine it as best I can.\n",
    "\n",
    "I'll start by loading in my X_train and y_train sets so that I can begin training some models."
   ]
  },
  {
   "cell_type": "code",
   "execution_count": 1,
   "metadata": {},
   "outputs": [],
   "source": [
    "import os\n",
    "import numpy as np\n",
    "import pandas as pd\n",
    "import matplotlib.pyplot as plt\n",
    "import seaborn as sns\n",
    "sns.set_theme('notebook')\n",
    "from sklearn.model_selection import train_test_split\n",
    "from sklearn.preprocessing import StandardScaler\n",
    "from sklearn.linear_model import LinearRegression\n",
    "from sklearn.dummy import DummyRegressor\n",
    "from sklearn.metrics import mean_squared_error\n",
    "from sklearn.metrics import mean_absolute_error\n",
    "from sklearn.linear_model import Ridge\n",
    "from sklearn.model_selection import RandomizedSearchCV\n",
    "from sklearn import linear_model\n",
    "from scipy.stats import uniform as sp_randFloat\n",
    "from scipy.stats import randint as sp_randInt\n",
    "from sklearn.ensemble import RandomForestRegressor\n",
    "from xgboost import XGBRegressor\n",
    "import xgboost\n",
    "from sklearn import tree\n",
    "from sklearn.neural_network import MLPRegressor\n",
    "from sklearn.neighbors import KNeighborsRegressor\n",
    "import lightgbm as lgb"
   ]
  },
  {
   "cell_type": "code",
   "execution_count": 2,
   "metadata": {},
   "outputs": [
    {
     "name": "stdout",
     "output_type": "stream",
     "text": [
      "C:\\Users\\zbro1\\Documents\\GitHub\\Solar-Panel-Capstone\\notebooks\n",
      "C:\\Users\\zbro1\\Documents\\GitHub\\Solar-Panel-Capstone\\data\\processed\n"
     ]
    }
   ],
   "source": [
    "print(os.getcwd())\n",
    "os.chdir(r\"..\\data\\processed\")\n",
    "print(os.getcwd())"
   ]
  },
  {
   "cell_type": "code",
   "execution_count": 81,
   "metadata": {},
   "outputs": [
    {
     "data": {
      "text/html": [
       "<div>\n",
       "<style scoped>\n",
       "    .dataframe tbody tr th:only-of-type {\n",
       "        vertical-align: middle;\n",
       "    }\n",
       "\n",
       "    .dataframe tbody tr th {\n",
       "        vertical-align: top;\n",
       "    }\n",
       "\n",
       "    .dataframe thead th {\n",
       "        text-align: right;\n",
       "    }\n",
       "</style>\n",
       "<table border=\"1\" class=\"dataframe\">\n",
       "  <thead>\n",
       "    <tr style=\"text-align: right;\">\n",
       "      <th></th>\n",
       "      <th>system_size_dc</th>\n",
       "      <th>rebate_or_grant</th>\n",
       "      <th>expansion_system</th>\n",
       "      <th>third_party_owned</th>\n",
       "      <th>self_installed</th>\n",
       "      <th>tilt_1</th>\n",
       "      <th>additional_modules</th>\n",
       "      <th>bipv_module_1</th>\n",
       "      <th>efficiency_module_1</th>\n",
       "      <th>inverter_quantity_1</th>\n",
       "      <th>...</th>\n",
       "      <th>inverter_model_1_IQ6PLUS-72-ACM-US [240V]</th>\n",
       "      <th>inverter_model_1_SE3800H-US (240V)</th>\n",
       "      <th>inverter_model_1_SE9KUS [208V]</th>\n",
       "      <th>inverter_model_1_IQ7XS-96-E-ACM-US [240V]</th>\n",
       "      <th>inverter_model_1_SE7600H-US (240V)</th>\n",
       "      <th>inverter_model_1_SPR-X22-360-E-AC [208V]</th>\n",
       "      <th>inverter_model_1_SE11400H-US (240V)</th>\n",
       "      <th>inverter_model_1_IQ7-60-x-ACM-US [208V]</th>\n",
       "      <th>inverter_model_1_SE10000H-US (240V)</th>\n",
       "      <th>inverter_model_1_SB3.8-1SP-US-40 [208V]</th>\n",
       "    </tr>\n",
       "  </thead>\n",
       "  <tbody>\n",
       "    <tr>\n",
       "      <th>351828</th>\n",
       "      <td>5.120</td>\n",
       "      <td>0.0</td>\n",
       "      <td>0</td>\n",
       "      <td>0.0</td>\n",
       "      <td>0.0</td>\n",
       "      <td>26.0</td>\n",
       "      <td>0.0</td>\n",
       "      <td>0.0</td>\n",
       "      <td>0.197531</td>\n",
       "      <td>16.0</td>\n",
       "      <td>...</td>\n",
       "      <td>0</td>\n",
       "      <td>0</td>\n",
       "      <td>0</td>\n",
       "      <td>0</td>\n",
       "      <td>0</td>\n",
       "      <td>0</td>\n",
       "      <td>0</td>\n",
       "      <td>0</td>\n",
       "      <td>0</td>\n",
       "      <td>0</td>\n",
       "    </tr>\n",
       "    <tr>\n",
       "      <th>391690</th>\n",
       "      <td>5.520</td>\n",
       "      <td>0.0</td>\n",
       "      <td>0</td>\n",
       "      <td>0.0</td>\n",
       "      <td>0.0</td>\n",
       "      <td>23.0</td>\n",
       "      <td>0.0</td>\n",
       "      <td>0.0</td>\n",
       "      <td>0.209255</td>\n",
       "      <td>16.0</td>\n",
       "      <td>...</td>\n",
       "      <td>0</td>\n",
       "      <td>0</td>\n",
       "      <td>0</td>\n",
       "      <td>0</td>\n",
       "      <td>0</td>\n",
       "      <td>0</td>\n",
       "      <td>0</td>\n",
       "      <td>0</td>\n",
       "      <td>0</td>\n",
       "      <td>0</td>\n",
       "    </tr>\n",
       "    <tr>\n",
       "      <th>397978</th>\n",
       "      <td>13.545</td>\n",
       "      <td>0.0</td>\n",
       "      <td>0</td>\n",
       "      <td>0.0</td>\n",
       "      <td>0.0</td>\n",
       "      <td>19.0</td>\n",
       "      <td>0.0</td>\n",
       "      <td>0.0</td>\n",
       "      <td>0.194085</td>\n",
       "      <td>43.0</td>\n",
       "      <td>...</td>\n",
       "      <td>0</td>\n",
       "      <td>0</td>\n",
       "      <td>0</td>\n",
       "      <td>0</td>\n",
       "      <td>0</td>\n",
       "      <td>0</td>\n",
       "      <td>0</td>\n",
       "      <td>0</td>\n",
       "      <td>0</td>\n",
       "      <td>0</td>\n",
       "    </tr>\n",
       "    <tr>\n",
       "      <th>455364</th>\n",
       "      <td>3.150</td>\n",
       "      <td>0.0</td>\n",
       "      <td>0</td>\n",
       "      <td>1.0</td>\n",
       "      <td>0.0</td>\n",
       "      <td>18.0</td>\n",
       "      <td>0.0</td>\n",
       "      <td>0.0</td>\n",
       "      <td>0.194444</td>\n",
       "      <td>1.0</td>\n",
       "      <td>...</td>\n",
       "      <td>0</td>\n",
       "      <td>0</td>\n",
       "      <td>0</td>\n",
       "      <td>0</td>\n",
       "      <td>0</td>\n",
       "      <td>0</td>\n",
       "      <td>0</td>\n",
       "      <td>0</td>\n",
       "      <td>0</td>\n",
       "      <td>0</td>\n",
       "    </tr>\n",
       "    <tr>\n",
       "      <th>382648</th>\n",
       "      <td>8.640</td>\n",
       "      <td>0.0</td>\n",
       "      <td>0</td>\n",
       "      <td>0.0</td>\n",
       "      <td>0.0</td>\n",
       "      <td>30.0</td>\n",
       "      <td>0.0</td>\n",
       "      <td>0.0</td>\n",
       "      <td>0.198895</td>\n",
       "      <td>24.0</td>\n",
       "      <td>...</td>\n",
       "      <td>0</td>\n",
       "      <td>0</td>\n",
       "      <td>0</td>\n",
       "      <td>0</td>\n",
       "      <td>0</td>\n",
       "      <td>0</td>\n",
       "      <td>0</td>\n",
       "      <td>0</td>\n",
       "      <td>0</td>\n",
       "      <td>0</td>\n",
       "    </tr>\n",
       "  </tbody>\n",
       "</table>\n",
       "<p>5 rows × 400 columns</p>\n",
       "</div>"
      ],
      "text/plain": [
       "        system_size_dc  rebate_or_grant  expansion_system  third_party_owned  \\\n",
       "351828           5.120              0.0                 0                0.0   \n",
       "391690           5.520              0.0                 0                0.0   \n",
       "397978          13.545              0.0                 0                0.0   \n",
       "455364           3.150              0.0                 0                1.0   \n",
       "382648           8.640              0.0                 0                0.0   \n",
       "\n",
       "        self_installed  tilt_1  additional_modules  bipv_module_1  \\\n",
       "351828             0.0    26.0                 0.0            0.0   \n",
       "391690             0.0    23.0                 0.0            0.0   \n",
       "397978             0.0    19.0                 0.0            0.0   \n",
       "455364             0.0    18.0                 0.0            0.0   \n",
       "382648             0.0    30.0                 0.0            0.0   \n",
       "\n",
       "        efficiency_module_1  inverter_quantity_1  ...  \\\n",
       "351828             0.197531                 16.0  ...   \n",
       "391690             0.209255                 16.0  ...   \n",
       "397978             0.194085                 43.0  ...   \n",
       "455364             0.194444                  1.0  ...   \n",
       "382648             0.198895                 24.0  ...   \n",
       "\n",
       "        inverter_model_1_IQ6PLUS-72-ACM-US [240V]  \\\n",
       "351828                                          0   \n",
       "391690                                          0   \n",
       "397978                                          0   \n",
       "455364                                          0   \n",
       "382648                                          0   \n",
       "\n",
       "        inverter_model_1_SE3800H-US (240V)  inverter_model_1_SE9KUS [208V]  \\\n",
       "351828                                   0                               0   \n",
       "391690                                   0                               0   \n",
       "397978                                   0                               0   \n",
       "455364                                   0                               0   \n",
       "382648                                   0                               0   \n",
       "\n",
       "        inverter_model_1_IQ7XS-96-E-ACM-US [240V]  \\\n",
       "351828                                          0   \n",
       "391690                                          0   \n",
       "397978                                          0   \n",
       "455364                                          0   \n",
       "382648                                          0   \n",
       "\n",
       "        inverter_model_1_SE7600H-US (240V)  \\\n",
       "351828                                   0   \n",
       "391690                                   0   \n",
       "397978                                   0   \n",
       "455364                                   0   \n",
       "382648                                   0   \n",
       "\n",
       "        inverter_model_1_SPR-X22-360-E-AC [208V]  \\\n",
       "351828                                         0   \n",
       "391690                                         0   \n",
       "397978                                         0   \n",
       "455364                                         0   \n",
       "382648                                         0   \n",
       "\n",
       "        inverter_model_1_SE11400H-US (240V)  \\\n",
       "351828                                    0   \n",
       "391690                                    0   \n",
       "397978                                    0   \n",
       "455364                                    0   \n",
       "382648                                    0   \n",
       "\n",
       "        inverter_model_1_IQ7-60-x-ACM-US [208V]  \\\n",
       "351828                                        0   \n",
       "391690                                        0   \n",
       "397978                                        0   \n",
       "455364                                        0   \n",
       "382648                                        0   \n",
       "\n",
       "        inverter_model_1_SE10000H-US (240V)  \\\n",
       "351828                                    0   \n",
       "391690                                    0   \n",
       "397978                                    0   \n",
       "455364                                    0   \n",
       "382648                                    0   \n",
       "\n",
       "        inverter_model_1_SB3.8-1SP-US-40 [208V]  \n",
       "351828                                        0  \n",
       "391690                                        0  \n",
       "397978                                        0  \n",
       "455364                                        0  \n",
       "382648                                        0  \n",
       "\n",
       "[5 rows x 400 columns]"
      ]
     },
     "execution_count": 81,
     "metadata": {},
     "output_type": "execute_result"
    }
   ],
   "source": [
    "X_train = pd.read_csv('X_train.csv', index_col=0)\n",
    "y_train = pd.read_csv('y_train.csv', index_col=0)\n",
    "X_train.head()"
   ]
  },
  {
   "cell_type": "code",
   "execution_count": 4,
   "metadata": {},
   "outputs": [
    {
     "data": {
      "text/plain": [
       "((156192, 400), (156192, 1))"
      ]
     },
     "execution_count": 4,
     "metadata": {},
     "output_type": "execute_result"
    }
   ],
   "source": [
    "X_train.shape, y_train.shape"
   ]
  },
  {
   "cell_type": "code",
   "execution_count": 5,
   "metadata": {
    "scrolled": true
   },
   "outputs": [
    {
     "data": {
      "text/plain": [
       "Index(['system_size_dc', 'rebate_or_grant', 'expansion_system',\n",
       "       'third_party_owned', 'self_installed', 'tilt_1', 'additional_modules',\n",
       "       'bipv_module_1', 'efficiency_module_1', 'inverter_quantity_1',\n",
       "       ...\n",
       "       'inverter_model_1_IQ6PLUS-72-ACM-US [240V]',\n",
       "       'inverter_model_1_SE3800H-US (240V)', 'inverter_model_1_SE9KUS [208V]',\n",
       "       'inverter_model_1_IQ7XS-96-E-ACM-US [240V]',\n",
       "       'inverter_model_1_SE7600H-US (240V)',\n",
       "       'inverter_model_1_SPR-X22-360-E-AC [208V]',\n",
       "       'inverter_model_1_SE11400H-US (240V)',\n",
       "       'inverter_model_1_IQ7-60-x-ACM-US [208V]',\n",
       "       'inverter_model_1_SE10000H-US (240V)',\n",
       "       'inverter_model_1_SB3.8-1SP-US-40 [208V]'],\n",
       "      dtype='object', length=400)"
      ]
     },
     "execution_count": 5,
     "metadata": {},
     "output_type": "execute_result"
    }
   ],
   "source": [
    "X_train.columns"
   ]
  },
  {
   "cell_type": "markdown",
   "metadata": {},
   "source": [
    "To start I'm going to train-test split the data to quickly work through models using just 10% of the data for training to get a feel for which models perform the best, from there I'll focus on improving the best model with more data."
   ]
  },
  {
   "cell_type": "code",
   "execution_count": 10,
   "metadata": {},
   "outputs": [
    {
     "data": {
      "text/plain": [
       "((15619, 400), (140573, 400), (15619, 1), (140573, 1))"
      ]
     },
     "execution_count": 10,
     "metadata": {},
     "output_type": "execute_result"
    }
   ],
   "source": [
    "x_tr, x_te, y_tr, y_te = train_test_split(X_train, y_train, test_size=0.9)\n",
    "x_tr.shape, x_te.shape, y_tr.shape, y_te.shape"
   ]
  },
  {
   "cell_type": "code",
   "execution_count": 82,
   "metadata": {},
   "outputs": [
    {
     "ename": "AttributeError",
     "evalue": "'numpy.ndarray' object has no attribute 'values'",
     "output_type": "error",
     "traceback": [
      "\u001b[1;31m---------------------------------------------------------------------------\u001b[0m",
      "\u001b[1;31mAttributeError\u001b[0m                            Traceback (most recent call last)",
      "\u001b[1;32m<ipython-input-82-b8768a81f4c1>\u001b[0m in \u001b[0;36m<module>\u001b[1;34m\u001b[0m\n\u001b[0;32m      1\u001b[0m \u001b[1;31m# Reshape y_train for model fitting\u001b[0m\u001b[1;33m\u001b[0m\u001b[1;33m\u001b[0m\u001b[1;33m\u001b[0m\u001b[0m\n\u001b[1;32m----> 2\u001b[1;33m \u001b[0my_tr\u001b[0m \u001b[1;33m=\u001b[0m \u001b[0my_tr\u001b[0m\u001b[1;33m.\u001b[0m\u001b[0mvalues\u001b[0m\u001b[1;33m.\u001b[0m\u001b[0mravel\u001b[0m\u001b[1;33m(\u001b[0m\u001b[1;33m)\u001b[0m\u001b[1;33m\u001b[0m\u001b[1;33m\u001b[0m\u001b[0m\n\u001b[0m\u001b[0;32m      3\u001b[0m \u001b[0my_te\u001b[0m \u001b[1;33m=\u001b[0m \u001b[0my_te\u001b[0m\u001b[1;33m.\u001b[0m\u001b[0mvalues\u001b[0m\u001b[1;33m.\u001b[0m\u001b[0mravel\u001b[0m\u001b[1;33m(\u001b[0m\u001b[1;33m)\u001b[0m\u001b[1;33m\u001b[0m\u001b[1;33m\u001b[0m\u001b[0m\n",
      "\u001b[1;31mAttributeError\u001b[0m: 'numpy.ndarray' object has no attribute 'values'"
     ]
    }
   ],
   "source": [
    "# Reshape y_train for model fitting\n",
    "y_tr = y_tr.values.ravel()\n",
    "y_te = y_te.values.ravel()"
   ]
  },
  {
   "cell_type": "markdown",
   "metadata": {},
   "source": [
    "First I'm going to train a few dummy regression models to see how they performs and to set a benchmark of what I should consider a useful model. I'll run 60 iterations of each since the small amount of data should help run the code fairly quickly. I'm going to score my models based on root mean squared error (RMSE) to make sure that I'm holding them accountable for hitting outliers accurately."
   ]
  },
  {
   "cell_type": "code",
   "execution_count": 12,
   "metadata": {},
   "outputs": [
    {
     "name": "stdout",
     "output_type": "stream",
     "text": [
      "36263761.69940872\n"
     ]
    }
   ],
   "source": [
    "# Using the mean of the training set\n",
    "dummy_mean = DummyRegressor(strategy=\"mean\")\n",
    "dummy_mean.fit(x_tr, y_tr)\n",
    "y_pred = dummy_mean.predict(x_te)\n",
    "train_scores = {'Mean Dummy Regressor' : mean_squared_error(y_te, y_pred)}\n",
    "print(mean_squared_error(y_te, y_pred))"
   ]
  },
  {
   "cell_type": "code",
   "execution_count": 13,
   "metadata": {},
   "outputs": [
    {
     "name": "stdout",
     "output_type": "stream",
     "text": [
      "36294646.32369107\n"
     ]
    }
   ],
   "source": [
    "# Using the median of the training set\n",
    "dummy_median = DummyRegressor(strategy=\"median\")\n",
    "dummy_median.fit(x_tr, y_tr)\n",
    "y_pred = dummy_median.predict(x_te)\n",
    "train_scores['Median Dummy Regressor'] = mean_squared_error(y_te, y_pred)\n",
    "print(mean_squared_error(y_te, y_pred))"
   ]
  },
  {
   "cell_type": "code",
   "execution_count": 14,
   "metadata": {},
   "outputs": [
    {
     "name": "stdout",
     "output_type": "stream",
     "text": [
      "37025295.57501316\n"
     ]
    }
   ],
   "source": [
    "# One final dummy regressor using the 25th quantile of the training set\n",
    "dummy_quantile = DummyRegressor(strategy=\"quantile\", quantile = 0.25)\n",
    "dummy_quantile.fit(x_tr, y_tr)\n",
    "y_pred = dummy_quantile.predict(x_te)\n",
    "train_scores['25th Quantile Dummy Regressor'] = mean_squared_error(y_te, y_pred)\n",
    "print(mean_squared_error(y_te, y_pred))"
   ]
  },
  {
   "cell_type": "markdown",
   "metadata": {},
   "source": [
    "Now that I have some base RMSE values that give me a cutoff for whether my models are effective or not, I'll begin with an ordinary least squares model."
   ]
  },
  {
   "cell_type": "code",
   "execution_count": 15,
   "metadata": {},
   "outputs": [
    {
     "name": "stdout",
     "output_type": "stream",
     "text": [
      "3.1926184945949468e+16\n"
     ]
    }
   ],
   "source": [
    "ols = LinearRegression()\n",
    "ols.fit(x_tr, y_tr)\n",
    "y_pred = ols.predict(x_te)\n",
    "train_scores['OLS'] = mean_squared_error(y_te, y_pred)\n",
    "print(mean_squared_error(y_te, y_pred))"
   ]
  },
  {
   "cell_type": "markdown",
   "metadata": {},
   "source": [
    "Next I'll run Ridge and Lasso models."
   ]
  },
  {
   "cell_type": "code",
   "execution_count": 16,
   "metadata": {},
   "outputs": [
    {
     "data": {
      "text/plain": [
       "{'alpha': 65.73724279842037}"
      ]
     },
     "execution_count": 16,
     "metadata": {},
     "output_type": "execute_result"
    }
   ],
   "source": [
    "parameters = {'alpha': sp_randFloat(2,100)}\n",
    "ridge = Ridge(random_state = 12)\n",
    "ridge_reg = RandomizedSearchCV(ridge, parameters,scoring=['neg_root_mean_squared_error', 'neg_mean_absolute_error'],\\\n",
    "                               refit='neg_root_mean_squared_error', n_iter=60, cv=5)\n",
    "random_ridge = ridge_reg.fit(x_tr, y_tr)\n",
    "random_ridge.best_params_"
   ]
  },
  {
   "cell_type": "code",
   "execution_count": 17,
   "metadata": {},
   "outputs": [
    {
     "data": {
      "text/plain": [
       "Index(['mean_fit_time', 'std_fit_time', 'mean_score_time', 'std_score_time',\n",
       "       'param_alpha', 'params', 'split0_test_neg_root_mean_squared_error',\n",
       "       'split1_test_neg_root_mean_squared_error',\n",
       "       'split2_test_neg_root_mean_squared_error',\n",
       "       'split3_test_neg_root_mean_squared_error',\n",
       "       'split4_test_neg_root_mean_squared_error',\n",
       "       'mean_test_neg_root_mean_squared_error',\n",
       "       'std_test_neg_root_mean_squared_error',\n",
       "       'rank_test_neg_root_mean_squared_error',\n",
       "       'split0_test_neg_mean_absolute_error',\n",
       "       'split1_test_neg_mean_absolute_error',\n",
       "       'split2_test_neg_mean_absolute_error',\n",
       "       'split3_test_neg_mean_absolute_error',\n",
       "       'split4_test_neg_mean_absolute_error',\n",
       "       'mean_test_neg_mean_absolute_error', 'std_test_neg_mean_absolute_error',\n",
       "       'rank_test_neg_mean_absolute_error'],\n",
       "      dtype='object')"
      ]
     },
     "execution_count": 17,
     "metadata": {},
     "output_type": "execute_result"
    }
   ],
   "source": [
    "#Calling the results dataframe to find the column name for the RMSE scores\n",
    "random_ridge_results = pd.DataFrame(random_ridge.cv_results_)\n",
    "random_ridge_results.columns"
   ]
  },
  {
   "cell_type": "code",
   "execution_count": 18,
   "metadata": {
    "scrolled": false
   },
   "outputs": [
    {
     "data": {
      "image/png": "[encoded data removed]",
      "text/plain": [
       "<Figure size 432x288 with 2 Axes>"
      ]
     },
     "metadata": {},
     "output_type": "display_data"
    }
   ],
   "source": [
    "fig, ax = plt.subplots()\n",
    "ax.plot(random_ridge_results['param_alpha'], random_ridge_results['mean_test_neg_root_mean_squared_error'], color='r',\\\n",
    "        marker='o', linestyle='none', alpha=0.7)\n",
    "plt.title('Ridge Scoring')\n",
    "ax.set_xlabel('Alpha')\n",
    "ax.set_ylabel('Mean Negative RMSE')\n",
    "ax2 = ax.twinx()\n",
    "ax2.plot(random_ridge_results['param_alpha'], random_ridge_results['mean_test_neg_mean_absolute_error'], color='b',\\\n",
    "         marker='d', linestyle='none', alpha=0.7)\n",
    "ax2.set_ylabel('Mean Negative MAE')\n",
    "plt.show()"
   ]
  },
  {
   "cell_type": "markdown",
   "metadata": {},
   "source": [
    "Now that I have an idea of where the optimal alpha value lies for the ridge regression I'll fit an optimized ridge to the train data and add the RMSE to my collection of scores."
   ]
  },
  {
   "cell_type": "code",
   "execution_count": 19,
   "metadata": {},
   "outputs": [
    {
     "name": "stdout",
     "output_type": "stream",
     "text": [
      "35812332.82674365\n"
     ]
    }
   ],
   "source": [
    "ridge=Ridge(alpha=random_ridge.best_params_['alpha'], random_state = 12)\n",
    "ridge.fit(x_tr, y_tr)\n",
    "y_pred = ridge.predict(x_te)\n",
    "train_scores['Ridge'] = mean_squared_error(y_te, y_pred)\n",
    "print(mean_squared_error(y_te, y_pred))"
   ]
  },
  {
   "cell_type": "code",
   "execution_count": 20,
   "metadata": {},
   "outputs": [
    {
     "data": {
      "text/plain": [
       "{'alpha': 55.88135039273247}"
      ]
     },
     "execution_count": 20,
     "metadata": {},
     "output_type": "execute_result"
    }
   ],
   "source": [
    "parameters = {'alpha': sp_randFloat(1,100)}\n",
    "lasso = linear_model.Lasso(random_state = 12)\n",
    "rand = RandomizedSearchCV(lasso, parameters, scoring=['neg_root_mean_squared_error', 'neg_mean_absolute_error'],\\\n",
    "                          refit='neg_root_mean_squared_error', n_iter=60, cv=5, random_state=0)\n",
    "rand_lasso = rand.fit(x_tr, y_tr)\n",
    "rand_lasso.best_params_"
   ]
  },
  {
   "cell_type": "code",
   "execution_count": 22,
   "metadata": {},
   "outputs": [
    {
     "name": "stderr",
     "output_type": "stream",
     "text": [
      "C:\\Users\\zbro1\\anaconda3\\lib\\site-packages\\ipykernel_launcher.py:12: UserWarning: The handle <matplotlib.lines.Line2D object at 0x00000207422145C8> has a label of '_line0' which cannot be automatically added to the legend.\n",
      "  if sys.path[0] == '':\n",
      "C:\\Users\\zbro1\\anaconda3\\lib\\site-packages\\ipykernel_launcher.py:12: UserWarning: The handle <matplotlib.lines.Line2D object at 0x00000207422D9148> has a label of '_line0' which cannot be automatically added to the legend.\n",
      "  if sys.path[0] == '':\n"
     ]
    },
    {
     "data": {
      "image/png": "[encoded data removed]",
      "text/plain": [
       "<Figure size 432x288 with 2 Axes>"
      ]
     },
     "metadata": {},
     "output_type": "display_data"
    }
   ],
   "source": [
    "fig, ax = plt.subplots()\n",
    "\n",
    "a1 = ax.plot(rand_lasso_params['param_alpha'], rand_lasso_params['mean_test_neg_root_mean_squared_error'], color='r',\\\n",
    "        marker='o', linestyle='none', alpha=0.7)\n",
    "\n",
    "ax2 = ax.twinx()\n",
    "a2 = ax2.plot(rand_lasso_params['param_alpha'], rand_lasso_params['mean_test_neg_mean_absolute_error'], color='b',\\\n",
    "         marker='d', linestyle='none', alpha=0.7)\n",
    "\n",
    "axs = a1+a2\n",
    "labs = [a.get_label() for a in axs]\n",
    "ax.legend(axs, labs, loc=0)\n",
    "\n",
    "plt.title('Lasso Scoring')\n",
    "ax.set_xlabel('Alpha')\n",
    "ax.set_ylabel('Mean Negative RMSE')\n",
    "ax2.set_ylabel('Mean Negative MAE')\n",
    "\n",
    "plt.show()"
   ]
  },
  {
   "cell_type": "code",
   "execution_count": 23,
   "metadata": {},
   "outputs": [
    {
     "name": "stdout",
     "output_type": "stream",
     "text": [
      "36148747.86264756\n"
     ]
    }
   ],
   "source": [
    "lasso = linear_model.Lasso(alpha=rand_lasso.best_params_['alpha'], random_state = 12)\n",
    "lasso.fit(x_tr, y_tr)\n",
    "y_pred = lasso.predict(x_te)\n",
    "train_scores['Lasso'] = mean_squared_error(y_te, y_pred)\n",
    "print(mean_squared_error(y_te, y_pred))"
   ]
  },
  {
   "cell_type": "markdown",
   "metadata": {},
   "source": [
    "Next will be random forest regression."
   ]
  },
  {
   "cell_type": "code",
   "execution_count": 24,
   "metadata": {},
   "outputs": [
    {
     "data": {
      "text/plain": [
       "{'max_depth': 9,\n",
       " 'max_features': 0.4420211706826668,\n",
       " 'min_samples_leaf': 585,\n",
       " 'n_estimators': 965}"
      ]
     },
     "execution_count": 24,
     "metadata": {},
     "output_type": "execute_result"
    }
   ],
   "source": [
    "parameters = {'max_features': sp_randFloat(0.35, 0.48),\n",
    "             'max_depth': sp_randInt(6,12),\n",
    "             'min_samples_leaf': sp_randInt(580,780),\n",
    "             'n_estimators': sp_randInt(900,1100)\n",
    "             }\n",
    "forest = RandomForestRegressor(n_jobs=-1, random_state=12)\n",
    "forest_reg = RandomizedSearchCV(forest, parameters, scoring=['neg_root_mean_squared_error', 'neg_mean_absolute_error'],\\\n",
    "                                refit='neg_root_mean_squared_error', n_iter=60, cv=5, random_state=12)\n",
    "rand_forest = forest_reg.fit(x_tr, y_tr)\n",
    "rand_forest.best_params_"
   ]
  },
  {
   "cell_type": "code",
   "execution_count": 26,
   "metadata": {
    "scrolled": true
   },
   "outputs": [
    {
     "data": {
      "text/plain": [
       "35985312.019672506"
      ]
     },
     "execution_count": 26,
     "metadata": {},
     "output_type": "execute_result"
    }
   ],
   "source": [
    "opt_forest = RandomForestRegressor(n_estimators=rand_forest.best_params_['n_estimators'],\\\n",
    "                                   max_features=rand_forest.best_params_['max_features'],\\\n",
    "                                   min_samples_leaf=rand_forest.best_params_['min_samples_leaf'],\\\n",
    "                                   max_depth=rand_forest.best_params_['max_depth'], n_jobs = -1, random_state=12)\n",
    "opt_forest.fit(x_tr, y_tr)\n",
    "y_pred = opt_forest.predict(x_te)\n",
    "train_scores['Random Forest'] = mean_squared_error(y_te, y_pred)\n",
    "mean_squared_error(y_te, y_pred)"
   ]
  },
  {
   "cell_type": "markdown",
   "metadata": {},
   "source": [
    "I'll take a look at XGBoost next to see if it can improve even further. First I need to clean up the column names since XGBoost can't work with some characters. Then I'll run three XGBoost models, one using tree boosters, one using a linear booster with shotgun algorithm, and one using a linear booster with coordinate descent algorithm. "
   ]
  },
  {
   "cell_type": "code",
   "execution_count": 27,
   "metadata": {},
   "outputs": [
    {
     "name": "stderr",
     "output_type": "stream",
     "text": [
      "C:\\Users\\zbro1\\anaconda3\\lib\\site-packages\\ipykernel_launcher.py:1: FutureWarning: The default value of regex will change from True to False in a future version. In addition, single character regular expressions will *not* be treated as literal strings when regex=True.\n",
      "  \"\"\"Entry point for launching an IPython kernel.\n",
      "C:\\Users\\zbro1\\anaconda3\\lib\\site-packages\\ipykernel_launcher.py:2: FutureWarning: The default value of regex will change from True to False in a future version. In addition, single character regular expressions will *not* be treated as literal strings when regex=True.\n",
      "  \n",
      "C:\\Users\\zbro1\\anaconda3\\lib\\site-packages\\ipykernel_launcher.py:5: FutureWarning: The default value of regex will change from True to False in a future version. In addition, single character regular expressions will *not* be treated as literal strings when regex=True.\n",
      "  \"\"\"\n",
      "C:\\Users\\zbro1\\anaconda3\\lib\\site-packages\\ipykernel_launcher.py:6: FutureWarning: The default value of regex will change from True to False in a future version. In addition, single character regular expressions will *not* be treated as literal strings when regex=True.\n",
      "  \n"
     ]
    }
   ],
   "source": [
    "x_tr.columns = x_tr.columns.str.replace('[', '_')\n",
    "x_tr.columns = x_tr.columns.str.replace(']', '_')\n",
    "x_tr.columns = x_tr.columns.str.replace(' ', '_')\n",
    "x_tr.columns = x_tr.columns.str.replace(',', '_')\n",
    "x_te.columns = x_te.columns.str.replace('[', '_')\n",
    "x_te.columns = x_te.columns.str.replace(']', '_')\n",
    "x_te.columns = x_te.columns.str.replace(' ', '_')\n",
    "x_te.columns = x_te.columns.str.replace(',', '_')"
   ]
  },
  {
   "cell_type": "code",
   "execution_count": 28,
   "metadata": {},
   "outputs": [
    {
     "data": {
      "text/plain": [
       "{'colsample_bytree': 0.011628310182469744,\n",
       " 'eta': 0.0711158647674193,\n",
       " 'max_depth': 9,\n",
       " 'n_estimators': 860}"
      ]
     },
     "execution_count": 28,
     "metadata": {},
     "output_type": "execute_result"
    }
   ],
   "source": [
    "xgb = XGBRegressor()\n",
    "parameters = {'n_estimators': sp_randInt(500,1000),\n",
    "             'max_depth': sp_randInt(2,10),\n",
    "             'eta': sp_randFloat(0.0001,0.99),\n",
    "             'colsample_bytree': sp_randFloat(0.01,0.99)} \n",
    "rand_xgb = RandomizedSearchCV(xgb, parameters, scoring='neg_root_mean_squared_error',\\\n",
    "                                refit='neg_root_mean_squared_error', n_iter=60, cv=5, random_state=15)\n",
    "xgbooster = rand_xgb.fit(x_tr, y_tr)\n",
    "xgbooster.best_params_"
   ]
  },
  {
   "cell_type": "code",
   "execution_count": 29,
   "metadata": {},
   "outputs": [
    {
     "data": {
      "text/plain": [
       "36453835.95554887"
      ]
     },
     "execution_count": 29,
     "metadata": {},
     "output_type": "execute_result"
    }
   ],
   "source": [
    "xgb_model = XGBRegressor(n_estimators=xgbooster.best_params_['n_estimators'],\\\n",
    "                                   eta=xgbooster.best_params_['eta'],\\\n",
    "                                   colsample_bytree=xgbooster.best_params_['colsample_bytree'],\\\n",
    "                                   max_depth=xgbooster.best_params_['max_depth'])\n",
    "xgb_model.fit(x_tr, y_tr)\n",
    "y_pred = xgb_model.predict(x_te)\n",
    "train_scores['XGBoost'] = mean_squared_error(y_te, y_pred)\n",
    "mean_squared_error(y_te, y_pred)"
   ]
  },
  {
   "cell_type": "code",
   "execution_count": 30,
   "metadata": {},
   "outputs": [
    {
     "data": {
      "text/plain": [
       "{'feature_selector': 'cyclic',\n",
       " 'reg_alpha': 0.5337393933802977,\n",
       " 'reg_lambda': 0.014574962485419674}"
      ]
     },
     "execution_count": 30,
     "metadata": {},
     "output_type": "execute_result"
    }
   ],
   "source": [
    "xgb_linear = XGBRegressor(booster = 'gblinear', verbosity = 0)\n",
    "parameters = {'reg_lambda': sp_randFloat(0,1),\n",
    "             'reg_alpha': sp_randFloat(0, 1),\n",
    "             'feature_selector': ['cyclic', 'shuffle']}\n",
    "rand_xgb_linear = RandomizedSearchCV(xgb_linear, parameters, scoring=['neg_root_mean_squared_error', 'neg_mean_absolute_error'],\\\n",
    "                                refit='neg_root_mean_squared_error', n_iter=60, cv=5, random_state=12)\n",
    "xgbooster_linear = rand_xgb_linear.fit(x_tr, y_tr)\n",
    "xgbooster_linear.best_params_"
   ]
  },
  {
   "cell_type": "code",
   "execution_count": 31,
   "metadata": {},
   "outputs": [
    {
     "data": {
      "text/plain": [
       "35866928.126600765"
      ]
     },
     "execution_count": 31,
     "metadata": {},
     "output_type": "execute_result"
    }
   ],
   "source": [
    "xgb_model_linear = XGBRegressor(booster = 'gblinear', reg_lambda = xgbooster_linear.best_params_['reg_lambda'],\\\n",
    "                                   reg_alpha=xgbooster_linear.best_params_['reg_alpha'],\\\n",
    "                                   feature_selector=xgbooster_linear.best_params_['feature_selector'])\n",
    "xgb_model_linear.fit(x_tr, y_tr)\n",
    "y_pred = xgb_model_linear.predict(x_te)\n",
    "train_scores['XGBoost Linear Shotgun'] = mean_squared_error(y_te, y_pred)\n",
    "mean_squared_error(y_te, y_pred)"
   ]
  },
  {
   "cell_type": "code",
   "execution_count": 32,
   "metadata": {},
   "outputs": [
    {
     "data": {
      "text/plain": [
       "{'feature_selector': 'random',\n",
       " 'reg_alpha': 0.7258614974313065,\n",
       " 'reg_lambda': 0.014498616011217602}"
      ]
     },
     "execution_count": 32,
     "metadata": {},
     "output_type": "execute_result"
    }
   ],
   "source": [
    "xgb_coord_desc = XGBRegressor(booster = 'gblinear', updater = 'coord_descent', verbosity = 0)\n",
    "parameters = {'reg_lambda': sp_randFloat(0,1),\n",
    "             'reg_alpha': sp_randFloat(0, 1),\n",
    "             'feature_selector': ['random', 'greedy', 'thrifty']}\n",
    "rand_xgb_cd = RandomizedSearchCV(xgb_coord_desc, parameters, scoring=['neg_root_mean_squared_error', 'neg_mean_absolute_error'],\\\n",
    "                                refit='neg_root_mean_squared_error', n_iter=60, cv=5, random_state=12)\n",
    "xgbooster_linear_cd = rand_xgb_cd.fit(x_tr, y_tr)\n",
    "xgbooster_linear_cd.best_params_"
   ]
  },
  {
   "cell_type": "code",
   "execution_count": 33,
   "metadata": {},
   "outputs": [
    {
     "data": {
      "text/plain": [
       "35866460.72783456"
      ]
     },
     "execution_count": 33,
     "metadata": {},
     "output_type": "execute_result"
    }
   ],
   "source": [
    "xgb_model_lcd = XGBRegressor(booster = 'gblinear', updater = 'coord_descent',\\\n",
    "                                reg_lambda = xgbooster_linear.best_params_['reg_lambda'],\\\n",
    "                                   reg_alpha=xgbooster_linear.best_params_['reg_alpha'],\\\n",
    "                                   feature_selector=xgbooster_linear.best_params_['feature_selector'])\n",
    "xgb_model_lcd.fit(x_tr, y_tr)\n",
    "y_pred = xgb_model_lcd.predict(x_te)\n",
    "train_scores['XGBoost Linear Coord Descent'] = mean_squared_error(y_te, y_pred)\n",
    "mean_squared_error(y_te, y_pred)"
   ]
  },
  {
   "cell_type": "markdown",
   "metadata": {},
   "source": [
    "Next will be a more basic decision tree."
   ]
  },
  {
   "cell_type": "code",
   "execution_count": 34,
   "metadata": {},
   "outputs": [
    {
     "data": {
      "text/plain": [
       "{'max_depth': 3, 'min_samples_leaf': 518}"
      ]
     },
     "execution_count": 34,
     "metadata": {},
     "output_type": "execute_result"
    }
   ],
   "source": [
    "d_tree = tree.DecisionTreeRegressor(random_state = 12)\n",
    "parameters = {'max_depth': sp_randInt(2,10),\n",
    "             'min_samples_leaf': sp_randInt(100,5000)}\n",
    "rand_tree = RandomizedSearchCV(d_tree, parameters, scoring=['neg_root_mean_squared_error', 'neg_mean_absolute_error'],\\\n",
    "                                refit='neg_root_mean_squared_error', n_iter=60, cv=5, random_state=12)\n",
    "decision_tree = rand_tree.fit(x_tr, y_tr)\n",
    "decision_tree.best_params_"
   ]
  },
  {
   "cell_type": "code",
   "execution_count": 35,
   "metadata": {},
   "outputs": [
    {
     "data": {
      "text/plain": [
       "36053452.74061726"
      ]
     },
     "execution_count": 35,
     "metadata": {},
     "output_type": "execute_result"
    }
   ],
   "source": [
    "decision_tree_model = tree.DecisionTreeRegressor(max_depth = decision_tree.best_params_['max_depth'],\\\n",
    "                                            min_samples_leaf = decision_tree.best_params_['min_samples_leaf'],\\\n",
    "                                            random_state = 12)\n",
    "decision_tree_model.fit(x_tr, y_tr)\n",
    "y_pred = decision_tree_model.predict(x_te)\n",
    "train_scores['Decision Tree'] = mean_squared_error(y_te, y_pred)\n",
    "mean_squared_error(y_te, y_pred)"
   ]
  },
  {
   "cell_type": "markdown",
   "metadata": {},
   "source": [
    "Finally I'll look at K nearest neighbors and then LGBM"
   ]
  },
  {
   "cell_type": "code",
   "execution_count": 36,
   "metadata": {},
   "outputs": [
    {
     "data": {
      "text/plain": [
       "{'n_neighbors': 36}"
      ]
     },
     "execution_count": 36,
     "metadata": {},
     "output_type": "execute_result"
    }
   ],
   "source": [
    "neighbors = KNeighborsRegressor()\n",
    "parameters = {'n_neighbors': sp_randInt(2,50)}\n",
    "rand_knn = RandomizedSearchCV(neighbors, parameters, scoring=['neg_root_mean_squared_error', 'neg_mean_absolute_error'],\\\n",
    "                                refit='neg_root_mean_squared_error', n_iter=15, cv=5, random_state=12)\n",
    "opt_nn = rand_knn.fit(x_tr, y_tr)\n",
    "opt_nn.best_params_"
   ]
  },
  {
   "cell_type": "code",
   "execution_count": 37,
   "metadata": {},
   "outputs": [
    {
     "data": {
      "text/plain": [
       "36030817.05017025"
      ]
     },
     "execution_count": 37,
     "metadata": {},
     "output_type": "execute_result"
    }
   ],
   "source": [
    "knn_opt = KNeighborsRegressor(n_neighbors = opt_nn.best_params_['n_neighbors'])\n",
    "knn_opt.fit(x_tr, y_tr)\n",
    "y_pred = knn_opt.predict(x_te)\n",
    "train_scores['KNN'] = mean_squared_error(y_te, y_pred)\n",
    "mean_squared_error(y_te, y_pred)"
   ]
  },
  {
   "cell_type": "code",
   "execution_count": 38,
   "metadata": {},
   "outputs": [
    {
     "data": {
      "text/plain": [
       "{'learning_rate': 0.08298980249791144,\n",
       " 'max_depth': 2,\n",
       " 'n_estimators': 893,\n",
       " 'num_leaves': 219}"
      ]
     },
     "execution_count": 38,
     "metadata": {},
     "output_type": "execute_result"
    }
   ],
   "source": [
    "lgbm = lgb.LGBMRegressor(objective = 'regression', metric = 'mae')\n",
    "parameters = {'num_leaves': sp_randInt(10,1000),\n",
    "              'n_estimators': sp_randInt(10,1000),\n",
    "              'max_depth': sp_randInt(2,10),\n",
    "              'learning_rate': sp_randFloat(0.001,1)}\n",
    "rand_lgbm = RandomizedSearchCV(lgbm, parameters, scoring=['neg_root_mean_squared_error', 'neg_mean_absolute_error'],\\\n",
    "                                refit='neg_root_mean_squared_error', n_iter=60, cv=5, random_state=12)\n",
    "opt_lgbm = rand_lgbm.fit(x_tr, y_tr)\n",
    "opt_lgbm.best_params_"
   ]
  },
  {
   "cell_type": "code",
   "execution_count": 39,
   "metadata": {},
   "outputs": [
    {
     "data": {
      "text/plain": [
       "35929524.309228405"
      ]
     },
     "execution_count": 39,
     "metadata": {},
     "output_type": "execute_result"
    }
   ],
   "source": [
    "lgbm_opt = lgb.LGBMRegressor(objective = 'regression', metric = 'mae', num_leaves = opt_lgbm.best_params_['num_leaves'],\\\n",
    "                             n_estimators = opt_lgbm.best_params_['n_estimators'],\\\n",
    "                             max_depth = opt_lgbm.best_params_['max_depth'],\\\n",
    "                             learning_rate = opt_lgbm.best_params_['learning_rate'])\n",
    "lgbm_opt.fit(x_tr, y_tr)\n",
    "y_pred = lgbm_opt.predict(x_te)\n",
    "train_scores['Light GBM'] = mean_squared_error(y_te, y_pred)\n",
    "mean_squared_error(y_te, y_pred)"
   ]
  },
  {
   "cell_type": "markdown",
   "metadata": {},
   "source": [
    "Now that I've done a quick once-over for these different models let's take a look at which performed the best so far and by how much."
   ]
  },
  {
   "cell_type": "code",
   "execution_count": 48,
   "metadata": {
    "scrolled": false
   },
   "outputs": [
    {
     "data": {
      "image/png": "[encoded data removed]",
      "text/plain": [
       "<Figure size 432x288 with 1 Axes>"
      ]
     },
     "metadata": {},
     "output_type": "display_data"
    }
   ],
   "source": [
    "keys = list(train_scores.keys())\n",
    "vals = [float(train_scores[k]) for k in keys]\n",
    "sns.barplot(x=keys, y=vals)\n",
    "plt.xticks(rotation=45, ha='right')\n",
    "plt.ylabel('RMSE')\n",
    "plt.ylim(35500000,37500000)\n",
    "plt.title('Model Accuracy Comparison')\n",
    "plt.show()"
   ]
  },
  {
   "cell_type": "markdown",
   "metadata": {},
   "source": [
    "I'll also list out the values in order."
   ]
  },
  {
   "cell_type": "code",
   "execution_count": 47,
   "metadata": {},
   "outputs": [
    {
     "data": {
      "text/plain": [
       "[('Ridge', 35812332.82674365),\n",
       " ('XGBoost Linear Coord Descent', 35866460.72783456),\n",
       " ('XGBoost Linear Shotgun', 35866928.126600765),\n",
       " ('Light GBM', 35929524.309228405),\n",
       " ('Random Forest', 35985312.019672506),\n",
       " ('KNN', 36030817.05017025),\n",
       " ('Decision Tree', 36053452.74061726),\n",
       " ('Lasso', 36148747.86264756),\n",
       " ('Mean Dummy Regressor', 36263761.69940872),\n",
       " ('Median Dummy Regressor', 36294646.32369107),\n",
       " ('XGBoost', 36453835.95554887),\n",
       " ('25th Quantile Dummy Regressor', 37025295.57501316),\n",
       " ('OLS', 3.1926184945949468e+16)]"
      ]
     },
     "execution_count": 47,
     "metadata": {},
     "output_type": "execute_result"
    }
   ],
   "source": [
    "[(k, v) for k, v in sorted(train_scores.items(), key=lambda x: x[1], reverse=False)]"
   ]
  },
  {
   "cell_type": "markdown",
   "metadata": {},
   "source": [
    "Now I need to hone in on those top few models to see which really stands out as I work on improving them. I'll start by rerunning them with 80% training data splits using the same hyperparameters identified in this first section."
   ]
  },
  {
   "cell_type": "code",
   "execution_count": 50,
   "metadata": {},
   "outputs": [
    {
     "data": {
      "text/plain": [
       "((124953, 400), (31239, 400), (124953,), (31239,))"
      ]
     },
     "execution_count": 50,
     "metadata": {},
     "output_type": "execute_result"
    }
   ],
   "source": [
    "x_tr, x_te, y_tr, y_te = train_test_split(X_train, y_train, test_size=0.2)\n",
    "y_tr = y_tr.values.ravel()\n",
    "y_te = y_te.values.ravel()\n",
    "x_tr.shape, x_te.shape, y_tr.shape, y_te.shape"
   ]
  },
  {
   "cell_type": "code",
   "execution_count": 56,
   "metadata": {},
   "outputs": [
    {
     "name": "stdout",
     "output_type": "stream",
     "text": [
      "4989646.12493043\n"
     ]
    }
   ],
   "source": [
    "train_scores_2 = {}\n",
    "ridge=Ridge(alpha=random_ridge.best_params_['alpha'], random_state = 12)\n",
    "ridge.fit(x_tr, y_tr)\n",
    "y_pred = ridge.predict(x_te)\n",
    "train_scores_2['Ridge'] = mean_squared_error(y_te, y_pred)\n",
    "print(mean_squared_error(y_te, y_pred))"
   ]
  },
  {
   "cell_type": "code",
   "execution_count": 53,
   "metadata": {},
   "outputs": [
    {
     "name": "stderr",
     "output_type": "stream",
     "text": [
      "C:\\Users\\zbro1\\anaconda3\\lib\\site-packages\\ipykernel_launcher.py:1: FutureWarning: The default value of regex will change from True to False in a future version. In addition, single character regular expressions will *not* be treated as literal strings when regex=True.\n",
      "  \"\"\"Entry point for launching an IPython kernel.\n",
      "C:\\Users\\zbro1\\anaconda3\\lib\\site-packages\\ipykernel_launcher.py:2: FutureWarning: The default value of regex will change from True to False in a future version. In addition, single character regular expressions will *not* be treated as literal strings when regex=True.\n",
      "  \n",
      "C:\\Users\\zbro1\\anaconda3\\lib\\site-packages\\ipykernel_launcher.py:5: FutureWarning: The default value of regex will change from True to False in a future version. In addition, single character regular expressions will *not* be treated as literal strings when regex=True.\n",
      "  \"\"\"\n",
      "C:\\Users\\zbro1\\anaconda3\\lib\\site-packages\\ipykernel_launcher.py:6: FutureWarning: The default value of regex will change from True to False in a future version. In addition, single character regular expressions will *not* be treated as literal strings when regex=True.\n",
      "  \n"
     ]
    }
   ],
   "source": [
    "x_tr.columns = x_tr.columns.str.replace('[', '_')\n",
    "x_tr.columns = x_tr.columns.str.replace(']', '_')\n",
    "x_tr.columns = x_tr.columns.str.replace(' ', '_')\n",
    "x_tr.columns = x_tr.columns.str.replace(',', '_')\n",
    "x_te.columns = x_te.columns.str.replace('[', '_')\n",
    "x_te.columns = x_te.columns.str.replace(']', '_')\n",
    "x_te.columns = x_te.columns.str.replace(' ', '_')\n",
    "x_te.columns = x_te.columns.str.replace(',', '_')"
   ]
  },
  {
   "cell_type": "code",
   "execution_count": 64,
   "metadata": {},
   "outputs": [
    {
     "data": {
      "text/plain": [
       "5122470.266931484"
      ]
     },
     "execution_count": 64,
     "metadata": {},
     "output_type": "execute_result"
    }
   ],
   "source": [
    "xgb_model_lcd = XGBRegressor(booster = 'gblinear', updater = 'coord_descent',\\\n",
    "                                reg_lambda = xgbooster_linear.best_params_['reg_lambda'],\\\n",
    "                                   reg_alpha=xgbooster_linear.best_params_['reg_alpha'],\\\n",
    "                                   feature_selector=xgbooster_linear.best_params_['feature_selector'])\n",
    "xgb_model_lcd.fit(x_tr, y_tr)\n",
    "y_pred = xgb_model_lcd.predict(x_te)\n",
    "train_scores_2['XGBoost Linear Coord Descent'] = mean_squared_error(y_te, y_pred)\n",
    "mean_squared_error(y_te, y_pred)"
   ]
  },
  {
   "cell_type": "code",
   "execution_count": 65,
   "metadata": {},
   "outputs": [
    {
     "data": {
      "text/plain": [
       "5122626.455583302"
      ]
     },
     "execution_count": 65,
     "metadata": {},
     "output_type": "execute_result"
    }
   ],
   "source": [
    "xgb_model_linear = XGBRegressor(booster = 'gblinear', reg_lambda = xgbooster_linear.best_params_['reg_lambda'],\\\n",
    "                                   reg_alpha=xgbooster_linear.best_params_['reg_alpha'],\\\n",
    "                                   feature_selector=xgbooster_linear.best_params_['feature_selector'])\n",
    "xgb_model_linear.fit(x_tr, y_tr)\n",
    "y_pred = xgb_model_linear.predict(x_te)\n",
    "train_scores_2['XGBoost Linear Shotgun'] = mean_squared_error(y_te, y_pred)\n",
    "mean_squared_error(y_te, y_pred)"
   ]
  },
  {
   "cell_type": "code",
   "execution_count": 57,
   "metadata": {},
   "outputs": [
    {
     "data": {
      "text/plain": [
       "4970398.387145526"
      ]
     },
     "execution_count": 57,
     "metadata": {},
     "output_type": "execute_result"
    }
   ],
   "source": [
    "lgbm_opt = lgb.LGBMRegressor(objective = 'regression', metric = 'mae', num_leaves = opt_lgbm.best_params_['num_leaves'],\\\n",
    "                             n_estimators = opt_lgbm.best_params_['n_estimators'],\\\n",
    "                             max_depth = opt_lgbm.best_params_['max_depth'],\\\n",
    "                             learning_rate = opt_lgbm.best_params_['learning_rate'])\n",
    "lgbm_opt.fit(x_tr, y_tr)\n",
    "y_pred = lgbm_opt.predict(x_te)\n",
    "train_scores_2['Light GBM'] = mean_squared_error(y_te, y_pred)\n",
    "mean_squared_error(y_te, y_pred)"
   ]
  },
  {
   "cell_type": "code",
   "execution_count": 58,
   "metadata": {},
   "outputs": [
    {
     "data": {
      "text/plain": [
       "5054208.105365566"
      ]
     },
     "execution_count": 58,
     "metadata": {},
     "output_type": "execute_result"
    }
   ],
   "source": [
    "opt_forest = RandomForestRegressor(n_estimators=rand_forest.best_params_['n_estimators'],\\\n",
    "                                   max_features=rand_forest.best_params_['max_features'],\\\n",
    "                                   min_samples_leaf=rand_forest.best_params_['min_samples_leaf'],\\\n",
    "                                   max_depth=rand_forest.best_params_['max_depth'], n_jobs = -1, random_state=12)\n",
    "opt_forest.fit(x_tr, y_tr)\n",
    "y_pred = opt_forest.predict(x_te)\n",
    "train_scores_2['Random Forest'] = mean_squared_error(y_te, y_pred)\n",
    "mean_squared_error(y_te, y_pred)"
   ]
  },
  {
   "cell_type": "code",
   "execution_count": 59,
   "metadata": {},
   "outputs": [
    {
     "data": {
      "text/plain": [
       "5208049.076257908"
      ]
     },
     "execution_count": 59,
     "metadata": {},
     "output_type": "execute_result"
    }
   ],
   "source": [
    "knn_opt = KNeighborsRegressor(n_neighbors = opt_nn.best_params_['n_neighbors'])\n",
    "knn_opt.fit(x_tr, y_tr)\n",
    "y_pred = knn_opt.predict(x_te)\n",
    "train_scores_2['KNN'] = mean_squared_error(y_te, y_pred)\n",
    "mean_squared_error(y_te, y_pred)"
   ]
  },
  {
   "cell_type": "code",
   "execution_count": 60,
   "metadata": {},
   "outputs": [
    {
     "data": {
      "text/plain": [
       "5316602.137613924"
      ]
     },
     "execution_count": 60,
     "metadata": {},
     "output_type": "execute_result"
    }
   ],
   "source": [
    "decision_tree_model = tree.DecisionTreeRegressor(max_depth = decision_tree.best_params_['max_depth'],\\\n",
    "                                            min_samples_leaf = decision_tree.best_params_['min_samples_leaf'],\\\n",
    "                                            random_state = 12)\n",
    "decision_tree_model.fit(x_tr, y_tr)\n",
    "y_pred = decision_tree_model.predict(x_te)\n",
    "train_scores_2['Decision Tree'] = mean_squared_error(y_te, y_pred)\n",
    "mean_squared_error(y_te, y_pred)"
   ]
  },
  {
   "cell_type": "code",
   "execution_count": 61,
   "metadata": {},
   "outputs": [
    {
     "name": "stdout",
     "output_type": "stream",
     "text": [
      "5454716.721421391\n"
     ]
    }
   ],
   "source": [
    "lasso = linear_model.Lasso(alpha=rand_lasso.best_params_['alpha'], random_state = 12)\n",
    "lasso.fit(x_tr, y_tr)\n",
    "y_pred = lasso.predict(x_te)\n",
    "train_scores_2['Lasso'] = mean_squared_error(y_te, y_pred)\n",
    "print(mean_squared_error(y_te, y_pred))"
   ]
  },
  {
   "cell_type": "code",
   "execution_count": 67,
   "metadata": {},
   "outputs": [
    {
     "data": {
      "text/plain": [
       "4968646.873173527"
      ]
     },
     "execution_count": 67,
     "metadata": {},
     "output_type": "execute_result"
    }
   ],
   "source": [
    "xgb_model = XGBRegressor(n_estimators=xgbooster.best_params_['n_estimators'],\\\n",
    "                                   eta=xgbooster.best_params_['eta'],\\\n",
    "                                   colsample_bytree=xgbooster.best_params_['colsample_bytree'],\\\n",
    "                                   max_depth=xgbooster.best_params_['max_depth'])\n",
    "xgb_model.fit(x_tr, y_tr)\n",
    "y_pred = xgb_model.predict(x_te)\n",
    "train_scores_2['XGBoost'] = mean_squared_error(y_te, y_pred)\n",
    "mean_squared_error(y_te, y_pred)"
   ]
  },
  {
   "cell_type": "code",
   "execution_count": 68,
   "metadata": {},
   "outputs": [
    {
     "data": {
      "image/png": "[encoded data removed]",
      "text/plain": [
       "<Figure size 432x288 with 1 Axes>"
      ]
     },
     "metadata": {},
     "output_type": "display_data"
    }
   ],
   "source": [
    "keys = list(train_scores_2.keys())\n",
    "vals = [float(train_scores_2[k]) for k in keys]\n",
    "sns.barplot(x=keys, y=vals)\n",
    "plt.xticks(rotation=45, ha='right')\n",
    "plt.ylabel('RMSE')\n",
    "plt.ylim(4800000,5600000)\n",
    "plt.title('Model Accuracy Comparison')\n",
    "plt.show()"
   ]
  },
  {
   "cell_type": "markdown",
   "metadata": {},
   "source": [
    "Wow, ridge is holding up as one of the best models we have for this data! I'll redo the hyperparameter tuning at this higher train-test split on just ridge, light GBM, and XGBoost to try to improve them and see if I can further narrow down to a single model worth finalizing."
   ]
  },
  {
   "cell_type": "code",
   "execution_count": 70,
   "metadata": {},
   "outputs": [
    {
     "name": "stdout",
     "output_type": "stream",
     "text": [
      "4988475.365503406\n"
     ]
    }
   ],
   "source": [
    "train_scores_3 = {}\n",
    "parameters = {'alpha': sp_randFloat(2,100)}\n",
    "ridge = Ridge(random_state = 12)\n",
    "ridge_reg = RandomizedSearchCV(ridge, parameters,scoring=['neg_root_mean_squared_error', 'neg_mean_absolute_error'],\\\n",
    "                               refit='neg_root_mean_squared_error', n_iter=60, cv=5)\n",
    "random_ridge = ridge_reg.fit(x_tr, y_tr)\n",
    "y_pred = random_ridge.predict(x_te)\n",
    "train_scores_3['Ridge'] = mean_squared_error(y_te, y_pred)\n",
    "print(mean_squared_error(y_te, y_pred))"
   ]
  },
  {
   "cell_type": "code",
   "execution_count": 71,
   "metadata": {},
   "outputs": [
    {
     "data": {
      "text/plain": [
       "4968646.873173527"
      ]
     },
     "execution_count": 71,
     "metadata": {},
     "output_type": "execute_result"
    }
   ],
   "source": [
    "xgb = XGBRegressor()\n",
    "parameters = {'n_estimators': sp_randInt(500,1000),\n",
    "             'max_depth': sp_randInt(2,10),\n",
    "             'eta': sp_randFloat(0.0001,0.99),\n",
    "             'colsample_bytree': sp_randFloat(0.01,0.99)} \n",
    "rand_xgb = RandomizedSearchCV(xgb, parameters, scoring='neg_root_mean_squared_error',\\\n",
    "                                refit='neg_root_mean_squared_error', n_iter=60, cv=5, random_state=15)\n",
    "xgbooster = rand_xgb.fit(x_tr, y_tr)\n",
    "y_pred = xgbooster.predict(x_te)\n",
    "train_scores_3['XGBoost'] = mean_squared_error(y_te, y_pred)\n",
    "mean_squared_error(y_te, y_pred)"
   ]
  },
  {
   "cell_type": "code",
   "execution_count": 72,
   "metadata": {},
   "outputs": [
    {
     "data": {
      "text/plain": [
       "4970398.387145526"
      ]
     },
     "execution_count": 72,
     "metadata": {},
     "output_type": "execute_result"
    }
   ],
   "source": [
    "lgbm = lgb.LGBMRegressor(objective = 'regression', metric = 'mae')\n",
    "parameters = {'num_leaves': sp_randInt(10,1000),\n",
    "              'n_estimators': sp_randInt(10,1000),\n",
    "              'max_depth': sp_randInt(2,10),\n",
    "              'learning_rate': sp_randFloat(0.001,1)}\n",
    "rand_lgbm = RandomizedSearchCV(lgbm, parameters, scoring=['neg_root_mean_squared_error', 'neg_mean_absolute_error'],\\\n",
    "                                refit='neg_root_mean_squared_error', n_iter=60, cv=5, random_state=12)\n",
    "opt_lgbm = rand_lgbm.fit(x_tr, y_tr)\n",
    "y_pred = opt_lgbm.predict(x_te)\n",
    "train_scores_3['Light GBM'] = mean_squared_error(y_te, y_pred)\n",
    "mean_squared_error(y_te, y_pred)"
   ]
  },
  {
   "cell_type": "code",
   "execution_count": 74,
   "metadata": {},
   "outputs": [
    {
     "data": {
      "image/png": "[encoded data removed]",
      "text/plain": [
       "<Figure size 432x288 with 1 Axes>"
      ]
     },
     "metadata": {},
     "output_type": "display_data"
    }
   ],
   "source": [
    "keys = list(train_scores_3.keys())\n",
    "vals = [float(train_scores_3[k]) for k in keys]\n",
    "sns.barplot(x=keys, y=vals)\n",
    "plt.xticks(rotation=45, ha='right')\n",
    "plt.ylabel('RMSE')\n",
    "plt.ylim(4940000,5000000)\n",
    "plt.title('Model Accuracy Comparison')\n",
    "plt.show()"
   ]
  },
  {
   "cell_type": "markdown",
   "metadata": {},
   "source": [
    "So it looks like ridge plateaus around 4.98M RMSE and we're safe to stop pushing it any further. XGBoost performs the best of the three, though it's a very close call against Light GBM. I will go ahead and take a look now at XGBoost to see if I hold these hyperparameters but add extra data to the train set will it significantly boost the performance at all."
   ]
  },
  {
   "cell_type": "code",
   "execution_count": 83,
   "metadata": {},
   "outputs": [
    {
     "name": "stderr",
     "output_type": "stream",
     "text": [
      "C:\\Users\\zbro1\\anaconda3\\lib\\site-packages\\ipykernel_launcher.py:1: FutureWarning: The default value of regex will change from True to False in a future version. In addition, single character regular expressions will *not* be treated as literal strings when regex=True.\n",
      "  \"\"\"Entry point for launching an IPython kernel.\n",
      "C:\\Users\\zbro1\\anaconda3\\lib\\site-packages\\ipykernel_launcher.py:2: FutureWarning: The default value of regex will change from True to False in a future version. In addition, single character regular expressions will *not* be treated as literal strings when regex=True.\n",
      "  \n"
     ]
    }
   ],
   "source": [
    "X_train.columns = X_train.columns.str.replace('[', '_')\n",
    "X_train.columns = X_train.columns.str.replace(']', '_')\n",
    "X_train.columns = X_train.columns.str.replace(' ', '_')\n",
    "X_train.columns = X_train.columns.str.replace(',', '_')"
   ]
  },
  {
   "cell_type": "code",
   "execution_count": 84,
   "metadata": {},
   "outputs": [],
   "source": [
    "split_ratios = {}\n",
    "\n",
    "ratios = [0.2, 0.175, 0.15, 0.125, 0.1, 0.075, 0.05]\n",
    "\n",
    "for ratio in ratios:\n",
    "    x_train, x_test, y_tra, y_test = train_test_split(X_train, y_train, test_size = ratio)\n",
    "    y_tra = y_tra.values.ravel()\n",
    "    y_test = y_test.values.ravel()\n",
    "    \n",
    "    xgb = XGBRegressor(n_estimators = xgbooster.best_params_['n_estimators'], \n",
    "                       max_depth = xgbooster.best_params_['max_depth'], \n",
    "                       eta = xgbooster.best_params_['eta'],\n",
    "                  colsample_bytree = xgbooster.best_params_['colsample_bytree']) \n",
    "    xgb.fit(x_train, y_tra)\n",
    "    y_pred = xgb.predict(x_test)\n",
    "    \n",
    "    split_ratios[ratio] = mean_squared_error(y_test, y_pred)"
   ]
  },
  {
   "cell_type": "code",
   "execution_count": 87,
   "metadata": {},
   "outputs": [],
   "source": [
    "splits = pd.DataFrame(data = split_ratios, index=['RMSE']).T"
   ]
  },
  {
   "cell_type": "code",
   "execution_count": 123,
   "metadata": {},
   "outputs": [
    {
     "data": {
      "image/png": "[encoded data removed]",
      "text/plain": [
       "<Figure size 432x288 with 1 Axes>"
      ]
     },
     "metadata": {},
     "output_type": "display_data"
    },
    {
     "name": "stdout",
     "output_type": "stream",
     "text": [
      "The lowest RMSE achieved was:  2254354.528163833\n",
      "The split ratio for this RSME was:  RMSE    0.05\n",
      "dtype: float64\n"
     ]
    }
   ],
   "source": [
    "sns.scatterplot(data = splits, x=splits.index, y=splits['RMSE'])\n",
    "plt.ylabel('RMSE')\n",
    "plt.xlabel('Train-Test Split Ratio')\n",
    "plt.title('XGBoost Score by Split Ratio')\n",
    "plt.show()\n",
    "print('The lowest RMSE achieved was: ', min(splits['RMSE']))\n",
    "print('The split ratio for this RSME was: ', splits[['RMSE']].idxmin())"
   ]
  },
  {
   "cell_type": "markdown",
   "metadata": {},
   "source": [
    "Well that's not what I expected. I expected to see a downward trend with an elbow where more data doesn't improve the score any further. This suggests to me that there may be a few outliers in the data that increase the RMSE dramatically if they're not included in the test set. To test this I'll do a 10% training split, plot predicted y_test against actual y_test, and check for outliers."
   ]
  },
  {
   "cell_type": "code",
   "execution_count": 89,
   "metadata": {},
   "outputs": [
    {
     "data": {
      "text/plain": [
       "39339862.88597387"
      ]
     },
     "execution_count": 89,
     "metadata": {},
     "output_type": "execute_result"
    }
   ],
   "source": [
    "x_train, x_test, y_tra, y_test = train_test_split(X_train, y_train, test_size = 0.9)\n",
    "\n",
    "xgb = XGBRegressor(n_estimators = xgbooster.best_params_['n_estimators'], \n",
    "                       max_depth = xgbooster.best_params_['max_depth'], \n",
    "                       eta = xgbooster.best_params_['eta'],\n",
    "                  colsample_bytree = xgbooster.best_params_['colsample_bytree']) \n",
    "xgb.fit(x_train, y_tra)\n",
    "y_pred = xgb.predict(x_test)\n",
    "mean_squared_error(y_test, y_pred)"
   ]
  },
  {
   "cell_type": "code",
   "execution_count": 91,
   "metadata": {},
   "outputs": [
    {
     "data": {
      "text/plain": [
       "[]"
      ]
     },
     "execution_count": 91,
     "metadata": {},
     "output_type": "execute_result"
    },
    {
     "data": {
      "image/png": "[encoded data removed]",
      "text/plain": [
       "<Figure size 432x288 with 1 Axes>"
      ]
     },
     "metadata": {},
     "output_type": "display_data"
    }
   ],
   "source": [
    "plt.plot(y_test, y_pred, marker='o', linestyle='')\n",
    "plt.xlabel('Y Test')\n",
    "plt.ylabel('Y Predicted')\n",
    "plt.plot()"
   ]
  },
  {
   "cell_type": "markdown",
   "metadata": {},
   "source": [
    "Ok, this shows what I expected to see, there are 5 outliers that have 2-10x worse predictions than the rest of the data, and if they're not in the training data then they increase the RMSE of the model significantly.\n",
    "\n",
    "For now I'll just acknowledge this aspect of the data and proceed by seeing if I reduce the number of features in the data to just those deemed important by my best ridge model, can that improve the performance of my current best XGBoost model? I'll keep my train split at 80% of the data since any improvements below that seem to be marginal, assuming those outliers are in the train set."
   ]
  },
  {
   "cell_type": "code",
   "execution_count": 95,
   "metadata": {},
   "outputs": [],
   "source": [
    "from sklearn.feature_selection import SelectFromModel"
   ]
  },
  {
   "cell_type": "code",
   "execution_count": 105,
   "metadata": {},
   "outputs": [],
   "source": [
    "x_train, x_test, y_tra, y_test = train_test_split(X_train, y_train, test_size = 0.2)\n",
    "\n",
    "selector = SelectFromModel(estimator = Ridge(alpha = random_ridge.best_params_['alpha'], random_state = 12)).fit(x_train, y_tra)"
   ]
  },
  {
   "cell_type": "code",
   "execution_count": 111,
   "metadata": {},
   "outputs": [
    {
     "data": {
      "text/plain": [
       "(156192, 139)"
      ]
     },
     "execution_count": 111,
     "metadata": {},
     "output_type": "execute_result"
    }
   ],
   "source": [
    "X_train_ridge = X_train.loc[:, selector.get_support()]\n",
    "X_train_ridge.shape"
   ]
  },
  {
   "cell_type": "code",
   "execution_count": 112,
   "metadata": {},
   "outputs": [],
   "source": [
    "x_train, x_test, y_tra, y_test = train_test_split(X_train_ridge, y_train, test_size = 0.2)"
   ]
  },
  {
   "cell_type": "code",
   "execution_count": 113,
   "metadata": {},
   "outputs": [
    {
     "data": {
      "text/plain": [
       "2945212.966352341"
      ]
     },
     "execution_count": 113,
     "metadata": {},
     "output_type": "execute_result"
    }
   ],
   "source": [
    "xgb_r = XGBRegressor()\n",
    "parameters = {'n_estimators': sp_randInt(500,1000),\n",
    "             'max_depth': sp_randInt(2,10),\n",
    "             'eta': sp_randFloat(0.0001,0.99),\n",
    "             'colsample_bytree': sp_randFloat(0.01,0.99)} \n",
    "ridge_xgb = RandomizedSearchCV(xgb_r, parameters, scoring='neg_root_mean_squared_error',\\\n",
    "                                refit='neg_root_mean_squared_error', n_iter=60, cv=5, random_state=15)\n",
    "xgbr = ridge_xgb.fit(x_train, y_tra)\n",
    "y_pred = xgbr.predict(x_test)\n",
    "train_scores_3['XGBoost'] = mean_squared_error(y_test, y_pred)\n",
    "mean_squared_error(y_test, y_pred)"
   ]
  },
  {
   "cell_type": "code",
   "execution_count": 116,
   "metadata": {},
   "outputs": [],
   "source": [
    "rmse_dict = {'ridge_data_rmse': mean_squared_error(y_test, y_pred), 'full_data_rmse': min(splits['RMSE'])}"
   ]
  },
  {
   "cell_type": "code",
   "execution_count": 122,
   "metadata": {},
   "outputs": [
    {
     "data": {
      "image/png": "[encoded data removed]",
      "text/plain": [
       "<Figure size 432x288 with 1 Axes>"
      ]
     },
     "metadata": {},
     "output_type": "display_data"
    }
   ],
   "source": [
    "plt.bar(range(len(rmse_dict)), list(rmse_dict.values()), tick_label=['Ridge Reduced Features', 'Full Features'],\\\n",
    "        color=['red', 'blue'])\n",
    "plt.ylabel('RMSE')\n",
    "plt.title('XGBoost scores with full and reduced feature set')\n",
    "plt.show()"
   ]
  },
  {
   "cell_type": "markdown",
   "metadata": {},
   "source": [
    "Ok, so now I know that my current best model uses the full 400 features I began with, and that reducing the features based on those the ridge model kept hurts the XGBoost performance. I'll take a look at feature importance in the model based on the full data to see how it aligns with what I identified during exploratory data analysis.\n",
    "\n",
    "First I'll need to do one final smaller hyperparameter search since the previous models were overwritten during the train-test splitting when I hit that 2.3M RMSE model."
   ]
  },
  {
   "cell_type": "code",
   "execution_count": 126,
   "metadata": {},
   "outputs": [
    {
     "name": "stdout",
     "output_type": "stream",
     "text": [
      "n_estimators:  860\n",
      "max_depth:  9\n",
      "eta:  0.0711158647674193\n",
      "colsample_bytree:  0.011628310182469744\n"
     ]
    }
   ],
   "source": [
    "print('n_estimators: ', xgbooster.best_params_['n_estimators'])\n",
    "print('max_depth: ', xgbooster.best_params_['max_depth'])\n",
    "print('eta: ', xgbooster.best_params_['eta'])\n",
    "print('colsample_bytree: ', xgbooster.best_params_['colsample_bytree'])"
   ]
  },
  {
   "cell_type": "code",
   "execution_count": 127,
   "metadata": {},
   "outputs": [
    {
     "data": {
      "text/plain": [
       "2918447.9209540263"
      ]
     },
     "execution_count": 127,
     "metadata": {},
     "output_type": "execute_result"
    }
   ],
   "source": [
    "x_train, x_test, y_tra, y_test = train_test_split(X_train, y_train, test_size = 0.2)\n",
    "y_tra = y_tra.values.ravel()\n",
    "y_test = y_test.values.ravel()\n",
    "    \n",
    "xgbr = XGBRegressor()\n",
    "parameters = {'n_estimators': sp_randInt(820,900),\n",
    "             'max_depth': sp_randInt(7,11),\n",
    "             'eta': sp_randFloat(0.05,0.09),\n",
    "             'colsample_bytree': sp_randFloat(0.001,0.1)} \n",
    "xgb_opt = RandomizedSearchCV(xgbr, parameters, scoring='neg_root_mean_squared_error',\\\n",
    "                                refit='neg_root_mean_squared_error', n_iter=10, cv=5, random_state=15)\n",
    "xgb_opt.fit(x_train, y_tra)\n",
    "y_pred = xgb_opt.predict(x_test)\n",
    "mean_squared_error(y_test, y_pred)"
   ]
  },
  {
   "cell_type": "code",
   "execution_count": 128,
   "metadata": {},
   "outputs": [
    {
     "data": {
      "text/plain": [
       "2071672.0284194604"
      ]
     },
     "execution_count": 128,
     "metadata": {},
     "output_type": "execute_result"
    }
   ],
   "source": [
    "x_train, x_test, y_tra, y_test = train_test_split(X_train, y_train, test_size = 0.05)\n",
    "y_tra = y_tra.values.ravel()\n",
    "y_test = y_test.values.ravel()\n",
    "    \n",
    "xgbr = XGBRegressor()\n",
    "parameters = {'n_estimators': sp_randInt(820,900),\n",
    "             'max_depth': sp_randInt(7,11),\n",
    "             'eta': sp_randFloat(0.05,0.09),\n",
    "             'colsample_bytree': sp_randFloat(0.001,0.1)} \n",
    "xgb_opt = RandomizedSearchCV(xgbr, parameters, scoring='neg_root_mean_squared_error',\\\n",
    "                                refit='neg_root_mean_squared_error', n_iter=10, cv=5, random_state=15)\n",
    "xgb_opt.fit(x_train, y_tra)\n",
    "y_pred = xgb_opt.predict(x_test)\n",
    "mean_squared_error(y_test, y_pred)"
   ]
  },
  {
   "cell_type": "code",
   "execution_count": 132,
   "metadata": {},
   "outputs": [
    {
     "data": {
      "text/plain": [
       "2071672.0284194604"
      ]
     },
     "execution_count": 132,
     "metadata": {},
     "output_type": "execute_result"
    }
   ],
   "source": [
    "booster = XGBRegressor(n_estimators = xgb_opt.best_params_['n_estimators'],\n",
    "                      max_depth = xgb_opt.best_params_['max_depth'],\n",
    "                      eta = xgb_opt.best_params_['eta'],\n",
    "                      colsample_bytree = xgb_opt.best_params_['colsample_bytree']).fit(x_train, y_tra)\n",
    "y_pred = booster.predict(x_test)\n",
    "mean_squared_error(y_test, y_pred)"
   ]
  },
  {
   "cell_type": "code",
   "execution_count": 133,
   "metadata": {},
   "outputs": [
    {
     "data": {
      "text/plain": [
       "<matplotlib.axes._subplots.AxesSubplot at 0x2070b4c7548>"
      ]
     },
     "execution_count": 133,
     "metadata": {},
     "output_type": "execute_result"
    },
    {
     "data": {
      "image/png": "[encoded data removed]",
      "text/plain": [
       "<Figure size 432x288 with 1 Axes>"
      ]
     },
     "metadata": {},
     "output_type": "display_data"
    }
   ],
   "source": [
    "xgboost.plot_importance(booster = booster, max_num_features = 15)"
   ]
  },
  {
   "cell_type": "code",
   "execution_count": null,
   "metadata": {},
   "outputs": [],
   "source": []
  }
 ],
 "metadata": {
  "kernelspec": {
   "display_name": "Python 3",
   "language": "python",
   "name": "python3"
  },
  "language_info": {
   "codemirror_mode": {
    "name": "ipython",
    "version": 3
   },
   "file_extension": ".py",
   "mimetype": "text/x-python",
   "name": "python",
   "nbconvert_exporter": "python",
   "pygments_lexer": "ipython3",
   "version": "3.7.6"
  }
 },
 "nbformat": 4,
 "nbformat_minor": 5
}
