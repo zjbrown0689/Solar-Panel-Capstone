{
 "cells": [
  {
   "cell_type": "markdown",
   "metadata": {},
   "source": [
    "# Solar Panel Capstone Final Report\n",
    "### By Zachary Brown\n",
    "\n",
    "As global temperatures rise, many people are looking for ways they can affordably reduce their carbon footprint to help slow climate change. One effective change homeowners can make is to install solar panels for electricity generation, however, the average cost for a residential solar panel installation is around $16,000 according to [Forbes.com](https://www.forbes.com/home-improvement/solar/cost-of-solar-panels/). For many homeowners the only way to invest in solar panels is to ensure that they are as cost-effective as possible so that they can potentially make their money back over the life of the solar panels. \n",
    "\n",
    "In this project I have created a model to determine how to design a solar panel installation that will maximize cost efficiency so that more people can make that investment work for them. Based on the final XGBoost regression model I developed, the following recommendations will help a prospective customer install solar panels at the lowest cost per KW of electricity: \n",
    "\n",
    "* Design the solar panel installation with a relatively high inverter loading ratio\n",
    "* Identify and secure any rebate or grant available\n",
    "* Consider buying a model with lower efficiency\n",
    "* Purchase the largest configuration of solar panels possible for the house, sizing the inverter to maintain that high inverter loading ratio\n",
    "* Consider scheduling the installation for July or December\n"
   ]
  },
  {
   "cell_type": "code",
   "execution_count": null,
   "metadata": {},
   "outputs": [],
   "source": []
  }
 ],
 "metadata": {
  "kernelspec": {
   "display_name": "Python 3",
   "language": "python",
   "name": "python3"
  },
  "language_info": {
   "codemirror_mode": {
    "name": "ipython",
    "version": 3
   },
   "file_extension": ".py",
   "mimetype": "text/x-python",
   "name": "python",
   "nbconvert_exporter": "python",
   "pygments_lexer": "ipython3",
   "version": "3.7.6"
  }
 },
 "nbformat": 4,
 "nbformat_minor": 5
}
